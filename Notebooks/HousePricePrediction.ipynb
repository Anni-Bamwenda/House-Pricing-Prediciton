{
 "cells": [
  {
   "cell_type": "code",
   "metadata": {
    "cell_id": "00000-b7eb0254-e680-4374-ba4e-5ff072cc44dc",
    "deepnote_to_be_reexecuted": false,
    "source_hash": "6b3e0521",
    "execution_start": 1628784324514,
    "execution_millis": 2157,
    "deepnote_cell_type": "code"
   },
   "source": "import numpy as np\nimport pandas as pd\nfrom pandas import DataFrame\nimport matplotlib.pyplot as plt\nfrom sklearn.linear_model import LinearRegression",
   "execution_count": 1,
   "outputs": []
  },
  {
   "cell_type": "code",
   "metadata": {
    "cell_id": "00003-fa1d7f5c-82e8-491b-8e24-02291bb0193e",
    "deepnote_to_be_reexecuted": false,
    "source_hash": "baa5396e",
    "execution_start": 1628784326675,
    "execution_millis": 29,
    "deepnote_cell_type": "code"
   },
   "source": "train_data = pd.read_csv('../Data/train.csv')",
   "execution_count": 2,
   "outputs": []
  },
  {
   "cell_type": "code",
   "metadata": {
    "cell_id": "00004-43cd66c8-5d21-4c60-9672-c2199aa9f3ff",
    "deepnote_to_be_reexecuted": false,
    "source_hash": "c41e5d8",
    "execution_start": 1628784347891,
    "execution_millis": 1826,
    "deepnote_cell_type": "code"
   },
   "source": "test_data = pd.read_csv('../Data/test.csv')",
   "execution_count": 5,
   "outputs": []
  },
  {
   "cell_type": "code",
   "metadata": {
    "cell_id": "00005-3951e95c-4b4b-424d-b2a5-a64751804660",
    "deepnote_to_be_reexecuted": false,
    "source_hash": "33e89837",
    "execution_start": 1628784353681,
    "execution_millis": 1228,
    "deepnote_cell_type": "code"
   },
   "source": "train_data.head()",
   "execution_count": 6,
   "outputs": [
    {
     "output_type": "execute_result",
     "execution_count": 6,
     "data": {
      "application/vnd.deepnote.dataframe.v2+json": {
       "row_count": 5,
       "column_count": 81,
       "columns": [
        {
         "name": "Id",
         "dtype": "int64",
         "stats": {
          "unique_count": 5,
          "nan_count": 0,
          "min": "1",
          "max": "5",
          "histogram": [
           {
            "bin_start": 1,
            "bin_end": 1.4,
            "count": 1
           },
           {
            "bin_start": 1.4,
            "bin_end": 1.8,
            "count": 0
           },
           {
            "bin_start": 1.8,
            "bin_end": 2.2,
            "count": 1
           },
           {
            "bin_start": 2.2,
            "bin_end": 2.6,
            "count": 0
           },
           {
            "bin_start": 2.6,
            "bin_end": 3,
            "count": 0
           },
           {
            "bin_start": 3,
            "bin_end": 3.4000000000000004,
            "count": 1
           },
           {
            "bin_start": 3.4000000000000004,
            "bin_end": 3.8000000000000003,
            "count": 0
           },
           {
            "bin_start": 3.8000000000000003,
            "bin_end": 4.2,
            "count": 1
           },
           {
            "bin_start": 4.2,
            "bin_end": 4.6,
            "count": 0
           },
           {
            "bin_start": 4.6,
            "bin_end": 5,
            "count": 1
           }
          ]
         }
        },
        {
         "name": "MSSubClass",
         "dtype": "int64",
         "stats": {
          "unique_count": 3,
          "nan_count": 0,
          "min": "20",
          "max": "70",
          "histogram": [
           {
            "bin_start": 20,
            "bin_end": 25,
            "count": 1
           },
           {
            "bin_start": 25,
            "bin_end": 30,
            "count": 0
           },
           {
            "bin_start": 30,
            "bin_end": 35,
            "count": 0
           },
           {
            "bin_start": 35,
            "bin_end": 40,
            "count": 0
           },
           {
            "bin_start": 40,
            "bin_end": 45,
            "count": 0
           },
           {
            "bin_start": 45,
            "bin_end": 50,
            "count": 0
           },
           {
            "bin_start": 50,
            "bin_end": 55,
            "count": 0
           },
           {
            "bin_start": 55,
            "bin_end": 60,
            "count": 0
           },
           {
            "bin_start": 60,
            "bin_end": 65,
            "count": 3
           },
           {
            "bin_start": 65,
            "bin_end": 70,
            "count": 1
           }
          ]
         }
        },
        {
         "name": "MSZoning",
         "dtype": "object",
         "stats": {
          "unique_count": 1,
          "nan_count": 0,
          "categories": [
           {
            "name": "RL",
            "count": 5
           }
          ]
         }
        },
        {
         "name": "LotFrontage",
         "dtype": "float64",
         "stats": {
          "unique_count": 5,
          "nan_count": 0,
          "min": "60.0",
          "max": "84.0",
          "histogram": [
           {
            "bin_start": 60,
            "bin_end": 62.4,
            "count": 1
           },
           {
            "bin_start": 62.4,
            "bin_end": 64.8,
            "count": 0
           },
           {
            "bin_start": 64.8,
            "bin_end": 67.2,
            "count": 1
           },
           {
            "bin_start": 67.2,
            "bin_end": 69.6,
            "count": 1
           },
           {
            "bin_start": 69.6,
            "bin_end": 72,
            "count": 0
           },
           {
            "bin_start": 72,
            "bin_end": 74.4,
            "count": 0
           },
           {
            "bin_start": 74.4,
            "bin_end": 76.8,
            "count": 0
           },
           {
            "bin_start": 76.8,
            "bin_end": 79.2,
            "count": 0
           },
           {
            "bin_start": 79.2,
            "bin_end": 81.6,
            "count": 1
           },
           {
            "bin_start": 81.6,
            "bin_end": 84,
            "count": 1
           }
          ]
         }
        },
        {
         "name": "LotArea",
         "dtype": "int64",
         "stats": {
          "unique_count": 5,
          "nan_count": 0,
          "min": "8450",
          "max": "14260",
          "histogram": [
           {
            "bin_start": 8450,
            "bin_end": 9031,
            "count": 1
           },
           {
            "bin_start": 9031,
            "bin_end": 9612,
            "count": 2
           },
           {
            "bin_start": 9612,
            "bin_end": 10193,
            "count": 0
           },
           {
            "bin_start": 10193,
            "bin_end": 10774,
            "count": 0
           },
           {
            "bin_start": 10774,
            "bin_end": 11355,
            "count": 1
           },
           {
            "bin_start": 11355,
            "bin_end": 11936,
            "count": 0
           },
           {
            "bin_start": 11936,
            "bin_end": 12517,
            "count": 0
           },
           {
            "bin_start": 12517,
            "bin_end": 13098,
            "count": 0
           },
           {
            "bin_start": 13098,
            "bin_end": 13679,
            "count": 0
           },
           {
            "bin_start": 13679,
            "bin_end": 14260,
            "count": 1
           }
          ]
         }
        },
        {
         "name": "Street",
         "dtype": "object",
         "stats": {
          "unique_count": 1,
          "nan_count": 0,
          "categories": [
           {
            "name": "Pave",
            "count": 5
           }
          ]
         }
        },
        {
         "name": "Alley",
         "dtype": "object",
         "stats": {
          "unique_count": 0,
          "nan_count": 5,
          "categories": [
           {
            "name": "Missing",
            "count": 5
           }
          ]
         }
        },
        {
         "name": "LotShape",
         "dtype": "object",
         "stats": {
          "unique_count": 2,
          "nan_count": 0,
          "categories": [
           {
            "name": "IR1",
            "count": 3
           },
           {
            "name": "Reg",
            "count": 2
           }
          ]
         }
        },
        {
         "name": "LandContour",
         "dtype": "object",
         "stats": {
          "unique_count": 1,
          "nan_count": 0,
          "categories": [
           {
            "name": "Lvl",
            "count": 5
           }
          ]
         }
        },
        {
         "name": "Utilities",
         "dtype": "object",
         "stats": {
          "unique_count": 1,
          "nan_count": 0,
          "categories": [
           {
            "name": "AllPub",
            "count": 5
           }
          ]
         }
        },
        {
         "name": "LotConfig",
         "dtype": "object",
         "stats": {
          "unique_count": 3,
          "nan_count": 0,
          "categories": [
           {
            "name": "Inside",
            "count": 2
           },
           {
            "name": "FR2",
            "count": 2
           },
           {
            "name": "Corner",
            "count": 1
           }
          ]
         }
        },
        {
         "name": "LandSlope",
         "dtype": "object",
         "stats": {
          "unique_count": 1,
          "nan_count": 0,
          "categories": [
           {
            "name": "Gtl",
            "count": 5
           }
          ]
         }
        },
        {
         "name": "Neighborhood",
         "dtype": "object",
         "stats": {
          "unique_count": 4,
          "nan_count": 0,
          "categories": [
           {
            "name": "CollgCr",
            "count": 2
           },
           {
            "name": "Veenker",
            "count": 1
           },
           {
            "name": "2 others",
            "count": 2
           }
          ]
         }
        },
        {
         "name": "Condition1",
         "dtype": "object",
         "stats": {
          "unique_count": 2,
          "nan_count": 0,
          "categories": [
           {
            "name": "Norm",
            "count": 4
           },
           {
            "name": "Feedr",
            "count": 1
           }
          ]
         }
        },
        {
         "name": "Condition2",
         "dtype": "object",
         "stats": {
          "unique_count": 1,
          "nan_count": 0,
          "categories": [
           {
            "name": "Norm",
            "count": 5
           }
          ]
         }
        },
        {
         "name": "BldgType",
         "dtype": "object",
         "stats": {
          "unique_count": 1,
          "nan_count": 0,
          "categories": [
           {
            "name": "1Fam",
            "count": 5
           }
          ]
         }
        },
        {
         "name": "HouseStyle",
         "dtype": "object",
         "stats": {
          "unique_count": 2,
          "nan_count": 0,
          "categories": [
           {
            "name": "2Story",
            "count": 4
           },
           {
            "name": "1Story",
            "count": 1
           }
          ]
         }
        },
        {
         "name": "OverallQual",
         "dtype": "int64",
         "stats": {
          "unique_count": 3,
          "nan_count": 0,
          "min": "6",
          "max": "8",
          "histogram": [
           {
            "bin_start": 6,
            "bin_end": 6.2,
            "count": 1
           },
           {
            "bin_start": 6.2,
            "bin_end": 6.4,
            "count": 0
           },
           {
            "bin_start": 6.4,
            "bin_end": 6.6,
            "count": 0
           },
           {
            "bin_start": 6.6,
            "bin_end": 6.8,
            "count": 0
           },
           {
            "bin_start": 6.8,
            "bin_end": 7,
            "count": 0
           },
           {
            "bin_start": 7,
            "bin_end": 7.2,
            "count": 3
           },
           {
            "bin_start": 7.2,
            "bin_end": 7.4,
            "count": 0
           },
           {
            "bin_start": 7.4,
            "bin_end": 7.6,
            "count": 0
           },
           {
            "bin_start": 7.6,
            "bin_end": 7.8,
            "count": 0
           },
           {
            "bin_start": 7.8,
            "bin_end": 8,
            "count": 1
           }
          ]
         }
        },
        {
         "name": "OverallCond",
         "dtype": "int64",
         "stats": {
          "unique_count": 2,
          "nan_count": 0,
          "min": "5",
          "max": "8",
          "histogram": [
           {
            "bin_start": 5,
            "bin_end": 5.3,
            "count": 4
           },
           {
            "bin_start": 5.3,
            "bin_end": 5.6,
            "count": 0
           },
           {
            "bin_start": 5.6,
            "bin_end": 5.9,
            "count": 0
           },
           {
            "bin_start": 5.9,
            "bin_end": 6.2,
            "count": 0
           },
           {
            "bin_start": 6.2,
            "bin_end": 6.5,
            "count": 0
           },
           {
            "bin_start": 6.5,
            "bin_end": 6.8,
            "count": 0
           },
           {
            "bin_start": 6.8,
            "bin_end": 7.1,
            "count": 0
           },
           {
            "bin_start": 7.1,
            "bin_end": 7.4,
            "count": 0
           },
           {
            "bin_start": 7.4,
            "bin_end": 7.699999999999999,
            "count": 0
           },
           {
            "bin_start": 7.699999999999999,
            "bin_end": 8,
            "count": 1
           }
          ]
         }
        },
        {
         "name": "YearBuilt",
         "dtype": "int64",
         "stats": {
          "unique_count": 5,
          "nan_count": 0,
          "min": "1915",
          "max": "2003",
          "histogram": [
           {
            "bin_start": 1915,
            "bin_end": 1923.8,
            "count": 1
           },
           {
            "bin_start": 1923.8,
            "bin_end": 1932.6,
            "count": 0
           },
           {
            "bin_start": 1932.6,
            "bin_end": 1941.4,
            "count": 0
           },
           {
            "bin_start": 1941.4,
            "bin_end": 1950.2,
            "count": 0
           },
           {
            "bin_start": 1950.2,
            "bin_end": 1959,
            "count": 0
           },
           {
            "bin_start": 1959,
            "bin_end": 1967.8,
            "count": 0
           },
           {
            "bin_start": 1967.8,
            "bin_end": 1976.6,
            "count": 1
           },
           {
            "bin_start": 1976.6,
            "bin_end": 1985.4,
            "count": 0
           },
           {
            "bin_start": 1985.4,
            "bin_end": 1994.2,
            "count": 0
           },
           {
            "bin_start": 1994.2,
            "bin_end": 2003,
            "count": 3
           }
          ]
         }
        },
        {
         "name": "YearRemodAdd",
         "dtype": "int64",
         "stats": {
          "unique_count": 5,
          "nan_count": 0,
          "min": "1970",
          "max": "2003",
          "histogram": [
           {
            "bin_start": 1970,
            "bin_end": 1973.3,
            "count": 1
           },
           {
            "bin_start": 1973.3,
            "bin_end": 1976.6,
            "count": 1
           },
           {
            "bin_start": 1976.6,
            "bin_end": 1979.9,
            "count": 0
           },
           {
            "bin_start": 1979.9,
            "bin_end": 1983.2,
            "count": 0
           },
           {
            "bin_start": 1983.2,
            "bin_end": 1986.5,
            "count": 0
           },
           {
            "bin_start": 1986.5,
            "bin_end": 1989.8,
            "count": 0
           },
           {
            "bin_start": 1989.8,
            "bin_end": 1993.1,
            "count": 0
           },
           {
            "bin_start": 1993.1,
            "bin_end": 1996.4,
            "count": 0
           },
           {
            "bin_start": 1996.4,
            "bin_end": 1999.7,
            "count": 0
           },
           {
            "bin_start": 1999.7,
            "bin_end": 2003,
            "count": 3
           }
          ]
         }
        },
        {
         "name": "RoofStyle",
         "dtype": "object",
         "stats": {
          "unique_count": 1,
          "nan_count": 0,
          "categories": [
           {
            "name": "Gable",
            "count": 5
           }
          ]
         }
        },
        {
         "name": "RoofMatl",
         "dtype": "object",
         "stats": {
          "unique_count": 1,
          "nan_count": 0,
          "categories": [
           {
            "name": "CompShg",
            "count": 5
           }
          ]
         }
        },
        {
         "name": "Exterior1st",
         "dtype": "object",
         "stats": {
          "unique_count": 3,
          "nan_count": 0,
          "categories": [
           {
            "name": "VinylSd",
            "count": 3
           },
           {
            "name": "MetalSd",
            "count": 1
           },
           {
            "name": "Wd Sdng",
            "count": 1
           }
          ]
         }
        },
        {
         "name": "Exterior2nd",
         "dtype": "object",
         "stats": {
          "unique_count": 3,
          "nan_count": 0,
          "categories": [
           {
            "name": "VinylSd",
            "count": 3
           },
           {
            "name": "MetalSd",
            "count": 1
           },
           {
            "name": "Wd Shng",
            "count": 1
           }
          ]
         }
        },
        {
         "name": "MasVnrType",
         "dtype": "object",
         "stats": {
          "unique_count": 2,
          "nan_count": 0,
          "categories": [
           {
            "name": "BrkFace",
            "count": 3
           },
           {
            "name": "None",
            "count": 2
           }
          ]
         }
        },
        {
         "name": "MasVnrArea",
         "dtype": "float64",
         "stats": {
          "unique_count": 4,
          "nan_count": 0,
          "min": "0.0",
          "max": "350.0",
          "histogram": [
           {
            "bin_start": 0,
            "bin_end": 35,
            "count": 2
           },
           {
            "bin_start": 35,
            "bin_end": 70,
            "count": 0
           },
           {
            "bin_start": 70,
            "bin_end": 105,
            "count": 0
           },
           {
            "bin_start": 105,
            "bin_end": 140,
            "count": 0
           },
           {
            "bin_start": 140,
            "bin_end": 175,
            "count": 1
           },
           {
            "bin_start": 175,
            "bin_end": 210,
            "count": 1
           },
           {
            "bin_start": 210,
            "bin_end": 245,
            "count": 0
           },
           {
            "bin_start": 245,
            "bin_end": 280,
            "count": 0
           },
           {
            "bin_start": 280,
            "bin_end": 315,
            "count": 0
           },
           {
            "bin_start": 315,
            "bin_end": 350,
            "count": 1
           }
          ]
         }
        },
        {
         "name": "ExterQual",
         "dtype": "object",
         "stats": {
          "unique_count": 2,
          "nan_count": 0,
          "categories": [
           {
            "name": "Gd",
            "count": 3
           },
           {
            "name": "TA",
            "count": 2
           }
          ]
         }
        },
        {
         "name": "ExterCond",
         "dtype": "object",
         "stats": {
          "unique_count": 1,
          "nan_count": 0,
          "categories": [
           {
            "name": "TA",
            "count": 5
           }
          ]
         }
        },
        {
         "name": "Foundation",
         "dtype": "object",
         "stats": {
          "unique_count": 3,
          "nan_count": 0,
          "categories": [
           {
            "name": "PConc",
            "count": 3
           },
           {
            "name": "CBlock",
            "count": 1
           },
           {
            "name": "BrkTil",
            "count": 1
           }
          ]
         }
        },
        {
         "name": "BsmtQual",
         "dtype": "object",
         "stats": {
          "unique_count": 2,
          "nan_count": 0,
          "categories": [
           {
            "name": "Gd",
            "count": 4
           },
           {
            "name": "TA",
            "count": 1
           }
          ]
         }
        },
        {
         "name": "BsmtCond",
         "dtype": "object",
         "stats": {
          "unique_count": 2,
          "nan_count": 0,
          "categories": [
           {
            "name": "TA",
            "count": 4
           },
           {
            "name": "Gd",
            "count": 1
           }
          ]
         }
        },
        {
         "name": "BsmtExposure",
         "dtype": "object",
         "stats": {
          "unique_count": 4,
          "nan_count": 0,
          "categories": [
           {
            "name": "No",
            "count": 2
           },
           {
            "name": "Gd",
            "count": 1
           },
           {
            "name": "2 others",
            "count": 2
           }
          ]
         }
        },
        {
         "name": "BsmtFinType1",
         "dtype": "object",
         "stats": {
          "unique_count": 2,
          "nan_count": 0,
          "categories": [
           {
            "name": "GLQ",
            "count": 3
           },
           {
            "name": "ALQ",
            "count": 2
           }
          ]
         }
        },
        {
         "name": "BsmtFinSF1",
         "dtype": "int64",
         "stats": {
          "unique_count": 5,
          "nan_count": 0,
          "min": "216",
          "max": "978",
          "histogram": [
           {
            "bin_start": 216,
            "bin_end": 292.2,
            "count": 1
           },
           {
            "bin_start": 292.2,
            "bin_end": 368.4,
            "count": 0
           },
           {
            "bin_start": 368.4,
            "bin_end": 444.6,
            "count": 0
           },
           {
            "bin_start": 444.6,
            "bin_end": 520.8,
            "count": 1
           },
           {
            "bin_start": 520.8,
            "bin_end": 597,
            "count": 0
           },
           {
            "bin_start": 597,
            "bin_end": 673.2,
            "count": 1
           },
           {
            "bin_start": 673.2,
            "bin_end": 749.4,
            "count": 1
           },
           {
            "bin_start": 749.4,
            "bin_end": 825.6,
            "count": 0
           },
           {
            "bin_start": 825.6,
            "bin_end": 901.8000000000001,
            "count": 0
           },
           {
            "bin_start": 901.8000000000001,
            "bin_end": 978,
            "count": 1
           }
          ]
         }
        },
        {
         "name": "BsmtFinType2",
         "dtype": "object",
         "stats": {
          "unique_count": 1,
          "nan_count": 0,
          "categories": [
           {
            "name": "Unf",
            "count": 5
           }
          ]
         }
        },
        {
         "name": "BsmtFinSF2",
         "dtype": "int64",
         "stats": {
          "unique_count": 1,
          "nan_count": 0,
          "min": "0",
          "max": "0",
          "histogram": [
           {
            "bin_start": -0.5,
            "bin_end": -0.4,
            "count": 0
           },
           {
            "bin_start": -0.4,
            "bin_end": -0.3,
            "count": 0
           },
           {
            "bin_start": -0.3,
            "bin_end": -0.19999999999999996,
            "count": 0
           },
           {
            "bin_start": -0.19999999999999996,
            "bin_end": -0.09999999999999998,
            "count": 0
           },
           {
            "bin_start": -0.09999999999999998,
            "bin_end": 0,
            "count": 0
           },
           {
            "bin_start": 0,
            "bin_end": 0.10000000000000009,
            "count": 5
           },
           {
            "bin_start": 0.10000000000000009,
            "bin_end": 0.20000000000000007,
            "count": 0
           },
           {
            "bin_start": 0.20000000000000007,
            "bin_end": 0.30000000000000004,
            "count": 0
           },
           {
            "bin_start": 0.30000000000000004,
            "bin_end": 0.4,
            "count": 0
           },
           {
            "bin_start": 0.4,
            "bin_end": 0.5,
            "count": 0
           }
          ]
         }
        },
        {
         "name": "BsmtUnfSF",
         "dtype": "int64",
         "stats": {
          "unique_count": 5,
          "nan_count": 0,
          "min": "150",
          "max": "540",
          "histogram": [
           {
            "bin_start": 150,
            "bin_end": 189,
            "count": 1
           },
           {
            "bin_start": 189,
            "bin_end": 228,
            "count": 0
           },
           {
            "bin_start": 228,
            "bin_end": 267,
            "count": 0
           },
           {
            "bin_start": 267,
            "bin_end": 306,
            "count": 1
           },
           {
            "bin_start": 306,
            "bin_end": 345,
            "count": 0
           },
           {
            "bin_start": 345,
            "bin_end": 384,
            "count": 0
           },
           {
            "bin_start": 384,
            "bin_end": 423,
            "count": 0
           },
           {
            "bin_start": 423,
            "bin_end": 462,
            "count": 1
           },
           {
            "bin_start": 462,
            "bin_end": 501,
            "count": 1
           },
           {
            "bin_start": 501,
            "bin_end": 540,
            "count": 1
           }
          ]
         }
        },
        {
         "name": "TotalBsmtSF",
         "dtype": "int64",
         "stats": {
          "unique_count": 5,
          "nan_count": 0,
          "min": "756",
          "max": "1262",
          "histogram": [
           {
            "bin_start": 756,
            "bin_end": 806.6,
            "count": 1
           },
           {
            "bin_start": 806.6,
            "bin_end": 857.2,
            "count": 1
           },
           {
            "bin_start": 857.2,
            "bin_end": 907.8,
            "count": 0
           },
           {
            "bin_start": 907.8,
            "bin_end": 958.4,
            "count": 1
           },
           {
            "bin_start": 958.4,
            "bin_end": 1009,
            "count": 0
           },
           {
            "bin_start": 1009,
            "bin_end": 1059.6,
            "count": 0
           },
           {
            "bin_start": 1059.6,
            "bin_end": 1110.2,
            "count": 0
           },
           {
            "bin_start": 1110.2,
            "bin_end": 1160.8,
            "count": 1
           },
           {
            "bin_start": 1160.8,
            "bin_end": 1211.4,
            "count": 0
           },
           {
            "bin_start": 1211.4,
            "bin_end": 1262,
            "count": 1
           }
          ]
         }
        },
        {
         "name": "Heating",
         "dtype": "object",
         "stats": {
          "unique_count": 1,
          "nan_count": 0,
          "categories": [
           {
            "name": "GasA",
            "count": 5
           }
          ]
         }
        },
        {
         "name": "HeatingQC",
         "dtype": "object",
         "stats": {
          "unique_count": 2,
          "nan_count": 0,
          "categories": [
           {
            "name": "Ex",
            "count": 4
           },
           {
            "name": "Gd",
            "count": 1
           }
          ]
         }
        },
        {
         "name": "CentralAir",
         "dtype": "object",
         "stats": {
          "unique_count": 1,
          "nan_count": 0,
          "categories": [
           {
            "name": "Y",
            "count": 5
           }
          ]
         }
        },
        {
         "name": "Electrical",
         "dtype": "object",
         "stats": {
          "unique_count": 1,
          "nan_count": 0,
          "categories": [
           {
            "name": "SBrkr",
            "count": 5
           }
          ]
         }
        },
        {
         "name": "1stFlrSF",
         "dtype": "int64",
         "stats": {
          "unique_count": 5,
          "nan_count": 0,
          "min": "856",
          "max": "1262",
          "histogram": [
           {
            "bin_start": 856,
            "bin_end": 896.6,
            "count": 1
           },
           {
            "bin_start": 896.6,
            "bin_end": 937.2,
            "count": 1
           },
           {
            "bin_start": 937.2,
            "bin_end": 977.8,
            "count": 1
           },
           {
            "bin_start": 977.8,
            "bin_end": 1018.4,
            "count": 0
           },
           {
            "bin_start": 1018.4,
            "bin_end": 1059,
            "count": 0
           },
           {
            "bin_start": 1059,
            "bin_end": 1099.6,
            "count": 0
           },
           {
            "bin_start": 1099.6,
            "bin_end": 1140.2,
            "count": 0
           },
           {
            "bin_start": 1140.2,
            "bin_end": 1180.8,
            "count": 1
           },
           {
            "bin_start": 1180.8,
            "bin_end": 1221.4,
            "count": 0
           },
           {
            "bin_start": 1221.4,
            "bin_end": 1262,
            "count": 1
           }
          ]
         }
        },
        {
         "name": "2ndFlrSF",
         "dtype": "int64",
         "stats": {
          "unique_count": 5,
          "nan_count": 0,
          "min": "0",
          "max": "1053",
          "histogram": [
           {
            "bin_start": 0,
            "bin_end": 105.3,
            "count": 1
           },
           {
            "bin_start": 105.3,
            "bin_end": 210.6,
            "count": 0
           },
           {
            "bin_start": 210.6,
            "bin_end": 315.9,
            "count": 0
           },
           {
            "bin_start": 315.9,
            "bin_end": 421.2,
            "count": 0
           },
           {
            "bin_start": 421.2,
            "bin_end": 526.5,
            "count": 0
           },
           {
            "bin_start": 526.5,
            "bin_end": 631.8,
            "count": 0
           },
           {
            "bin_start": 631.8,
            "bin_end": 737.1,
            "count": 0
           },
           {
            "bin_start": 737.1,
            "bin_end": 842.4,
            "count": 1
           },
           {
            "bin_start": 842.4,
            "bin_end": 947.6999999999999,
            "count": 2
           },
           {
            "bin_start": 947.6999999999999,
            "bin_end": 1053,
            "count": 1
           }
          ]
         }
        },
        {
         "name": "LowQualFinSF",
         "dtype": "int64",
         "stats": {
          "unique_count": 1,
          "nan_count": 0,
          "min": "0",
          "max": "0",
          "histogram": [
           {
            "bin_start": -0.5,
            "bin_end": -0.4,
            "count": 0
           },
           {
            "bin_start": -0.4,
            "bin_end": -0.3,
            "count": 0
           },
           {
            "bin_start": -0.3,
            "bin_end": -0.19999999999999996,
            "count": 0
           },
           {
            "bin_start": -0.19999999999999996,
            "bin_end": -0.09999999999999998,
            "count": 0
           },
           {
            "bin_start": -0.09999999999999998,
            "bin_end": 0,
            "count": 0
           },
           {
            "bin_start": 0,
            "bin_end": 0.10000000000000009,
            "count": 5
           },
           {
            "bin_start": 0.10000000000000009,
            "bin_end": 0.20000000000000007,
            "count": 0
           },
           {
            "bin_start": 0.20000000000000007,
            "bin_end": 0.30000000000000004,
            "count": 0
           },
           {
            "bin_start": 0.30000000000000004,
            "bin_end": 0.4,
            "count": 0
           },
           {
            "bin_start": 0.4,
            "bin_end": 0.5,
            "count": 0
           }
          ]
         }
        },
        {
         "name": "GrLivArea",
         "dtype": "int64",
         "stats": {
          "unique_count": 5,
          "nan_count": 0,
          "min": "1262",
          "max": "2198",
          "histogram": [
           {
            "bin_start": 1262,
            "bin_end": 1355.6,
            "count": 1
           },
           {
            "bin_start": 1355.6,
            "bin_end": 1449.2,
            "count": 0
           },
           {
            "bin_start": 1449.2,
            "bin_end": 1542.8,
            "count": 0
           },
           {
            "bin_start": 1542.8,
            "bin_end": 1636.4,
            "count": 0
           },
           {
            "bin_start": 1636.4,
            "bin_end": 1730,
            "count": 2
           },
           {
            "bin_start": 1730,
            "bin_end": 1823.6,
            "count": 1
           },
           {
            "bin_start": 1823.6,
            "bin_end": 1917.1999999999998,
            "count": 0
           },
           {
            "bin_start": 1917.1999999999998,
            "bin_end": 2010.8,
            "count": 0
           },
           {
            "bin_start": 2010.8,
            "bin_end": 2104.4,
            "count": 0
           },
           {
            "bin_start": 2104.4,
            "bin_end": 2198,
            "count": 1
           }
          ]
         }
        },
        {
         "name": "BsmtFullBath",
         "dtype": "int64",
         "stats": {
          "unique_count": 2,
          "nan_count": 0,
          "min": "0",
          "max": "1",
          "histogram": [
           {
            "bin_start": 0,
            "bin_end": 0.1,
            "count": 1
           },
           {
            "bin_start": 0.1,
            "bin_end": 0.2,
            "count": 0
           },
           {
            "bin_start": 0.2,
            "bin_end": 0.30000000000000004,
            "count": 0
           },
           {
            "bin_start": 0.30000000000000004,
            "bin_end": 0.4,
            "count": 0
           },
           {
            "bin_start": 0.4,
            "bin_end": 0.5,
            "count": 0
           },
           {
            "bin_start": 0.5,
            "bin_end": 0.6000000000000001,
            "count": 0
           },
           {
            "bin_start": 0.6000000000000001,
            "bin_end": 0.7000000000000001,
            "count": 0
           },
           {
            "bin_start": 0.7000000000000001,
            "bin_end": 0.8,
            "count": 0
           },
           {
            "bin_start": 0.8,
            "bin_end": 0.9,
            "count": 0
           },
           {
            "bin_start": 0.9,
            "bin_end": 1,
            "count": 4
           }
          ]
         }
        },
        {
         "name": "BsmtHalfBath",
         "dtype": "int64",
         "stats": {
          "unique_count": 2,
          "nan_count": 0,
          "min": "0",
          "max": "1",
          "histogram": [
           {
            "bin_start": 0,
            "bin_end": 0.1,
            "count": 4
           },
           {
            "bin_start": 0.1,
            "bin_end": 0.2,
            "count": 0
           },
           {
            "bin_start": 0.2,
            "bin_end": 0.30000000000000004,
            "count": 0
           },
           {
            "bin_start": 0.30000000000000004,
            "bin_end": 0.4,
            "count": 0
           },
           {
            "bin_start": 0.4,
            "bin_end": 0.5,
            "count": 0
           },
           {
            "bin_start": 0.5,
            "bin_end": 0.6000000000000001,
            "count": 0
           },
           {
            "bin_start": 0.6000000000000001,
            "bin_end": 0.7000000000000001,
            "count": 0
           },
           {
            "bin_start": 0.7000000000000001,
            "bin_end": 0.8,
            "count": 0
           },
           {
            "bin_start": 0.8,
            "bin_end": 0.9,
            "count": 0
           },
           {
            "bin_start": 0.9,
            "bin_end": 1,
            "count": 1
           }
          ]
         }
        },
        {
         "name": "FullBath",
         "dtype": "int64",
         "stats": {
          "unique_count": 2,
          "nan_count": 0,
          "min": "1",
          "max": "2",
          "histogram": [
           {
            "bin_start": 1,
            "bin_end": 1.1,
            "count": 1
           },
           {
            "bin_start": 1.1,
            "bin_end": 1.2,
            "count": 0
           },
           {
            "bin_start": 1.2,
            "bin_end": 1.3,
            "count": 0
           },
           {
            "bin_start": 1.3,
            "bin_end": 1.4,
            "count": 0
           },
           {
            "bin_start": 1.4,
            "bin_end": 1.5,
            "count": 0
           },
           {
            "bin_start": 1.5,
            "bin_end": 1.6,
            "count": 0
           },
           {
            "bin_start": 1.6,
            "bin_end": 1.7000000000000002,
            "count": 0
           },
           {
            "bin_start": 1.7000000000000002,
            "bin_end": 1.8,
            "count": 0
           },
           {
            "bin_start": 1.8,
            "bin_end": 1.9,
            "count": 0
           },
           {
            "bin_start": 1.9,
            "bin_end": 2,
            "count": 4
           }
          ]
         }
        },
        {
         "name": "HalfBath",
         "dtype": "int64",
         "stats": {
          "unique_count": 2,
          "nan_count": 0,
          "min": "0",
          "max": "1",
          "histogram": [
           {
            "bin_start": 0,
            "bin_end": 0.1,
            "count": 2
           },
           {
            "bin_start": 0.1,
            "bin_end": 0.2,
            "count": 0
           },
           {
            "bin_start": 0.2,
            "bin_end": 0.30000000000000004,
            "count": 0
           },
           {
            "bin_start": 0.30000000000000004,
            "bin_end": 0.4,
            "count": 0
           },
           {
            "bin_start": 0.4,
            "bin_end": 0.5,
            "count": 0
           },
           {
            "bin_start": 0.5,
            "bin_end": 0.6000000000000001,
            "count": 0
           },
           {
            "bin_start": 0.6000000000000001,
            "bin_end": 0.7000000000000001,
            "count": 0
           },
           {
            "bin_start": 0.7000000000000001,
            "bin_end": 0.8,
            "count": 0
           },
           {
            "bin_start": 0.8,
            "bin_end": 0.9,
            "count": 0
           },
           {
            "bin_start": 0.9,
            "bin_end": 1,
            "count": 3
           }
          ]
         }
        },
        {
         "name": "BedroomAbvGr",
         "dtype": "int64",
         "stats": {
          "unique_count": 2,
          "nan_count": 0,
          "min": "3",
          "max": "4",
          "histogram": [
           {
            "bin_start": 3,
            "bin_end": 3.1,
            "count": 4
           },
           {
            "bin_start": 3.1,
            "bin_end": 3.2,
            "count": 0
           },
           {
            "bin_start": 3.2,
            "bin_end": 3.3,
            "count": 0
           },
           {
            "bin_start": 3.3,
            "bin_end": 3.4,
            "count": 0
           },
           {
            "bin_start": 3.4,
            "bin_end": 3.5,
            "count": 0
           },
           {
            "bin_start": 3.5,
            "bin_end": 3.6,
            "count": 0
           },
           {
            "bin_start": 3.6,
            "bin_end": 3.7,
            "count": 0
           },
           {
            "bin_start": 3.7,
            "bin_end": 3.8,
            "count": 0
           },
           {
            "bin_start": 3.8,
            "bin_end": 3.9,
            "count": 0
           },
           {
            "bin_start": 3.9,
            "bin_end": 4,
            "count": 1
           }
          ]
         }
        },
        {
         "name": "KitchenAbvGr",
         "dtype": "int64",
         "stats": {
          "unique_count": 1,
          "nan_count": 0,
          "min": "1",
          "max": "1",
          "histogram": [
           {
            "bin_start": 0.5,
            "bin_end": 0.6,
            "count": 0
           },
           {
            "bin_start": 0.6,
            "bin_end": 0.7,
            "count": 0
           },
           {
            "bin_start": 0.7,
            "bin_end": 0.8,
            "count": 0
           },
           {
            "bin_start": 0.8,
            "bin_end": 0.9,
            "count": 0
           },
           {
            "bin_start": 0.9,
            "bin_end": 1,
            "count": 0
           },
           {
            "bin_start": 1,
            "bin_end": 1.1,
            "count": 5
           },
           {
            "bin_start": 1.1,
            "bin_end": 1.2000000000000002,
            "count": 0
           },
           {
            "bin_start": 1.2000000000000002,
            "bin_end": 1.3,
            "count": 0
           },
           {
            "bin_start": 1.3,
            "bin_end": 1.4,
            "count": 0
           },
           {
            "bin_start": 1.4,
            "bin_end": 1.5,
            "count": 0
           }
          ]
         }
        },
        {
         "name": "KitchenQual",
         "dtype": "object",
         "stats": {
          "unique_count": 2,
          "nan_count": 0,
          "categories": [
           {
            "name": "Gd",
            "count": 4
           },
           {
            "name": "TA",
            "count": 1
           }
          ]
         }
        },
        {
         "name": "TotRmsAbvGrd",
         "dtype": "int64",
         "stats": {
          "unique_count": 4,
          "nan_count": 0,
          "min": "6",
          "max": "9",
          "histogram": [
           {
            "bin_start": 6,
            "bin_end": 6.3,
            "count": 2
           },
           {
            "bin_start": 6.3,
            "bin_end": 6.6,
            "count": 0
           },
           {
            "bin_start": 6.6,
            "bin_end": 6.9,
            "count": 0
           },
           {
            "bin_start": 6.9,
            "bin_end": 7.2,
            "count": 1
           },
           {
            "bin_start": 7.2,
            "bin_end": 7.5,
            "count": 0
           },
           {
            "bin_start": 7.5,
            "bin_end": 7.8,
            "count": 0
           },
           {
            "bin_start": 7.8,
            "bin_end": 8.1,
            "count": 1
           },
           {
            "bin_start": 8.1,
            "bin_end": 8.4,
            "count": 0
           },
           {
            "bin_start": 8.4,
            "bin_end": 8.7,
            "count": 0
           },
           {
            "bin_start": 8.7,
            "bin_end": 9,
            "count": 1
           }
          ]
         }
        },
        {
         "name": "Functional",
         "dtype": "object",
         "stats": {
          "unique_count": 1,
          "nan_count": 0,
          "categories": [
           {
            "name": "Typ",
            "count": 5
           }
          ]
         }
        },
        {
         "name": "Fireplaces",
         "dtype": "int64",
         "stats": {
          "unique_count": 2,
          "nan_count": 0,
          "min": "0",
          "max": "1",
          "histogram": [
           {
            "bin_start": 0,
            "bin_end": 0.1,
            "count": 1
           },
           {
            "bin_start": 0.1,
            "bin_end": 0.2,
            "count": 0
           },
           {
            "bin_start": 0.2,
            "bin_end": 0.30000000000000004,
            "count": 0
           },
           {
            "bin_start": 0.30000000000000004,
            "bin_end": 0.4,
            "count": 0
           },
           {
            "bin_start": 0.4,
            "bin_end": 0.5,
            "count": 0
           },
           {
            "bin_start": 0.5,
            "bin_end": 0.6000000000000001,
            "count": 0
           },
           {
            "bin_start": 0.6000000000000001,
            "bin_end": 0.7000000000000001,
            "count": 0
           },
           {
            "bin_start": 0.7000000000000001,
            "bin_end": 0.8,
            "count": 0
           },
           {
            "bin_start": 0.8,
            "bin_end": 0.9,
            "count": 0
           },
           {
            "bin_start": 0.9,
            "bin_end": 1,
            "count": 4
           }
          ]
         }
        },
        {
         "name": "FireplaceQu",
         "dtype": "object",
         "stats": {
          "unique_count": 2,
          "nan_count": 1,
          "categories": [
           {
            "name": "TA",
            "count": 3
           },
           {
            "name": "Gd",
            "count": 1
           },
           {
            "name": "Missing",
            "count": 1
           }
          ]
         }
        },
        {
         "name": "GarageType",
         "dtype": "object",
         "stats": {
          "unique_count": 2,
          "nan_count": 0,
          "categories": [
           {
            "name": "Attchd",
            "count": 4
           },
           {
            "name": "Detchd",
            "count": 1
           }
          ]
         }
        },
        {
         "name": "GarageYrBlt",
         "dtype": "float64",
         "stats": {
          "unique_count": 5,
          "nan_count": 0,
          "min": "1976.0",
          "max": "2003.0",
          "histogram": [
           {
            "bin_start": 1976,
            "bin_end": 1978.7,
            "count": 1
           },
           {
            "bin_start": 1978.7,
            "bin_end": 1981.4,
            "count": 0
           },
           {
            "bin_start": 1981.4,
            "bin_end": 1984.1,
            "count": 0
           },
           {
            "bin_start": 1984.1,
            "bin_end": 1986.8,
            "count": 0
           },
           {
            "bin_start": 1986.8,
            "bin_end": 1989.5,
            "count": 0
           },
           {
            "bin_start": 1989.5,
            "bin_end": 1992.2,
            "count": 0
           },
           {
            "bin_start": 1992.2,
            "bin_end": 1994.9,
            "count": 0
           },
           {
            "bin_start": 1994.9,
            "bin_end": 1997.6,
            "count": 0
           },
           {
            "bin_start": 1997.6,
            "bin_end": 2000.3,
            "count": 2
           },
           {
            "bin_start": 2000.3,
            "bin_end": 2003,
            "count": 2
           }
          ]
         }
        },
        {
         "name": "GarageFinish",
         "dtype": "object",
         "stats": {
          "unique_count": 2,
          "nan_count": 0,
          "categories": [
           {
            "name": "RFn",
            "count": 4
           },
           {
            "name": "Unf",
            "count": 1
           }
          ]
         }
        },
        {
         "name": "GarageCars",
         "dtype": "int64",
         "stats": {
          "unique_count": 2,
          "nan_count": 0,
          "min": "2",
          "max": "3",
          "histogram": [
           {
            "bin_start": 2,
            "bin_end": 2.1,
            "count": 3
           },
           {
            "bin_start": 2.1,
            "bin_end": 2.2,
            "count": 0
           },
           {
            "bin_start": 2.2,
            "bin_end": 2.3,
            "count": 0
           },
           {
            "bin_start": 2.3,
            "bin_end": 2.4,
            "count": 0
           },
           {
            "bin_start": 2.4,
            "bin_end": 2.5,
            "count": 0
           },
           {
            "bin_start": 2.5,
            "bin_end": 2.6,
            "count": 0
           },
           {
            "bin_start": 2.6,
            "bin_end": 2.7,
            "count": 0
           },
           {
            "bin_start": 2.7,
            "bin_end": 2.8,
            "count": 0
           },
           {
            "bin_start": 2.8,
            "bin_end": 2.9,
            "count": 0
           },
           {
            "bin_start": 2.9,
            "bin_end": 3,
            "count": 2
           }
          ]
         }
        },
        {
         "name": "GarageArea",
         "dtype": "int64",
         "stats": {
          "unique_count": 5,
          "nan_count": 0,
          "min": "460",
          "max": "836",
          "histogram": [
           {
            "bin_start": 460,
            "bin_end": 497.6,
            "count": 1
           },
           {
            "bin_start": 497.6,
            "bin_end": 535.2,
            "count": 0
           },
           {
            "bin_start": 535.2,
            "bin_end": 572.8,
            "count": 1
           },
           {
            "bin_start": 572.8,
            "bin_end": 610.4,
            "count": 1
           },
           {
            "bin_start": 610.4,
            "bin_end": 648,
            "count": 1
           },
           {
            "bin_start": 648,
            "bin_end": 685.6,
            "count": 0
           },
           {
            "bin_start": 685.6,
            "bin_end": 723.2,
            "count": 0
           },
           {
            "bin_start": 723.2,
            "bin_end": 760.8,
            "count": 0
           },
           {
            "bin_start": 760.8,
            "bin_end": 798.4000000000001,
            "count": 0
           },
           {
            "bin_start": 798.4000000000001,
            "bin_end": 836,
            "count": 1
           }
          ]
         }
        },
        {
         "name": "GarageQual",
         "dtype": "object",
         "stats": {
          "unique_count": 1,
          "nan_count": 0,
          "categories": [
           {
            "name": "TA",
            "count": 5
           }
          ]
         }
        },
        {
         "name": "GarageCond",
         "dtype": "object",
         "stats": {
          "unique_count": 1,
          "nan_count": 0,
          "categories": [
           {
            "name": "TA",
            "count": 5
           }
          ]
         }
        },
        {
         "name": "PavedDrive",
         "dtype": "object",
         "stats": {
          "unique_count": 1,
          "nan_count": 0,
          "categories": [
           {
            "name": "Y",
            "count": 5
           }
          ]
         }
        },
        {
         "name": "WoodDeckSF",
         "dtype": "int64",
         "stats": {
          "unique_count": 3,
          "nan_count": 0,
          "min": "0",
          "max": "298",
          "histogram": [
           {
            "bin_start": 0,
            "bin_end": 29.8,
            "count": 3
           },
           {
            "bin_start": 29.8,
            "bin_end": 59.6,
            "count": 0
           },
           {
            "bin_start": 59.6,
            "bin_end": 89.4,
            "count": 0
           },
           {
            "bin_start": 89.4,
            "bin_end": 119.2,
            "count": 0
           },
           {
            "bin_start": 119.2,
            "bin_end": 149,
            "count": 0
           },
           {
            "bin_start": 149,
            "bin_end": 178.8,
            "count": 0
           },
           {
            "bin_start": 178.8,
            "bin_end": 208.6,
            "count": 1
           },
           {
            "bin_start": 208.6,
            "bin_end": 238.4,
            "count": 0
           },
           {
            "bin_start": 238.4,
            "bin_end": 268.2,
            "count": 0
           },
           {
            "bin_start": 268.2,
            "bin_end": 298,
            "count": 1
           }
          ]
         }
        },
        {
         "name": "OpenPorchSF",
         "dtype": "int64",
         "stats": {
          "unique_count": 5,
          "nan_count": 0,
          "min": "0",
          "max": "84",
          "histogram": [
           {
            "bin_start": 0,
            "bin_end": 8.4,
            "count": 1
           },
           {
            "bin_start": 8.4,
            "bin_end": 16.8,
            "count": 0
           },
           {
            "bin_start": 16.8,
            "bin_end": 25.200000000000003,
            "count": 0
           },
           {
            "bin_start": 25.200000000000003,
            "bin_end": 33.6,
            "count": 0
           },
           {
            "bin_start": 33.6,
            "bin_end": 42,
            "count": 1
           },
           {
            "bin_start": 42,
            "bin_end": 50.400000000000006,
            "count": 1
           },
           {
            "bin_start": 50.400000000000006,
            "bin_end": 58.800000000000004,
            "count": 0
           },
           {
            "bin_start": 58.800000000000004,
            "bin_end": 67.2,
            "count": 1
           },
           {
            "bin_start": 67.2,
            "bin_end": 75.60000000000001,
            "count": 0
           },
           {
            "bin_start": 75.60000000000001,
            "bin_end": 84,
            "count": 1
           }
          ]
         }
        },
        {
         "name": "EnclosedPorch",
         "dtype": "int64",
         "stats": {
          "unique_count": 2,
          "nan_count": 0,
          "min": "0",
          "max": "272",
          "histogram": [
           {
            "bin_start": 0,
            "bin_end": 27.2,
            "count": 4
           },
           {
            "bin_start": 27.2,
            "bin_end": 54.4,
            "count": 0
           },
           {
            "bin_start": 54.4,
            "bin_end": 81.6,
            "count": 0
           },
           {
            "bin_start": 81.6,
            "bin_end": 108.8,
            "count": 0
           },
           {
            "bin_start": 108.8,
            "bin_end": 136,
            "count": 0
           },
           {
            "bin_start": 136,
            "bin_end": 163.2,
            "count": 0
           },
           {
            "bin_start": 163.2,
            "bin_end": 190.4,
            "count": 0
           },
           {
            "bin_start": 190.4,
            "bin_end": 217.6,
            "count": 0
           },
           {
            "bin_start": 217.6,
            "bin_end": 244.79999999999998,
            "count": 0
           },
           {
            "bin_start": 244.79999999999998,
            "bin_end": 272,
            "count": 1
           }
          ]
         }
        },
        {
         "name": "3SsnPorch",
         "dtype": "int64",
         "stats": {
          "unique_count": 1,
          "nan_count": 0,
          "min": "0",
          "max": "0",
          "histogram": [
           {
            "bin_start": -0.5,
            "bin_end": -0.4,
            "count": 0
           },
           {
            "bin_start": -0.4,
            "bin_end": -0.3,
            "count": 0
           },
           {
            "bin_start": -0.3,
            "bin_end": -0.19999999999999996,
            "count": 0
           },
           {
            "bin_start": -0.19999999999999996,
            "bin_end": -0.09999999999999998,
            "count": 0
           },
           {
            "bin_start": -0.09999999999999998,
            "bin_end": 0,
            "count": 0
           },
           {
            "bin_start": 0,
            "bin_end": 0.10000000000000009,
            "count": 5
           },
           {
            "bin_start": 0.10000000000000009,
            "bin_end": 0.20000000000000007,
            "count": 0
           },
           {
            "bin_start": 0.20000000000000007,
            "bin_end": 0.30000000000000004,
            "count": 0
           },
           {
            "bin_start": 0.30000000000000004,
            "bin_end": 0.4,
            "count": 0
           },
           {
            "bin_start": 0.4,
            "bin_end": 0.5,
            "count": 0
           }
          ]
         }
        },
        {
         "name": "ScreenPorch",
         "dtype": "int64",
         "stats": {
          "unique_count": 1,
          "nan_count": 0,
          "min": "0",
          "max": "0",
          "histogram": [
           {
            "bin_start": -0.5,
            "bin_end": -0.4,
            "count": 0
           },
           {
            "bin_start": -0.4,
            "bin_end": -0.3,
            "count": 0
           },
           {
            "bin_start": -0.3,
            "bin_end": -0.19999999999999996,
            "count": 0
           },
           {
            "bin_start": -0.19999999999999996,
            "bin_end": -0.09999999999999998,
            "count": 0
           },
           {
            "bin_start": -0.09999999999999998,
            "bin_end": 0,
            "count": 0
           },
           {
            "bin_start": 0,
            "bin_end": 0.10000000000000009,
            "count": 5
           },
           {
            "bin_start": 0.10000000000000009,
            "bin_end": 0.20000000000000007,
            "count": 0
           },
           {
            "bin_start": 0.20000000000000007,
            "bin_end": 0.30000000000000004,
            "count": 0
           },
           {
            "bin_start": 0.30000000000000004,
            "bin_end": 0.4,
            "count": 0
           },
           {
            "bin_start": 0.4,
            "bin_end": 0.5,
            "count": 0
           }
          ]
         }
        },
        {
         "name": "PoolArea",
         "dtype": "int64",
         "stats": {
          "unique_count": 1,
          "nan_count": 0,
          "min": "0",
          "max": "0",
          "histogram": [
           {
            "bin_start": -0.5,
            "bin_end": -0.4,
            "count": 0
           },
           {
            "bin_start": -0.4,
            "bin_end": -0.3,
            "count": 0
           },
           {
            "bin_start": -0.3,
            "bin_end": -0.19999999999999996,
            "count": 0
           },
           {
            "bin_start": -0.19999999999999996,
            "bin_end": -0.09999999999999998,
            "count": 0
           },
           {
            "bin_start": -0.09999999999999998,
            "bin_end": 0,
            "count": 0
           },
           {
            "bin_start": 0,
            "bin_end": 0.10000000000000009,
            "count": 5
           },
           {
            "bin_start": 0.10000000000000009,
            "bin_end": 0.20000000000000007,
            "count": 0
           },
           {
            "bin_start": 0.20000000000000007,
            "bin_end": 0.30000000000000004,
            "count": 0
           },
           {
            "bin_start": 0.30000000000000004,
            "bin_end": 0.4,
            "count": 0
           },
           {
            "bin_start": 0.4,
            "bin_end": 0.5,
            "count": 0
           }
          ]
         }
        },
        {
         "name": "PoolQC",
         "dtype": "object",
         "stats": {
          "unique_count": 0,
          "nan_count": 5,
          "categories": [
           {
            "name": "Missing",
            "count": 5
           }
          ]
         }
        },
        {
         "name": "Fence",
         "dtype": "object",
         "stats": {
          "unique_count": 0,
          "nan_count": 5,
          "categories": [
           {
            "name": "Missing",
            "count": 5
           }
          ]
         }
        },
        {
         "name": "MiscFeature",
         "dtype": "object",
         "stats": {
          "unique_count": 0,
          "nan_count": 5,
          "categories": [
           {
            "name": "Missing",
            "count": 5
           }
          ]
         }
        },
        {
         "name": "MiscVal",
         "dtype": "int64",
         "stats": {
          "unique_count": 1,
          "nan_count": 0,
          "min": "0",
          "max": "0",
          "histogram": [
           {
            "bin_start": -0.5,
            "bin_end": -0.4,
            "count": 0
           },
           {
            "bin_start": -0.4,
            "bin_end": -0.3,
            "count": 0
           },
           {
            "bin_start": -0.3,
            "bin_end": -0.19999999999999996,
            "count": 0
           },
           {
            "bin_start": -0.19999999999999996,
            "bin_end": -0.09999999999999998,
            "count": 0
           },
           {
            "bin_start": -0.09999999999999998,
            "bin_end": 0,
            "count": 0
           },
           {
            "bin_start": 0,
            "bin_end": 0.10000000000000009,
            "count": 5
           },
           {
            "bin_start": 0.10000000000000009,
            "bin_end": 0.20000000000000007,
            "count": 0
           },
           {
            "bin_start": 0.20000000000000007,
            "bin_end": 0.30000000000000004,
            "count": 0
           },
           {
            "bin_start": 0.30000000000000004,
            "bin_end": 0.4,
            "count": 0
           },
           {
            "bin_start": 0.4,
            "bin_end": 0.5,
            "count": 0
           }
          ]
         }
        },
        {
         "name": "MoSold",
         "dtype": "int64",
         "stats": {
          "unique_count": 4,
          "nan_count": 0,
          "min": "2",
          "max": "12",
          "histogram": [
           {
            "bin_start": 2,
            "bin_end": 3,
            "count": 2
           },
           {
            "bin_start": 3,
            "bin_end": 4,
            "count": 0
           },
           {
            "bin_start": 4,
            "bin_end": 5,
            "count": 0
           },
           {
            "bin_start": 5,
            "bin_end": 6,
            "count": 1
           },
           {
            "bin_start": 6,
            "bin_end": 7,
            "count": 0
           },
           {
            "bin_start": 7,
            "bin_end": 8,
            "count": 0
           },
           {
            "bin_start": 8,
            "bin_end": 9,
            "count": 0
           },
           {
            "bin_start": 9,
            "bin_end": 10,
            "count": 1
           },
           {
            "bin_start": 10,
            "bin_end": 11,
            "count": 0
           },
           {
            "bin_start": 11,
            "bin_end": 12,
            "count": 1
           }
          ]
         }
        },
        {
         "name": "YrSold",
         "dtype": "int64",
         "stats": {
          "unique_count": 3,
          "nan_count": 0,
          "min": "2006",
          "max": "2008",
          "histogram": [
           {
            "bin_start": 2006,
            "bin_end": 2006.2,
            "count": 1
           },
           {
            "bin_start": 2006.2,
            "bin_end": 2006.4,
            "count": 0
           },
           {
            "bin_start": 2006.4,
            "bin_end": 2006.6,
            "count": 0
           },
           {
            "bin_start": 2006.6,
            "bin_end": 2006.8,
            "count": 0
           },
           {
            "bin_start": 2006.8,
            "bin_end": 2007,
            "count": 0
           },
           {
            "bin_start": 2007,
            "bin_end": 2007.2,
            "count": 1
           },
           {
            "bin_start": 2007.2,
            "bin_end": 2007.4,
            "count": 0
           },
           {
            "bin_start": 2007.4,
            "bin_end": 2007.6,
            "count": 0
           },
           {
            "bin_start": 2007.6,
            "bin_end": 2007.8,
            "count": 0
           },
           {
            "bin_start": 2007.8,
            "bin_end": 2008,
            "count": 3
           }
          ]
         }
        },
        {
         "name": "SaleType",
         "dtype": "object",
         "stats": {
          "unique_count": 1,
          "nan_count": 0,
          "categories": [
           {
            "name": "WD",
            "count": 5
           }
          ]
         }
        },
        {
         "name": "SaleCondition",
         "dtype": "object",
         "stats": {
          "unique_count": 2,
          "nan_count": 0,
          "categories": [
           {
            "name": "Normal",
            "count": 4
           },
           {
            "name": "Abnorml",
            "count": 1
           }
          ]
         }
        },
        {
         "name": "SalePrice",
         "dtype": "int64",
         "stats": {
          "unique_count": 5,
          "nan_count": 0,
          "min": "140000",
          "max": "250000",
          "histogram": [
           {
            "bin_start": 140000,
            "bin_end": 151000,
            "count": 1
           },
           {
            "bin_start": 151000,
            "bin_end": 162000,
            "count": 0
           },
           {
            "bin_start": 162000,
            "bin_end": 173000,
            "count": 0
           },
           {
            "bin_start": 173000,
            "bin_end": 184000,
            "count": 1
           },
           {
            "bin_start": 184000,
            "bin_end": 195000,
            "count": 0
           },
           {
            "bin_start": 195000,
            "bin_end": 206000,
            "count": 0
           },
           {
            "bin_start": 206000,
            "bin_end": 217000,
            "count": 1
           },
           {
            "bin_start": 217000,
            "bin_end": 228000,
            "count": 1
           },
           {
            "bin_start": 228000,
            "bin_end": 239000,
            "count": 0
           },
           {
            "bin_start": 239000,
            "bin_end": 250000,
            "count": 1
           }
          ]
         }
        },
        {
         "name": "_deepnote_index_column",
         "dtype": "int64"
        }
       ],
       "rows_top": [
        {
         "Id": 1,
         "MSSubClass": 60,
         "MSZoning": "RL",
         "LotFrontage": 65,
         "LotArea": 8450,
         "Street": "Pave",
         "Alley": "nan",
         "LotShape": "Reg",
         "LandContour": "Lvl",
         "Utilities": "AllPub",
         "LotConfig": "Inside",
         "LandSlope": "Gtl",
         "Neighborhood": "CollgCr",
         "Condition1": "Norm",
         "Condition2": "Norm",
         "BldgType": "1Fam",
         "HouseStyle": "2Story",
         "OverallQual": 7,
         "OverallCond": 5,
         "YearBuilt": 2003,
         "YearRemodAdd": 2003,
         "RoofStyle": "Gable",
         "RoofMatl": "CompShg",
         "Exterior1st": "VinylSd",
         "Exterior2nd": "VinylSd",
         "MasVnrType": "BrkFace",
         "MasVnrArea": 196,
         "ExterQual": "Gd",
         "ExterCond": "TA",
         "Foundation": "PConc",
         "BsmtQual": "Gd",
         "BsmtCond": "TA",
         "BsmtExposure": "No",
         "BsmtFinType1": "GLQ",
         "BsmtFinSF1": 706,
         "BsmtFinType2": "Unf",
         "BsmtFinSF2": 0,
         "BsmtUnfSF": 150,
         "TotalBsmtSF": 856,
         "Heating": "GasA",
         "HeatingQC": "Ex",
         "CentralAir": "Y",
         "Electrical": "SBrkr",
         "1stFlrSF": 856,
         "2ndFlrSF": 854,
         "LowQualFinSF": 0,
         "GrLivArea": 1710,
         "BsmtFullBath": 1,
         "BsmtHalfBath": 0,
         "FullBath": 2,
         "HalfBath": 1,
         "BedroomAbvGr": 3,
         "KitchenAbvGr": 1,
         "KitchenQual": "Gd",
         "TotRmsAbvGrd": 8,
         "Functional": "Typ",
         "Fireplaces": 0,
         "FireplaceQu": "nan",
         "GarageType": "Attchd",
         "GarageYrBlt": 2003,
         "GarageFinish": "RFn",
         "GarageCars": 2,
         "GarageArea": 548,
         "GarageQual": "TA",
         "GarageCond": "TA",
         "PavedDrive": "Y",
         "WoodDeckSF": 0,
         "OpenPorchSF": 61,
         "EnclosedPorch": 0,
         "3SsnPorch": 0,
         "ScreenPorch": 0,
         "PoolArea": 0,
         "PoolQC": "nan",
         "Fence": "nan",
         "MiscFeature": "nan",
         "MiscVal": 0,
         "MoSold": 2,
         "YrSold": 2008,
         "SaleType": "WD",
         "SaleCondition": "Normal",
         "SalePrice": 208500,
         "_deepnote_index_column": 0
        },
        {
         "Id": 2,
         "MSSubClass": 20,
         "MSZoning": "RL",
         "LotFrontage": 80,
         "LotArea": 9600,
         "Street": "Pave",
         "Alley": "nan",
         "LotShape": "Reg",
         "LandContour": "Lvl",
         "Utilities": "AllPub",
         "LotConfig": "FR2",
         "LandSlope": "Gtl",
         "Neighborhood": "Veenker",
         "Condition1": "Feedr",
         "Condition2": "Norm",
         "BldgType": "1Fam",
         "HouseStyle": "1Story",
         "OverallQual": 6,
         "OverallCond": 8,
         "YearBuilt": 1976,
         "YearRemodAdd": 1976,
         "RoofStyle": "Gable",
         "RoofMatl": "CompShg",
         "Exterior1st": "MetalSd",
         "Exterior2nd": "MetalSd",
         "MasVnrType": "None",
         "MasVnrArea": 0,
         "ExterQual": "TA",
         "ExterCond": "TA",
         "Foundation": "CBlock",
         "BsmtQual": "Gd",
         "BsmtCond": "TA",
         "BsmtExposure": "Gd",
         "BsmtFinType1": "ALQ",
         "BsmtFinSF1": 978,
         "BsmtFinType2": "Unf",
         "BsmtFinSF2": 0,
         "BsmtUnfSF": 284,
         "TotalBsmtSF": 1262,
         "Heating": "GasA",
         "HeatingQC": "Ex",
         "CentralAir": "Y",
         "Electrical": "SBrkr",
         "1stFlrSF": 1262,
         "2ndFlrSF": 0,
         "LowQualFinSF": 0,
         "GrLivArea": 1262,
         "BsmtFullBath": 0,
         "BsmtHalfBath": 1,
         "FullBath": 2,
         "HalfBath": 0,
         "BedroomAbvGr": 3,
         "KitchenAbvGr": 1,
         "KitchenQual": "TA",
         "TotRmsAbvGrd": 6,
         "Functional": "Typ",
         "Fireplaces": 1,
         "FireplaceQu": "TA",
         "GarageType": "Attchd",
         "GarageYrBlt": 1976,
         "GarageFinish": "RFn",
         "GarageCars": 2,
         "GarageArea": 460,
         "GarageQual": "TA",
         "GarageCond": "TA",
         "PavedDrive": "Y",
         "WoodDeckSF": 298,
         "OpenPorchSF": 0,
         "EnclosedPorch": 0,
         "3SsnPorch": 0,
         "ScreenPorch": 0,
         "PoolArea": 0,
         "PoolQC": "nan",
         "Fence": "nan",
         "MiscFeature": "nan",
         "MiscVal": 0,
         "MoSold": 5,
         "YrSold": 2007,
         "SaleType": "WD",
         "SaleCondition": "Normal",
         "SalePrice": 181500,
         "_deepnote_index_column": 1
        },
        {
         "Id": 3,
         "MSSubClass": 60,
         "MSZoning": "RL",
         "LotFrontage": 68,
         "LotArea": 11250,
         "Street": "Pave",
         "Alley": "nan",
         "LotShape": "IR1",
         "LandContour": "Lvl",
         "Utilities": "AllPub",
         "LotConfig": "Inside",
         "LandSlope": "Gtl",
         "Neighborhood": "CollgCr",
         "Condition1": "Norm",
         "Condition2": "Norm",
         "BldgType": "1Fam",
         "HouseStyle": "2Story",
         "OverallQual": 7,
         "OverallCond": 5,
         "YearBuilt": 2001,
         "YearRemodAdd": 2002,
         "RoofStyle": "Gable",
         "RoofMatl": "CompShg",
         "Exterior1st": "VinylSd",
         "Exterior2nd": "VinylSd",
         "MasVnrType": "BrkFace",
         "MasVnrArea": 162,
         "ExterQual": "Gd",
         "ExterCond": "TA",
         "Foundation": "PConc",
         "BsmtQual": "Gd",
         "BsmtCond": "TA",
         "BsmtExposure": "Mn",
         "BsmtFinType1": "GLQ",
         "BsmtFinSF1": 486,
         "BsmtFinType2": "Unf",
         "BsmtFinSF2": 0,
         "BsmtUnfSF": 434,
         "TotalBsmtSF": 920,
         "Heating": "GasA",
         "HeatingQC": "Ex",
         "CentralAir": "Y",
         "Electrical": "SBrkr",
         "1stFlrSF": 920,
         "2ndFlrSF": 866,
         "LowQualFinSF": 0,
         "GrLivArea": 1786,
         "BsmtFullBath": 1,
         "BsmtHalfBath": 0,
         "FullBath": 2,
         "HalfBath": 1,
         "BedroomAbvGr": 3,
         "KitchenAbvGr": 1,
         "KitchenQual": "Gd",
         "TotRmsAbvGrd": 6,
         "Functional": "Typ",
         "Fireplaces": 1,
         "FireplaceQu": "TA",
         "GarageType": "Attchd",
         "GarageYrBlt": 2001,
         "GarageFinish": "RFn",
         "GarageCars": 2,
         "GarageArea": 608,
         "GarageQual": "TA",
         "GarageCond": "TA",
         "PavedDrive": "Y",
         "WoodDeckSF": 0,
         "OpenPorchSF": 42,
         "EnclosedPorch": 0,
         "3SsnPorch": 0,
         "ScreenPorch": 0,
         "PoolArea": 0,
         "PoolQC": "nan",
         "Fence": "nan",
         "MiscFeature": "nan",
         "MiscVal": 0,
         "MoSold": 9,
         "YrSold": 2008,
         "SaleType": "WD",
         "SaleCondition": "Normal",
         "SalePrice": 223500,
         "_deepnote_index_column": 2
        },
        {
         "Id": 4,
         "MSSubClass": 70,
         "MSZoning": "RL",
         "LotFrontage": 60,
         "LotArea": 9550,
         "Street": "Pave",
         "Alley": "nan",
         "LotShape": "IR1",
         "LandContour": "Lvl",
         "Utilities": "AllPub",
         "LotConfig": "Corner",
         "LandSlope": "Gtl",
         "Neighborhood": "Crawfor",
         "Condition1": "Norm",
         "Condition2": "Norm",
         "BldgType": "1Fam",
         "HouseStyle": "2Story",
         "OverallQual": 7,
         "OverallCond": 5,
         "YearBuilt": 1915,
         "YearRemodAdd": 1970,
         "RoofStyle": "Gable",
         "RoofMatl": "CompShg",
         "Exterior1st": "Wd Sdng",
         "Exterior2nd": "Wd Shng",
         "MasVnrType": "None",
         "MasVnrArea": 0,
         "ExterQual": "TA",
         "ExterCond": "TA",
         "Foundation": "BrkTil",
         "BsmtQual": "TA",
         "BsmtCond": "Gd",
         "BsmtExposure": "No",
         "BsmtFinType1": "ALQ",
         "BsmtFinSF1": 216,
         "BsmtFinType2": "Unf",
         "BsmtFinSF2": 0,
         "BsmtUnfSF": 540,
         "TotalBsmtSF": 756,
         "Heating": "GasA",
         "HeatingQC": "Gd",
         "CentralAir": "Y",
         "Electrical": "SBrkr",
         "1stFlrSF": 961,
         "2ndFlrSF": 756,
         "LowQualFinSF": 0,
         "GrLivArea": 1717,
         "BsmtFullBath": 1,
         "BsmtHalfBath": 0,
         "FullBath": 1,
         "HalfBath": 0,
         "BedroomAbvGr": 3,
         "KitchenAbvGr": 1,
         "KitchenQual": "Gd",
         "TotRmsAbvGrd": 7,
         "Functional": "Typ",
         "Fireplaces": 1,
         "FireplaceQu": "Gd",
         "GarageType": "Detchd",
         "GarageYrBlt": 1998,
         "GarageFinish": "Unf",
         "GarageCars": 3,
         "GarageArea": 642,
         "GarageQual": "TA",
         "GarageCond": "TA",
         "PavedDrive": "Y",
         "WoodDeckSF": 0,
         "OpenPorchSF": 35,
         "EnclosedPorch": 272,
         "3SsnPorch": 0,
         "ScreenPorch": 0,
         "PoolArea": 0,
         "PoolQC": "nan",
         "Fence": "nan",
         "MiscFeature": "nan",
         "MiscVal": 0,
         "MoSold": 2,
         "YrSold": 2006,
         "SaleType": "WD",
         "SaleCondition": "Abnorml",
         "SalePrice": 140000,
         "_deepnote_index_column": 3
        },
        {
         "Id": 5,
         "MSSubClass": 60,
         "MSZoning": "RL",
         "LotFrontage": 84,
         "LotArea": 14260,
         "Street": "Pave",
         "Alley": "nan",
         "LotShape": "IR1",
         "LandContour": "Lvl",
         "Utilities": "AllPub",
         "LotConfig": "FR2",
         "LandSlope": "Gtl",
         "Neighborhood": "NoRidge",
         "Condition1": "Norm",
         "Condition2": "Norm",
         "BldgType": "1Fam",
         "HouseStyle": "2Story",
         "OverallQual": 8,
         "OverallCond": 5,
         "YearBuilt": 2000,
         "YearRemodAdd": 2000,
         "RoofStyle": "Gable",
         "RoofMatl": "CompShg",
         "Exterior1st": "VinylSd",
         "Exterior2nd": "VinylSd",
         "MasVnrType": "BrkFace",
         "MasVnrArea": 350,
         "ExterQual": "Gd",
         "ExterCond": "TA",
         "Foundation": "PConc",
         "BsmtQual": "Gd",
         "BsmtCond": "TA",
         "BsmtExposure": "Av",
         "BsmtFinType1": "GLQ",
         "BsmtFinSF1": 655,
         "BsmtFinType2": "Unf",
         "BsmtFinSF2": 0,
         "BsmtUnfSF": 490,
         "TotalBsmtSF": 1145,
         "Heating": "GasA",
         "HeatingQC": "Ex",
         "CentralAir": "Y",
         "Electrical": "SBrkr",
         "1stFlrSF": 1145,
         "2ndFlrSF": 1053,
         "LowQualFinSF": 0,
         "GrLivArea": 2198,
         "BsmtFullBath": 1,
         "BsmtHalfBath": 0,
         "FullBath": 2,
         "HalfBath": 1,
         "BedroomAbvGr": 4,
         "KitchenAbvGr": 1,
         "KitchenQual": "Gd",
         "TotRmsAbvGrd": 9,
         "Functional": "Typ",
         "Fireplaces": 1,
         "FireplaceQu": "TA",
         "GarageType": "Attchd",
         "GarageYrBlt": 2000,
         "GarageFinish": "RFn",
         "GarageCars": 3,
         "GarageArea": 836,
         "GarageQual": "TA",
         "GarageCond": "TA",
         "PavedDrive": "Y",
         "WoodDeckSF": 192,
         "OpenPorchSF": 84,
         "EnclosedPorch": 0,
         "3SsnPorch": 0,
         "ScreenPorch": 0,
         "PoolArea": 0,
         "PoolQC": "nan",
         "Fence": "nan",
         "MiscFeature": "nan",
         "MiscVal": 0,
         "MoSold": 12,
         "YrSold": 2008,
         "SaleType": "WD",
         "SaleCondition": "Normal",
         "SalePrice": 250000,
         "_deepnote_index_column": 4
        }
       ],
       "rows_bottom": null
      },
      "text/plain": "   Id  MSSubClass MSZoning  LotFrontage  LotArea Street Alley LotShape  \\\n0   1          60       RL         65.0     8450   Pave   NaN      Reg   \n1   2          20       RL         80.0     9600   Pave   NaN      Reg   \n2   3          60       RL         68.0    11250   Pave   NaN      IR1   \n3   4          70       RL         60.0     9550   Pave   NaN      IR1   \n4   5          60       RL         84.0    14260   Pave   NaN      IR1   \n\n  LandContour Utilities  ... PoolArea PoolQC Fence MiscFeature MiscVal MoSold  \\\n0         Lvl    AllPub  ...        0    NaN   NaN         NaN       0      2   \n1         Lvl    AllPub  ...        0    NaN   NaN         NaN       0      5   \n2         Lvl    AllPub  ...        0    NaN   NaN         NaN       0      9   \n3         Lvl    AllPub  ...        0    NaN   NaN         NaN       0      2   \n4         Lvl    AllPub  ...        0    NaN   NaN         NaN       0     12   \n\n  YrSold  SaleType  SaleCondition  SalePrice  \n0   2008        WD         Normal     208500  \n1   2007        WD         Normal     181500  \n2   2008        WD         Normal     223500  \n3   2006        WD        Abnorml     140000  \n4   2008        WD         Normal     250000  \n\n[5 rows x 81 columns]",
      "text/html": "<div>\n<style scoped>\n    .dataframe tbody tr th:only-of-type {\n        vertical-align: middle;\n    }\n\n    .dataframe tbody tr th {\n        vertical-align: top;\n    }\n\n    .dataframe thead th {\n        text-align: right;\n    }\n</style>\n<table border=\"1\" class=\"dataframe\">\n  <thead>\n    <tr style=\"text-align: right;\">\n      <th></th>\n      <th>Id</th>\n      <th>MSSubClass</th>\n      <th>MSZoning</th>\n      <th>LotFrontage</th>\n      <th>LotArea</th>\n      <th>Street</th>\n      <th>Alley</th>\n      <th>LotShape</th>\n      <th>LandContour</th>\n      <th>Utilities</th>\n      <th>...</th>\n      <th>PoolArea</th>\n      <th>PoolQC</th>\n      <th>Fence</th>\n      <th>MiscFeature</th>\n      <th>MiscVal</th>\n      <th>MoSold</th>\n      <th>YrSold</th>\n      <th>SaleType</th>\n      <th>SaleCondition</th>\n      <th>SalePrice</th>\n    </tr>\n  </thead>\n  <tbody>\n    <tr>\n      <th>0</th>\n      <td>1</td>\n      <td>60</td>\n      <td>RL</td>\n      <td>65.0</td>\n      <td>8450</td>\n      <td>Pave</td>\n      <td>NaN</td>\n      <td>Reg</td>\n      <td>Lvl</td>\n      <td>AllPub</td>\n      <td>...</td>\n      <td>0</td>\n      <td>NaN</td>\n      <td>NaN</td>\n      <td>NaN</td>\n      <td>0</td>\n      <td>2</td>\n      <td>2008</td>\n      <td>WD</td>\n      <td>Normal</td>\n      <td>208500</td>\n    </tr>\n    <tr>\n      <th>1</th>\n      <td>2</td>\n      <td>20</td>\n      <td>RL</td>\n      <td>80.0</td>\n      <td>9600</td>\n      <td>Pave</td>\n      <td>NaN</td>\n      <td>Reg</td>\n      <td>Lvl</td>\n      <td>AllPub</td>\n      <td>...</td>\n      <td>0</td>\n      <td>NaN</td>\n      <td>NaN</td>\n      <td>NaN</td>\n      <td>0</td>\n      <td>5</td>\n      <td>2007</td>\n      <td>WD</td>\n      <td>Normal</td>\n      <td>181500</td>\n    </tr>\n    <tr>\n      <th>2</th>\n      <td>3</td>\n      <td>60</td>\n      <td>RL</td>\n      <td>68.0</td>\n      <td>11250</td>\n      <td>Pave</td>\n      <td>NaN</td>\n      <td>IR1</td>\n      <td>Lvl</td>\n      <td>AllPub</td>\n      <td>...</td>\n      <td>0</td>\n      <td>NaN</td>\n      <td>NaN</td>\n      <td>NaN</td>\n      <td>0</td>\n      <td>9</td>\n      <td>2008</td>\n      <td>WD</td>\n      <td>Normal</td>\n      <td>223500</td>\n    </tr>\n    <tr>\n      <th>3</th>\n      <td>4</td>\n      <td>70</td>\n      <td>RL</td>\n      <td>60.0</td>\n      <td>9550</td>\n      <td>Pave</td>\n      <td>NaN</td>\n      <td>IR1</td>\n      <td>Lvl</td>\n      <td>AllPub</td>\n      <td>...</td>\n      <td>0</td>\n      <td>NaN</td>\n      <td>NaN</td>\n      <td>NaN</td>\n      <td>0</td>\n      <td>2</td>\n      <td>2006</td>\n      <td>WD</td>\n      <td>Abnorml</td>\n      <td>140000</td>\n    </tr>\n    <tr>\n      <th>4</th>\n      <td>5</td>\n      <td>60</td>\n      <td>RL</td>\n      <td>84.0</td>\n      <td>14260</td>\n      <td>Pave</td>\n      <td>NaN</td>\n      <td>IR1</td>\n      <td>Lvl</td>\n      <td>AllPub</td>\n      <td>...</td>\n      <td>0</td>\n      <td>NaN</td>\n      <td>NaN</td>\n      <td>NaN</td>\n      <td>0</td>\n      <td>12</td>\n      <td>2008</td>\n      <td>WD</td>\n      <td>Normal</td>\n      <td>250000</td>\n    </tr>\n  </tbody>\n</table>\n<p>5 rows × 81 columns</p>\n</div>"
     },
     "metadata": {}
    }
   ]
  },
  {
   "cell_type": "code",
   "source": "train_data",
   "metadata": {
    "tags": [],
    "cell_id": "00004-4b50d9c5-ddbe-4f08-bc27-50254015d33e",
    "deepnote_to_be_reexecuted": false,
    "source_hash": "dc669d3a",
    "execution_start": 1628784369493,
    "execution_millis": 211,
    "deepnote_cell_type": "code"
   },
   "outputs": [
    {
     "output_type": "execute_result",
     "execution_count": 7,
     "data": {
      "application/vnd.deepnote.dataframe.v2+json": {
       "row_count": 1460,
       "column_count": 81,
       "columns": [
        {
         "name": "Id",
         "dtype": "int64",
         "stats": {
          "unique_count": 1460,
          "nan_count": 0,
          "min": "1",
          "max": "1460",
          "histogram": [
           {
            "bin_start": 1,
            "bin_end": 146.9,
            "count": 146
           },
           {
            "bin_start": 146.9,
            "bin_end": 292.8,
            "count": 146
           },
           {
            "bin_start": 292.8,
            "bin_end": 438.70000000000005,
            "count": 146
           },
           {
            "bin_start": 438.70000000000005,
            "bin_end": 584.6,
            "count": 146
           },
           {
            "bin_start": 584.6,
            "bin_end": 730.5,
            "count": 146
           },
           {
            "bin_start": 730.5,
            "bin_end": 876.4000000000001,
            "count": 146
           },
           {
            "bin_start": 876.4000000000001,
            "bin_end": 1022.3000000000001,
            "count": 146
           },
           {
            "bin_start": 1022.3000000000001,
            "bin_end": 1168.2,
            "count": 146
           },
           {
            "bin_start": 1168.2,
            "bin_end": 1314.1000000000001,
            "count": 146
           },
           {
            "bin_start": 1314.1000000000001,
            "bin_end": 1460,
            "count": 146
           }
          ]
         }
        },
        {
         "name": "MSSubClass",
         "dtype": "int64",
         "stats": {
          "unique_count": 15,
          "nan_count": 0,
          "min": "20",
          "max": "190",
          "histogram": [
           {
            "bin_start": 20,
            "bin_end": 37,
            "count": 605
           },
           {
            "bin_start": 37,
            "bin_end": 54,
            "count": 160
           },
           {
            "bin_start": 54,
            "bin_end": 71,
            "count": 359
           },
           {
            "bin_start": 71,
            "bin_end": 88,
            "count": 94
           },
           {
            "bin_start": 88,
            "bin_end": 105,
            "count": 52
           },
           {
            "bin_start": 105,
            "bin_end": 122,
            "count": 87
           },
           {
            "bin_start": 122,
            "bin_end": 139,
            "count": 0
           },
           {
            "bin_start": 139,
            "bin_end": 156,
            "count": 0
           },
           {
            "bin_start": 156,
            "bin_end": 173,
            "count": 63
           },
           {
            "bin_start": 173,
            "bin_end": 190,
            "count": 40
           }
          ]
         }
        },
        {
         "name": "MSZoning",
         "dtype": "object",
         "stats": {
          "unique_count": 5,
          "nan_count": 0,
          "categories": [
           {
            "name": "RL",
            "count": 1151
           },
           {
            "name": "RM",
            "count": 218
           },
           {
            "name": "3 others",
            "count": 91
           }
          ]
         }
        },
        {
         "name": "LotFrontage",
         "dtype": "float64",
         "stats": {
          "unique_count": 110,
          "nan_count": 259,
          "min": "21.0",
          "max": "313.0",
          "histogram": [
           {
            "bin_start": 21,
            "bin_end": 50.2,
            "count": 205
           },
           {
            "bin_start": 50.2,
            "bin_end": 79.4,
            "count": 643
           },
           {
            "bin_start": 79.4,
            "bin_end": 108.6,
            "count": 298
           },
           {
            "bin_start": 108.6,
            "bin_end": 137.8,
            "count": 40
           },
           {
            "bin_start": 137.8,
            "bin_end": 167,
            "count": 9
           },
           {
            "bin_start": 167,
            "bin_end": 196.2,
            "count": 4
           },
           {
            "bin_start": 196.2,
            "bin_end": 225.4,
            "count": 0
           },
           {
            "bin_start": 225.4,
            "bin_end": 254.6,
            "count": 0
           },
           {
            "bin_start": 254.6,
            "bin_end": 283.8,
            "count": 0
           },
           {
            "bin_start": 283.8,
            "bin_end": 313,
            "count": 2
           }
          ]
         }
        },
        {
         "name": "LotArea",
         "dtype": "int64",
         "stats": {
          "unique_count": 1073,
          "nan_count": 0,
          "min": "1300",
          "max": "215245",
          "histogram": [
           {
            "bin_start": 1300,
            "bin_end": 22694.5,
            "count": 1423
           },
           {
            "bin_start": 22694.5,
            "bin_end": 44089,
            "count": 24
           },
           {
            "bin_start": 44089,
            "bin_end": 65483.5,
            "count": 8
           },
           {
            "bin_start": 65483.5,
            "bin_end": 86878,
            "count": 1
           },
           {
            "bin_start": 86878,
            "bin_end": 108272.5,
            "count": 0
           },
           {
            "bin_start": 108272.5,
            "bin_end": 129667,
            "count": 1
           },
           {
            "bin_start": 129667,
            "bin_end": 151061.5,
            "count": 0
           },
           {
            "bin_start": 151061.5,
            "bin_end": 172456,
            "count": 2
           },
           {
            "bin_start": 172456,
            "bin_end": 193850.5,
            "count": 0
           },
           {
            "bin_start": 193850.5,
            "bin_end": 215245,
            "count": 1
           }
          ]
         }
        },
        {
         "name": "Street",
         "dtype": "object",
         "stats": {
          "unique_count": 2,
          "nan_count": 0,
          "categories": [
           {
            "name": "Pave",
            "count": 1454
           },
           {
            "name": "Grvl",
            "count": 6
           }
          ]
         }
        },
        {
         "name": "Alley",
         "dtype": "object",
         "stats": {
          "unique_count": 2,
          "nan_count": 1369,
          "categories": [
           {
            "name": "Grvl",
            "count": 50
           },
           {
            "name": "Pave",
            "count": 41
           },
           {
            "name": "Missing",
            "count": 1369
           }
          ]
         }
        },
        {
         "name": "LotShape",
         "dtype": "object",
         "stats": {
          "unique_count": 4,
          "nan_count": 0,
          "categories": [
           {
            "name": "Reg",
            "count": 925
           },
           {
            "name": "IR1",
            "count": 484
           },
           {
            "name": "2 others",
            "count": 51
           }
          ]
         }
        },
        {
         "name": "LandContour",
         "dtype": "object",
         "stats": {
          "unique_count": 4,
          "nan_count": 0,
          "categories": [
           {
            "name": "Lvl",
            "count": 1311
           },
           {
            "name": "Bnk",
            "count": 63
           },
           {
            "name": "2 others",
            "count": 86
           }
          ]
         }
        },
        {
         "name": "Utilities",
         "dtype": "object",
         "stats": {
          "unique_count": 2,
          "nan_count": 0,
          "categories": [
           {
            "name": "AllPub",
            "count": 1459
           },
           {
            "name": "NoSeWa",
            "count": 1
           }
          ]
         }
        },
        {
         "name": "LotConfig",
         "dtype": "object",
         "stats": {
          "unique_count": 5,
          "nan_count": 0,
          "categories": [
           {
            "name": "Inside",
            "count": 1052
           },
           {
            "name": "Corner",
            "count": 263
           },
           {
            "name": "3 others",
            "count": 145
           }
          ]
         }
        },
        {
         "name": "LandSlope",
         "dtype": "object",
         "stats": {
          "unique_count": 3,
          "nan_count": 0,
          "categories": [
           {
            "name": "Gtl",
            "count": 1382
           },
           {
            "name": "Mod",
            "count": 65
           },
           {
            "name": "Sev",
            "count": 13
           }
          ]
         }
        },
        {
         "name": "Neighborhood",
         "dtype": "object",
         "stats": {
          "unique_count": 25,
          "nan_count": 0,
          "categories": [
           {
            "name": "NAmes",
            "count": 225
           },
           {
            "name": "CollgCr",
            "count": 150
           },
           {
            "name": "23 others",
            "count": 1085
           }
          ]
         }
        },
        {
         "name": "Condition1",
         "dtype": "object",
         "stats": {
          "unique_count": 9,
          "nan_count": 0,
          "categories": [
           {
            "name": "Norm",
            "count": 1260
           },
           {
            "name": "Feedr",
            "count": 81
           },
           {
            "name": "7 others",
            "count": 119
           }
          ]
         }
        },
        {
         "name": "Condition2",
         "dtype": "object",
         "stats": {
          "unique_count": 8,
          "nan_count": 0,
          "categories": [
           {
            "name": "Norm",
            "count": 1445
           },
           {
            "name": "Feedr",
            "count": 6
           },
           {
            "name": "6 others",
            "count": 9
           }
          ]
         }
        },
        {
         "name": "BldgType",
         "dtype": "object",
         "stats": {
          "unique_count": 5,
          "nan_count": 0,
          "categories": [
           {
            "name": "1Fam",
            "count": 1220
           },
           {
            "name": "TwnhsE",
            "count": 114
           },
           {
            "name": "3 others",
            "count": 126
           }
          ]
         }
        },
        {
         "name": "HouseStyle",
         "dtype": "object",
         "stats": {
          "unique_count": 8,
          "nan_count": 0,
          "categories": [
           {
            "name": "1Story",
            "count": 726
           },
           {
            "name": "2Story",
            "count": 445
           },
           {
            "name": "6 others",
            "count": 289
           }
          ]
         }
        },
        {
         "name": "OverallQual",
         "dtype": "int64",
         "stats": {
          "unique_count": 10,
          "nan_count": 0,
          "min": "1",
          "max": "10",
          "histogram": [
           {
            "bin_start": 1,
            "bin_end": 1.9,
            "count": 2
           },
           {
            "bin_start": 1.9,
            "bin_end": 2.8,
            "count": 3
           },
           {
            "bin_start": 2.8,
            "bin_end": 3.7,
            "count": 20
           },
           {
            "bin_start": 3.7,
            "bin_end": 4.6,
            "count": 116
           },
           {
            "bin_start": 4.6,
            "bin_end": 5.5,
            "count": 397
           },
           {
            "bin_start": 5.5,
            "bin_end": 6.4,
            "count": 374
           },
           {
            "bin_start": 6.4,
            "bin_end": 7.3,
            "count": 319
           },
           {
            "bin_start": 7.3,
            "bin_end": 8.2,
            "count": 168
           },
           {
            "bin_start": 8.2,
            "bin_end": 9.1,
            "count": 43
           },
           {
            "bin_start": 9.1,
            "bin_end": 10,
            "count": 18
           }
          ]
         }
        },
        {
         "name": "OverallCond",
         "dtype": "int64",
         "stats": {
          "unique_count": 9,
          "nan_count": 0,
          "min": "1",
          "max": "9",
          "histogram": [
           {
            "bin_start": 1,
            "bin_end": 1.8,
            "count": 1
           },
           {
            "bin_start": 1.8,
            "bin_end": 2.6,
            "count": 5
           },
           {
            "bin_start": 2.6,
            "bin_end": 3.4000000000000004,
            "count": 25
           },
           {
            "bin_start": 3.4000000000000004,
            "bin_end": 4.2,
            "count": 57
           },
           {
            "bin_start": 4.2,
            "bin_end": 5,
            "count": 0
           },
           {
            "bin_start": 5,
            "bin_end": 5.800000000000001,
            "count": 821
           },
           {
            "bin_start": 5.800000000000001,
            "bin_end": 6.6000000000000005,
            "count": 252
           },
           {
            "bin_start": 6.6000000000000005,
            "bin_end": 7.4,
            "count": 205
           },
           {
            "bin_start": 7.4,
            "bin_end": 8.2,
            "count": 72
           },
           {
            "bin_start": 8.2,
            "bin_end": 9,
            "count": 22
           }
          ]
         }
        },
        {
         "name": "YearBuilt",
         "dtype": "int64",
         "stats": {
          "unique_count": 112,
          "nan_count": 0,
          "min": "1872",
          "max": "2010",
          "histogram": [
           {
            "bin_start": 1872,
            "bin_end": 1885.8,
            "count": 9
           },
           {
            "bin_start": 1885.8,
            "bin_end": 1899.6,
            "count": 6
           },
           {
            "bin_start": 1899.6,
            "bin_end": 1913.4,
            "count": 37
           },
           {
            "bin_start": 1913.4,
            "bin_end": 1927.2,
            "count": 122
           },
           {
            "bin_start": 1927.2,
            "bin_end": 1941,
            "count": 83
           },
           {
            "bin_start": 1941,
            "bin_end": 1954.8,
            "count": 128
           },
           {
            "bin_start": 1954.8,
            "bin_end": 1968.6,
            "count": 261
           },
           {
            "bin_start": 1968.6,
            "bin_end": 1982.4,
            "count": 223
           },
           {
            "bin_start": 1982.4,
            "bin_end": 1996.2,
            "count": 139
           },
           {
            "bin_start": 1996.2,
            "bin_end": 2010,
            "count": 452
           }
          ]
         }
        },
        {
         "name": "YearRemodAdd",
         "dtype": "int64",
         "stats": {
          "unique_count": 61,
          "nan_count": 0,
          "min": "1950",
          "max": "2010",
          "histogram": [
           {
            "bin_start": 1950,
            "bin_end": 1956,
            "count": 220
           },
           {
            "bin_start": 1956,
            "bin_end": 1962,
            "count": 72
           },
           {
            "bin_start": 1962,
            "bin_end": 1968,
            "count": 84
           },
           {
            "bin_start": 1968,
            "bin_end": 1974,
            "count": 106
           },
           {
            "bin_start": 1974,
            "bin_end": 1980,
            "count": 98
           },
           {
            "bin_start": 1980,
            "bin_end": 1986,
            "count": 48
           },
           {
            "bin_start": 1986,
            "bin_end": 1992,
            "count": 64
           },
           {
            "bin_start": 1992,
            "bin_end": 1998,
            "count": 150
           },
           {
            "bin_start": 1998,
            "bin_end": 2004,
            "count": 241
           },
           {
            "bin_start": 2004,
            "bin_end": 2010,
            "count": 377
           }
          ]
         }
        },
        {
         "name": "RoofStyle",
         "dtype": "object",
         "stats": {
          "unique_count": 6,
          "nan_count": 0,
          "categories": [
           {
            "name": "Gable",
            "count": 1141
           },
           {
            "name": "Hip",
            "count": 286
           },
           {
            "name": "4 others",
            "count": 33
           }
          ]
         }
        },
        {
         "name": "RoofMatl",
         "dtype": "object",
         "stats": {
          "unique_count": 8,
          "nan_count": 0,
          "categories": [
           {
            "name": "CompShg",
            "count": 1434
           },
           {
            "name": "Tar&Grv",
            "count": 11
           },
           {
            "name": "6 others",
            "count": 15
           }
          ]
         }
        },
        {
         "name": "Exterior1st",
         "dtype": "object",
         "stats": {
          "unique_count": 15,
          "nan_count": 0,
          "categories": [
           {
            "name": "VinylSd",
            "count": 515
           },
           {
            "name": "HdBoard",
            "count": 222
           },
           {
            "name": "13 others",
            "count": 723
           }
          ]
         }
        },
        {
         "name": "Exterior2nd",
         "dtype": "object",
         "stats": {
          "unique_count": 16,
          "nan_count": 0,
          "categories": [
           {
            "name": "VinylSd",
            "count": 504
           },
           {
            "name": "MetalSd",
            "count": 214
           },
           {
            "name": "14 others",
            "count": 742
           }
          ]
         }
        },
        {
         "name": "MasVnrType",
         "dtype": "object",
         "stats": {
          "unique_count": 4,
          "nan_count": 8,
          "categories": [
           {
            "name": "None",
            "count": 864
           },
           {
            "name": "3 others",
            "count": 588
           },
           {
            "name": "Missing",
            "count": 8
           }
          ]
         }
        },
        {
         "name": "MasVnrArea",
         "dtype": "float64",
         "stats": {
          "unique_count": 327,
          "nan_count": 8,
          "min": "0.0",
          "max": "1600.0",
          "histogram": [
           {
            "bin_start": 0,
            "bin_end": 160,
            "count": 1077
           },
           {
            "bin_start": 160,
            "bin_end": 320,
            "count": 219
           },
           {
            "bin_start": 320,
            "bin_end": 480,
            "count": 94
           },
           {
            "bin_start": 480,
            "bin_end": 640,
            "count": 29
           },
           {
            "bin_start": 640,
            "bin_end": 800,
            "count": 19
           },
           {
            "bin_start": 800,
            "bin_end": 960,
            "count": 6
           },
           {
            "bin_start": 960,
            "bin_end": 1120,
            "count": 4
           },
           {
            "bin_start": 1120,
            "bin_end": 1280,
            "count": 2
           },
           {
            "bin_start": 1280,
            "bin_end": 1440,
            "count": 1
           },
           {
            "bin_start": 1440,
            "bin_end": 1600,
            "count": 1
           }
          ]
         }
        },
        {
         "name": "ExterQual",
         "dtype": "object",
         "stats": {
          "unique_count": 4,
          "nan_count": 0,
          "categories": [
           {
            "name": "TA",
            "count": 906
           },
           {
            "name": "Gd",
            "count": 488
           },
           {
            "name": "2 others",
            "count": 66
           }
          ]
         }
        },
        {
         "name": "ExterCond",
         "dtype": "object",
         "stats": {
          "unique_count": 5,
          "nan_count": 0,
          "categories": [
           {
            "name": "TA",
            "count": 1282
           },
           {
            "name": "Gd",
            "count": 146
           },
           {
            "name": "3 others",
            "count": 32
           }
          ]
         }
        },
        {
         "name": "Foundation",
         "dtype": "object",
         "stats": {
          "unique_count": 6,
          "nan_count": 0,
          "categories": [
           {
            "name": "PConc",
            "count": 647
           },
           {
            "name": "CBlock",
            "count": 634
           },
           {
            "name": "4 others",
            "count": 179
           }
          ]
         }
        },
        {
         "name": "BsmtQual",
         "dtype": "object",
         "stats": {
          "unique_count": 4,
          "nan_count": 37,
          "categories": [
           {
            "name": "TA",
            "count": 649
           },
           {
            "name": "3 others",
            "count": 774
           },
           {
            "name": "Missing",
            "count": 37
           }
          ]
         }
        },
        {
         "name": "BsmtCond",
         "dtype": "object",
         "stats": {
          "unique_count": 4,
          "nan_count": 37,
          "categories": [
           {
            "name": "TA",
            "count": 1311
           },
           {
            "name": "3 others",
            "count": 112
           },
           {
            "name": "Missing",
            "count": 37
           }
          ]
         }
        },
        {
         "name": "BsmtExposure",
         "dtype": "object",
         "stats": {
          "unique_count": 4,
          "nan_count": 38,
          "categories": [
           {
            "name": "No",
            "count": 953
           },
           {
            "name": "3 others",
            "count": 469
           },
           {
            "name": "Missing",
            "count": 38
           }
          ]
         }
        },
        {
         "name": "BsmtFinType1",
         "dtype": "object",
         "stats": {
          "unique_count": 6,
          "nan_count": 37,
          "categories": [
           {
            "name": "Unf",
            "count": 430
           },
           {
            "name": "5 others",
            "count": 993
           },
           {
            "name": "Missing",
            "count": 37
           }
          ]
         }
        },
        {
         "name": "BsmtFinSF1",
         "dtype": "int64",
         "stats": {
          "unique_count": 637,
          "nan_count": 0,
          "min": "0",
          "max": "5644",
          "histogram": [
           {
            "bin_start": 0,
            "bin_end": 564.4,
            "count": 919
           },
           {
            "bin_start": 564.4,
            "bin_end": 1128.8,
            "count": 417
           },
           {
            "bin_start": 1128.8,
            "bin_end": 1693.1999999999998,
            "count": 114
           },
           {
            "bin_start": 1693.1999999999998,
            "bin_end": 2257.6,
            "count": 8
           },
           {
            "bin_start": 2257.6,
            "bin_end": 2822,
            "count": 1
           },
           {
            "bin_start": 2822,
            "bin_end": 3386.3999999999996,
            "count": 0
           },
           {
            "bin_start": 3386.3999999999996,
            "bin_end": 3950.7999999999997,
            "count": 0
           },
           {
            "bin_start": 3950.7999999999997,
            "bin_end": 4515.2,
            "count": 0
           },
           {
            "bin_start": 4515.2,
            "bin_end": 5079.599999999999,
            "count": 0
           },
           {
            "bin_start": 5079.599999999999,
            "bin_end": 5644,
            "count": 1
           }
          ]
         }
        },
        {
         "name": "BsmtFinType2",
         "dtype": "object",
         "stats": {
          "unique_count": 6,
          "nan_count": 38,
          "categories": [
           {
            "name": "Unf",
            "count": 1256
           },
           {
            "name": "5 others",
            "count": 166
           },
           {
            "name": "Missing",
            "count": 38
           }
          ]
         }
        },
        {
         "name": "BsmtFinSF2",
         "dtype": "int64",
         "stats": {
          "unique_count": 144,
          "nan_count": 0,
          "min": "0",
          "max": "1474",
          "histogram": [
           {
            "bin_start": 0,
            "bin_end": 147.4,
            "count": 1325
           },
           {
            "bin_start": 147.4,
            "bin_end": 294.8,
            "count": 43
           },
           {
            "bin_start": 294.8,
            "bin_end": 442.20000000000005,
            "count": 25
           },
           {
            "bin_start": 442.20000000000005,
            "bin_end": 589.6,
            "count": 28
           },
           {
            "bin_start": 589.6,
            "bin_end": 737,
            "count": 19
           },
           {
            "bin_start": 737,
            "bin_end": 884.4000000000001,
            "count": 8
           },
           {
            "bin_start": 884.4000000000001,
            "bin_end": 1031.8,
            "count": 4
           },
           {
            "bin_start": 1031.8,
            "bin_end": 1179.2,
            "count": 7
           },
           {
            "bin_start": 1179.2,
            "bin_end": 1326.6000000000001,
            "count": 0
           },
           {
            "bin_start": 1326.6000000000001,
            "bin_end": 1474,
            "count": 1
           }
          ]
         }
        },
        {
         "name": "BsmtUnfSF",
         "dtype": "int64",
         "stats": {
          "unique_count": 780,
          "nan_count": 0,
          "min": "0",
          "max": "2336",
          "histogram": [
           {
            "bin_start": 0,
            "bin_end": 233.6,
            "count": 375
           },
           {
            "bin_start": 233.6,
            "bin_end": 467.2,
            "count": 346
           },
           {
            "bin_start": 467.2,
            "bin_end": 700.8,
            "count": 256
           },
           {
            "bin_start": 700.8,
            "bin_end": 934.4,
            "count": 216
           },
           {
            "bin_start": 934.4,
            "bin_end": 1168,
            "count": 106
           },
           {
            "bin_start": 1168,
            "bin_end": 1401.6,
            "count": 72
           },
           {
            "bin_start": 1401.6,
            "bin_end": 1635.2,
            "count": 53
           },
           {
            "bin_start": 1635.2,
            "bin_end": 1868.8,
            "count": 24
           },
           {
            "bin_start": 1868.8,
            "bin_end": 2102.4,
            "count": 9
           },
           {
            "bin_start": 2102.4,
            "bin_end": 2336,
            "count": 3
           }
          ]
         }
        },
        {
         "name": "TotalBsmtSF",
         "dtype": "int64",
         "stats": {
          "unique_count": 721,
          "nan_count": 0,
          "min": "0",
          "max": "6110",
          "histogram": [
           {
            "bin_start": 0,
            "bin_end": 611,
            "count": 121
           },
           {
            "bin_start": 611,
            "bin_end": 1222,
            "count": 907
           },
           {
            "bin_start": 1222,
            "bin_end": 1833,
            "count": 372
           },
           {
            "bin_start": 1833,
            "bin_end": 2444,
            "count": 52
           },
           {
            "bin_start": 2444,
            "bin_end": 3055,
            "count": 3
           },
           {
            "bin_start": 3055,
            "bin_end": 3666,
            "count": 4
           },
           {
            "bin_start": 3666,
            "bin_end": 4277,
            "count": 0
           },
           {
            "bin_start": 4277,
            "bin_end": 4888,
            "count": 0
           },
           {
            "bin_start": 4888,
            "bin_end": 5499,
            "count": 0
           },
           {
            "bin_start": 5499,
            "bin_end": 6110,
            "count": 1
           }
          ]
         }
        },
        {
         "name": "Heating",
         "dtype": "object",
         "stats": {
          "unique_count": 6,
          "nan_count": 0,
          "categories": [
           {
            "name": "GasA",
            "count": 1428
           },
           {
            "name": "GasW",
            "count": 18
           },
           {
            "name": "4 others",
            "count": 14
           }
          ]
         }
        },
        {
         "name": "HeatingQC",
         "dtype": "object",
         "stats": {
          "unique_count": 5,
          "nan_count": 0,
          "categories": [
           {
            "name": "Ex",
            "count": 741
           },
           {
            "name": "TA",
            "count": 428
           },
           {
            "name": "3 others",
            "count": 291
           }
          ]
         }
        },
        {
         "name": "CentralAir",
         "dtype": "object",
         "stats": {
          "unique_count": 2,
          "nan_count": 0,
          "categories": [
           {
            "name": "Y",
            "count": 1365
           },
           {
            "name": "N",
            "count": 95
           }
          ]
         }
        },
        {
         "name": "Electrical",
         "dtype": "object",
         "stats": {
          "unique_count": 5,
          "nan_count": 1,
          "categories": [
           {
            "name": "SBrkr",
            "count": 1334
           },
           {
            "name": "4 others",
            "count": 125
           },
           {
            "name": "Missing",
            "count": 1
           }
          ]
         }
        },
        {
         "name": "1stFlrSF",
         "dtype": "int64",
         "stats": {
          "unique_count": 753,
          "nan_count": 0,
          "min": "334",
          "max": "4692",
          "histogram": [
           {
            "bin_start": 334,
            "bin_end": 769.8,
            "count": 165
           },
           {
            "bin_start": 769.8,
            "bin_end": 1205.6,
            "count": 735
           },
           {
            "bin_start": 1205.6,
            "bin_end": 1641.4,
            "count": 385
           },
           {
            "bin_start": 1641.4,
            "bin_end": 2077.2,
            "count": 147
           },
           {
            "bin_start": 2077.2,
            "bin_end": 2513,
            "count": 21
           },
           {
            "bin_start": 2513,
            "bin_end": 2948.8,
            "count": 4
           },
           {
            "bin_start": 2948.8,
            "bin_end": 3384.6,
            "count": 2
           },
           {
            "bin_start": 3384.6,
            "bin_end": 3820.4,
            "count": 0
           },
           {
            "bin_start": 3820.4,
            "bin_end": 4256.200000000001,
            "count": 0
           },
           {
            "bin_start": 4256.200000000001,
            "bin_end": 4692,
            "count": 1
           }
          ]
         }
        },
        {
         "name": "2ndFlrSF",
         "dtype": "int64",
         "stats": {
          "unique_count": 417,
          "nan_count": 0,
          "min": "0",
          "max": "2065",
          "histogram": [
           {
            "bin_start": 0,
            "bin_end": 206.5,
            "count": 832
           },
           {
            "bin_start": 206.5,
            "bin_end": 413,
            "count": 32
           },
           {
            "bin_start": 413,
            "bin_end": 619.5,
            "count": 118
           },
           {
            "bin_start": 619.5,
            "bin_end": 826,
            "count": 209
           },
           {
            "bin_start": 826,
            "bin_end": 1032.5,
            "count": 154
           },
           {
            "bin_start": 1032.5,
            "bin_end": 1239,
            "count": 69
           },
           {
            "bin_start": 1239,
            "bin_end": 1445.5,
            "count": 34
           },
           {
            "bin_start": 1445.5,
            "bin_end": 1652,
            "count": 8
           },
           {
            "bin_start": 1652,
            "bin_end": 1858.5,
            "count": 2
           },
           {
            "bin_start": 1858.5,
            "bin_end": 2065,
            "count": 2
           }
          ]
         }
        },
        {
         "name": "LowQualFinSF",
         "dtype": "int64",
         "stats": {
          "unique_count": 24,
          "nan_count": 0,
          "min": "0",
          "max": "572",
          "histogram": [
           {
            "bin_start": 0,
            "bin_end": 57.2,
            "count": 1435
           },
           {
            "bin_start": 57.2,
            "bin_end": 114.4,
            "count": 3
           },
           {
            "bin_start": 114.4,
            "bin_end": 171.60000000000002,
            "count": 3
           },
           {
            "bin_start": 171.60000000000002,
            "bin_end": 228.8,
            "count": 1
           },
           {
            "bin_start": 228.8,
            "bin_end": 286,
            "count": 2
           },
           {
            "bin_start": 286,
            "bin_end": 343.20000000000005,
            "count": 0
           },
           {
            "bin_start": 343.20000000000005,
            "bin_end": 400.40000000000003,
            "count": 7
           },
           {
            "bin_start": 400.40000000000003,
            "bin_end": 457.6,
            "count": 1
           },
           {
            "bin_start": 457.6,
            "bin_end": 514.8000000000001,
            "count": 5
           },
           {
            "bin_start": 514.8000000000001,
            "bin_end": 572,
            "count": 3
           }
          ]
         }
        },
        {
         "name": "GrLivArea",
         "dtype": "int64",
         "stats": {
          "unique_count": 861,
          "nan_count": 0,
          "min": "334",
          "max": "5642",
          "histogram": [
           {
            "bin_start": 334,
            "bin_end": 864.8,
            "count": 107
           },
           {
            "bin_start": 864.8,
            "bin_end": 1395.6,
            "count": 554
           },
           {
            "bin_start": 1395.6,
            "bin_end": 1926.3999999999999,
            "count": 535
           },
           {
            "bin_start": 1926.3999999999999,
            "bin_end": 2457.2,
            "count": 189
           },
           {
            "bin_start": 2457.2,
            "bin_end": 2988,
            "count": 57
           },
           {
            "bin_start": 2988,
            "bin_end": 3518.7999999999997,
            "count": 12
           },
           {
            "bin_start": 3518.7999999999997,
            "bin_end": 4049.5999999999995,
            "count": 2
           },
           {
            "bin_start": 4049.5999999999995,
            "bin_end": 4580.4,
            "count": 2
           },
           {
            "bin_start": 4580.4,
            "bin_end": 5111.2,
            "count": 1
           },
           {
            "bin_start": 5111.2,
            "bin_end": 5642,
            "count": 1
           }
          ]
         }
        },
        {
         "name": "BsmtFullBath",
         "dtype": "int64",
         "stats": {
          "unique_count": 4,
          "nan_count": 0,
          "min": "0",
          "max": "3",
          "histogram": [
           {
            "bin_start": 0,
            "bin_end": 0.3,
            "count": 856
           },
           {
            "bin_start": 0.3,
            "bin_end": 0.6,
            "count": 0
           },
           {
            "bin_start": 0.6,
            "bin_end": 0.8999999999999999,
            "count": 0
           },
           {
            "bin_start": 0.8999999999999999,
            "bin_end": 1.2,
            "count": 588
           },
           {
            "bin_start": 1.2,
            "bin_end": 1.5,
            "count": 0
           },
           {
            "bin_start": 1.5,
            "bin_end": 1.7999999999999998,
            "count": 0
           },
           {
            "bin_start": 1.7999999999999998,
            "bin_end": 2.1,
            "count": 15
           },
           {
            "bin_start": 2.1,
            "bin_end": 2.4,
            "count": 0
           },
           {
            "bin_start": 2.4,
            "bin_end": 2.6999999999999997,
            "count": 0
           },
           {
            "bin_start": 2.6999999999999997,
            "bin_end": 3,
            "count": 1
           }
          ]
         }
        },
        {
         "name": "BsmtHalfBath",
         "dtype": "int64",
         "stats": {
          "unique_count": 3,
          "nan_count": 0,
          "min": "0",
          "max": "2",
          "histogram": [
           {
            "bin_start": 0,
            "bin_end": 0.2,
            "count": 1378
           },
           {
            "bin_start": 0.2,
            "bin_end": 0.4,
            "count": 0
           },
           {
            "bin_start": 0.4,
            "bin_end": 0.6000000000000001,
            "count": 0
           },
           {
            "bin_start": 0.6000000000000001,
            "bin_end": 0.8,
            "count": 0
           },
           {
            "bin_start": 0.8,
            "bin_end": 1,
            "count": 0
           },
           {
            "bin_start": 1,
            "bin_end": 1.2000000000000002,
            "count": 80
           },
           {
            "bin_start": 1.2000000000000002,
            "bin_end": 1.4000000000000001,
            "count": 0
           },
           {
            "bin_start": 1.4000000000000001,
            "bin_end": 1.6,
            "count": 0
           },
           {
            "bin_start": 1.6,
            "bin_end": 1.8,
            "count": 0
           },
           {
            "bin_start": 1.8,
            "bin_end": 2,
            "count": 2
           }
          ]
         }
        },
        {
         "name": "FullBath",
         "dtype": "int64",
         "stats": {
          "unique_count": 4,
          "nan_count": 0,
          "min": "0",
          "max": "3",
          "histogram": [
           {
            "bin_start": 0,
            "bin_end": 0.3,
            "count": 9
           },
           {
            "bin_start": 0.3,
            "bin_end": 0.6,
            "count": 0
           },
           {
            "bin_start": 0.6,
            "bin_end": 0.8999999999999999,
            "count": 0
           },
           {
            "bin_start": 0.8999999999999999,
            "bin_end": 1.2,
            "count": 650
           },
           {
            "bin_start": 1.2,
            "bin_end": 1.5,
            "count": 0
           },
           {
            "bin_start": 1.5,
            "bin_end": 1.7999999999999998,
            "count": 0
           },
           {
            "bin_start": 1.7999999999999998,
            "bin_end": 2.1,
            "count": 768
           },
           {
            "bin_start": 2.1,
            "bin_end": 2.4,
            "count": 0
           },
           {
            "bin_start": 2.4,
            "bin_end": 2.6999999999999997,
            "count": 0
           },
           {
            "bin_start": 2.6999999999999997,
            "bin_end": 3,
            "count": 33
           }
          ]
         }
        },
        {
         "name": "HalfBath",
         "dtype": "int64",
         "stats": {
          "unique_count": 3,
          "nan_count": 0,
          "min": "0",
          "max": "2",
          "histogram": [
           {
            "bin_start": 0,
            "bin_end": 0.2,
            "count": 913
           },
           {
            "bin_start": 0.2,
            "bin_end": 0.4,
            "count": 0
           },
           {
            "bin_start": 0.4,
            "bin_end": 0.6000000000000001,
            "count": 0
           },
           {
            "bin_start": 0.6000000000000001,
            "bin_end": 0.8,
            "count": 0
           },
           {
            "bin_start": 0.8,
            "bin_end": 1,
            "count": 0
           },
           {
            "bin_start": 1,
            "bin_end": 1.2000000000000002,
            "count": 535
           },
           {
            "bin_start": 1.2000000000000002,
            "bin_end": 1.4000000000000001,
            "count": 0
           },
           {
            "bin_start": 1.4000000000000001,
            "bin_end": 1.6,
            "count": 0
           },
           {
            "bin_start": 1.6,
            "bin_end": 1.8,
            "count": 0
           },
           {
            "bin_start": 1.8,
            "bin_end": 2,
            "count": 12
           }
          ]
         }
        },
        {
         "name": "BedroomAbvGr",
         "dtype": "int64",
         "stats": {
          "unique_count": 8,
          "nan_count": 0,
          "min": "0",
          "max": "8",
          "histogram": [
           {
            "bin_start": 0,
            "bin_end": 0.8,
            "count": 6
           },
           {
            "bin_start": 0.8,
            "bin_end": 1.6,
            "count": 50
           },
           {
            "bin_start": 1.6,
            "bin_end": 2.4000000000000004,
            "count": 358
           },
           {
            "bin_start": 2.4000000000000004,
            "bin_end": 3.2,
            "count": 804
           },
           {
            "bin_start": 3.2,
            "bin_end": 4,
            "count": 0
           },
           {
            "bin_start": 4,
            "bin_end": 4.800000000000001,
            "count": 213
           },
           {
            "bin_start": 4.800000000000001,
            "bin_end": 5.6000000000000005,
            "count": 21
           },
           {
            "bin_start": 5.6000000000000005,
            "bin_end": 6.4,
            "count": 7
           },
           {
            "bin_start": 6.4,
            "bin_end": 7.2,
            "count": 0
           },
           {
            "bin_start": 7.2,
            "bin_end": 8,
            "count": 1
           }
          ]
         }
        },
        {
         "name": "KitchenAbvGr",
         "dtype": "int64",
         "stats": {
          "unique_count": 4,
          "nan_count": 0,
          "min": "0",
          "max": "3",
          "histogram": [
           {
            "bin_start": 0,
            "bin_end": 0.3,
            "count": 1
           },
           {
            "bin_start": 0.3,
            "bin_end": 0.6,
            "count": 0
           },
           {
            "bin_start": 0.6,
            "bin_end": 0.8999999999999999,
            "count": 0
           },
           {
            "bin_start": 0.8999999999999999,
            "bin_end": 1.2,
            "count": 1392
           },
           {
            "bin_start": 1.2,
            "bin_end": 1.5,
            "count": 0
           },
           {
            "bin_start": 1.5,
            "bin_end": 1.7999999999999998,
            "count": 0
           },
           {
            "bin_start": 1.7999999999999998,
            "bin_end": 2.1,
            "count": 65
           },
           {
            "bin_start": 2.1,
            "bin_end": 2.4,
            "count": 0
           },
           {
            "bin_start": 2.4,
            "bin_end": 2.6999999999999997,
            "count": 0
           },
           {
            "bin_start": 2.6999999999999997,
            "bin_end": 3,
            "count": 2
           }
          ]
         }
        },
        {
         "name": "KitchenQual",
         "dtype": "object",
         "stats": {
          "unique_count": 4,
          "nan_count": 0,
          "categories": [
           {
            "name": "TA",
            "count": 735
           },
           {
            "name": "Gd",
            "count": 586
           },
           {
            "name": "2 others",
            "count": 139
           }
          ]
         }
        },
        {
         "name": "TotRmsAbvGrd",
         "dtype": "int64",
         "stats": {
          "unique_count": 12,
          "nan_count": 0,
          "min": "2",
          "max": "14",
          "histogram": [
           {
            "bin_start": 2,
            "bin_end": 3.2,
            "count": 18
           },
           {
            "bin_start": 3.2,
            "bin_end": 4.4,
            "count": 97
           },
           {
            "bin_start": 4.4,
            "bin_end": 5.6,
            "count": 275
           },
           {
            "bin_start": 5.6,
            "bin_end": 6.8,
            "count": 402
           },
           {
            "bin_start": 6.8,
            "bin_end": 8,
            "count": 329
           },
           {
            "bin_start": 8,
            "bin_end": 9.2,
            "count": 262
           },
           {
            "bin_start": 9.2,
            "bin_end": 10.4,
            "count": 47
           },
           {
            "bin_start": 10.4,
            "bin_end": 11.6,
            "count": 18
           },
           {
            "bin_start": 11.6,
            "bin_end": 12.799999999999999,
            "count": 11
           },
           {
            "bin_start": 12.799999999999999,
            "bin_end": 14,
            "count": 1
           }
          ]
         }
        },
        {
         "name": "Functional",
         "dtype": "object",
         "stats": {
          "unique_count": 7,
          "nan_count": 0,
          "categories": [
           {
            "name": "Typ",
            "count": 1360
           },
           {
            "name": "Min2",
            "count": 34
           },
           {
            "name": "5 others",
            "count": 66
           }
          ]
         }
        },
        {
         "name": "Fireplaces",
         "dtype": "int64",
         "stats": {
          "unique_count": 4,
          "nan_count": 0,
          "min": "0",
          "max": "3",
          "histogram": [
           {
            "bin_start": 0,
            "bin_end": 0.3,
            "count": 690
           },
           {
            "bin_start": 0.3,
            "bin_end": 0.6,
            "count": 0
           },
           {
            "bin_start": 0.6,
            "bin_end": 0.8999999999999999,
            "count": 0
           },
           {
            "bin_start": 0.8999999999999999,
            "bin_end": 1.2,
            "count": 650
           },
           {
            "bin_start": 1.2,
            "bin_end": 1.5,
            "count": 0
           },
           {
            "bin_start": 1.5,
            "bin_end": 1.7999999999999998,
            "count": 0
           },
           {
            "bin_start": 1.7999999999999998,
            "bin_end": 2.1,
            "count": 115
           },
           {
            "bin_start": 2.1,
            "bin_end": 2.4,
            "count": 0
           },
           {
            "bin_start": 2.4,
            "bin_end": 2.6999999999999997,
            "count": 0
           },
           {
            "bin_start": 2.6999999999999997,
            "bin_end": 3,
            "count": 5
           }
          ]
         }
        },
        {
         "name": "FireplaceQu",
         "dtype": "object",
         "stats": {
          "unique_count": 5,
          "nan_count": 690,
          "categories": [
           {
            "name": "Gd",
            "count": 380
           },
           {
            "name": "4 others",
            "count": 390
           },
           {
            "name": "Missing",
            "count": 690
           }
          ]
         }
        },
        {
         "name": "GarageType",
         "dtype": "object",
         "stats": {
          "unique_count": 6,
          "nan_count": 81,
          "categories": [
           {
            "name": "Attchd",
            "count": 870
           },
           {
            "name": "5 others",
            "count": 509
           },
           {
            "name": "Missing",
            "count": 81
           }
          ]
         }
        },
        {
         "name": "GarageYrBlt",
         "dtype": "float64",
         "stats": {
          "unique_count": 97,
          "nan_count": 81,
          "min": "1900.0",
          "max": "2010.0",
          "histogram": [
           {
            "bin_start": 1900,
            "bin_end": 1911,
            "count": 6
           },
           {
            "bin_start": 1911,
            "bin_end": 1922,
            "count": 28
           },
           {
            "bin_start": 1922,
            "bin_end": 1933,
            "count": 49
           },
           {
            "bin_start": 1933,
            "bin_end": 1944,
            "count": 52
           },
           {
            "bin_start": 1944,
            "bin_end": 1955,
            "count": 93
           },
           {
            "bin_start": 1955,
            "bin_end": 1966,
            "count": 195
           },
           {
            "bin_start": 1966,
            "bin_end": 1977,
            "count": 194
           },
           {
            "bin_start": 1977,
            "bin_end": 1988,
            "count": 140
           },
           {
            "bin_start": 1988,
            "bin_end": 1999,
            "count": 190
           },
           {
            "bin_start": 1999,
            "bin_end": 2010,
            "count": 432
           }
          ]
         }
        },
        {
         "name": "GarageFinish",
         "dtype": "object",
         "stats": {
          "unique_count": 3,
          "nan_count": 81,
          "categories": [
           {
            "name": "Unf",
            "count": 605
           },
           {
            "name": "2 others",
            "count": 774
           },
           {
            "name": "Missing",
            "count": 81
           }
          ]
         }
        },
        {
         "name": "GarageCars",
         "dtype": "int64",
         "stats": {
          "unique_count": 5,
          "nan_count": 0,
          "min": "0",
          "max": "4",
          "histogram": [
           {
            "bin_start": 0,
            "bin_end": 0.4,
            "count": 81
           },
           {
            "bin_start": 0.4,
            "bin_end": 0.8,
            "count": 0
           },
           {
            "bin_start": 0.8,
            "bin_end": 1.2000000000000002,
            "count": 369
           },
           {
            "bin_start": 1.2000000000000002,
            "bin_end": 1.6,
            "count": 0
           },
           {
            "bin_start": 1.6,
            "bin_end": 2,
            "count": 0
           },
           {
            "bin_start": 2,
            "bin_end": 2.4000000000000004,
            "count": 824
           },
           {
            "bin_start": 2.4000000000000004,
            "bin_end": 2.8000000000000003,
            "count": 0
           },
           {
            "bin_start": 2.8000000000000003,
            "bin_end": 3.2,
            "count": 181
           },
           {
            "bin_start": 3.2,
            "bin_end": 3.6,
            "count": 0
           },
           {
            "bin_start": 3.6,
            "bin_end": 4,
            "count": 5
           }
          ]
         }
        },
        {
         "name": "GarageArea",
         "dtype": "int64",
         "stats": {
          "unique_count": 441,
          "nan_count": 0,
          "min": "0",
          "max": "1418",
          "histogram": [
           {
            "bin_start": 0,
            "bin_end": 141.8,
            "count": 81
           },
           {
            "bin_start": 141.8,
            "bin_end": 283.6,
            "count": 167
           },
           {
            "bin_start": 283.6,
            "bin_end": 425.40000000000003,
            "count": 293
           },
           {
            "bin_start": 425.40000000000003,
            "bin_end": 567.2,
            "count": 500
           },
           {
            "bin_start": 567.2,
            "bin_end": 709,
            "count": 240
           },
           {
            "bin_start": 709,
            "bin_end": 850.8000000000001,
            "count": 106
           },
           {
            "bin_start": 850.8000000000001,
            "bin_end": 992.6000000000001,
            "count": 57
           },
           {
            "bin_start": 992.6000000000001,
            "bin_end": 1134.4,
            "count": 10
           },
           {
            "bin_start": 1134.4,
            "bin_end": 1276.2,
            "count": 3
           },
           {
            "bin_start": 1276.2,
            "bin_end": 1418,
            "count": 3
           }
          ]
         }
        },
        {
         "name": "GarageQual",
         "dtype": "object",
         "stats": {
          "unique_count": 5,
          "nan_count": 81,
          "categories": [
           {
            "name": "TA",
            "count": 1311
           },
           {
            "name": "4 others",
            "count": 68
           },
           {
            "name": "Missing",
            "count": 81
           }
          ]
         }
        },
        {
         "name": "GarageCond",
         "dtype": "object",
         "stats": {
          "unique_count": 5,
          "nan_count": 81,
          "categories": [
           {
            "name": "TA",
            "count": 1326
           },
           {
            "name": "4 others",
            "count": 53
           },
           {
            "name": "Missing",
            "count": 81
           }
          ]
         }
        },
        {
         "name": "PavedDrive",
         "dtype": "object",
         "stats": {
          "unique_count": 3,
          "nan_count": 0,
          "categories": [
           {
            "name": "Y",
            "count": 1340
           },
           {
            "name": "N",
            "count": 90
           },
           {
            "name": "P",
            "count": 30
           }
          ]
         }
        },
        {
         "name": "WoodDeckSF",
         "dtype": "int64",
         "stats": {
          "unique_count": 274,
          "nan_count": 0,
          "min": "0",
          "max": "857",
          "histogram": [
           {
            "bin_start": 0,
            "bin_end": 85.7,
            "count": 826
           },
           {
            "bin_start": 85.7,
            "bin_end": 171.4,
            "count": 286
           },
           {
            "bin_start": 171.4,
            "bin_end": 257.1,
            "count": 198
           },
           {
            "bin_start": 257.1,
            "bin_end": 342.8,
            "count": 82
           },
           {
            "bin_start": 342.8,
            "bin_end": 428.5,
            "count": 38
           },
           {
            "bin_start": 428.5,
            "bin_end": 514.2,
            "count": 17
           },
           {
            "bin_start": 514.2,
            "bin_end": 599.9,
            "count": 7
           },
           {
            "bin_start": 599.9,
            "bin_end": 685.6,
            "count": 3
           },
           {
            "bin_start": 685.6,
            "bin_end": 771.3000000000001,
            "count": 2
           },
           {
            "bin_start": 771.3000000000001,
            "bin_end": 857,
            "count": 1
           }
          ]
         }
        },
        {
         "name": "OpenPorchSF",
         "dtype": "int64",
         "stats": {
          "unique_count": 202,
          "nan_count": 0,
          "min": "0",
          "max": "547",
          "histogram": [
           {
            "bin_start": 0,
            "bin_end": 54.7,
            "count": 1007
           },
           {
            "bin_start": 54.7,
            "bin_end": 109.4,
            "count": 242
           },
           {
            "bin_start": 109.4,
            "bin_end": 164.10000000000002,
            "count": 123
           },
           {
            "bin_start": 164.10000000000002,
            "bin_end": 218.8,
            "count": 45
           },
           {
            "bin_start": 218.8,
            "bin_end": 273.5,
            "count": 25
           },
           {
            "bin_start": 273.5,
            "bin_end": 328.20000000000005,
            "count": 11
           },
           {
            "bin_start": 328.20000000000005,
            "bin_end": 382.90000000000003,
            "count": 2
           },
           {
            "bin_start": 382.90000000000003,
            "bin_end": 437.6,
            "count": 2
           },
           {
            "bin_start": 437.6,
            "bin_end": 492.3,
            "count": 0
           },
           {
            "bin_start": 492.3,
            "bin_end": 547,
            "count": 3
           }
          ]
         }
        },
        {
         "name": "EnclosedPorch",
         "dtype": "int64"
        },
        {
         "name": "3SsnPorch",
         "dtype": "int64"
        },
        {
         "name": "ScreenPorch",
         "dtype": "int64"
        },
        {
         "name": "PoolArea",
         "dtype": "int64"
        },
        {
         "name": "PoolQC",
         "dtype": "object"
        },
        {
         "name": "Fence",
         "dtype": "object"
        },
        {
         "name": "MiscFeature",
         "dtype": "object"
        },
        {
         "name": "MiscVal",
         "dtype": "int64"
        },
        {
         "name": "MoSold",
         "dtype": "int64"
        },
        {
         "name": "YrSold",
         "dtype": "int64"
        },
        {
         "name": "SaleType",
         "dtype": "object"
        },
        {
         "name": "SaleCondition",
         "dtype": "object"
        },
        {
         "name": "SalePrice",
         "dtype": "int64"
        },
        {
         "name": "_deepnote_index_column",
         "dtype": "int64"
        }
       ],
       "rows_top": [
        {
         "Id": 1,
         "MSSubClass": 60,
         "MSZoning": "RL",
         "LotFrontage": 65,
         "LotArea": 8450,
         "Street": "Pave",
         "Alley": "nan",
         "LotShape": "Reg",
         "LandContour": "Lvl",
         "Utilities": "AllPub",
         "LotConfig": "Inside",
         "LandSlope": "Gtl",
         "Neighborhood": "CollgCr",
         "Condition1": "Norm",
         "Condition2": "Norm",
         "BldgType": "1Fam",
         "HouseStyle": "2Story",
         "OverallQual": 7,
         "OverallCond": 5,
         "YearBuilt": 2003,
         "YearRemodAdd": 2003,
         "RoofStyle": "Gable",
         "RoofMatl": "CompShg",
         "Exterior1st": "VinylSd",
         "Exterior2nd": "VinylSd",
         "MasVnrType": "BrkFace",
         "MasVnrArea": 196,
         "ExterQual": "Gd",
         "ExterCond": "TA",
         "Foundation": "PConc",
         "BsmtQual": "Gd",
         "BsmtCond": "TA",
         "BsmtExposure": "No",
         "BsmtFinType1": "GLQ",
         "BsmtFinSF1": 706,
         "BsmtFinType2": "Unf",
         "BsmtFinSF2": 0,
         "BsmtUnfSF": 150,
         "TotalBsmtSF": 856,
         "Heating": "GasA",
         "HeatingQC": "Ex",
         "CentralAir": "Y",
         "Electrical": "SBrkr",
         "1stFlrSF": 856,
         "2ndFlrSF": 854,
         "LowQualFinSF": 0,
         "GrLivArea": 1710,
         "BsmtFullBath": 1,
         "BsmtHalfBath": 0,
         "FullBath": 2,
         "HalfBath": 1,
         "BedroomAbvGr": 3,
         "KitchenAbvGr": 1,
         "KitchenQual": "Gd",
         "TotRmsAbvGrd": 8,
         "Functional": "Typ",
         "Fireplaces": 0,
         "FireplaceQu": "nan",
         "GarageType": "Attchd",
         "GarageYrBlt": 2003,
         "GarageFinish": "RFn",
         "GarageCars": 2,
         "GarageArea": 548,
         "GarageQual": "TA",
         "GarageCond": "TA",
         "PavedDrive": "Y",
         "WoodDeckSF": 0,
         "OpenPorchSF": 61,
         "EnclosedPorch": 0,
         "3SsnPorch": 0,
         "ScreenPorch": 0,
         "PoolArea": 0,
         "PoolQC": "nan",
         "Fence": "nan",
         "MiscFeature": "nan",
         "MiscVal": 0,
         "MoSold": 2,
         "YrSold": 2008,
         "SaleType": "WD",
         "SaleCondition": "Normal",
         "SalePrice": 208500,
         "_deepnote_index_column": 0
        },
        {
         "Id": 2,
         "MSSubClass": 20,
         "MSZoning": "RL",
         "LotFrontage": 80,
         "LotArea": 9600,
         "Street": "Pave",
         "Alley": "nan",
         "LotShape": "Reg",
         "LandContour": "Lvl",
         "Utilities": "AllPub",
         "LotConfig": "FR2",
         "LandSlope": "Gtl",
         "Neighborhood": "Veenker",
         "Condition1": "Feedr",
         "Condition2": "Norm",
         "BldgType": "1Fam",
         "HouseStyle": "1Story",
         "OverallQual": 6,
         "OverallCond": 8,
         "YearBuilt": 1976,
         "YearRemodAdd": 1976,
         "RoofStyle": "Gable",
         "RoofMatl": "CompShg",
         "Exterior1st": "MetalSd",
         "Exterior2nd": "MetalSd",
         "MasVnrType": "None",
         "MasVnrArea": 0,
         "ExterQual": "TA",
         "ExterCond": "TA",
         "Foundation": "CBlock",
         "BsmtQual": "Gd",
         "BsmtCond": "TA",
         "BsmtExposure": "Gd",
         "BsmtFinType1": "ALQ",
         "BsmtFinSF1": 978,
         "BsmtFinType2": "Unf",
         "BsmtFinSF2": 0,
         "BsmtUnfSF": 284,
         "TotalBsmtSF": 1262,
         "Heating": "GasA",
         "HeatingQC": "Ex",
         "CentralAir": "Y",
         "Electrical": "SBrkr",
         "1stFlrSF": 1262,
         "2ndFlrSF": 0,
         "LowQualFinSF": 0,
         "GrLivArea": 1262,
         "BsmtFullBath": 0,
         "BsmtHalfBath": 1,
         "FullBath": 2,
         "HalfBath": 0,
         "BedroomAbvGr": 3,
         "KitchenAbvGr": 1,
         "KitchenQual": "TA",
         "TotRmsAbvGrd": 6,
         "Functional": "Typ",
         "Fireplaces": 1,
         "FireplaceQu": "TA",
         "GarageType": "Attchd",
         "GarageYrBlt": 1976,
         "GarageFinish": "RFn",
         "GarageCars": 2,
         "GarageArea": 460,
         "GarageQual": "TA",
         "GarageCond": "TA",
         "PavedDrive": "Y",
         "WoodDeckSF": 298,
         "OpenPorchSF": 0,
         "EnclosedPorch": 0,
         "3SsnPorch": 0,
         "ScreenPorch": 0,
         "PoolArea": 0,
         "PoolQC": "nan",
         "Fence": "nan",
         "MiscFeature": "nan",
         "MiscVal": 0,
         "MoSold": 5,
         "YrSold": 2007,
         "SaleType": "WD",
         "SaleCondition": "Normal",
         "SalePrice": 181500,
         "_deepnote_index_column": 1
        },
        {
         "Id": 3,
         "MSSubClass": 60,
         "MSZoning": "RL",
         "LotFrontage": 68,
         "LotArea": 11250,
         "Street": "Pave",
         "Alley": "nan",
         "LotShape": "IR1",
         "LandContour": "Lvl",
         "Utilities": "AllPub",
         "LotConfig": "Inside",
         "LandSlope": "Gtl",
         "Neighborhood": "CollgCr",
         "Condition1": "Norm",
         "Condition2": "Norm",
         "BldgType": "1Fam",
         "HouseStyle": "2Story",
         "OverallQual": 7,
         "OverallCond": 5,
         "YearBuilt": 2001,
         "YearRemodAdd": 2002,
         "RoofStyle": "Gable",
         "RoofMatl": "CompShg",
         "Exterior1st": "VinylSd",
         "Exterior2nd": "VinylSd",
         "MasVnrType": "BrkFace",
         "MasVnrArea": 162,
         "ExterQual": "Gd",
         "ExterCond": "TA",
         "Foundation": "PConc",
         "BsmtQual": "Gd",
         "BsmtCond": "TA",
         "BsmtExposure": "Mn",
         "BsmtFinType1": "GLQ",
         "BsmtFinSF1": 486,
         "BsmtFinType2": "Unf",
         "BsmtFinSF2": 0,
         "BsmtUnfSF": 434,
         "TotalBsmtSF": 920,
         "Heating": "GasA",
         "HeatingQC": "Ex",
         "CentralAir": "Y",
         "Electrical": "SBrkr",
         "1stFlrSF": 920,
         "2ndFlrSF": 866,
         "LowQualFinSF": 0,
         "GrLivArea": 1786,
         "BsmtFullBath": 1,
         "BsmtHalfBath": 0,
         "FullBath": 2,
         "HalfBath": 1,
         "BedroomAbvGr": 3,
         "KitchenAbvGr": 1,
         "KitchenQual": "Gd",
         "TotRmsAbvGrd": 6,
         "Functional": "Typ",
         "Fireplaces": 1,
         "FireplaceQu": "TA",
         "GarageType": "Attchd",
         "GarageYrBlt": 2001,
         "GarageFinish": "RFn",
         "GarageCars": 2,
         "GarageArea": 608,
         "GarageQual": "TA",
         "GarageCond": "TA",
         "PavedDrive": "Y",
         "WoodDeckSF": 0,
         "OpenPorchSF": 42,
         "EnclosedPorch": 0,
         "3SsnPorch": 0,
         "ScreenPorch": 0,
         "PoolArea": 0,
         "PoolQC": "nan",
         "Fence": "nan",
         "MiscFeature": "nan",
         "MiscVal": 0,
         "MoSold": 9,
         "YrSold": 2008,
         "SaleType": "WD",
         "SaleCondition": "Normal",
         "SalePrice": 223500,
         "_deepnote_index_column": 2
        },
        {
         "Id": 4,
         "MSSubClass": 70,
         "MSZoning": "RL",
         "LotFrontage": 60,
         "LotArea": 9550,
         "Street": "Pave",
         "Alley": "nan",
         "LotShape": "IR1",
         "LandContour": "Lvl",
         "Utilities": "AllPub",
         "LotConfig": "Corner",
         "LandSlope": "Gtl",
         "Neighborhood": "Crawfor",
         "Condition1": "Norm",
         "Condition2": "Norm",
         "BldgType": "1Fam",
         "HouseStyle": "2Story",
         "OverallQual": 7,
         "OverallCond": 5,
         "YearBuilt": 1915,
         "YearRemodAdd": 1970,
         "RoofStyle": "Gable",
         "RoofMatl": "CompShg",
         "Exterior1st": "Wd Sdng",
         "Exterior2nd": "Wd Shng",
         "MasVnrType": "None",
         "MasVnrArea": 0,
         "ExterQual": "TA",
         "ExterCond": "TA",
         "Foundation": "BrkTil",
         "BsmtQual": "TA",
         "BsmtCond": "Gd",
         "BsmtExposure": "No",
         "BsmtFinType1": "ALQ",
         "BsmtFinSF1": 216,
         "BsmtFinType2": "Unf",
         "BsmtFinSF2": 0,
         "BsmtUnfSF": 540,
         "TotalBsmtSF": 756,
         "Heating": "GasA",
         "HeatingQC": "Gd",
         "CentralAir": "Y",
         "Electrical": "SBrkr",
         "1stFlrSF": 961,
         "2ndFlrSF": 756,
         "LowQualFinSF": 0,
         "GrLivArea": 1717,
         "BsmtFullBath": 1,
         "BsmtHalfBath": 0,
         "FullBath": 1,
         "HalfBath": 0,
         "BedroomAbvGr": 3,
         "KitchenAbvGr": 1,
         "KitchenQual": "Gd",
         "TotRmsAbvGrd": 7,
         "Functional": "Typ",
         "Fireplaces": 1,
         "FireplaceQu": "Gd",
         "GarageType": "Detchd",
         "GarageYrBlt": 1998,
         "GarageFinish": "Unf",
         "GarageCars": 3,
         "GarageArea": 642,
         "GarageQual": "TA",
         "GarageCond": "TA",
         "PavedDrive": "Y",
         "WoodDeckSF": 0,
         "OpenPorchSF": 35,
         "EnclosedPorch": 272,
         "3SsnPorch": 0,
         "ScreenPorch": 0,
         "PoolArea": 0,
         "PoolQC": "nan",
         "Fence": "nan",
         "MiscFeature": "nan",
         "MiscVal": 0,
         "MoSold": 2,
         "YrSold": 2006,
         "SaleType": "WD",
         "SaleCondition": "Abnorml",
         "SalePrice": 140000,
         "_deepnote_index_column": 3
        },
        {
         "Id": 5,
         "MSSubClass": 60,
         "MSZoning": "RL",
         "LotFrontage": 84,
         "LotArea": 14260,
         "Street": "Pave",
         "Alley": "nan",
         "LotShape": "IR1",
         "LandContour": "Lvl",
         "Utilities": "AllPub",
         "LotConfig": "FR2",
         "LandSlope": "Gtl",
         "Neighborhood": "NoRidge",
         "Condition1": "Norm",
         "Condition2": "Norm",
         "BldgType": "1Fam",
         "HouseStyle": "2Story",
         "OverallQual": 8,
         "OverallCond": 5,
         "YearBuilt": 2000,
         "YearRemodAdd": 2000,
         "RoofStyle": "Gable",
         "RoofMatl": "CompShg",
         "Exterior1st": "VinylSd",
         "Exterior2nd": "VinylSd",
         "MasVnrType": "BrkFace",
         "MasVnrArea": 350,
         "ExterQual": "Gd",
         "ExterCond": "TA",
         "Foundation": "PConc",
         "BsmtQual": "Gd",
         "BsmtCond": "TA",
         "BsmtExposure": "Av",
         "BsmtFinType1": "GLQ",
         "BsmtFinSF1": 655,
         "BsmtFinType2": "Unf",
         "BsmtFinSF2": 0,
         "BsmtUnfSF": 490,
         "TotalBsmtSF": 1145,
         "Heating": "GasA",
         "HeatingQC": "Ex",
         "CentralAir": "Y",
         "Electrical": "SBrkr",
         "1stFlrSF": 1145,
         "2ndFlrSF": 1053,
         "LowQualFinSF": 0,
         "GrLivArea": 2198,
         "BsmtFullBath": 1,
         "BsmtHalfBath": 0,
         "FullBath": 2,
         "HalfBath": 1,
         "BedroomAbvGr": 4,
         "KitchenAbvGr": 1,
         "KitchenQual": "Gd",
         "TotRmsAbvGrd": 9,
         "Functional": "Typ",
         "Fireplaces": 1,
         "FireplaceQu": "TA",
         "GarageType": "Attchd",
         "GarageYrBlt": 2000,
         "GarageFinish": "RFn",
         "GarageCars": 3,
         "GarageArea": 836,
         "GarageQual": "TA",
         "GarageCond": "TA",
         "PavedDrive": "Y",
         "WoodDeckSF": 192,
         "OpenPorchSF": 84,
         "EnclosedPorch": 0,
         "3SsnPorch": 0,
         "ScreenPorch": 0,
         "PoolArea": 0,
         "PoolQC": "nan",
         "Fence": "nan",
         "MiscFeature": "nan",
         "MiscVal": 0,
         "MoSold": 12,
         "YrSold": 2008,
         "SaleType": "WD",
         "SaleCondition": "Normal",
         "SalePrice": 250000,
         "_deepnote_index_column": 4
        },
        {
         "Id": 6,
         "MSSubClass": 50,
         "MSZoning": "RL",
         "LotFrontage": 85,
         "LotArea": 14115,
         "Street": "Pave",
         "Alley": "nan",
         "LotShape": "IR1",
         "LandContour": "Lvl",
         "Utilities": "AllPub",
         "LotConfig": "Inside",
         "LandSlope": "Gtl",
         "Neighborhood": "Mitchel",
         "Condition1": "Norm",
         "Condition2": "Norm",
         "BldgType": "1Fam",
         "HouseStyle": "1.5Fin",
         "OverallQual": 5,
         "OverallCond": 5,
         "YearBuilt": 1993,
         "YearRemodAdd": 1995,
         "RoofStyle": "Gable",
         "RoofMatl": "CompShg",
         "Exterior1st": "VinylSd",
         "Exterior2nd": "VinylSd",
         "MasVnrType": "None",
         "MasVnrArea": 0,
         "ExterQual": "TA",
         "ExterCond": "TA",
         "Foundation": "Wood",
         "BsmtQual": "Gd",
         "BsmtCond": "TA",
         "BsmtExposure": "No",
         "BsmtFinType1": "GLQ",
         "BsmtFinSF1": 732,
         "BsmtFinType2": "Unf",
         "BsmtFinSF2": 0,
         "BsmtUnfSF": 64,
         "TotalBsmtSF": 796,
         "Heating": "GasA",
         "HeatingQC": "Ex",
         "CentralAir": "Y",
         "Electrical": "SBrkr",
         "1stFlrSF": 796,
         "2ndFlrSF": 566,
         "LowQualFinSF": 0,
         "GrLivArea": 1362,
         "BsmtFullBath": 1,
         "BsmtHalfBath": 0,
         "FullBath": 1,
         "HalfBath": 1,
         "BedroomAbvGr": 1,
         "KitchenAbvGr": 1,
         "KitchenQual": "TA",
         "TotRmsAbvGrd": 5,
         "Functional": "Typ",
         "Fireplaces": 0,
         "FireplaceQu": "nan",
         "GarageType": "Attchd",
         "GarageYrBlt": 1993,
         "GarageFinish": "Unf",
         "GarageCars": 2,
         "GarageArea": 480,
         "GarageQual": "TA",
         "GarageCond": "TA",
         "PavedDrive": "Y",
         "WoodDeckSF": 40,
         "OpenPorchSF": 30,
         "EnclosedPorch": 0,
         "3SsnPorch": 320,
         "ScreenPorch": 0,
         "PoolArea": 0,
         "PoolQC": "nan",
         "Fence": "MnPrv",
         "MiscFeature": "Shed",
         "MiscVal": 700,
         "MoSold": 10,
         "YrSold": 2009,
         "SaleType": "WD",
         "SaleCondition": "Normal",
         "SalePrice": 143000,
         "_deepnote_index_column": 5
        }
       ],
       "rows_bottom": [
        {
         "Id": 1455,
         "MSSubClass": 20,
         "MSZoning": "FV",
         "LotFrontage": 62,
         "LotArea": 7500,
         "Street": "Pave",
         "Alley": "Pave",
         "LotShape": "Reg",
         "LandContour": "Lvl",
         "Utilities": "AllPub",
         "LotConfig": "Inside",
         "LandSlope": "Gtl",
         "Neighborhood": "Somerst",
         "Condition1": "Norm",
         "Condition2": "Norm",
         "BldgType": "1Fam",
         "HouseStyle": "1Story",
         "OverallQual": 7,
         "OverallCond": 5,
         "YearBuilt": 2004,
         "YearRemodAdd": 2005,
         "RoofStyle": "Gable",
         "RoofMatl": "CompShg",
         "Exterior1st": "VinylSd",
         "Exterior2nd": "VinylSd",
         "MasVnrType": "None",
         "MasVnrArea": 0,
         "ExterQual": "Gd",
         "ExterCond": "TA",
         "Foundation": "PConc",
         "BsmtQual": "Gd",
         "BsmtCond": "TA",
         "BsmtExposure": "No",
         "BsmtFinType1": "GLQ",
         "BsmtFinSF1": 410,
         "BsmtFinType2": "Unf",
         "BsmtFinSF2": 0,
         "BsmtUnfSF": 811,
         "TotalBsmtSF": 1221,
         "Heating": "GasA",
         "HeatingQC": "Ex",
         "CentralAir": "Y",
         "Electrical": "SBrkr",
         "1stFlrSF": 1221,
         "2ndFlrSF": 0,
         "LowQualFinSF": 0,
         "GrLivArea": 1221,
         "BsmtFullBath": 1,
         "BsmtHalfBath": 0,
         "FullBath": 2,
         "HalfBath": 0,
         "BedroomAbvGr": 2,
         "KitchenAbvGr": 1,
         "KitchenQual": "Gd",
         "TotRmsAbvGrd": 6,
         "Functional": "Typ",
         "Fireplaces": 0,
         "FireplaceQu": "nan",
         "GarageType": "Attchd",
         "GarageYrBlt": 2004,
         "GarageFinish": "RFn",
         "GarageCars": 2,
         "GarageArea": 400,
         "GarageQual": "TA",
         "GarageCond": "TA",
         "PavedDrive": "Y",
         "WoodDeckSF": 0,
         "OpenPorchSF": 113,
         "EnclosedPorch": 0,
         "3SsnPorch": 0,
         "ScreenPorch": 0,
         "PoolArea": 0,
         "PoolQC": "nan",
         "Fence": "nan",
         "MiscFeature": "nan",
         "MiscVal": 0,
         "MoSold": 10,
         "YrSold": 2009,
         "SaleType": "WD",
         "SaleCondition": "Normal",
         "SalePrice": 185000,
         "_deepnote_index_column": 1454
        },
        {
         "Id": 1456,
         "MSSubClass": 60,
         "MSZoning": "RL",
         "LotFrontage": 62,
         "LotArea": 7917,
         "Street": "Pave",
         "Alley": "nan",
         "LotShape": "Reg",
         "LandContour": "Lvl",
         "Utilities": "AllPub",
         "LotConfig": "Inside",
         "LandSlope": "Gtl",
         "Neighborhood": "Gilbert",
         "Condition1": "Norm",
         "Condition2": "Norm",
         "BldgType": "1Fam",
         "HouseStyle": "2Story",
         "OverallQual": 6,
         "OverallCond": 5,
         "YearBuilt": 1999,
         "YearRemodAdd": 2000,
         "RoofStyle": "Gable",
         "RoofMatl": "CompShg",
         "Exterior1st": "VinylSd",
         "Exterior2nd": "VinylSd",
         "MasVnrType": "None",
         "MasVnrArea": 0,
         "ExterQual": "TA",
         "ExterCond": "TA",
         "Foundation": "PConc",
         "BsmtQual": "Gd",
         "BsmtCond": "TA",
         "BsmtExposure": "No",
         "BsmtFinType1": "Unf",
         "BsmtFinSF1": 0,
         "BsmtFinType2": "Unf",
         "BsmtFinSF2": 0,
         "BsmtUnfSF": 953,
         "TotalBsmtSF": 953,
         "Heating": "GasA",
         "HeatingQC": "Ex",
         "CentralAir": "Y",
         "Electrical": "SBrkr",
         "1stFlrSF": 953,
         "2ndFlrSF": 694,
         "LowQualFinSF": 0,
         "GrLivArea": 1647,
         "BsmtFullBath": 0,
         "BsmtHalfBath": 0,
         "FullBath": 2,
         "HalfBath": 1,
         "BedroomAbvGr": 3,
         "KitchenAbvGr": 1,
         "KitchenQual": "TA",
         "TotRmsAbvGrd": 7,
         "Functional": "Typ",
         "Fireplaces": 1,
         "FireplaceQu": "TA",
         "GarageType": "Attchd",
         "GarageYrBlt": 1999,
         "GarageFinish": "RFn",
         "GarageCars": 2,
         "GarageArea": 460,
         "GarageQual": "TA",
         "GarageCond": "TA",
         "PavedDrive": "Y",
         "WoodDeckSF": 0,
         "OpenPorchSF": 40,
         "EnclosedPorch": 0,
         "3SsnPorch": 0,
         "ScreenPorch": 0,
         "PoolArea": 0,
         "PoolQC": "nan",
         "Fence": "nan",
         "MiscFeature": "nan",
         "MiscVal": 0,
         "MoSold": 8,
         "YrSold": 2007,
         "SaleType": "WD",
         "SaleCondition": "Normal",
         "SalePrice": 175000,
         "_deepnote_index_column": 1455
        },
        {
         "Id": 1457,
         "MSSubClass": 20,
         "MSZoning": "RL",
         "LotFrontage": 85,
         "LotArea": 13175,
         "Street": "Pave",
         "Alley": "nan",
         "LotShape": "Reg",
         "LandContour": "Lvl",
         "Utilities": "AllPub",
         "LotConfig": "Inside",
         "LandSlope": "Gtl",
         "Neighborhood": "NWAmes",
         "Condition1": "Norm",
         "Condition2": "Norm",
         "BldgType": "1Fam",
         "HouseStyle": "1Story",
         "OverallQual": 6,
         "OverallCond": 6,
         "YearBuilt": 1978,
         "YearRemodAdd": 1988,
         "RoofStyle": "Gable",
         "RoofMatl": "CompShg",
         "Exterior1st": "Plywood",
         "Exterior2nd": "Plywood",
         "MasVnrType": "Stone",
         "MasVnrArea": 119,
         "ExterQual": "TA",
         "ExterCond": "TA",
         "Foundation": "CBlock",
         "BsmtQual": "Gd",
         "BsmtCond": "TA",
         "BsmtExposure": "No",
         "BsmtFinType1": "ALQ",
         "BsmtFinSF1": 790,
         "BsmtFinType2": "Rec",
         "BsmtFinSF2": 163,
         "BsmtUnfSF": 589,
         "TotalBsmtSF": 1542,
         "Heating": "GasA",
         "HeatingQC": "TA",
         "CentralAir": "Y",
         "Electrical": "SBrkr",
         "1stFlrSF": 2073,
         "2ndFlrSF": 0,
         "LowQualFinSF": 0,
         "GrLivArea": 2073,
         "BsmtFullBath": 1,
         "BsmtHalfBath": 0,
         "FullBath": 2,
         "HalfBath": 0,
         "BedroomAbvGr": 3,
         "KitchenAbvGr": 1,
         "KitchenQual": "TA",
         "TotRmsAbvGrd": 7,
         "Functional": "Min1",
         "Fireplaces": 2,
         "FireplaceQu": "TA",
         "GarageType": "Attchd",
         "GarageYrBlt": 1978,
         "GarageFinish": "Unf",
         "GarageCars": 2,
         "GarageArea": 500,
         "GarageQual": "TA",
         "GarageCond": "TA",
         "PavedDrive": "Y",
         "WoodDeckSF": 349,
         "OpenPorchSF": 0,
         "EnclosedPorch": 0,
         "3SsnPorch": 0,
         "ScreenPorch": 0,
         "PoolArea": 0,
         "PoolQC": "nan",
         "Fence": "MnPrv",
         "MiscFeature": "nan",
         "MiscVal": 0,
         "MoSold": 2,
         "YrSold": 2010,
         "SaleType": "WD",
         "SaleCondition": "Normal",
         "SalePrice": 210000,
         "_deepnote_index_column": 1456
        },
        {
         "Id": 1458,
         "MSSubClass": 70,
         "MSZoning": "RL",
         "LotFrontage": 66,
         "LotArea": 9042,
         "Street": "Pave",
         "Alley": "nan",
         "LotShape": "Reg",
         "LandContour": "Lvl",
         "Utilities": "AllPub",
         "LotConfig": "Inside",
         "LandSlope": "Gtl",
         "Neighborhood": "Crawfor",
         "Condition1": "Norm",
         "Condition2": "Norm",
         "BldgType": "1Fam",
         "HouseStyle": "2Story",
         "OverallQual": 7,
         "OverallCond": 9,
         "YearBuilt": 1941,
         "YearRemodAdd": 2006,
         "RoofStyle": "Gable",
         "RoofMatl": "CompShg",
         "Exterior1st": "CemntBd",
         "Exterior2nd": "CmentBd",
         "MasVnrType": "None",
         "MasVnrArea": 0,
         "ExterQual": "Ex",
         "ExterCond": "Gd",
         "Foundation": "Stone",
         "BsmtQual": "TA",
         "BsmtCond": "Gd",
         "BsmtExposure": "No",
         "BsmtFinType1": "GLQ",
         "BsmtFinSF1": 275,
         "BsmtFinType2": "Unf",
         "BsmtFinSF2": 0,
         "BsmtUnfSF": 877,
         "TotalBsmtSF": 1152,
         "Heating": "GasA",
         "HeatingQC": "Ex",
         "CentralAir": "Y",
         "Electrical": "SBrkr",
         "1stFlrSF": 1188,
         "2ndFlrSF": 1152,
         "LowQualFinSF": 0,
         "GrLivArea": 2340,
         "BsmtFullBath": 0,
         "BsmtHalfBath": 0,
         "FullBath": 2,
         "HalfBath": 0,
         "BedroomAbvGr": 4,
         "KitchenAbvGr": 1,
         "KitchenQual": "Gd",
         "TotRmsAbvGrd": 9,
         "Functional": "Typ",
         "Fireplaces": 2,
         "FireplaceQu": "Gd",
         "GarageType": "Attchd",
         "GarageYrBlt": 1941,
         "GarageFinish": "RFn",
         "GarageCars": 1,
         "GarageArea": 252,
         "GarageQual": "TA",
         "GarageCond": "TA",
         "PavedDrive": "Y",
         "WoodDeckSF": 0,
         "OpenPorchSF": 60,
         "EnclosedPorch": 0,
         "3SsnPorch": 0,
         "ScreenPorch": 0,
         "PoolArea": 0,
         "PoolQC": "nan",
         "Fence": "GdPrv",
         "MiscFeature": "Shed",
         "MiscVal": 2500,
         "MoSold": 5,
         "YrSold": 2010,
         "SaleType": "WD",
         "SaleCondition": "Normal",
         "SalePrice": 266500,
         "_deepnote_index_column": 1457
        },
        {
         "Id": 1459,
         "MSSubClass": 20,
         "MSZoning": "RL",
         "LotFrontage": 68,
         "LotArea": 9717,
         "Street": "Pave",
         "Alley": "nan",
         "LotShape": "Reg",
         "LandContour": "Lvl",
         "Utilities": "AllPub",
         "LotConfig": "Inside",
         "LandSlope": "Gtl",
         "Neighborhood": "NAmes",
         "Condition1": "Norm",
         "Condition2": "Norm",
         "BldgType": "1Fam",
         "HouseStyle": "1Story",
         "OverallQual": 5,
         "OverallCond": 6,
         "YearBuilt": 1950,
         "YearRemodAdd": 1996,
         "RoofStyle": "Hip",
         "RoofMatl": "CompShg",
         "Exterior1st": "MetalSd",
         "Exterior2nd": "MetalSd",
         "MasVnrType": "None",
         "MasVnrArea": 0,
         "ExterQual": "TA",
         "ExterCond": "TA",
         "Foundation": "CBlock",
         "BsmtQual": "TA",
         "BsmtCond": "TA",
         "BsmtExposure": "Mn",
         "BsmtFinType1": "GLQ",
         "BsmtFinSF1": 49,
         "BsmtFinType2": "Rec",
         "BsmtFinSF2": 1029,
         "BsmtUnfSF": 0,
         "TotalBsmtSF": 1078,
         "Heating": "GasA",
         "HeatingQC": "Gd",
         "CentralAir": "Y",
         "Electrical": "FuseA",
         "1stFlrSF": 1078,
         "2ndFlrSF": 0,
         "LowQualFinSF": 0,
         "GrLivArea": 1078,
         "BsmtFullBath": 1,
         "BsmtHalfBath": 0,
         "FullBath": 1,
         "HalfBath": 0,
         "BedroomAbvGr": 2,
         "KitchenAbvGr": 1,
         "KitchenQual": "Gd",
         "TotRmsAbvGrd": 5,
         "Functional": "Typ",
         "Fireplaces": 0,
         "FireplaceQu": "nan",
         "GarageType": "Attchd",
         "GarageYrBlt": 1950,
         "GarageFinish": "Unf",
         "GarageCars": 1,
         "GarageArea": 240,
         "GarageQual": "TA",
         "GarageCond": "TA",
         "PavedDrive": "Y",
         "WoodDeckSF": 366,
         "OpenPorchSF": 0,
         "EnclosedPorch": 112,
         "3SsnPorch": 0,
         "ScreenPorch": 0,
         "PoolArea": 0,
         "PoolQC": "nan",
         "Fence": "nan",
         "MiscFeature": "nan",
         "MiscVal": 0,
         "MoSold": 4,
         "YrSold": 2010,
         "SaleType": "WD",
         "SaleCondition": "Normal",
         "SalePrice": 142125,
         "_deepnote_index_column": 1458
        },
        {
         "Id": 1460,
         "MSSubClass": 20,
         "MSZoning": "RL",
         "LotFrontage": 75,
         "LotArea": 9937,
         "Street": "Pave",
         "Alley": "nan",
         "LotShape": "Reg",
         "LandContour": "Lvl",
         "Utilities": "AllPub",
         "LotConfig": "Inside",
         "LandSlope": "Gtl",
         "Neighborhood": "Edwards",
         "Condition1": "Norm",
         "Condition2": "Norm",
         "BldgType": "1Fam",
         "HouseStyle": "1Story",
         "OverallQual": 5,
         "OverallCond": 6,
         "YearBuilt": 1965,
         "YearRemodAdd": 1965,
         "RoofStyle": "Gable",
         "RoofMatl": "CompShg",
         "Exterior1st": "HdBoard",
         "Exterior2nd": "HdBoard",
         "MasVnrType": "None",
         "MasVnrArea": 0,
         "ExterQual": "Gd",
         "ExterCond": "TA",
         "Foundation": "CBlock",
         "BsmtQual": "TA",
         "BsmtCond": "TA",
         "BsmtExposure": "No",
         "BsmtFinType1": "BLQ",
         "BsmtFinSF1": 830,
         "BsmtFinType2": "LwQ",
         "BsmtFinSF2": 290,
         "BsmtUnfSF": 136,
         "TotalBsmtSF": 1256,
         "Heating": "GasA",
         "HeatingQC": "Gd",
         "CentralAir": "Y",
         "Electrical": "SBrkr",
         "1stFlrSF": 1256,
         "2ndFlrSF": 0,
         "LowQualFinSF": 0,
         "GrLivArea": 1256,
         "BsmtFullBath": 1,
         "BsmtHalfBath": 0,
         "FullBath": 1,
         "HalfBath": 1,
         "BedroomAbvGr": 3,
         "KitchenAbvGr": 1,
         "KitchenQual": "TA",
         "TotRmsAbvGrd": 6,
         "Functional": "Typ",
         "Fireplaces": 0,
         "FireplaceQu": "nan",
         "GarageType": "Attchd",
         "GarageYrBlt": 1965,
         "GarageFinish": "Fin",
         "GarageCars": 1,
         "GarageArea": 276,
         "GarageQual": "TA",
         "GarageCond": "TA",
         "PavedDrive": "Y",
         "WoodDeckSF": 736,
         "OpenPorchSF": 68,
         "EnclosedPorch": 0,
         "3SsnPorch": 0,
         "ScreenPorch": 0,
         "PoolArea": 0,
         "PoolQC": "nan",
         "Fence": "nan",
         "MiscFeature": "nan",
         "MiscVal": 0,
         "MoSold": 6,
         "YrSold": 2008,
         "SaleType": "WD",
         "SaleCondition": "Normal",
         "SalePrice": 147500,
         "_deepnote_index_column": 1459
        }
       ]
      },
      "text/plain": "        Id  MSSubClass MSZoning  LotFrontage  LotArea Street Alley LotShape  \\\n0        1          60       RL         65.0     8450   Pave   NaN      Reg   \n1        2          20       RL         80.0     9600   Pave   NaN      Reg   \n2        3          60       RL         68.0    11250   Pave   NaN      IR1   \n3        4          70       RL         60.0     9550   Pave   NaN      IR1   \n4        5          60       RL         84.0    14260   Pave   NaN      IR1   \n...    ...         ...      ...          ...      ...    ...   ...      ...   \n1455  1456          60       RL         62.0     7917   Pave   NaN      Reg   \n1456  1457          20       RL         85.0    13175   Pave   NaN      Reg   \n1457  1458          70       RL         66.0     9042   Pave   NaN      Reg   \n1458  1459          20       RL         68.0     9717   Pave   NaN      Reg   \n1459  1460          20       RL         75.0     9937   Pave   NaN      Reg   \n\n     LandContour Utilities  ... PoolArea PoolQC  Fence MiscFeature MiscVal  \\\n0            Lvl    AllPub  ...        0    NaN    NaN         NaN       0   \n1            Lvl    AllPub  ...        0    NaN    NaN         NaN       0   \n2            Lvl    AllPub  ...        0    NaN    NaN         NaN       0   \n3            Lvl    AllPub  ...        0    NaN    NaN         NaN       0   \n4            Lvl    AllPub  ...        0    NaN    NaN         NaN       0   \n...          ...       ...  ...      ...    ...    ...         ...     ...   \n1455         Lvl    AllPub  ...        0    NaN    NaN         NaN       0   \n1456         Lvl    AllPub  ...        0    NaN  MnPrv         NaN       0   \n1457         Lvl    AllPub  ...        0    NaN  GdPrv        Shed    2500   \n1458         Lvl    AllPub  ...        0    NaN    NaN         NaN       0   \n1459         Lvl    AllPub  ...        0    NaN    NaN         NaN       0   \n\n     MoSold YrSold  SaleType  SaleCondition  SalePrice  \n0         2   2008        WD         Normal     208500  \n1         5   2007        WD         Normal     181500  \n2         9   2008        WD         Normal     223500  \n3         2   2006        WD        Abnorml     140000  \n4        12   2008        WD         Normal     250000  \n...     ...    ...       ...            ...        ...  \n1455      8   2007        WD         Normal     175000  \n1456      2   2010        WD         Normal     210000  \n1457      5   2010        WD         Normal     266500  \n1458      4   2010        WD         Normal     142125  \n1459      6   2008        WD         Normal     147500  \n\n[1460 rows x 81 columns]",
      "text/html": "<div>\n<style scoped>\n    .dataframe tbody tr th:only-of-type {\n        vertical-align: middle;\n    }\n\n    .dataframe tbody tr th {\n        vertical-align: top;\n    }\n\n    .dataframe thead th {\n        text-align: right;\n    }\n</style>\n<table border=\"1\" class=\"dataframe\">\n  <thead>\n    <tr style=\"text-align: right;\">\n      <th></th>\n      <th>Id</th>\n      <th>MSSubClass</th>\n      <th>MSZoning</th>\n      <th>LotFrontage</th>\n      <th>LotArea</th>\n      <th>Street</th>\n      <th>Alley</th>\n      <th>LotShape</th>\n      <th>LandContour</th>\n      <th>Utilities</th>\n      <th>...</th>\n      <th>PoolArea</th>\n      <th>PoolQC</th>\n      <th>Fence</th>\n      <th>MiscFeature</th>\n      <th>MiscVal</th>\n      <th>MoSold</th>\n      <th>YrSold</th>\n      <th>SaleType</th>\n      <th>SaleCondition</th>\n      <th>SalePrice</th>\n    </tr>\n  </thead>\n  <tbody>\n    <tr>\n      <th>0</th>\n      <td>1</td>\n      <td>60</td>\n      <td>RL</td>\n      <td>65.0</td>\n      <td>8450</td>\n      <td>Pave</td>\n      <td>NaN</td>\n      <td>Reg</td>\n      <td>Lvl</td>\n      <td>AllPub</td>\n      <td>...</td>\n      <td>0</td>\n      <td>NaN</td>\n      <td>NaN</td>\n      <td>NaN</td>\n      <td>0</td>\n      <td>2</td>\n      <td>2008</td>\n      <td>WD</td>\n      <td>Normal</td>\n      <td>208500</td>\n    </tr>\n    <tr>\n      <th>1</th>\n      <td>2</td>\n      <td>20</td>\n      <td>RL</td>\n      <td>80.0</td>\n      <td>9600</td>\n      <td>Pave</td>\n      <td>NaN</td>\n      <td>Reg</td>\n      <td>Lvl</td>\n      <td>AllPub</td>\n      <td>...</td>\n      <td>0</td>\n      <td>NaN</td>\n      <td>NaN</td>\n      <td>NaN</td>\n      <td>0</td>\n      <td>5</td>\n      <td>2007</td>\n      <td>WD</td>\n      <td>Normal</td>\n      <td>181500</td>\n    </tr>\n    <tr>\n      <th>2</th>\n      <td>3</td>\n      <td>60</td>\n      <td>RL</td>\n      <td>68.0</td>\n      <td>11250</td>\n      <td>Pave</td>\n      <td>NaN</td>\n      <td>IR1</td>\n      <td>Lvl</td>\n      <td>AllPub</td>\n      <td>...</td>\n      <td>0</td>\n      <td>NaN</td>\n      <td>NaN</td>\n      <td>NaN</td>\n      <td>0</td>\n      <td>9</td>\n      <td>2008</td>\n      <td>WD</td>\n      <td>Normal</td>\n      <td>223500</td>\n    </tr>\n    <tr>\n      <th>3</th>\n      <td>4</td>\n      <td>70</td>\n      <td>RL</td>\n      <td>60.0</td>\n      <td>9550</td>\n      <td>Pave</td>\n      <td>NaN</td>\n      <td>IR1</td>\n      <td>Lvl</td>\n      <td>AllPub</td>\n      <td>...</td>\n      <td>0</td>\n      <td>NaN</td>\n      <td>NaN</td>\n      <td>NaN</td>\n      <td>0</td>\n      <td>2</td>\n      <td>2006</td>\n      <td>WD</td>\n      <td>Abnorml</td>\n      <td>140000</td>\n    </tr>\n    <tr>\n      <th>4</th>\n      <td>5</td>\n      <td>60</td>\n      <td>RL</td>\n      <td>84.0</td>\n      <td>14260</td>\n      <td>Pave</td>\n      <td>NaN</td>\n      <td>IR1</td>\n      <td>Lvl</td>\n      <td>AllPub</td>\n      <td>...</td>\n      <td>0</td>\n      <td>NaN</td>\n      <td>NaN</td>\n      <td>NaN</td>\n      <td>0</td>\n      <td>12</td>\n      <td>2008</td>\n      <td>WD</td>\n      <td>Normal</td>\n      <td>250000</td>\n    </tr>\n    <tr>\n      <th>...</th>\n      <td>...</td>\n      <td>...</td>\n      <td>...</td>\n      <td>...</td>\n      <td>...</td>\n      <td>...</td>\n      <td>...</td>\n      <td>...</td>\n      <td>...</td>\n      <td>...</td>\n      <td>...</td>\n      <td>...</td>\n      <td>...</td>\n      <td>...</td>\n      <td>...</td>\n      <td>...</td>\n      <td>...</td>\n      <td>...</td>\n      <td>...</td>\n      <td>...</td>\n      <td>...</td>\n    </tr>\n    <tr>\n      <th>1455</th>\n      <td>1456</td>\n      <td>60</td>\n      <td>RL</td>\n      <td>62.0</td>\n      <td>7917</td>\n      <td>Pave</td>\n      <td>NaN</td>\n      <td>Reg</td>\n      <td>Lvl</td>\n      <td>AllPub</td>\n      <td>...</td>\n      <td>0</td>\n      <td>NaN</td>\n      <td>NaN</td>\n      <td>NaN</td>\n      <td>0</td>\n      <td>8</td>\n      <td>2007</td>\n      <td>WD</td>\n      <td>Normal</td>\n      <td>175000</td>\n    </tr>\n    <tr>\n      <th>1456</th>\n      <td>1457</td>\n      <td>20</td>\n      <td>RL</td>\n      <td>85.0</td>\n      <td>13175</td>\n      <td>Pave</td>\n      <td>NaN</td>\n      <td>Reg</td>\n      <td>Lvl</td>\n      <td>AllPub</td>\n      <td>...</td>\n      <td>0</td>\n      <td>NaN</td>\n      <td>MnPrv</td>\n      <td>NaN</td>\n      <td>0</td>\n      <td>2</td>\n      <td>2010</td>\n      <td>WD</td>\n      <td>Normal</td>\n      <td>210000</td>\n    </tr>\n    <tr>\n      <th>1457</th>\n      <td>1458</td>\n      <td>70</td>\n      <td>RL</td>\n      <td>66.0</td>\n      <td>9042</td>\n      <td>Pave</td>\n      <td>NaN</td>\n      <td>Reg</td>\n      <td>Lvl</td>\n      <td>AllPub</td>\n      <td>...</td>\n      <td>0</td>\n      <td>NaN</td>\n      <td>GdPrv</td>\n      <td>Shed</td>\n      <td>2500</td>\n      <td>5</td>\n      <td>2010</td>\n      <td>WD</td>\n      <td>Normal</td>\n      <td>266500</td>\n    </tr>\n    <tr>\n      <th>1458</th>\n      <td>1459</td>\n      <td>20</td>\n      <td>RL</td>\n      <td>68.0</td>\n      <td>9717</td>\n      <td>Pave</td>\n      <td>NaN</td>\n      <td>Reg</td>\n      <td>Lvl</td>\n      <td>AllPub</td>\n      <td>...</td>\n      <td>0</td>\n      <td>NaN</td>\n      <td>NaN</td>\n      <td>NaN</td>\n      <td>0</td>\n      <td>4</td>\n      <td>2010</td>\n      <td>WD</td>\n      <td>Normal</td>\n      <td>142125</td>\n    </tr>\n    <tr>\n      <th>1459</th>\n      <td>1460</td>\n      <td>20</td>\n      <td>RL</td>\n      <td>75.0</td>\n      <td>9937</td>\n      <td>Pave</td>\n      <td>NaN</td>\n      <td>Reg</td>\n      <td>Lvl</td>\n      <td>AllPub</td>\n      <td>...</td>\n      <td>0</td>\n      <td>NaN</td>\n      <td>NaN</td>\n      <td>NaN</td>\n      <td>0</td>\n      <td>6</td>\n      <td>2008</td>\n      <td>WD</td>\n      <td>Normal</td>\n      <td>147500</td>\n    </tr>\n  </tbody>\n</table>\n<p>1460 rows × 81 columns</p>\n</div>"
     },
     "metadata": {}
    }
   ],
   "execution_count": 7
  },
  {
   "cell_type": "code",
   "source": "",
   "metadata": {
    "tags": [],
    "cell_id": "00005-1e0ebb9c-2db3-41a8-896d-fcb802bc9006",
    "deepnote_cell_type": "code"
   },
   "outputs": [],
   "execution_count": null
  },
  {
   "cell_type": "code",
   "source": "missing_values = train_data.isnull().sum() / len(train_data) * 100\nmissing_values[missing_values != 0].sort_values(ascending=False)",
   "metadata": {
    "tags": [],
    "cell_id": "00005-2515c955-3ed2-4472-8ba0-9ba410cf45cf",
    "deepnote_to_be_reexecuted": false,
    "source_hash": "351621eb",
    "execution_start": 1628786376698,
    "execution_millis": 11,
    "deepnote_cell_type": "code"
   },
   "outputs": [
    {
     "output_type": "execute_result",
     "execution_count": 30,
     "data": {
      "text/plain": "PoolQC          99.520548\nMiscFeature     96.301370\nAlley           93.767123\nFence           80.753425\nFireplaceQu     47.260274\nLotFrontage     17.739726\nGarageType       5.547945\nGarageYrBlt      5.547945\nGarageFinish     5.547945\nGarageQual       5.547945\nGarageCond       5.547945\nBsmtExposure     2.602740\nBsmtFinType2     2.602740\nBsmtFinType1     2.534247\nBsmtCond         2.534247\nBsmtQual         2.534247\nMasVnrArea       0.547945\nMasVnrType       0.547945\nElectrical       0.068493\ndtype: float64"
     },
     "metadata": {}
    }
   ],
   "execution_count": 30
  },
  {
   "cell_type": "markdown",
   "source": "# Feature processing\n\nLet's list all the features that contains outliers or missing values:\n\n- Missing values: Alley, MasVnrType,BsmtQual, BsmtCond, BsmtExposure, BsmtFinType1, BsmtFinType2, Electrical, FirePlaceQu, GarageType, GarageFinish, GarageQual, GarageCond\n- Potential outliers:  LotFrontage, MasVnrArea, GarageYrBlt\n\n \n",
   "metadata": {
    "tags": [],
    "cell_id": "00005-c7b4c1db-abbd-482d-ae1b-336d1774e8db",
    "deepnote_cell_type": "markdown"
   }
  },
  {
   "cell_type": "markdown",
   "source": "# Data Analytics\n\nLet's analyse the GrLivArea feature:\n\nGrLivArea - Ground Living area in the house\n\nPloting GrLivArea with SalePrice to look at the data distribution.",
   "metadata": {
    "tags": [],
    "cell_id": "00005-b3ecc6bb-85ee-4064-ab7d-c71f87930eec",
    "deepnote_cell_type": "markdown"
   }
  },
  {
   "cell_type": "code",
   "source": "train_correlation = train_data.corr().abs()\ntrain_correlation[train_correlation > 0.5][\"SalePrice\"]",
   "metadata": {
    "tags": [],
    "cell_id": "00006-e5b007c7-cde0-449c-aba1-1b5b4bb744ee",
    "deepnote_to_be_reexecuted": false,
    "source_hash": "18397850",
    "execution_start": 1628785145896,
    "execution_millis": 10,
    "deepnote_cell_type": "code"
   },
   "outputs": [
    {
     "output_type": "execute_result",
     "execution_count": 14,
     "data": {
      "text/plain": "Id                    NaN\nMSSubClass            NaN\nLotFrontage           NaN\nLotArea               NaN\nOverallQual      0.790982\nOverallCond           NaN\nYearBuilt        0.522897\nYearRemodAdd     0.507101\nMasVnrArea            NaN\nBsmtFinSF1            NaN\nBsmtFinSF2            NaN\nBsmtUnfSF             NaN\nTotalBsmtSF      0.613581\n1stFlrSF         0.605852\n2ndFlrSF              NaN\nLowQualFinSF          NaN\nGrLivArea        0.708624\nBsmtFullBath          NaN\nBsmtHalfBath          NaN\nFullBath         0.560664\nHalfBath              NaN\nBedroomAbvGr          NaN\nKitchenAbvGr          NaN\nTotRmsAbvGrd     0.533723\nFireplaces            NaN\nGarageYrBlt           NaN\nGarageCars       0.640409\nGarageArea       0.623431\nWoodDeckSF            NaN\nOpenPorchSF           NaN\nEnclosedPorch         NaN\n3SsnPorch             NaN\nScreenPorch           NaN\nPoolArea              NaN\nMiscVal               NaN\nMoSold                NaN\nYrSold                NaN\nSalePrice        1.000000\nName: SalePrice, dtype: float64"
     },
     "metadata": {}
    }
   ],
   "execution_count": 14
  },
  {
   "cell_type": "code",
   "metadata": {
    "cell_id": "00006-b786e607-a5cc-4a49-b6fb-763c47d02478",
    "deepnote_to_be_reexecuted": false,
    "source_hash": "c6415201",
    "execution_start": 1628784656155,
    "execution_millis": 167,
    "deepnote_cell_type": "code"
   },
   "source": "plt.scatter(x = train_data['GrLivArea'], y = train_data['SalePrice'])\nplt.ylabel('SalePrice', fontsize=15)\nplt.xlabel('GrLivArea', fontsize=15)\nplt.show()",
   "execution_count": 8,
   "outputs": [
    {
     "data": {
      "text/plain": "<Figure size 432x288 with 1 Axes>",
      "image/png": "[encoded data removed]"
     },
     "metadata": {
      "needs_background": "light",
      "image/png": {
       "width": 412,
       "height": 267
      }
     },
     "output_type": "display_data"
    }
   ]
  },
  {
   "cell_type": "markdown",
   "source": "From the scatter plot, SalePrice seems to increase as the GrLivArea increases. With an exception of a few values that show a different behavior(outliers). We will remove the outliers to minimize erros in the model.",
   "metadata": {
    "tags": [],
    "cell_id": "00007-a604fdba-fded-45e5-9ccc-70debf6c4169",
    "deepnote_cell_type": "markdown"
   }
  },
  {
   "cell_type": "code",
   "source": "plt.scatter(x = train_data['OverallQual'], y = train_data['SalePrice'])\nplt.ylabel('SalePrice', fontsize=15)\nplt.xlabel('OverallQual', fontsize=15)\nplt.show()",
   "metadata": {
    "tags": [],
    "cell_id": "00009-a105e24e-b9fc-4897-8ced-0d4801f6c327",
    "deepnote_to_be_reexecuted": false,
    "source_hash": "749c5ccd",
    "execution_start": 1628785239567,
    "execution_millis": 115,
    "deepnote_cell_type": "code"
   },
   "outputs": [
    {
     "data": {
      "text/plain": "<Figure size 432x288 with 1 Axes>",
      "image/png": "[encoded data removed]"
     },
     "metadata": {
      "needs_background": "light",
      "image/png": {
       "width": 412,
       "height": 267
      }
     },
     "output_type": "display_data"
    }
   ],
   "execution_count": 15
  },
  {
   "cell_type": "code",
   "metadata": {
    "cell_id": "00007-7c786efe-7f48-44e3-aea8-ba282f105152",
    "deepnote_to_be_reexecuted": true,
    "source_hash": "d0dd779c",
    "deepnote_cell_type": "code"
   },
   "source": "#Data Cleaning\ntrain_data = train_data.drop(train_data[(train_data['GrLivArea'] > 4000) & (train_data['SalePrice'] < 250000)].index)",
   "outputs": [],
   "execution_count": null
  },
  {
   "cell_type": "code",
   "metadata": {
    "cell_id": "00008-f27fc62e-03a4-4dc3-b3e9-3cc3f090adf0",
    "deepnote_to_be_reexecuted": true,
    "source_hash": "c6415201",
    "deepnote_cell_type": "code"
   },
   "source": "plt.scatter(x = train_data['GrLivArea'], y = train_data['SalePrice'])\nplt.ylabel('SalePrice', fontsize=15)\nplt.xlabel('GrLivArea', fontsize=15)\nplt.show()",
   "outputs": [
    {
     "data": {
      "image/png": "[encoded data removed]",
      "text/plain": "<Figure size 432x288 with 1 Axes>"
     },
     "metadata": {
      "needs_background": "light",
      "image/png": {
       "width": 413,
       "height": 267
      }
     },
     "output_type": "display_data"
    }
   ],
   "execution_count": null
  },
  {
   "cell_type": "code",
   "metadata": {
    "cell_id": "00009-7a0c32b8-4070-45c7-ac3d-14fb6af13227",
    "deepnote_to_be_reexecuted": true,
    "source_hash": "a9805bbd",
    "deepnote_cell_type": "code"
   },
   "source": "x = train_data['GrLivArea']\ny = train_data['SalePrice']",
   "outputs": [],
   "execution_count": null
  },
  {
   "cell_type": "code",
   "metadata": {
    "cell_id": "00010-bda5242a-cdbc-4231-b4fa-7da43db64a98",
    "deepnote_to_be_reexecuted": true,
    "source_hash": "5f80aa9a",
    "deepnote_cell_type": "code"
   },
   "source": "np.polyfit(x,y,1) #line fitting",
   "outputs": [
    {
     "data": {
      "text/plain": "array([ 115.03998299, 7168.96988485])"
     },
     "execution_count": 13,
     "metadata": {},
     "output_type": "execute_result"
    }
   ],
   "execution_count": null
  },
  {
   "cell_type": "code",
   "metadata": {
    "cell_id": "00011-dd54664c-a17b-489f-ad0b-ce64b54b6c7c",
    "deepnote_to_be_reexecuted": true,
    "source_hash": "d3391f68",
    "deepnote_cell_type": "code"
   },
   "source": "model = np.polyfit(x,y,1) #renaming",
   "outputs": [],
   "execution_count": null
  },
  {
   "cell_type": "code",
   "metadata": {
    "cell_id": "00012-23ba78ef-2d43-49c8-8aa9-1cfeba0964be",
    "deepnote_to_be_reexecuted": true,
    "source_hash": "ddd367a",
    "deepnote_cell_type": "code"
   },
   "source": "predict = np.poly1d(model) #predicitng house price. Works similar to equation of a line",
   "outputs": [],
   "execution_count": null
  },
  {
   "cell_type": "code",
   "metadata": {
    "cell_id": "00013-00bdabb9-26fa-4c6c-8491-699731238c32",
    "deepnote_to_be_reexecuted": true,
    "source_hash": "c74cf977",
    "deepnote_cell_type": "code"
   },
   "source": "area = 350\npredict(area) #predicting house price if area was about 350",
   "outputs": [
    {
     "data": {
      "text/plain": "47432.96393267316"
     },
     "execution_count": 16,
     "metadata": {},
     "output_type": "execute_result"
    }
   ],
   "execution_count": null
  },
  {
   "cell_type": "code",
   "metadata": {
    "cell_id": "00014-e527befb-3412-4bfa-88d4-8aee44564017",
    "deepnote_to_be_reexecuted": true,
    "source_hash": "232f8448",
    "deepnote_cell_type": "code"
   },
   "source": "print(predict)",
   "outputs": [
    {
     "name": "stdout",
     "output_type": "stream",
     "text": " \n115 x + 7169\n"
    }
   ],
   "execution_count": null
  },
  {
   "cell_type": "code",
   "metadata": {
    "cell_id": "00015-9ec3e045-a85c-4670-9717-49c1406607bc",
    "deepnote_to_be_reexecuted": true,
    "source_hash": "36e87f08",
    "deepnote_cell_type": "code"
   },
   "source": "x_lin_reg = x\ny_lin_reg = predict(x_lin_reg)\nplt.scatter(x, y)\nplt.plot(x_lin_reg, y_lin_reg, c = 'r')",
   "outputs": [
    {
     "data": {
      "text/plain": "[<matplotlib.lines.Line2D at 0x7fe7764c8430>]"
     },
     "execution_count": 18,
     "metadata": {},
     "output_type": "execute_result"
    },
    {
     "data": {
      "image/png": "[encoded data removed]",
      "text/plain": "<Figure size 432x288 with 1 Axes>"
     },
     "metadata": {
      "needs_background": "light",
      "image/png": {
       "width": 394,
       "height": 248
      }
     },
     "output_type": "display_data"
    }
   ],
   "execution_count": null
  },
  {
   "cell_type": "code",
   "metadata": {
    "cell_id": "00016-2b91ec85-3306-4a47-a0ae-91469b841f8d",
    "deepnote_to_be_reexecuted": true,
    "source_hash": "b623e53d",
    "deepnote_cell_type": "code"
   },
   "source": "",
   "execution_count": null,
   "outputs": []
  },
  {
   "cell_type": "markdown",
   "source": "<a style='text-decoration:none;line-height:16px;display:flex;color:#5B5B62;padding:10px;justify-content:end;' href='https://deepnote.com?utm_source=created-in-deepnote-cell&projectId=7b27ba51-0111-4a6c-b402-16937598b003' target=\"_blank\">\n<img alt='Created in deepnote.com' style='display:inline;max-height:16px;margin:0px;margin-right:7.5px;' src='data:image/svg+xml;base64,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' > </img>\nCreated in <span style='font-weight:600;margin-left:4px;'>Deepnote</span></a>",
   "metadata": {
    "tags": [],
    "created_in_deepnote_cell": true,
    "deepnote_cell_type": "markdown"
   }
  }
 ],
 "nbformat": 4,
 "nbformat_minor": 4,
 "metadata": {
  "kernelspec": {
   "display_name": "Python 3",
   "language": "python",
   "name": "python3"
  },
  "language_info": {
   "codemirror_mode": {
    "name": "ipython",
    "version": 3
   },
   "file_extension": ".py",
   "mimetype": "text/x-python",
   "name": "python",
   "nbconvert_exporter": "python",
   "pygments_lexer": "ipython3",
   "version": "3.8.3"
  },
  "deepnote_notebook_id": "872b07d4-af82-4b68-951c-0e078f07332e",
  "deepnote": {},
  "deepnote_execution_queue": []
 }
}