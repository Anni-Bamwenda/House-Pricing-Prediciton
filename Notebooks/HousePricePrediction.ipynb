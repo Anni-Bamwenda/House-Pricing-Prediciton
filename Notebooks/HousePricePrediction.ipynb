{
 "cells": [
  {
   "cell_type": "markdown",
   "source": "# House Price Prediction project\n\nLet's import all the usefull library for this project:",
   "metadata": {
    "tags": [],
    "cell_id": "00000-e51673b9-ebfc-401b-bde3-a6d178ae908d",
    "deepnote_cell_type": "markdown"
   }
  },
  {
   "cell_type": "code",
   "metadata": {
    "cell_id": "00000-b7eb0254-e680-4374-ba4e-5ff072cc44dc",
    "deepnote_to_be_reexecuted": false,
    "source_hash": "66af5896",
    "execution_start": 1635264952698,
    "execution_millis": 2535,
    "deepnote_cell_type": "code"
   },
   "source": "import numpy as np\nimport seaborn as sns\nimport pandas as pd\nfrom pandas import DataFrame\nimport matplotlib.pyplot as plt\nfrom sklearn.linear_model import LinearRegression",
   "execution_count": 1,
   "outputs": []
  },
  {
   "cell_type": "markdown",
   "source": "### Loading Data Set",
   "metadata": {
    "tags": [],
    "is_collapsed": false,
    "cell_id": "00002-8821d53d-3ec8-4f1e-8096-1bb3f5eaaa70",
    "deepnote_cell_type": "text-cell-h3"
   }
  },
  {
   "cell_type": "markdown",
   "source": "Let's load our dataset in memory: ",
   "metadata": {
    "tags": [],
    "cell_id": "00002-2544886f-8c1a-4839-b309-2cbebdf161bc",
    "deepnote_cell_type": "markdown"
   }
  },
  {
   "cell_type": "code",
   "metadata": {
    "cell_id": "00003-fa1d7f5c-82e8-491b-8e24-02291bb0193e",
    "deepnote_to_be_reexecuted": false,
    "source_hash": "49a82995",
    "execution_start": 1635264955258,
    "execution_millis": 176,
    "deepnote_cell_type": "code"
   },
   "source": "train = pd.read_csv('../Data/train.csv')\ntest = pd.read_csv('../Data/test.csv')\nntrain = train.shape[0]\nntest = test.shape[0]\ny_train = train.SalePrice.values\nall_data = pd.concat((train, test)).reset_index(drop=True)",
   "execution_count": 2,
   "outputs": []
  },
  {
   "cell_type": "markdown",
   "source": "Let's look at the data",
   "metadata": {
    "tags": [],
    "cell_id": "00004-dc17e605-b825-4859-b319-9145ec7dcda8",
    "deepnote_cell_type": "markdown"
   }
  },
  {
   "cell_type": "code",
   "metadata": {
    "cell_id": "00005-3951e95c-4b4b-424d-b2a5-a64751804660",
    "deepnote_to_be_reexecuted": false,
    "source_hash": "1552362",
    "execution_start": 1635264955471,
    "execution_millis": 6524732,
    "deepnote_cell_type": "code"
   },
   "source": "all_data.shape",
   "execution_count": 3,
   "outputs": [
    {
     "output_type": "execute_result",
     "execution_count": 3,
     "data": {
      "text/plain": "(2919, 81)"
     },
     "metadata": {}
    }
   ]
  },
  {
   "cell_type": "code",
   "metadata": {
    "tags": [],
    "cell_id": "00004-4b50d9c5-ddbe-4f08-bc27-50254015d33e",
    "deepnote_to_be_reexecuted": false,
    "source_hash": "2cbc2b1",
    "execution_start": 1635264955535,
    "execution_millis": 545,
    "deepnote_cell_type": "code"
   },
   "source": "all_data",
   "execution_count": 4,
   "outputs": [
    {
     "output_type": "execute_result",
     "execution_count": 4,
     "data": {
      "application/vnd.deepnote.dataframe.v2+json": {
       "row_count": 2919,
       "column_count": 81,
       "columns": [
        {
         "name": "Id",
         "dtype": "int64",
         "stats": {
          "unique_count": 2919,
          "nan_count": 0,
          "min": "1",
          "max": "2919",
          "histogram": [
           {
            "bin_start": 1,
            "bin_end": 292.8,
            "count": 292
           },
           {
            "bin_start": 292.8,
            "bin_end": 584.6,
            "count": 292
           },
           {
            "bin_start": 584.6,
            "bin_end": 876.4000000000001,
            "count": 292
           },
           {
            "bin_start": 876.4000000000001,
            "bin_end": 1168.2,
            "count": 292
           },
           {
            "bin_start": 1168.2,
            "bin_end": 1460,
            "count": 291
           },
           {
            "bin_start": 1460,
            "bin_end": 1751.8000000000002,
            "count": 292
           },
           {
            "bin_start": 1751.8000000000002,
            "bin_end": 2043.6000000000001,
            "count": 292
           },
           {
            "bin_start": 2043.6000000000001,
            "bin_end": 2335.4,
            "count": 292
           },
           {
            "bin_start": 2335.4,
            "bin_end": 2627.2000000000003,
            "count": 292
           },
           {
            "bin_start": 2627.2000000000003,
            "bin_end": 2919,
            "count": 292
           }
          ]
         }
        },
        {
         "name": "MSSubClass",
         "dtype": "int64",
         "stats": {
          "unique_count": 16,
          "nan_count": 0,
          "min": "20",
          "max": "190",
          "histogram": [
           {
            "bin_start": 20,
            "bin_end": 37,
            "count": 1218
           },
           {
            "bin_start": 37,
            "bin_end": 54,
            "count": 311
           },
           {
            "bin_start": 54,
            "bin_end": 71,
            "count": 703
           },
           {
            "bin_start": 71,
            "bin_end": 88,
            "count": 189
           },
           {
            "bin_start": 88,
            "bin_end": 105,
            "count": 109
           },
           {
            "bin_start": 105,
            "bin_end": 122,
            "count": 182
           },
           {
            "bin_start": 122,
            "bin_end": 139,
            "count": 0
           },
           {
            "bin_start": 139,
            "bin_end": 156,
            "count": 1
           },
           {
            "bin_start": 156,
            "bin_end": 173,
            "count": 128
           },
           {
            "bin_start": 173,
            "bin_end": 190,
            "count": 78
           }
          ]
         }
        },
        {
         "name": "MSZoning",
         "dtype": "object",
         "stats": {
          "unique_count": 5,
          "nan_count": 4,
          "categories": [
           {
            "name": "RL",
            "count": 2265
           },
           {
            "name": "4 others",
            "count": 650
           },
           {
            "name": "Missing",
            "count": 4
           }
          ]
         }
        },
        {
         "name": "LotFrontage",
         "dtype": "float64",
         "stats": {
          "unique_count": 128,
          "nan_count": 486,
          "min": "21.0",
          "max": "313.0",
          "histogram": [
           {
            "bin_start": 21,
            "bin_end": 50.2,
            "count": 431
           },
           {
            "bin_start": 50.2,
            "bin_end": 79.4,
            "count": 1303
           },
           {
            "bin_start": 79.4,
            "bin_end": 108.6,
            "count": 585
           },
           {
            "bin_start": 108.6,
            "bin_end": 137.8,
            "count": 91
           },
           {
            "bin_start": 137.8,
            "bin_end": 167,
            "count": 15
           },
           {
            "bin_start": 167,
            "bin_end": 196.2,
            "count": 5
           },
           {
            "bin_start": 196.2,
            "bin_end": 225.4,
            "count": 1
           },
           {
            "bin_start": 225.4,
            "bin_end": 254.6,
            "count": 0
           },
           {
            "bin_start": 254.6,
            "bin_end": 283.8,
            "count": 0
           },
           {
            "bin_start": 283.8,
            "bin_end": 313,
            "count": 2
           }
          ]
         }
        },
        {
         "name": "LotArea",
         "dtype": "int64",
         "stats": {
          "unique_count": 1951,
          "nan_count": 0,
          "min": "1300",
          "max": "215245",
          "histogram": [
           {
            "bin_start": 1300,
            "bin_end": 22694.5,
            "count": 2860
           },
           {
            "bin_start": 22694.5,
            "bin_end": 44089,
            "count": 41
           },
           {
            "bin_start": 44089,
            "bin_end": 65483.5,
            "count": 13
           },
           {
            "bin_start": 65483.5,
            "bin_end": 86878,
            "count": 1
           },
           {
            "bin_start": 86878,
            "bin_end": 108272.5,
            "count": 0
           },
           {
            "bin_start": 108272.5,
            "bin_end": 129667,
            "count": 1
           },
           {
            "bin_start": 129667,
            "bin_end": 151061.5,
            "count": 0
           },
           {
            "bin_start": 151061.5,
            "bin_end": 172456,
            "count": 2
           },
           {
            "bin_start": 172456,
            "bin_end": 193850.5,
            "count": 0
           },
           {
            "bin_start": 193850.5,
            "bin_end": 215245,
            "count": 1
           }
          ]
         }
        },
        {
         "name": "Street",
         "dtype": "object",
         "stats": {
          "unique_count": 2,
          "nan_count": 0,
          "categories": [
           {
            "name": "Pave",
            "count": 2907
           },
           {
            "name": "Grvl",
            "count": 12
           }
          ]
         }
        },
        {
         "name": "Alley",
         "dtype": "object",
         "stats": {
          "unique_count": 2,
          "nan_count": 2721,
          "categories": [
           {
            "name": "Grvl",
            "count": 120
           },
           {
            "name": "Pave",
            "count": 78
           },
           {
            "name": "Missing",
            "count": 2721
           }
          ]
         }
        },
        {
         "name": "LotShape",
         "dtype": "object",
         "stats": {
          "unique_count": 4,
          "nan_count": 0,
          "categories": [
           {
            "name": "Reg",
            "count": 1859
           },
           {
            "name": "IR1",
            "count": 968
           },
           {
            "name": "2 others",
            "count": 92
           }
          ]
         }
        },
        {
         "name": "LandContour",
         "dtype": "object",
         "stats": {
          "unique_count": 4,
          "nan_count": 0,
          "categories": [
           {
            "name": "Lvl",
            "count": 2622
           },
           {
            "name": "HLS",
            "count": 120
           },
           {
            "name": "2 others",
            "count": 177
           }
          ]
         }
        },
        {
         "name": "Utilities",
         "dtype": "object",
         "stats": {
          "unique_count": 2,
          "nan_count": 2,
          "categories": [
           {
            "name": "AllPub",
            "count": 2916
           },
           {
            "name": "NoSeWa",
            "count": 1
           },
           {
            "name": "Missing",
            "count": 2
           }
          ]
         }
        },
        {
         "name": "LotConfig",
         "dtype": "object",
         "stats": {
          "unique_count": 5,
          "nan_count": 0,
          "categories": [
           {
            "name": "Inside",
            "count": 2133
           },
           {
            "name": "Corner",
            "count": 511
           },
           {
            "name": "3 others",
            "count": 275
           }
          ]
         }
        },
        {
         "name": "LandSlope",
         "dtype": "object",
         "stats": {
          "unique_count": 3,
          "nan_count": 0,
          "categories": [
           {
            "name": "Gtl",
            "count": 2778
           },
           {
            "name": "Mod",
            "count": 125
           },
           {
            "name": "Sev",
            "count": 16
           }
          ]
         }
        },
        {
         "name": "Neighborhood",
         "dtype": "object",
         "stats": {
          "unique_count": 25,
          "nan_count": 0,
          "categories": [
           {
            "name": "NAmes",
            "count": 443
           },
           {
            "name": "CollgCr",
            "count": 267
           },
           {
            "name": "23 others",
            "count": 2209
           }
          ]
         }
        },
        {
         "name": "Condition1",
         "dtype": "object",
         "stats": {
          "unique_count": 9,
          "nan_count": 0,
          "categories": [
           {
            "name": "Norm",
            "count": 2511
           },
           {
            "name": "Feedr",
            "count": 164
           },
           {
            "name": "7 others",
            "count": 244
           }
          ]
         }
        },
        {
         "name": "Condition2",
         "dtype": "object",
         "stats": {
          "unique_count": 8,
          "nan_count": 0,
          "categories": [
           {
            "name": "Norm",
            "count": 2889
           },
           {
            "name": "Feedr",
            "count": 13
           },
           {
            "name": "6 others",
            "count": 17
           }
          ]
         }
        },
        {
         "name": "BldgType",
         "dtype": "object",
         "stats": {
          "unique_count": 5,
          "nan_count": 0,
          "categories": [
           {
            "name": "1Fam",
            "count": 2425
           },
           {
            "name": "TwnhsE",
            "count": 227
           },
           {
            "name": "3 others",
            "count": 267
           }
          ]
         }
        },
        {
         "name": "HouseStyle",
         "dtype": "object",
         "stats": {
          "unique_count": 8,
          "nan_count": 0,
          "categories": [
           {
            "name": "1Story",
            "count": 1471
           },
           {
            "name": "2Story",
            "count": 872
           },
           {
            "name": "6 others",
            "count": 576
           }
          ]
         }
        },
        {
         "name": "OverallQual",
         "dtype": "int64",
         "stats": {
          "unique_count": 10,
          "nan_count": 0,
          "min": "1",
          "max": "10",
          "histogram": [
           {
            "bin_start": 1,
            "bin_end": 1.9,
            "count": 4
           },
           {
            "bin_start": 1.9,
            "bin_end": 2.8,
            "count": 13
           },
           {
            "bin_start": 2.8,
            "bin_end": 3.7,
            "count": 40
           },
           {
            "bin_start": 3.7,
            "bin_end": 4.6,
            "count": 226
           },
           {
            "bin_start": 4.6,
            "bin_end": 5.5,
            "count": 825
           },
           {
            "bin_start": 5.5,
            "bin_end": 6.4,
            "count": 731
           },
           {
            "bin_start": 6.4,
            "bin_end": 7.3,
            "count": 600
           },
           {
            "bin_start": 7.3,
            "bin_end": 8.2,
            "count": 342
           },
           {
            "bin_start": 8.2,
            "bin_end": 9.1,
            "count": 107
           },
           {
            "bin_start": 9.1,
            "bin_end": 10,
            "count": 31
           }
          ]
         }
        },
        {
         "name": "OverallCond",
         "dtype": "int64",
         "stats": {
          "unique_count": 9,
          "nan_count": 0,
          "min": "1",
          "max": "9",
          "histogram": [
           {
            "bin_start": 1,
            "bin_end": 1.8,
            "count": 7
           },
           {
            "bin_start": 1.8,
            "bin_end": 2.6,
            "count": 10
           },
           {
            "bin_start": 2.6,
            "bin_end": 3.4000000000000004,
            "count": 50
           },
           {
            "bin_start": 3.4000000000000004,
            "bin_end": 4.2,
            "count": 101
           },
           {
            "bin_start": 4.2,
            "bin_end": 5,
            "count": 0
           },
           {
            "bin_start": 5,
            "bin_end": 5.800000000000001,
            "count": 1645
           },
           {
            "bin_start": 5.800000000000001,
            "bin_end": 6.6000000000000005,
            "count": 531
           },
           {
            "bin_start": 6.6000000000000005,
            "bin_end": 7.4,
            "count": 390
           },
           {
            "bin_start": 7.4,
            "bin_end": 8.2,
            "count": 144
           },
           {
            "bin_start": 8.2,
            "bin_end": 9,
            "count": 41
           }
          ]
         }
        },
        {
         "name": "YearBuilt",
         "dtype": "int64",
         "stats": {
          "unique_count": 118,
          "nan_count": 0,
          "min": "1872",
          "max": "2010",
          "histogram": [
           {
            "bin_start": 1872,
            "bin_end": 1885.8,
            "count": 11
           },
           {
            "bin_start": 1885.8,
            "bin_end": 1899.6,
            "count": 15
           },
           {
            "bin_start": 1899.6,
            "bin_end": 1913.4,
            "count": 90
           },
           {
            "bin_start": 1913.4,
            "bin_end": 1927.2,
            "count": 239
           },
           {
            "bin_start": 1927.2,
            "bin_end": 1941,
            "count": 162
           },
           {
            "bin_start": 1941,
            "bin_end": 1954.8,
            "count": 256
           },
           {
            "bin_start": 1954.8,
            "bin_end": 1968.6,
            "count": 528
           },
           {
            "bin_start": 1968.6,
            "bin_end": 1982.4,
            "count": 428
           },
           {
            "bin_start": 1982.4,
            "bin_end": 1996.2,
            "count": 274
           },
           {
            "bin_start": 1996.2,
            "bin_end": 2010,
            "count": 916
           }
          ]
         }
        },
        {
         "name": "YearRemodAdd",
         "dtype": "int64",
         "stats": {
          "unique_count": 61,
          "nan_count": 0,
          "min": "1950",
          "max": "2010",
          "histogram": [
           {
            "bin_start": 1950,
            "bin_end": 1956,
            "count": 463
           },
           {
            "bin_start": 1956,
            "bin_end": 1962,
            "count": 167
           },
           {
            "bin_start": 1962,
            "bin_end": 1968,
            "count": 171
           },
           {
            "bin_start": 1968,
            "bin_end": 1974,
            "count": 196
           },
           {
            "bin_start": 1974,
            "bin_end": 1980,
            "count": 203
           },
           {
            "bin_start": 1980,
            "bin_end": 1986,
            "count": 91
           },
           {
            "bin_start": 1986,
            "bin_end": 1992,
            "count": 119
           },
           {
            "bin_start": 1992,
            "bin_end": 1998,
            "count": 292
           },
           {
            "bin_start": 1998,
            "bin_end": 2004,
            "count": 471
           },
           {
            "bin_start": 2004,
            "bin_end": 2010,
            "count": 746
           }
          ]
         }
        },
        {
         "name": "RoofStyle",
         "dtype": "object",
         "stats": {
          "unique_count": 6,
          "nan_count": 0,
          "categories": [
           {
            "name": "Gable",
            "count": 2310
           },
           {
            "name": "Hip",
            "count": 551
           },
           {
            "name": "4 others",
            "count": 58
           }
          ]
         }
        },
        {
         "name": "RoofMatl",
         "dtype": "object",
         "stats": {
          "unique_count": 8,
          "nan_count": 0,
          "categories": [
           {
            "name": "CompShg",
            "count": 2876
           },
           {
            "name": "Tar&Grv",
            "count": 23
           },
           {
            "name": "6 others",
            "count": 20
           }
          ]
         }
        },
        {
         "name": "Exterior1st",
         "dtype": "object",
         "stats": {
          "unique_count": 15,
          "nan_count": 1,
          "categories": [
           {
            "name": "VinylSd",
            "count": 1025
           },
           {
            "name": "14 others",
            "count": 1893
           },
           {
            "name": "Missing",
            "count": 1
           }
          ]
         }
        },
        {
         "name": "Exterior2nd",
         "dtype": "object",
         "stats": {
          "unique_count": 16,
          "nan_count": 1,
          "categories": [
           {
            "name": "VinylSd",
            "count": 1014
           },
           {
            "name": "15 others",
            "count": 1904
           },
           {
            "name": "Missing",
            "count": 1
           }
          ]
         }
        },
        {
         "name": "MasVnrType",
         "dtype": "object",
         "stats": {
          "unique_count": 4,
          "nan_count": 24,
          "categories": [
           {
            "name": "None",
            "count": 1742
           },
           {
            "name": "3 others",
            "count": 1153
           },
           {
            "name": "Missing",
            "count": 24
           }
          ]
         }
        },
        {
         "name": "MasVnrArea",
         "dtype": "float64",
         "stats": {
          "unique_count": 444,
          "nan_count": 23,
          "min": "0.0",
          "max": "1600.0",
          "histogram": [
           {
            "bin_start": 0,
            "bin_end": 160,
            "count": 2151
           },
           {
            "bin_start": 160,
            "bin_end": 320,
            "count": 445
           },
           {
            "bin_start": 320,
            "bin_end": 480,
            "count": 165
           },
           {
            "bin_start": 480,
            "bin_end": 640,
            "count": 72
           },
           {
            "bin_start": 640,
            "bin_end": 800,
            "count": 37
           },
           {
            "bin_start": 800,
            "bin_end": 960,
            "count": 10
           },
           {
            "bin_start": 960,
            "bin_end": 1120,
            "count": 8
           },
           {
            "bin_start": 1120,
            "bin_end": 1280,
            "count": 5
           },
           {
            "bin_start": 1280,
            "bin_end": 1440,
            "count": 2
           },
           {
            "bin_start": 1440,
            "bin_end": 1600,
            "count": 1
           }
          ]
         }
        },
        {
         "name": "ExterQual",
         "dtype": "object",
         "stats": {
          "unique_count": 4,
          "nan_count": 0,
          "categories": [
           {
            "name": "TA",
            "count": 1798
           },
           {
            "name": "Gd",
            "count": 979
           },
           {
            "name": "2 others",
            "count": 142
           }
          ]
         }
        },
        {
         "name": "ExterCond",
         "dtype": "object",
         "stats": {
          "unique_count": 5,
          "nan_count": 0,
          "categories": [
           {
            "name": "TA",
            "count": 2538
           },
           {
            "name": "Gd",
            "count": 299
           },
           {
            "name": "3 others",
            "count": 82
           }
          ]
         }
        },
        {
         "name": "Foundation",
         "dtype": "object",
         "stats": {
          "unique_count": 6,
          "nan_count": 0,
          "categories": [
           {
            "name": "PConc",
            "count": 1308
           },
           {
            "name": "CBlock",
            "count": 1235
           },
           {
            "name": "4 others",
            "count": 376
           }
          ]
         }
        },
        {
         "name": "BsmtQual",
         "dtype": "object",
         "stats": {
          "unique_count": 4,
          "nan_count": 81,
          "categories": [
           {
            "name": "TA",
            "count": 1283
           },
           {
            "name": "3 others",
            "count": 1555
           },
           {
            "name": "Missing",
            "count": 81
           }
          ]
         }
        },
        {
         "name": "BsmtCond",
         "dtype": "object",
         "stats": {
          "unique_count": 4,
          "nan_count": 82,
          "categories": [
           {
            "name": "TA",
            "count": 2606
           },
           {
            "name": "3 others",
            "count": 231
           },
           {
            "name": "Missing",
            "count": 82
           }
          ]
         }
        },
        {
         "name": "BsmtExposure",
         "dtype": "object",
         "stats": {
          "unique_count": 4,
          "nan_count": 82,
          "categories": [
           {
            "name": "No",
            "count": 1904
           },
           {
            "name": "3 others",
            "count": 933
           },
           {
            "name": "Missing",
            "count": 82
           }
          ]
         }
        },
        {
         "name": "BsmtFinType1",
         "dtype": "object",
         "stats": {
          "unique_count": 6,
          "nan_count": 79,
          "categories": [
           {
            "name": "Unf",
            "count": 851
           },
           {
            "name": "5 others",
            "count": 1989
           },
           {
            "name": "Missing",
            "count": 79
           }
          ]
         }
        },
        {
         "name": "BsmtFinSF1",
         "dtype": "float64"
        },
        {
         "name": "BsmtFinType2",
         "dtype": "object"
        },
        {
         "name": "BsmtFinSF2",
         "dtype": "float64"
        },
        {
         "name": "BsmtUnfSF",
         "dtype": "float64"
        },
        {
         "name": "TotalBsmtSF",
         "dtype": "float64"
        },
        {
         "name": "Heating",
         "dtype": "object"
        },
        {
         "name": "HeatingQC",
         "dtype": "object"
        },
        {
         "name": "CentralAir",
         "dtype": "object"
        },
        {
         "name": "Electrical",
         "dtype": "object"
        },
        {
         "name": "1stFlrSF",
         "dtype": "int64"
        },
        {
         "name": "2ndFlrSF",
         "dtype": "int64"
        },
        {
         "name": "LowQualFinSF",
         "dtype": "int64"
        },
        {
         "name": "GrLivArea",
         "dtype": "int64"
        },
        {
         "name": "BsmtFullBath",
         "dtype": "float64"
        },
        {
         "name": "BsmtHalfBath",
         "dtype": "float64"
        },
        {
         "name": "FullBath",
         "dtype": "int64"
        },
        {
         "name": "HalfBath",
         "dtype": "int64"
        },
        {
         "name": "BedroomAbvGr",
         "dtype": "int64"
        },
        {
         "name": "KitchenAbvGr",
         "dtype": "int64"
        },
        {
         "name": "KitchenQual",
         "dtype": "object"
        },
        {
         "name": "TotRmsAbvGrd",
         "dtype": "int64"
        },
        {
         "name": "Functional",
         "dtype": "object"
        },
        {
         "name": "Fireplaces",
         "dtype": "int64"
        },
        {
         "name": "FireplaceQu",
         "dtype": "object"
        },
        {
         "name": "GarageType",
         "dtype": "object"
        },
        {
         "name": "GarageYrBlt",
         "dtype": "float64"
        },
        {
         "name": "GarageFinish",
         "dtype": "object"
        },
        {
         "name": "GarageCars",
         "dtype": "float64"
        },
        {
         "name": "GarageArea",
         "dtype": "float64"
        },
        {
         "name": "GarageQual",
         "dtype": "object"
        },
        {
         "name": "GarageCond",
         "dtype": "object"
        },
        {
         "name": "PavedDrive",
         "dtype": "object"
        },
        {
         "name": "WoodDeckSF",
         "dtype": "int64"
        },
        {
         "name": "OpenPorchSF",
         "dtype": "int64"
        },
        {
         "name": "EnclosedPorch",
         "dtype": "int64"
        },
        {
         "name": "3SsnPorch",
         "dtype": "int64"
        },
        {
         "name": "ScreenPorch",
         "dtype": "int64"
        },
        {
         "name": "PoolArea",
         "dtype": "int64"
        },
        {
         "name": "PoolQC",
         "dtype": "object"
        },
        {
         "name": "Fence",
         "dtype": "object"
        },
        {
         "name": "MiscFeature",
         "dtype": "object"
        },
        {
         "name": "MiscVal",
         "dtype": "int64"
        },
        {
         "name": "MoSold",
         "dtype": "int64"
        },
        {
         "name": "YrSold",
         "dtype": "int64"
        },
        {
         "name": "SaleType",
         "dtype": "object"
        },
        {
         "name": "SaleCondition",
         "dtype": "object"
        },
        {
         "name": "SalePrice",
         "dtype": "float64"
        },
        {
         "name": "_deepnote_index_column",
         "dtype": "int64"
        }
       ],
       "rows_top": [
        {
         "Id": 1,
         "MSSubClass": 60,
         "MSZoning": "RL",
         "LotFrontage": 65,
         "LotArea": 8450,
         "Street": "Pave",
         "Alley": "nan",
         "LotShape": "Reg",
         "LandContour": "Lvl",
         "Utilities": "AllPub",
         "LotConfig": "Inside",
         "LandSlope": "Gtl",
         "Neighborhood": "CollgCr",
         "Condition1": "Norm",
         "Condition2": "Norm",
         "BldgType": "1Fam",
         "HouseStyle": "2Story",
         "OverallQual": 7,
         "OverallCond": 5,
         "YearBuilt": 2003,
         "YearRemodAdd": 2003,
         "RoofStyle": "Gable",
         "RoofMatl": "CompShg",
         "Exterior1st": "VinylSd",
         "Exterior2nd": "VinylSd",
         "MasVnrType": "BrkFace",
         "MasVnrArea": 196,
         "ExterQual": "Gd",
         "ExterCond": "TA",
         "Foundation": "PConc",
         "BsmtQual": "Gd",
         "BsmtCond": "TA",
         "BsmtExposure": "No",
         "BsmtFinType1": "GLQ",
         "BsmtFinSF1": 706,
         "BsmtFinType2": "Unf",
         "BsmtFinSF2": 0,
         "BsmtUnfSF": 150,
         "TotalBsmtSF": 856,
         "Heating": "GasA",
         "HeatingQC": "Ex",
         "CentralAir": "Y",
         "Electrical": "SBrkr",
         "1stFlrSF": 856,
         "2ndFlrSF": 854,
         "LowQualFinSF": 0,
         "GrLivArea": 1710,
         "BsmtFullBath": 1,
         "BsmtHalfBath": 0,
         "FullBath": 2,
         "HalfBath": 1,
         "BedroomAbvGr": 3,
         "KitchenAbvGr": 1,
         "KitchenQual": "Gd",
         "TotRmsAbvGrd": 8,
         "Functional": "Typ",
         "Fireplaces": 0,
         "FireplaceQu": "nan",
         "GarageType": "Attchd",
         "GarageYrBlt": 2003,
         "GarageFinish": "RFn",
         "GarageCars": 2,
         "GarageArea": 548,
         "GarageQual": "TA",
         "GarageCond": "TA",
         "PavedDrive": "Y",
         "WoodDeckSF": 0,
         "OpenPorchSF": 61,
         "EnclosedPorch": 0,
         "3SsnPorch": 0,
         "ScreenPorch": 0,
         "PoolArea": 0,
         "PoolQC": "nan",
         "Fence": "nan",
         "MiscFeature": "nan",
         "MiscVal": 0,
         "MoSold": 2,
         "YrSold": 2008,
         "SaleType": "WD",
         "SaleCondition": "Normal",
         "SalePrice": 208500,
         "_deepnote_index_column": 0
        },
        {
         "Id": 2,
         "MSSubClass": 20,
         "MSZoning": "RL",
         "LotFrontage": 80,
         "LotArea": 9600,
         "Street": "Pave",
         "Alley": "nan",
         "LotShape": "Reg",
         "LandContour": "Lvl",
         "Utilities": "AllPub",
         "LotConfig": "FR2",
         "LandSlope": "Gtl",
         "Neighborhood": "Veenker",
         "Condition1": "Feedr",
         "Condition2": "Norm",
         "BldgType": "1Fam",
         "HouseStyle": "1Story",
         "OverallQual": 6,
         "OverallCond": 8,
         "YearBuilt": 1976,
         "YearRemodAdd": 1976,
         "RoofStyle": "Gable",
         "RoofMatl": "CompShg",
         "Exterior1st": "MetalSd",
         "Exterior2nd": "MetalSd",
         "MasVnrType": "None",
         "MasVnrArea": 0,
         "ExterQual": "TA",
         "ExterCond": "TA",
         "Foundation": "CBlock",
         "BsmtQual": "Gd",
         "BsmtCond": "TA",
         "BsmtExposure": "Gd",
         "BsmtFinType1": "ALQ",
         "BsmtFinSF1": 978,
         "BsmtFinType2": "Unf",
         "BsmtFinSF2": 0,
         "BsmtUnfSF": 284,
         "TotalBsmtSF": 1262,
         "Heating": "GasA",
         "HeatingQC": "Ex",
         "CentralAir": "Y",
         "Electrical": "SBrkr",
         "1stFlrSF": 1262,
         "2ndFlrSF": 0,
         "LowQualFinSF": 0,
         "GrLivArea": 1262,
         "BsmtFullBath": 0,
         "BsmtHalfBath": 1,
         "FullBath": 2,
         "HalfBath": 0,
         "BedroomAbvGr": 3,
         "KitchenAbvGr": 1,
         "KitchenQual": "TA",
         "TotRmsAbvGrd": 6,
         "Functional": "Typ",
         "Fireplaces": 1,
         "FireplaceQu": "TA",
         "GarageType": "Attchd",
         "GarageYrBlt": 1976,
         "GarageFinish": "RFn",
         "GarageCars": 2,
         "GarageArea": 460,
         "GarageQual": "TA",
         "GarageCond": "TA",
         "PavedDrive": "Y",
         "WoodDeckSF": 298,
         "OpenPorchSF": 0,
         "EnclosedPorch": 0,
         "3SsnPorch": 0,
         "ScreenPorch": 0,
         "PoolArea": 0,
         "PoolQC": "nan",
         "Fence": "nan",
         "MiscFeature": "nan",
         "MiscVal": 0,
         "MoSold": 5,
         "YrSold": 2007,
         "SaleType": "WD",
         "SaleCondition": "Normal",
         "SalePrice": 181500,
         "_deepnote_index_column": 1
        },
        {
         "Id": 3,
         "MSSubClass": 60,
         "MSZoning": "RL",
         "LotFrontage": 68,
         "LotArea": 11250,
         "Street": "Pave",
         "Alley": "nan",
         "LotShape": "IR1",
         "LandContour": "Lvl",
         "Utilities": "AllPub",
         "LotConfig": "Inside",
         "LandSlope": "Gtl",
         "Neighborhood": "CollgCr",
         "Condition1": "Norm",
         "Condition2": "Norm",
         "BldgType": "1Fam",
         "HouseStyle": "2Story",
         "OverallQual": 7,
         "OverallCond": 5,
         "YearBuilt": 2001,
         "YearRemodAdd": 2002,
         "RoofStyle": "Gable",
         "RoofMatl": "CompShg",
         "Exterior1st": "VinylSd",
         "Exterior2nd": "VinylSd",
         "MasVnrType": "BrkFace",
         "MasVnrArea": 162,
         "ExterQual": "Gd",
         "ExterCond": "TA",
         "Foundation": "PConc",
         "BsmtQual": "Gd",
         "BsmtCond": "TA",
         "BsmtExposure": "Mn",
         "BsmtFinType1": "GLQ",
         "BsmtFinSF1": 486,
         "BsmtFinType2": "Unf",
         "BsmtFinSF2": 0,
         "BsmtUnfSF": 434,
         "TotalBsmtSF": 920,
         "Heating": "GasA",
         "HeatingQC": "Ex",
         "CentralAir": "Y",
         "Electrical": "SBrkr",
         "1stFlrSF": 920,
         "2ndFlrSF": 866,
         "LowQualFinSF": 0,
         "GrLivArea": 1786,
         "BsmtFullBath": 1,
         "BsmtHalfBath": 0,
         "FullBath": 2,
         "HalfBath": 1,
         "BedroomAbvGr": 3,
         "KitchenAbvGr": 1,
         "KitchenQual": "Gd",
         "TotRmsAbvGrd": 6,
         "Functional": "Typ",
         "Fireplaces": 1,
         "FireplaceQu": "TA",
         "GarageType": "Attchd",
         "GarageYrBlt": 2001,
         "GarageFinish": "RFn",
         "GarageCars": 2,
         "GarageArea": 608,
         "GarageQual": "TA",
         "GarageCond": "TA",
         "PavedDrive": "Y",
         "WoodDeckSF": 0,
         "OpenPorchSF": 42,
         "EnclosedPorch": 0,
         "3SsnPorch": 0,
         "ScreenPorch": 0,
         "PoolArea": 0,
         "PoolQC": "nan",
         "Fence": "nan",
         "MiscFeature": "nan",
         "MiscVal": 0,
         "MoSold": 9,
         "YrSold": 2008,
         "SaleType": "WD",
         "SaleCondition": "Normal",
         "SalePrice": 223500,
         "_deepnote_index_column": 2
        },
        {
         "Id": 4,
         "MSSubClass": 70,
         "MSZoning": "RL",
         "LotFrontage": 60,
         "LotArea": 9550,
         "Street": "Pave",
         "Alley": "nan",
         "LotShape": "IR1",
         "LandContour": "Lvl",
         "Utilities": "AllPub",
         "LotConfig": "Corner",
         "LandSlope": "Gtl",
         "Neighborhood": "Crawfor",
         "Condition1": "Norm",
         "Condition2": "Norm",
         "BldgType": "1Fam",
         "HouseStyle": "2Story",
         "OverallQual": 7,
         "OverallCond": 5,
         "YearBuilt": 1915,
         "YearRemodAdd": 1970,
         "RoofStyle": "Gable",
         "RoofMatl": "CompShg",
         "Exterior1st": "Wd Sdng",
         "Exterior2nd": "Wd Shng",
         "MasVnrType": "None",
         "MasVnrArea": 0,
         "ExterQual": "TA",
         "ExterCond": "TA",
         "Foundation": "BrkTil",
         "BsmtQual": "TA",
         "BsmtCond": "Gd",
         "BsmtExposure": "No",
         "BsmtFinType1": "ALQ",
         "BsmtFinSF1": 216,
         "BsmtFinType2": "Unf",
         "BsmtFinSF2": 0,
         "BsmtUnfSF": 540,
         "TotalBsmtSF": 756,
         "Heating": "GasA",
         "HeatingQC": "Gd",
         "CentralAir": "Y",
         "Electrical": "SBrkr",
         "1stFlrSF": 961,
         "2ndFlrSF": 756,
         "LowQualFinSF": 0,
         "GrLivArea": 1717,
         "BsmtFullBath": 1,
         "BsmtHalfBath": 0,
         "FullBath": 1,
         "HalfBath": 0,
         "BedroomAbvGr": 3,
         "KitchenAbvGr": 1,
         "KitchenQual": "Gd",
         "TotRmsAbvGrd": 7,
         "Functional": "Typ",
         "Fireplaces": 1,
         "FireplaceQu": "Gd",
         "GarageType": "Detchd",
         "GarageYrBlt": 1998,
         "GarageFinish": "Unf",
         "GarageCars": 3,
         "GarageArea": 642,
         "GarageQual": "TA",
         "GarageCond": "TA",
         "PavedDrive": "Y",
         "WoodDeckSF": 0,
         "OpenPorchSF": 35,
         "EnclosedPorch": 272,
         "3SsnPorch": 0,
         "ScreenPorch": 0,
         "PoolArea": 0,
         "PoolQC": "nan",
         "Fence": "nan",
         "MiscFeature": "nan",
         "MiscVal": 0,
         "MoSold": 2,
         "YrSold": 2006,
         "SaleType": "WD",
         "SaleCondition": "Abnorml",
         "SalePrice": 140000,
         "_deepnote_index_column": 3
        },
        {
         "Id": 5,
         "MSSubClass": 60,
         "MSZoning": "RL",
         "LotFrontage": 84,
         "LotArea": 14260,
         "Street": "Pave",
         "Alley": "nan",
         "LotShape": "IR1",
         "LandContour": "Lvl",
         "Utilities": "AllPub",
         "LotConfig": "FR2",
         "LandSlope": "Gtl",
         "Neighborhood": "NoRidge",
         "Condition1": "Norm",
         "Condition2": "Norm",
         "BldgType": "1Fam",
         "HouseStyle": "2Story",
         "OverallQual": 8,
         "OverallCond": 5,
         "YearBuilt": 2000,
         "YearRemodAdd": 2000,
         "RoofStyle": "Gable",
         "RoofMatl": "CompShg",
         "Exterior1st": "VinylSd",
         "Exterior2nd": "VinylSd",
         "MasVnrType": "BrkFace",
         "MasVnrArea": 350,
         "ExterQual": "Gd",
         "ExterCond": "TA",
         "Foundation": "PConc",
         "BsmtQual": "Gd",
         "BsmtCond": "TA",
         "BsmtExposure": "Av",
         "BsmtFinType1": "GLQ",
         "BsmtFinSF1": 655,
         "BsmtFinType2": "Unf",
         "BsmtFinSF2": 0,
         "BsmtUnfSF": 490,
         "TotalBsmtSF": 1145,
         "Heating": "GasA",
         "HeatingQC": "Ex",
         "CentralAir": "Y",
         "Electrical": "SBrkr",
         "1stFlrSF": 1145,
         "2ndFlrSF": 1053,
         "LowQualFinSF": 0,
         "GrLivArea": 2198,
         "BsmtFullBath": 1,
         "BsmtHalfBath": 0,
         "FullBath": 2,
         "HalfBath": 1,
         "BedroomAbvGr": 4,
         "KitchenAbvGr": 1,
         "KitchenQual": "Gd",
         "TotRmsAbvGrd": 9,
         "Functional": "Typ",
         "Fireplaces": 1,
         "FireplaceQu": "TA",
         "GarageType": "Attchd",
         "GarageYrBlt": 2000,
         "GarageFinish": "RFn",
         "GarageCars": 3,
         "GarageArea": 836,
         "GarageQual": "TA",
         "GarageCond": "TA",
         "PavedDrive": "Y",
         "WoodDeckSF": 192,
         "OpenPorchSF": 84,
         "EnclosedPorch": 0,
         "3SsnPorch": 0,
         "ScreenPorch": 0,
         "PoolArea": 0,
         "PoolQC": "nan",
         "Fence": "nan",
         "MiscFeature": "nan",
         "MiscVal": 0,
         "MoSold": 12,
         "YrSold": 2008,
         "SaleType": "WD",
         "SaleCondition": "Normal",
         "SalePrice": 250000,
         "_deepnote_index_column": 4
        },
        {
         "Id": 6,
         "MSSubClass": 50,
         "MSZoning": "RL",
         "LotFrontage": 85,
         "LotArea": 14115,
         "Street": "Pave",
         "Alley": "nan",
         "LotShape": "IR1",
         "LandContour": "Lvl",
         "Utilities": "AllPub",
         "LotConfig": "Inside",
         "LandSlope": "Gtl",
         "Neighborhood": "Mitchel",
         "Condition1": "Norm",
         "Condition2": "Norm",
         "BldgType": "1Fam",
         "HouseStyle": "1.5Fin",
         "OverallQual": 5,
         "OverallCond": 5,
         "YearBuilt": 1993,
         "YearRemodAdd": 1995,
         "RoofStyle": "Gable",
         "RoofMatl": "CompShg",
         "Exterior1st": "VinylSd",
         "Exterior2nd": "VinylSd",
         "MasVnrType": "None",
         "MasVnrArea": 0,
         "ExterQual": "TA",
         "ExterCond": "TA",
         "Foundation": "Wood",
         "BsmtQual": "Gd",
         "BsmtCond": "TA",
         "BsmtExposure": "No",
         "BsmtFinType1": "GLQ",
         "BsmtFinSF1": 732,
         "BsmtFinType2": "Unf",
         "BsmtFinSF2": 0,
         "BsmtUnfSF": 64,
         "TotalBsmtSF": 796,
         "Heating": "GasA",
         "HeatingQC": "Ex",
         "CentralAir": "Y",
         "Electrical": "SBrkr",
         "1stFlrSF": 796,
         "2ndFlrSF": 566,
         "LowQualFinSF": 0,
         "GrLivArea": 1362,
         "BsmtFullBath": 1,
         "BsmtHalfBath": 0,
         "FullBath": 1,
         "HalfBath": 1,
         "BedroomAbvGr": 1,
         "KitchenAbvGr": 1,
         "KitchenQual": "TA",
         "TotRmsAbvGrd": 5,
         "Functional": "Typ",
         "Fireplaces": 0,
         "FireplaceQu": "nan",
         "GarageType": "Attchd",
         "GarageYrBlt": 1993,
         "GarageFinish": "Unf",
         "GarageCars": 2,
         "GarageArea": 480,
         "GarageQual": "TA",
         "GarageCond": "TA",
         "PavedDrive": "Y",
         "WoodDeckSF": 40,
         "OpenPorchSF": 30,
         "EnclosedPorch": 0,
         "3SsnPorch": 320,
         "ScreenPorch": 0,
         "PoolArea": 0,
         "PoolQC": "nan",
         "Fence": "MnPrv",
         "MiscFeature": "Shed",
         "MiscVal": 700,
         "MoSold": 10,
         "YrSold": 2009,
         "SaleType": "WD",
         "SaleCondition": "Normal",
         "SalePrice": 143000,
         "_deepnote_index_column": 5
        }
       ],
       "rows_bottom": [
        {
         "Id": 2914,
         "MSSubClass": 160,
         "MSZoning": "RM",
         "LotFrontage": 21,
         "LotArea": 1526,
         "Street": "Pave",
         "Alley": "nan",
         "LotShape": "Reg",
         "LandContour": "Lvl",
         "Utilities": "AllPub",
         "LotConfig": "Inside",
         "LandSlope": "Gtl",
         "Neighborhood": "MeadowV",
         "Condition1": "Norm",
         "Condition2": "Norm",
         "BldgType": "Twnhs",
         "HouseStyle": "2Story",
         "OverallQual": 4,
         "OverallCond": 5,
         "YearBuilt": 1970,
         "YearRemodAdd": 1970,
         "RoofStyle": "Gable",
         "RoofMatl": "CompShg",
         "Exterior1st": "CemntBd",
         "Exterior2nd": "CmentBd",
         "MasVnrType": "None",
         "MasVnrArea": 0,
         "ExterQual": "TA",
         "ExterCond": "TA",
         "Foundation": "CBlock",
         "BsmtQual": "TA",
         "BsmtCond": "TA",
         "BsmtExposure": "No",
         "BsmtFinType1": "Unf",
         "BsmtFinSF1": 0,
         "BsmtFinType2": "Unf",
         "BsmtFinSF2": 0,
         "BsmtUnfSF": 546,
         "TotalBsmtSF": 546,
         "Heating": "GasA",
         "HeatingQC": "TA",
         "CentralAir": "Y",
         "Electrical": "SBrkr",
         "1stFlrSF": 546,
         "2ndFlrSF": 546,
         "LowQualFinSF": 0,
         "GrLivArea": 1092,
         "BsmtFullBath": 0,
         "BsmtHalfBath": 0,
         "FullBath": 1,
         "HalfBath": 1,
         "BedroomAbvGr": 3,
         "KitchenAbvGr": 1,
         "KitchenQual": "TA",
         "TotRmsAbvGrd": 5,
         "Functional": "Typ",
         "Fireplaces": 0,
         "FireplaceQu": "nan",
         "GarageType": "nan",
         "GarageYrBlt": "nan",
         "GarageFinish": "nan",
         "GarageCars": 0,
         "GarageArea": 0,
         "GarageQual": "nan",
         "GarageCond": "nan",
         "PavedDrive": "Y",
         "WoodDeckSF": 0,
         "OpenPorchSF": 34,
         "EnclosedPorch": 0,
         "3SsnPorch": 0,
         "ScreenPorch": 0,
         "PoolArea": 0,
         "PoolQC": "nan",
         "Fence": "GdPrv",
         "MiscFeature": "nan",
         "MiscVal": 0,
         "MoSold": 6,
         "YrSold": 2006,
         "SaleType": "WD",
         "SaleCondition": "Normal",
         "SalePrice": "nan",
         "_deepnote_index_column": 2913
        },
        {
         "Id": 2915,
         "MSSubClass": 160,
         "MSZoning": "RM",
         "LotFrontage": 21,
         "LotArea": 1936,
         "Street": "Pave",
         "Alley": "nan",
         "LotShape": "Reg",
         "LandContour": "Lvl",
         "Utilities": "AllPub",
         "LotConfig": "Inside",
         "LandSlope": "Gtl",
         "Neighborhood": "MeadowV",
         "Condition1": "Norm",
         "Condition2": "Norm",
         "BldgType": "Twnhs",
         "HouseStyle": "2Story",
         "OverallQual": 4,
         "OverallCond": 7,
         "YearBuilt": 1970,
         "YearRemodAdd": 1970,
         "RoofStyle": "Gable",
         "RoofMatl": "CompShg",
         "Exterior1st": "CemntBd",
         "Exterior2nd": "CmentBd",
         "MasVnrType": "None",
         "MasVnrArea": 0,
         "ExterQual": "TA",
         "ExterCond": "TA",
         "Foundation": "CBlock",
         "BsmtQual": "TA",
         "BsmtCond": "TA",
         "BsmtExposure": "No",
         "BsmtFinType1": "Unf",
         "BsmtFinSF1": 0,
         "BsmtFinType2": "Unf",
         "BsmtFinSF2": 0,
         "BsmtUnfSF": 546,
         "TotalBsmtSF": 546,
         "Heating": "GasA",
         "HeatingQC": "Gd",
         "CentralAir": "Y",
         "Electrical": "SBrkr",
         "1stFlrSF": 546,
         "2ndFlrSF": 546,
         "LowQualFinSF": 0,
         "GrLivArea": 1092,
         "BsmtFullBath": 0,
         "BsmtHalfBath": 0,
         "FullBath": 1,
         "HalfBath": 1,
         "BedroomAbvGr": 3,
         "KitchenAbvGr": 1,
         "KitchenQual": "TA",
         "TotRmsAbvGrd": 5,
         "Functional": "Typ",
         "Fireplaces": 0,
         "FireplaceQu": "nan",
         "GarageType": "nan",
         "GarageYrBlt": "nan",
         "GarageFinish": "nan",
         "GarageCars": 0,
         "GarageArea": 0,
         "GarageQual": "nan",
         "GarageCond": "nan",
         "PavedDrive": "Y",
         "WoodDeckSF": 0,
         "OpenPorchSF": 0,
         "EnclosedPorch": 0,
         "3SsnPorch": 0,
         "ScreenPorch": 0,
         "PoolArea": 0,
         "PoolQC": "nan",
         "Fence": "nan",
         "MiscFeature": "nan",
         "MiscVal": 0,
         "MoSold": 6,
         "YrSold": 2006,
         "SaleType": "WD",
         "SaleCondition": "Normal",
         "SalePrice": "nan",
         "_deepnote_index_column": 2914
        },
        {
         "Id": 2916,
         "MSSubClass": 160,
         "MSZoning": "RM",
         "LotFrontage": 21,
         "LotArea": 1894,
         "Street": "Pave",
         "Alley": "nan",
         "LotShape": "Reg",
         "LandContour": "Lvl",
         "Utilities": "AllPub",
         "LotConfig": "Inside",
         "LandSlope": "Gtl",
         "Neighborhood": "MeadowV",
         "Condition1": "Norm",
         "Condition2": "Norm",
         "BldgType": "TwnhsE",
         "HouseStyle": "2Story",
         "OverallQual": 4,
         "OverallCond": 5,
         "YearBuilt": 1970,
         "YearRemodAdd": 1970,
         "RoofStyle": "Gable",
         "RoofMatl": "CompShg",
         "Exterior1st": "CemntBd",
         "Exterior2nd": "CmentBd",
         "MasVnrType": "None",
         "MasVnrArea": 0,
         "ExterQual": "TA",
         "ExterCond": "TA",
         "Foundation": "CBlock",
         "BsmtQual": "TA",
         "BsmtCond": "TA",
         "BsmtExposure": "No",
         "BsmtFinType1": "Rec",
         "BsmtFinSF1": 252,
         "BsmtFinType2": "Unf",
         "BsmtFinSF2": 0,
         "BsmtUnfSF": 294,
         "TotalBsmtSF": 546,
         "Heating": "GasA",
         "HeatingQC": "TA",
         "CentralAir": "Y",
         "Electrical": "SBrkr",
         "1stFlrSF": 546,
         "2ndFlrSF": 546,
         "LowQualFinSF": 0,
         "GrLivArea": 1092,
         "BsmtFullBath": 0,
         "BsmtHalfBath": 0,
         "FullBath": 1,
         "HalfBath": 1,
         "BedroomAbvGr": 3,
         "KitchenAbvGr": 1,
         "KitchenQual": "TA",
         "TotRmsAbvGrd": 6,
         "Functional": "Typ",
         "Fireplaces": 0,
         "FireplaceQu": "nan",
         "GarageType": "CarPort",
         "GarageYrBlt": 1970,
         "GarageFinish": "Unf",
         "GarageCars": 1,
         "GarageArea": 286,
         "GarageQual": "TA",
         "GarageCond": "TA",
         "PavedDrive": "Y",
         "WoodDeckSF": 0,
         "OpenPorchSF": 24,
         "EnclosedPorch": 0,
         "3SsnPorch": 0,
         "ScreenPorch": 0,
         "PoolArea": 0,
         "PoolQC": "nan",
         "Fence": "nan",
         "MiscFeature": "nan",
         "MiscVal": 0,
         "MoSold": 4,
         "YrSold": 2006,
         "SaleType": "WD",
         "SaleCondition": "Abnorml",
         "SalePrice": "nan",
         "_deepnote_index_column": 2915
        },
        {
         "Id": 2917,
         "MSSubClass": 20,
         "MSZoning": "RL",
         "LotFrontage": 160,
         "LotArea": 20000,
         "Street": "Pave",
         "Alley": "nan",
         "LotShape": "Reg",
         "LandContour": "Lvl",
         "Utilities": "AllPub",
         "LotConfig": "Inside",
         "LandSlope": "Gtl",
         "Neighborhood": "Mitchel",
         "Condition1": "Norm",
         "Condition2": "Norm",
         "BldgType": "1Fam",
         "HouseStyle": "1Story",
         "OverallQual": 5,
         "OverallCond": 7,
         "YearBuilt": 1960,
         "YearRemodAdd": 1996,
         "RoofStyle": "Gable",
         "RoofMatl": "CompShg",
         "Exterior1st": "VinylSd",
         "Exterior2nd": "VinylSd",
         "MasVnrType": "None",
         "MasVnrArea": 0,
         "ExterQual": "TA",
         "ExterCond": "TA",
         "Foundation": "CBlock",
         "BsmtQual": "TA",
         "BsmtCond": "TA",
         "BsmtExposure": "No",
         "BsmtFinType1": "ALQ",
         "BsmtFinSF1": 1224,
         "BsmtFinType2": "Unf",
         "BsmtFinSF2": 0,
         "BsmtUnfSF": 0,
         "TotalBsmtSF": 1224,
         "Heating": "GasA",
         "HeatingQC": "Ex",
         "CentralAir": "Y",
         "Electrical": "SBrkr",
         "1stFlrSF": 1224,
         "2ndFlrSF": 0,
         "LowQualFinSF": 0,
         "GrLivArea": 1224,
         "BsmtFullBath": 1,
         "BsmtHalfBath": 0,
         "FullBath": 1,
         "HalfBath": 0,
         "BedroomAbvGr": 4,
         "KitchenAbvGr": 1,
         "KitchenQual": "TA",
         "TotRmsAbvGrd": 7,
         "Functional": "Typ",
         "Fireplaces": 1,
         "FireplaceQu": "TA",
         "GarageType": "Detchd",
         "GarageYrBlt": 1960,
         "GarageFinish": "Unf",
         "GarageCars": 2,
         "GarageArea": 576,
         "GarageQual": "TA",
         "GarageCond": "TA",
         "PavedDrive": "Y",
         "WoodDeckSF": 474,
         "OpenPorchSF": 0,
         "EnclosedPorch": 0,
         "3SsnPorch": 0,
         "ScreenPorch": 0,
         "PoolArea": 0,
         "PoolQC": "nan",
         "Fence": "nan",
         "MiscFeature": "nan",
         "MiscVal": 0,
         "MoSold": 9,
         "YrSold": 2006,
         "SaleType": "WD",
         "SaleCondition": "Abnorml",
         "SalePrice": "nan",
         "_deepnote_index_column": 2916
        },
        {
         "Id": 2918,
         "MSSubClass": 85,
         "MSZoning": "RL",
         "LotFrontage": 62,
         "LotArea": 10441,
         "Street": "Pave",
         "Alley": "nan",
         "LotShape": "Reg",
         "LandContour": "Lvl",
         "Utilities": "AllPub",
         "LotConfig": "Inside",
         "LandSlope": "Gtl",
         "Neighborhood": "Mitchel",
         "Condition1": "Norm",
         "Condition2": "Norm",
         "BldgType": "1Fam",
         "HouseStyle": "SFoyer",
         "OverallQual": 5,
         "OverallCond": 5,
         "YearBuilt": 1992,
         "YearRemodAdd": 1992,
         "RoofStyle": "Gable",
         "RoofMatl": "CompShg",
         "Exterior1st": "HdBoard",
         "Exterior2nd": "Wd Shng",
         "MasVnrType": "None",
         "MasVnrArea": 0,
         "ExterQual": "TA",
         "ExterCond": "TA",
         "Foundation": "PConc",
         "BsmtQual": "Gd",
         "BsmtCond": "TA",
         "BsmtExposure": "Av",
         "BsmtFinType1": "GLQ",
         "BsmtFinSF1": 337,
         "BsmtFinType2": "Unf",
         "BsmtFinSF2": 0,
         "BsmtUnfSF": 575,
         "TotalBsmtSF": 912,
         "Heating": "GasA",
         "HeatingQC": "TA",
         "CentralAir": "Y",
         "Electrical": "SBrkr",
         "1stFlrSF": 970,
         "2ndFlrSF": 0,
         "LowQualFinSF": 0,
         "GrLivArea": 970,
         "BsmtFullBath": 0,
         "BsmtHalfBath": 1,
         "FullBath": 1,
         "HalfBath": 0,
         "BedroomAbvGr": 3,
         "KitchenAbvGr": 1,
         "KitchenQual": "TA",
         "TotRmsAbvGrd": 6,
         "Functional": "Typ",
         "Fireplaces": 0,
         "FireplaceQu": "nan",
         "GarageType": "nan",
         "GarageYrBlt": "nan",
         "GarageFinish": "nan",
         "GarageCars": 0,
         "GarageArea": 0,
         "GarageQual": "nan",
         "GarageCond": "nan",
         "PavedDrive": "Y",
         "WoodDeckSF": 80,
         "OpenPorchSF": 32,
         "EnclosedPorch": 0,
         "3SsnPorch": 0,
         "ScreenPorch": 0,
         "PoolArea": 0,
         "PoolQC": "nan",
         "Fence": "MnPrv",
         "MiscFeature": "Shed",
         "MiscVal": 700,
         "MoSold": 7,
         "YrSold": 2006,
         "SaleType": "WD",
         "SaleCondition": "Normal",
         "SalePrice": "nan",
         "_deepnote_index_column": 2917
        },
        {
         "Id": 2919,
         "MSSubClass": 60,
         "MSZoning": "RL",
         "LotFrontage": 74,
         "LotArea": 9627,
         "Street": "Pave",
         "Alley": "nan",
         "LotShape": "Reg",
         "LandContour": "Lvl",
         "Utilities": "AllPub",
         "LotConfig": "Inside",
         "LandSlope": "Mod",
         "Neighborhood": "Mitchel",
         "Condition1": "Norm",
         "Condition2": "Norm",
         "BldgType": "1Fam",
         "HouseStyle": "2Story",
         "OverallQual": 7,
         "OverallCond": 5,
         "YearBuilt": 1993,
         "YearRemodAdd": 1994,
         "RoofStyle": "Gable",
         "RoofMatl": "CompShg",
         "Exterior1st": "HdBoard",
         "Exterior2nd": "HdBoard",
         "MasVnrType": "BrkFace",
         "MasVnrArea": 94,
         "ExterQual": "TA",
         "ExterCond": "TA",
         "Foundation": "PConc",
         "BsmtQual": "Gd",
         "BsmtCond": "TA",
         "BsmtExposure": "Av",
         "BsmtFinType1": "LwQ",
         "BsmtFinSF1": 758,
         "BsmtFinType2": "Unf",
         "BsmtFinSF2": 0,
         "BsmtUnfSF": 238,
         "TotalBsmtSF": 996,
         "Heating": "GasA",
         "HeatingQC": "Ex",
         "CentralAir": "Y",
         "Electrical": "SBrkr",
         "1stFlrSF": 996,
         "2ndFlrSF": 1004,
         "LowQualFinSF": 0,
         "GrLivArea": 2000,
         "BsmtFullBath": 0,
         "BsmtHalfBath": 0,
         "FullBath": 2,
         "HalfBath": 1,
         "BedroomAbvGr": 3,
         "KitchenAbvGr": 1,
         "KitchenQual": "TA",
         "TotRmsAbvGrd": 9,
         "Functional": "Typ",
         "Fireplaces": 1,
         "FireplaceQu": "TA",
         "GarageType": "Attchd",
         "GarageYrBlt": 1993,
         "GarageFinish": "Fin",
         "GarageCars": 3,
         "GarageArea": 650,
         "GarageQual": "TA",
         "GarageCond": "TA",
         "PavedDrive": "Y",
         "WoodDeckSF": 190,
         "OpenPorchSF": 48,
         "EnclosedPorch": 0,
         "3SsnPorch": 0,
         "ScreenPorch": 0,
         "PoolArea": 0,
         "PoolQC": "nan",
         "Fence": "nan",
         "MiscFeature": "nan",
         "MiscVal": 0,
         "MoSold": 11,
         "YrSold": 2006,
         "SaleType": "WD",
         "SaleCondition": "Normal",
         "SalePrice": "nan",
         "_deepnote_index_column": 2918
        }
       ]
      },
      "text/plain": "        Id  MSSubClass MSZoning  LotFrontage  LotArea Street Alley LotShape  \\\n0        1          60       RL         65.0     8450   Pave   NaN      Reg   \n1        2          20       RL         80.0     9600   Pave   NaN      Reg   \n2        3          60       RL         68.0    11250   Pave   NaN      IR1   \n3        4          70       RL         60.0     9550   Pave   NaN      IR1   \n4        5          60       RL         84.0    14260   Pave   NaN      IR1   \n...    ...         ...      ...          ...      ...    ...   ...      ...   \n2914  2915         160       RM         21.0     1936   Pave   NaN      Reg   \n2915  2916         160       RM         21.0     1894   Pave   NaN      Reg   \n2916  2917          20       RL        160.0    20000   Pave   NaN      Reg   \n2917  2918          85       RL         62.0    10441   Pave   NaN      Reg   \n2918  2919          60       RL         74.0     9627   Pave   NaN      Reg   \n\n     LandContour Utilities  ... PoolArea PoolQC  Fence MiscFeature MiscVal  \\\n0            Lvl    AllPub  ...        0    NaN    NaN         NaN       0   \n1            Lvl    AllPub  ...        0    NaN    NaN         NaN       0   \n2            Lvl    AllPub  ...        0    NaN    NaN         NaN       0   \n3            Lvl    AllPub  ...        0    NaN    NaN         NaN       0   \n4            Lvl    AllPub  ...        0    NaN    NaN         NaN       0   \n...          ...       ...  ...      ...    ...    ...         ...     ...   \n2914         Lvl    AllPub  ...        0    NaN    NaN         NaN       0   \n2915         Lvl    AllPub  ...        0    NaN    NaN         NaN       0   \n2916         Lvl    AllPub  ...        0    NaN    NaN         NaN       0   \n2917         Lvl    AllPub  ...        0    NaN  MnPrv        Shed     700   \n2918         Lvl    AllPub  ...        0    NaN    NaN         NaN       0   \n\n     MoSold YrSold  SaleType  SaleCondition  SalePrice  \n0         2   2008        WD         Normal   208500.0  \n1         5   2007        WD         Normal   181500.0  \n2         9   2008        WD         Normal   223500.0  \n3         2   2006        WD        Abnorml   140000.0  \n4        12   2008        WD         Normal   250000.0  \n...     ...    ...       ...            ...        ...  \n2914      6   2006        WD         Normal        NaN  \n2915      4   2006        WD        Abnorml        NaN  \n2916      9   2006        WD        Abnorml        NaN  \n2917      7   2006        WD         Normal        NaN  \n2918     11   2006        WD         Normal        NaN  \n\n[2919 rows x 81 columns]",
      "text/html": "<div>\n<style scoped>\n    .dataframe tbody tr th:only-of-type {\n        vertical-align: middle;\n    }\n\n    .dataframe tbody tr th {\n        vertical-align: top;\n    }\n\n    .dataframe thead th {\n        text-align: right;\n    }\n</style>\n<table border=\"1\" class=\"dataframe\">\n  <thead>\n    <tr style=\"text-align: right;\">\n      <th></th>\n      <th>Id</th>\n      <th>MSSubClass</th>\n      <th>MSZoning</th>\n      <th>LotFrontage</th>\n      <th>LotArea</th>\n      <th>Street</th>\n      <th>Alley</th>\n      <th>LotShape</th>\n      <th>LandContour</th>\n      <th>Utilities</th>\n      <th>...</th>\n      <th>PoolArea</th>\n      <th>PoolQC</th>\n      <th>Fence</th>\n      <th>MiscFeature</th>\n      <th>MiscVal</th>\n      <th>MoSold</th>\n      <th>YrSold</th>\n      <th>SaleType</th>\n      <th>SaleCondition</th>\n      <th>SalePrice</th>\n    </tr>\n  </thead>\n  <tbody>\n    <tr>\n      <th>0</th>\n      <td>1</td>\n      <td>60</td>\n      <td>RL</td>\n      <td>65.0</td>\n      <td>8450</td>\n      <td>Pave</td>\n      <td>NaN</td>\n      <td>Reg</td>\n      <td>Lvl</td>\n      <td>AllPub</td>\n      <td>...</td>\n      <td>0</td>\n      <td>NaN</td>\n      <td>NaN</td>\n      <td>NaN</td>\n      <td>0</td>\n      <td>2</td>\n      <td>2008</td>\n      <td>WD</td>\n      <td>Normal</td>\n      <td>208500.0</td>\n    </tr>\n    <tr>\n      <th>1</th>\n      <td>2</td>\n      <td>20</td>\n      <td>RL</td>\n      <td>80.0</td>\n      <td>9600</td>\n      <td>Pave</td>\n      <td>NaN</td>\n      <td>Reg</td>\n      <td>Lvl</td>\n      <td>AllPub</td>\n      <td>...</td>\n      <td>0</td>\n      <td>NaN</td>\n      <td>NaN</td>\n      <td>NaN</td>\n      <td>0</td>\n      <td>5</td>\n      <td>2007</td>\n      <td>WD</td>\n      <td>Normal</td>\n      <td>181500.0</td>\n    </tr>\n    <tr>\n      <th>2</th>\n      <td>3</td>\n      <td>60</td>\n      <td>RL</td>\n      <td>68.0</td>\n      <td>11250</td>\n      <td>Pave</td>\n      <td>NaN</td>\n      <td>IR1</td>\n      <td>Lvl</td>\n      <td>AllPub</td>\n      <td>...</td>\n      <td>0</td>\n      <td>NaN</td>\n      <td>NaN</td>\n      <td>NaN</td>\n      <td>0</td>\n      <td>9</td>\n      <td>2008</td>\n      <td>WD</td>\n      <td>Normal</td>\n      <td>223500.0</td>\n    </tr>\n    <tr>\n      <th>3</th>\n      <td>4</td>\n      <td>70</td>\n      <td>RL</td>\n      <td>60.0</td>\n      <td>9550</td>\n      <td>Pave</td>\n      <td>NaN</td>\n      <td>IR1</td>\n      <td>Lvl</td>\n      <td>AllPub</td>\n      <td>...</td>\n      <td>0</td>\n      <td>NaN</td>\n      <td>NaN</td>\n      <td>NaN</td>\n      <td>0</td>\n      <td>2</td>\n      <td>2006</td>\n      <td>WD</td>\n      <td>Abnorml</td>\n      <td>140000.0</td>\n    </tr>\n    <tr>\n      <th>4</th>\n      <td>5</td>\n      <td>60</td>\n      <td>RL</td>\n      <td>84.0</td>\n      <td>14260</td>\n      <td>Pave</td>\n      <td>NaN</td>\n      <td>IR1</td>\n      <td>Lvl</td>\n      <td>AllPub</td>\n      <td>...</td>\n      <td>0</td>\n      <td>NaN</td>\n      <td>NaN</td>\n      <td>NaN</td>\n      <td>0</td>\n      <td>12</td>\n      <td>2008</td>\n      <td>WD</td>\n      <td>Normal</td>\n      <td>250000.0</td>\n    </tr>\n    <tr>\n      <th>...</th>\n      <td>...</td>\n      <td>...</td>\n      <td>...</td>\n      <td>...</td>\n      <td>...</td>\n      <td>...</td>\n      <td>...</td>\n      <td>...</td>\n      <td>...</td>\n      <td>...</td>\n      <td>...</td>\n      <td>...</td>\n      <td>...</td>\n      <td>...</td>\n      <td>...</td>\n      <td>...</td>\n      <td>...</td>\n      <td>...</td>\n      <td>...</td>\n      <td>...</td>\n      <td>...</td>\n    </tr>\n    <tr>\n      <th>2914</th>\n      <td>2915</td>\n      <td>160</td>\n      <td>RM</td>\n      <td>21.0</td>\n      <td>1936</td>\n      <td>Pave</td>\n      <td>NaN</td>\n      <td>Reg</td>\n      <td>Lvl</td>\n      <td>AllPub</td>\n      <td>...</td>\n      <td>0</td>\n      <td>NaN</td>\n      <td>NaN</td>\n      <td>NaN</td>\n      <td>0</td>\n      <td>6</td>\n      <td>2006</td>\n      <td>WD</td>\n      <td>Normal</td>\n      <td>NaN</td>\n    </tr>\n    <tr>\n      <th>2915</th>\n      <td>2916</td>\n      <td>160</td>\n      <td>RM</td>\n      <td>21.0</td>\n      <td>1894</td>\n      <td>Pave</td>\n      <td>NaN</td>\n      <td>Reg</td>\n      <td>Lvl</td>\n      <td>AllPub</td>\n      <td>...</td>\n      <td>0</td>\n      <td>NaN</td>\n      <td>NaN</td>\n      <td>NaN</td>\n      <td>0</td>\n      <td>4</td>\n      <td>2006</td>\n      <td>WD</td>\n      <td>Abnorml</td>\n      <td>NaN</td>\n    </tr>\n    <tr>\n      <th>2916</th>\n      <td>2917</td>\n      <td>20</td>\n      <td>RL</td>\n      <td>160.0</td>\n      <td>20000</td>\n      <td>Pave</td>\n      <td>NaN</td>\n      <td>Reg</td>\n      <td>Lvl</td>\n      <td>AllPub</td>\n      <td>...</td>\n      <td>0</td>\n      <td>NaN</td>\n      <td>NaN</td>\n      <td>NaN</td>\n      <td>0</td>\n      <td>9</td>\n      <td>2006</td>\n      <td>WD</td>\n      <td>Abnorml</td>\n      <td>NaN</td>\n    </tr>\n    <tr>\n      <th>2917</th>\n      <td>2918</td>\n      <td>85</td>\n      <td>RL</td>\n      <td>62.0</td>\n      <td>10441</td>\n      <td>Pave</td>\n      <td>NaN</td>\n      <td>Reg</td>\n      <td>Lvl</td>\n      <td>AllPub</td>\n      <td>...</td>\n      <td>0</td>\n      <td>NaN</td>\n      <td>MnPrv</td>\n      <td>Shed</td>\n      <td>700</td>\n      <td>7</td>\n      <td>2006</td>\n      <td>WD</td>\n      <td>Normal</td>\n      <td>NaN</td>\n    </tr>\n    <tr>\n      <th>2918</th>\n      <td>2919</td>\n      <td>60</td>\n      <td>RL</td>\n      <td>74.0</td>\n      <td>9627</td>\n      <td>Pave</td>\n      <td>NaN</td>\n      <td>Reg</td>\n      <td>Lvl</td>\n      <td>AllPub</td>\n      <td>...</td>\n      <td>0</td>\n      <td>NaN</td>\n      <td>NaN</td>\n      <td>NaN</td>\n      <td>0</td>\n      <td>11</td>\n      <td>2006</td>\n      <td>WD</td>\n      <td>Normal</td>\n      <td>NaN</td>\n    </tr>\n  </tbody>\n</table>\n<p>2919 rows × 81 columns</p>\n</div>"
     },
     "metadata": {}
    }
   ]
  },
  {
   "cell_type": "code",
   "metadata": {
    "tags": [],
    "cell_id": "00008-1306961e-5313-4e72-8cc8-0d070cc2b605",
    "deepnote_to_be_reexecuted": false,
    "source_hash": "2f9ea4a7",
    "execution_start": 1635264956085,
    "execution_millis": 189,
    "deepnote_cell_type": "code"
   },
   "source": "missing_values = (all_data.isnull().sum() / len(all_data)) * 100\nmissing_values = missing_values.drop(missing_values[missing_values == 0].index).sort_values(ascending=False)\nmissing_values.head(30)",
   "execution_count": 5,
   "outputs": [
    {
     "output_type": "execute_result",
     "execution_count": 5,
     "data": {
      "text/plain": "PoolQC          99.657417\nMiscFeature     96.402878\nAlley           93.216855\nFence           80.438506\nSalePrice       49.982871\nFireplaceQu     48.646797\nLotFrontage     16.649538\nGarageCond       5.447071\nGarageYrBlt      5.447071\nGarageFinish     5.447071\nGarageQual       5.447071\nGarageType       5.378554\nBsmtExposure     2.809181\nBsmtCond         2.809181\nBsmtQual         2.774923\nBsmtFinType2     2.740665\nBsmtFinType1     2.706406\nMasVnrType       0.822199\nMasVnrArea       0.787941\nMSZoning         0.137033\nFunctional       0.068517\nBsmtHalfBath     0.068517\nBsmtFullBath     0.068517\nUtilities        0.068517\nKitchenQual      0.034258\nTotalBsmtSF      0.034258\nBsmtUnfSF        0.034258\nGarageCars       0.034258\nGarageArea       0.034258\nBsmtFinSF2       0.034258\ndtype: float64"
     },
     "metadata": {}
    }
   ]
  },
  {
   "cell_type": "code",
   "metadata": {
    "tags": [],
    "cell_id": "00009-6a945f55-de38-49d2-a855-2c0c934853f5",
    "deepnote_to_be_reexecuted": false,
    "source_hash": "35307536",
    "execution_start": 1635264956195,
    "execution_millis": 15,
    "deepnote_cell_type": "code"
   },
   "source": "is_nan = all_data['LotFrontage'] == 0\n",
   "execution_count": 6,
   "outputs": []
  },
  {
   "cell_type": "markdown",
   "source": "# Data Analysis\n\nLet's list all the features that contains outliers or missing values:\n\n- Missing values: Alley, MasVnrType,BsmtQual, BsmtCond, BsmtExposure, BsmtFinType1, BsmtFinType2, Electrical, FirePlaceQu, GarageType, GarageFinish, GarageQual, GarageCond\n- Potential outliers:  LotFrontage, MasVnrArea, GarageYrBlt\n\n \n",
   "metadata": {
    "tags": [],
    "cell_id": "00005-c7b4c1db-abbd-482d-ae1b-336d1774e8db",
    "deepnote_cell_type": "markdown"
   }
  },
  {
   "cell_type": "markdown",
   "source": "### Missing Values",
   "metadata": {
    "tags": [],
    "is_collapsed": false,
    "cell_id": "00009-a4cf2a18-6e4b-4ac1-b2e8-143e0e08d5f9",
    "deepnote_cell_type": "text-cell-h3"
   }
  },
  {
   "cell_type": "markdown",
   "source": "We will go through each feature and try to get a better understanding as to why they have missing values.\n\nPoolQc - Pool Quality\n\nPoolQc may have a lot of missing values because it is hard to determine the quality of the pool. Also, because it is common for houses to not have pools.\n\nAlley - Type of Alley access\n\nA lot of data is missing for the alley feature because there may not be alleys accessible to the house.\n\nMiscFeature - Miscellaneous feature not covered in other categories\n\nMost houses may not have features that aren't already cvered in other categories.\n\nFence - Fence Quality\n\nA lot of houses do not have fences surrounding them. A good example is row houses. So the missing values of fences could be because there were no fences in the houses to begin with.\n\nFirePlaceQu - Fire Place Quality\n\nMissing values here are labeled as nan ,  which was used to indicate houses with no fireplace. In this case, they were not missing values instead they represented 0 values.\n\nLot Frontage - Linear feet of street connected to property\n\n\nGarageType - Garage Location\n\nThis feature is easy to describe and categorize since it depends on the garage location whether it is builtin, attached to the house, basement garage or detached from the house. So, If there are any missing values then it is because there is no garage in the house.\n\nGarageYrBlt - Year garage was built\n\nMissing values would be because the data for when the garage was built could not be found/determined.\n\nGarageFinish - Interior finish of the garage\n\nGarage Interior finish was categorized into finished, roughly finished, unfinished and no garage. Data values with NA/NaN values indicate that the house does not have a garage.\n\nGarageQual - Garage Quality ,  GarageCond. - Garage Condition.\n\nSimilar to GarageFinish, the missing values in both GarageQual and GarageCond may indicate the absence of a garage in a house.\n\nBsmt Exposure - Refers to walkout or garden level wall\n\nSome houses have no exposure in their basements and others have no basements. Missing values could be due to either of the two.\n\nBsmtFinType2 - Rating of basement finished area (if multiple types)\n\n\n\n\n",
   "metadata": {
    "tags": [],
    "cell_id": "00010-5a377791-8cc3-4361-9466-0a80fea35c4b",
    "deepnote_cell_type": "markdown"
   }
  },
  {
   "cell_type": "markdown",
   "source": "### Potential Outliers",
   "metadata": {
    "tags": [],
    "is_collapsed": false,
    "cell_id": "00009-b4edf75e-5a0b-4a54-bddc-4981e275678d",
    "deepnote_cell_type": "text-cell-h3"
   }
  },
  {
   "cell_type": "markdown",
   "source": "We will Plot all the Features with Potential Outliers. \n\nStarting with LotFrontage.\n\nLotFrontage stands for  Linear feet of street connected to property",
   "metadata": {
    "tags": [],
    "cell_id": "00009-edce3ea8-4b9e-4ad3-94eb-704dda8a21d0",
    "deepnote_cell_type": "markdown"
   }
  },
  {
   "cell_type": "code",
   "metadata": {
    "tags": [],
    "cell_id": "00010-03180a8d-fd24-4e14-a77d-9677cfa8c8aa",
    "deepnote_to_be_reexecuted": false,
    "source_hash": "1ebfc144",
    "execution_start": 1635264956244,
    "execution_millis": 670,
    "deepnote_cell_type": "code"
   },
   "source": "plt.scatter(x = all_data['LotFrontage'], y = all_data['SalePrice'])\nplt.ylabel('SalePrice', fontsize=15)\nplt.xlabel('LotFrontage', fontsize=15)\nplt.show()",
   "execution_count": 7,
   "outputs": [
    {
     "data": {
      "text/plain": "<Figure size 432x288 with 1 Axes>",
      "image/png": "[encoded data removed]"
     },
     "metadata": {
      "needs_background": "light",
      "image/png": {
       "width": 412,
       "height": 267
      }
     },
     "output_type": "display_data"
    }
   ]
  },
  {
   "cell_type": "markdown",
   "source": "From the plot, most of the values are compacted between the 0 and 150 values of LotFrontage measurement. \n\nIt shows a general trend of SalePrice gradually increasing as the LotFrontage increases with some outliers as the Lot Frontage increases above 150.",
   "metadata": {
    "tags": [],
    "cell_id": "00011-5795d00f-726e-4034-a8e1-cc13e1425dd7",
    "deepnote_cell_type": "markdown"
   }
  },
  {
   "cell_type": "code",
   "metadata": {
    "tags": [],
    "cell_id": "00011-04071d0d-f89c-46de-b139-6b85ddd5af82",
    "deepnote_to_be_reexecuted": false,
    "source_hash": "3bab274c",
    "execution_start": 1635264956983,
    "execution_millis": 468,
    "deepnote_cell_type": "code"
   },
   "source": "all_data[all_data[\"LotFrontage\"] > 250]",
   "execution_count": 8,
   "outputs": [
    {
     "output_type": "execute_result",
     "execution_count": 8,
     "data": {
      "application/vnd.deepnote.dataframe.v2+json": {
       "row_count": 2,
       "column_count": 81,
       "columns": [
        {
         "name": "Id",
         "dtype": "int64",
         "stats": {
          "unique_count": 2,
          "nan_count": 0,
          "min": "935",
          "max": "1299",
          "histogram": [
           {
            "bin_start": 935,
            "bin_end": 971.4,
            "count": 1
           },
           {
            "bin_start": 971.4,
            "bin_end": 1007.8,
            "count": 0
           },
           {
            "bin_start": 1007.8,
            "bin_end": 1044.2,
            "count": 0
           },
           {
            "bin_start": 1044.2,
            "bin_end": 1080.6,
            "count": 0
           },
           {
            "bin_start": 1080.6,
            "bin_end": 1117,
            "count": 0
           },
           {
            "bin_start": 1117,
            "bin_end": 1153.4,
            "count": 0
           },
           {
            "bin_start": 1153.4,
            "bin_end": 1189.8,
            "count": 0
           },
           {
            "bin_start": 1189.8,
            "bin_end": 1226.2,
            "count": 0
           },
           {
            "bin_start": 1226.2,
            "bin_end": 1262.6,
            "count": 0
           },
           {
            "bin_start": 1262.6,
            "bin_end": 1299,
            "count": 1
           }
          ]
         }
        },
        {
         "name": "MSSubClass",
         "dtype": "int64",
         "stats": {
          "unique_count": 2,
          "nan_count": 0,
          "min": "20",
          "max": "60",
          "histogram": [
           {
            "bin_start": 20,
            "bin_end": 24,
            "count": 1
           },
           {
            "bin_start": 24,
            "bin_end": 28,
            "count": 0
           },
           {
            "bin_start": 28,
            "bin_end": 32,
            "count": 0
           },
           {
            "bin_start": 32,
            "bin_end": 36,
            "count": 0
           },
           {
            "bin_start": 36,
            "bin_end": 40,
            "count": 0
           },
           {
            "bin_start": 40,
            "bin_end": 44,
            "count": 0
           },
           {
            "bin_start": 44,
            "bin_end": 48,
            "count": 0
           },
           {
            "bin_start": 48,
            "bin_end": 52,
            "count": 0
           },
           {
            "bin_start": 52,
            "bin_end": 56,
            "count": 0
           },
           {
            "bin_start": 56,
            "bin_end": 60,
            "count": 1
           }
          ]
         }
        },
        {
         "name": "MSZoning",
         "dtype": "object",
         "stats": {
          "unique_count": 1,
          "nan_count": 0,
          "categories": [
           {
            "name": "RL",
            "count": 2
           }
          ]
         }
        },
        {
         "name": "LotFrontage",
         "dtype": "float64",
         "stats": {
          "unique_count": 1,
          "nan_count": 0,
          "min": "313.0",
          "max": "313.0",
          "histogram": [
           {
            "bin_start": 312.5,
            "bin_end": 312.6,
            "count": 0
           },
           {
            "bin_start": 312.6,
            "bin_end": 312.7,
            "count": 0
           },
           {
            "bin_start": 312.7,
            "bin_end": 312.8,
            "count": 0
           },
           {
            "bin_start": 312.8,
            "bin_end": 312.9,
            "count": 0
           },
           {
            "bin_start": 312.9,
            "bin_end": 313,
            "count": 0
           },
           {
            "bin_start": 313,
            "bin_end": 313.1,
            "count": 2
           },
           {
            "bin_start": 313.1,
            "bin_end": 313.2,
            "count": 0
           },
           {
            "bin_start": 313.2,
            "bin_end": 313.3,
            "count": 0
           },
           {
            "bin_start": 313.3,
            "bin_end": 313.4,
            "count": 0
           },
           {
            "bin_start": 313.4,
            "bin_end": 313.5,
            "count": 0
           }
          ]
         }
        },
        {
         "name": "LotArea",
         "dtype": "int64",
         "stats": {
          "unique_count": 2,
          "nan_count": 0,
          "min": "27650",
          "max": "63887",
          "histogram": [
           {
            "bin_start": 27650,
            "bin_end": 31273.7,
            "count": 1
           },
           {
            "bin_start": 31273.7,
            "bin_end": 34897.4,
            "count": 0
           },
           {
            "bin_start": 34897.4,
            "bin_end": 38521.1,
            "count": 0
           },
           {
            "bin_start": 38521.1,
            "bin_end": 42144.8,
            "count": 0
           },
           {
            "bin_start": 42144.8,
            "bin_end": 45768.5,
            "count": 0
           },
           {
            "bin_start": 45768.5,
            "bin_end": 49392.2,
            "count": 0
           },
           {
            "bin_start": 49392.2,
            "bin_end": 53015.899999999994,
            "count": 0
           },
           {
            "bin_start": 53015.899999999994,
            "bin_end": 56639.6,
            "count": 0
           },
           {
            "bin_start": 56639.6,
            "bin_end": 60263.3,
            "count": 0
           },
           {
            "bin_start": 60263.3,
            "bin_end": 63887,
            "count": 1
           }
          ]
         }
        },
        {
         "name": "Street",
         "dtype": "object",
         "stats": {
          "unique_count": 1,
          "nan_count": 0,
          "categories": [
           {
            "name": "Pave",
            "count": 2
           }
          ]
         }
        },
        {
         "name": "Alley",
         "dtype": "object",
         "stats": {
          "unique_count": 0,
          "nan_count": 2,
          "categories": [
           {
            "name": "Missing",
            "count": 2
           }
          ]
         }
        },
        {
         "name": "LotShape",
         "dtype": "object",
         "stats": {
          "unique_count": 2,
          "nan_count": 0,
          "categories": [
           {
            "name": "IR2",
            "count": 1
           },
           {
            "name": "IR3",
            "count": 1
           }
          ]
         }
        },
        {
         "name": "LandContour",
         "dtype": "object",
         "stats": {
          "unique_count": 2,
          "nan_count": 0,
          "categories": [
           {
            "name": "HLS",
            "count": 1
           },
           {
            "name": "Bnk",
            "count": 1
           }
          ]
         }
        },
        {
         "name": "Utilities",
         "dtype": "object",
         "stats": {
          "unique_count": 1,
          "nan_count": 0,
          "categories": [
           {
            "name": "AllPub",
            "count": 2
           }
          ]
         }
        },
        {
         "name": "LotConfig",
         "dtype": "object",
         "stats": {
          "unique_count": 2,
          "nan_count": 0,
          "categories": [
           {
            "name": "Inside",
            "count": 1
           },
           {
            "name": "Corner",
            "count": 1
           }
          ]
         }
        },
        {
         "name": "LandSlope",
         "dtype": "object",
         "stats": {
          "unique_count": 2,
          "nan_count": 0,
          "categories": [
           {
            "name": "Mod",
            "count": 1
           },
           {
            "name": "Gtl",
            "count": 1
           }
          ]
         }
        },
        {
         "name": "Neighborhood",
         "dtype": "object",
         "stats": {
          "unique_count": 2,
          "nan_count": 0,
          "categories": [
           {
            "name": "NAmes",
            "count": 1
           },
           {
            "name": "Edwards",
            "count": 1
           }
          ]
         }
        },
        {
         "name": "Condition1",
         "dtype": "object",
         "stats": {
          "unique_count": 2,
          "nan_count": 0,
          "categories": [
           {
            "name": "PosA",
            "count": 1
           },
           {
            "name": "Feedr",
            "count": 1
           }
          ]
         }
        },
        {
         "name": "Condition2",
         "dtype": "object",
         "stats": {
          "unique_count": 1,
          "nan_count": 0,
          "categories": [
           {
            "name": "Norm",
            "count": 2
           }
          ]
         }
        },
        {
         "name": "BldgType",
         "dtype": "object",
         "stats": {
          "unique_count": 1,
          "nan_count": 0,
          "categories": [
           {
            "name": "1Fam",
            "count": 2
           }
          ]
         }
        },
        {
         "name": "HouseStyle",
         "dtype": "object",
         "stats": {
          "unique_count": 2,
          "nan_count": 0,
          "categories": [
           {
            "name": "1Story",
            "count": 1
           },
           {
            "name": "2Story",
            "count": 1
           }
          ]
         }
        },
        {
         "name": "OverallQual",
         "dtype": "int64",
         "stats": {
          "unique_count": 2,
          "nan_count": 0,
          "min": "7",
          "max": "10",
          "histogram": [
           {
            "bin_start": 7,
            "bin_end": 7.3,
            "count": 1
           },
           {
            "bin_start": 7.3,
            "bin_end": 7.6,
            "count": 0
           },
           {
            "bin_start": 7.6,
            "bin_end": 7.9,
            "count": 0
           },
           {
            "bin_start": 7.9,
            "bin_end": 8.2,
            "count": 0
           },
           {
            "bin_start": 8.2,
            "bin_end": 8.5,
            "count": 0
           },
           {
            "bin_start": 8.5,
            "bin_end": 8.8,
            "count": 0
           },
           {
            "bin_start": 8.8,
            "bin_end": 9.1,
            "count": 0
           },
           {
            "bin_start": 9.1,
            "bin_end": 9.4,
            "count": 0
           },
           {
            "bin_start": 9.4,
            "bin_end": 9.7,
            "count": 0
           },
           {
            "bin_start": 9.7,
            "bin_end": 10,
            "count": 1
           }
          ]
         }
        },
        {
         "name": "OverallCond",
         "dtype": "int64",
         "stats": {
          "unique_count": 2,
          "nan_count": 0,
          "min": "5",
          "max": "7",
          "histogram": [
           {
            "bin_start": 5,
            "bin_end": 5.2,
            "count": 1
           },
           {
            "bin_start": 5.2,
            "bin_end": 5.4,
            "count": 0
           },
           {
            "bin_start": 5.4,
            "bin_end": 5.6,
            "count": 0
           },
           {
            "bin_start": 5.6,
            "bin_end": 5.8,
            "count": 0
           },
           {
            "bin_start": 5.8,
            "bin_end": 6,
            "count": 0
           },
           {
            "bin_start": 6,
            "bin_end": 6.2,
            "count": 0
           },
           {
            "bin_start": 6.2,
            "bin_end": 6.4,
            "count": 0
           },
           {
            "bin_start": 6.4,
            "bin_end": 6.6,
            "count": 0
           },
           {
            "bin_start": 6.6,
            "bin_end": 6.8,
            "count": 0
           },
           {
            "bin_start": 6.8,
            "bin_end": 7,
            "count": 1
           }
          ]
         }
        },
        {
         "name": "YearBuilt",
         "dtype": "int64",
         "stats": {
          "unique_count": 2,
          "nan_count": 0,
          "min": "1960",
          "max": "2008",
          "histogram": [
           {
            "bin_start": 1960,
            "bin_end": 1964.8,
            "count": 1
           },
           {
            "bin_start": 1964.8,
            "bin_end": 1969.6,
            "count": 0
           },
           {
            "bin_start": 1969.6,
            "bin_end": 1974.4,
            "count": 0
           },
           {
            "bin_start": 1974.4,
            "bin_end": 1979.2,
            "count": 0
           },
           {
            "bin_start": 1979.2,
            "bin_end": 1984,
            "count": 0
           },
           {
            "bin_start": 1984,
            "bin_end": 1988.8,
            "count": 0
           },
           {
            "bin_start": 1988.8,
            "bin_end": 1993.6,
            "count": 0
           },
           {
            "bin_start": 1993.6,
            "bin_end": 1998.4,
            "count": 0
           },
           {
            "bin_start": 1998.4,
            "bin_end": 2003.2,
            "count": 0
           },
           {
            "bin_start": 2003.2,
            "bin_end": 2008,
            "count": 1
           }
          ]
         }
        },
        {
         "name": "YearRemodAdd",
         "dtype": "int64",
         "stats": {
          "unique_count": 2,
          "nan_count": 0,
          "min": "2007",
          "max": "2008",
          "histogram": [
           {
            "bin_start": 2007,
            "bin_end": 2007.1,
            "count": 1
           },
           {
            "bin_start": 2007.1,
            "bin_end": 2007.2,
            "count": 0
           },
           {
            "bin_start": 2007.2,
            "bin_end": 2007.3,
            "count": 0
           },
           {
            "bin_start": 2007.3,
            "bin_end": 2007.4,
            "count": 0
           },
           {
            "bin_start": 2007.4,
            "bin_end": 2007.5,
            "count": 0
           },
           {
            "bin_start": 2007.5,
            "bin_end": 2007.6,
            "count": 0
           },
           {
            "bin_start": 2007.6,
            "bin_end": 2007.7,
            "count": 0
           },
           {
            "bin_start": 2007.7,
            "bin_end": 2007.8,
            "count": 0
           },
           {
            "bin_start": 2007.8,
            "bin_end": 2007.9,
            "count": 0
           },
           {
            "bin_start": 2007.9,
            "bin_end": 2008,
            "count": 1
           }
          ]
         }
        },
        {
         "name": "RoofStyle",
         "dtype": "object",
         "stats": {
          "unique_count": 2,
          "nan_count": 0,
          "categories": [
           {
            "name": "Flat",
            "count": 1
           },
           {
            "name": "Hip",
            "count": 1
           }
          ]
         }
        },
        {
         "name": "RoofMatl",
         "dtype": "object",
         "stats": {
          "unique_count": 2,
          "nan_count": 0,
          "categories": [
           {
            "name": "Tar&Grv",
            "count": 1
           },
           {
            "name": "ClyTile",
            "count": 1
           }
          ]
         }
        },
        {
         "name": "Exterior1st",
         "dtype": "object",
         "stats": {
          "unique_count": 2,
          "nan_count": 0,
          "categories": [
           {
            "name": "Wd Sdng",
            "count": 1
           },
           {
            "name": "Stucco",
            "count": 1
           }
          ]
         }
        },
        {
         "name": "Exterior2nd",
         "dtype": "object",
         "stats": {
          "unique_count": 2,
          "nan_count": 0,
          "categories": [
           {
            "name": "Wd Sdng",
            "count": 1
           },
           {
            "name": "Stucco",
            "count": 1
           }
          ]
         }
        },
        {
         "name": "MasVnrType",
         "dtype": "object",
         "stats": {
          "unique_count": 2,
          "nan_count": 0,
          "categories": [
           {
            "name": "None",
            "count": 1
           },
           {
            "name": "Stone",
            "count": 1
           }
          ]
         }
        },
        {
         "name": "MasVnrArea",
         "dtype": "float64",
         "stats": {
          "unique_count": 2,
          "nan_count": 0,
          "min": "0.0",
          "max": "796.0",
          "histogram": [
           {
            "bin_start": 0,
            "bin_end": 79.6,
            "count": 1
           },
           {
            "bin_start": 79.6,
            "bin_end": 159.2,
            "count": 0
           },
           {
            "bin_start": 159.2,
            "bin_end": 238.79999999999998,
            "count": 0
           },
           {
            "bin_start": 238.79999999999998,
            "bin_end": 318.4,
            "count": 0
           },
           {
            "bin_start": 318.4,
            "bin_end": 398,
            "count": 0
           },
           {
            "bin_start": 398,
            "bin_end": 477.59999999999997,
            "count": 0
           },
           {
            "bin_start": 477.59999999999997,
            "bin_end": 557.1999999999999,
            "count": 0
           },
           {
            "bin_start": 557.1999999999999,
            "bin_end": 636.8,
            "count": 0
           },
           {
            "bin_start": 636.8,
            "bin_end": 716.4,
            "count": 0
           },
           {
            "bin_start": 716.4,
            "bin_end": 796,
            "count": 1
           }
          ]
         }
        },
        {
         "name": "ExterQual",
         "dtype": "object",
         "stats": {
          "unique_count": 2,
          "nan_count": 0,
          "categories": [
           {
            "name": "TA",
            "count": 1
           },
           {
            "name": "Ex",
            "count": 1
           }
          ]
         }
        },
        {
         "name": "ExterCond",
         "dtype": "object",
         "stats": {
          "unique_count": 1,
          "nan_count": 0,
          "categories": [
           {
            "name": "TA",
            "count": 2
           }
          ]
         }
        },
        {
         "name": "Foundation",
         "dtype": "object",
         "stats": {
          "unique_count": 2,
          "nan_count": 0,
          "categories": [
           {
            "name": "CBlock",
            "count": 1
           },
           {
            "name": "PConc",
            "count": 1
           }
          ]
         }
        },
        {
         "name": "BsmtQual",
         "dtype": "object",
         "stats": {
          "unique_count": 2,
          "nan_count": 0,
          "categories": [
           {
            "name": "Gd",
            "count": 1
           },
           {
            "name": "Ex",
            "count": 1
           }
          ]
         }
        },
        {
         "name": "BsmtCond",
         "dtype": "object",
         "stats": {
          "unique_count": 1,
          "nan_count": 0,
          "categories": [
           {
            "name": "TA",
            "count": 2
           }
          ]
         }
        },
        {
         "name": "BsmtExposure",
         "dtype": "object",
         "stats": {
          "unique_count": 1,
          "nan_count": 0,
          "categories": [
           {
            "name": "Gd",
            "count": 2
           }
          ]
         }
        },
        {
         "name": "BsmtFinType1",
         "dtype": "object",
         "stats": {
          "unique_count": 1,
          "nan_count": 0,
          "categories": [
           {
            "name": "GLQ",
            "count": 2
           }
          ]
         }
        },
        {
         "name": "BsmtFinSF1",
         "dtype": "float64",
         "stats": {
          "unique_count": 2,
          "nan_count": 0,
          "min": "425.0",
          "max": "5644.0",
          "histogram": [
           {
            "bin_start": 425,
            "bin_end": 946.9,
            "count": 1
           },
           {
            "bin_start": 946.9,
            "bin_end": 1468.8,
            "count": 0
           },
           {
            "bin_start": 1468.8,
            "bin_end": 1990.6999999999998,
            "count": 0
           },
           {
            "bin_start": 1990.6999999999998,
            "bin_end": 2512.6,
            "count": 0
           },
           {
            "bin_start": 2512.6,
            "bin_end": 3034.5,
            "count": 0
           },
           {
            "bin_start": 3034.5,
            "bin_end": 3556.3999999999996,
            "count": 0
           },
           {
            "bin_start": 3556.3999999999996,
            "bin_end": 4078.2999999999997,
            "count": 0
           },
           {
            "bin_start": 4078.2999999999997,
            "bin_end": 4600.2,
            "count": 0
           },
           {
            "bin_start": 4600.2,
            "bin_end": 5122.099999999999,
            "count": 0
           },
           {
            "bin_start": 5122.099999999999,
            "bin_end": 5644,
            "count": 1
           }
          ]
         }
        },
        {
         "name": "BsmtFinType2",
         "dtype": "object",
         "stats": {
          "unique_count": 1,
          "nan_count": 0,
          "categories": [
           {
            "name": "Unf",
            "count": 2
           }
          ]
         }
        },
        {
         "name": "BsmtFinSF2",
         "dtype": "float64",
         "stats": {
          "unique_count": 1,
          "nan_count": 0,
          "min": "0.0",
          "max": "0.0",
          "histogram": [
           {
            "bin_start": -0.5,
            "bin_end": -0.4,
            "count": 0
           },
           {
            "bin_start": -0.4,
            "bin_end": -0.3,
            "count": 0
           },
           {
            "bin_start": -0.3,
            "bin_end": -0.19999999999999996,
            "count": 0
           },
           {
            "bin_start": -0.19999999999999996,
            "bin_end": -0.09999999999999998,
            "count": 0
           },
           {
            "bin_start": -0.09999999999999998,
            "bin_end": 0,
            "count": 0
           },
           {
            "bin_start": 0,
            "bin_end": 0.10000000000000009,
            "count": 2
           },
           {
            "bin_start": 0.10000000000000009,
            "bin_end": 0.20000000000000007,
            "count": 0
           },
           {
            "bin_start": 0.20000000000000007,
            "bin_end": 0.30000000000000004,
            "count": 0
           },
           {
            "bin_start": 0.30000000000000004,
            "bin_end": 0.4,
            "count": 0
           },
           {
            "bin_start": 0.4,
            "bin_end": 0.5,
            "count": 0
           }
          ]
         }
        },
        {
         "name": "BsmtUnfSF",
         "dtype": "float64",
         "stats": {
          "unique_count": 2,
          "nan_count": 0,
          "min": "160.0",
          "max": "466.0",
          "histogram": [
           {
            "bin_start": 160,
            "bin_end": 190.6,
            "count": 1
           },
           {
            "bin_start": 190.6,
            "bin_end": 221.2,
            "count": 0
           },
           {
            "bin_start": 221.2,
            "bin_end": 251.8,
            "count": 0
           },
           {
            "bin_start": 251.8,
            "bin_end": 282.4,
            "count": 0
           },
           {
            "bin_start": 282.4,
            "bin_end": 313,
            "count": 0
           },
           {
            "bin_start": 313,
            "bin_end": 343.6,
            "count": 0
           },
           {
            "bin_start": 343.6,
            "bin_end": 374.20000000000005,
            "count": 0
           },
           {
            "bin_start": 374.20000000000005,
            "bin_end": 404.8,
            "count": 0
           },
           {
            "bin_start": 404.8,
            "bin_end": 435.40000000000003,
            "count": 0
           },
           {
            "bin_start": 435.40000000000003,
            "bin_end": 466,
            "count": 1
           }
          ]
         }
        },
        {
         "name": "TotalBsmtSF",
         "dtype": "float64",
         "stats": {
          "unique_count": 2,
          "nan_count": 0,
          "min": "585.0",
          "max": "6110.0",
          "histogram": [
           {
            "bin_start": 585,
            "bin_end": 1137.5,
            "count": 1
           },
           {
            "bin_start": 1137.5,
            "bin_end": 1690,
            "count": 0
           },
           {
            "bin_start": 1690,
            "bin_end": 2242.5,
            "count": 0
           },
           {
            "bin_start": 2242.5,
            "bin_end": 2795,
            "count": 0
           },
           {
            "bin_start": 2795,
            "bin_end": 3347.5,
            "count": 0
           },
           {
            "bin_start": 3347.5,
            "bin_end": 3900,
            "count": 0
           },
           {
            "bin_start": 3900,
            "bin_end": 4452.5,
            "count": 0
           },
           {
            "bin_start": 4452.5,
            "bin_end": 5005,
            "count": 0
           },
           {
            "bin_start": 5005,
            "bin_end": 5557.5,
            "count": 0
           },
           {
            "bin_start": 5557.5,
            "bin_end": 6110,
            "count": 1
           }
          ]
         }
        },
        {
         "name": "Heating",
         "dtype": "object",
         "stats": {
          "unique_count": 1,
          "nan_count": 0,
          "categories": [
           {
            "name": "GasA",
            "count": 2
           }
          ]
         }
        },
        {
         "name": "HeatingQC",
         "dtype": "object",
         "stats": {
          "unique_count": 1,
          "nan_count": 0,
          "categories": [
           {
            "name": "Ex",
            "count": 2
           }
          ]
         }
        },
        {
         "name": "CentralAir",
         "dtype": "object",
         "stats": {
          "unique_count": 1,
          "nan_count": 0,
          "categories": [
           {
            "name": "Y",
            "count": 2
           }
          ]
         }
        },
        {
         "name": "Electrical",
         "dtype": "object",
         "stats": {
          "unique_count": 1,
          "nan_count": 0,
          "categories": [
           {
            "name": "SBrkr",
            "count": 2
           }
          ]
         }
        },
        {
         "name": "1stFlrSF",
         "dtype": "int64",
         "stats": {
          "unique_count": 2,
          "nan_count": 0,
          "min": "2069",
          "max": "4692",
          "histogram": [
           {
            "bin_start": 2069,
            "bin_end": 2331.3,
            "count": 1
           },
           {
            "bin_start": 2331.3,
            "bin_end": 2593.6,
            "count": 0
           },
           {
            "bin_start": 2593.6,
            "bin_end": 2855.9,
            "count": 0
           },
           {
            "bin_start": 2855.9,
            "bin_end": 3118.2,
            "count": 0
           },
           {
            "bin_start": 3118.2,
            "bin_end": 3380.5,
            "count": 0
           },
           {
            "bin_start": 3380.5,
            "bin_end": 3642.8,
            "count": 0
           },
           {
            "bin_start": 3642.8,
            "bin_end": 3905.1000000000004,
            "count": 0
           },
           {
            "bin_start": 3905.1000000000004,
            "bin_end": 4167.4,
            "count": 0
           },
           {
            "bin_start": 4167.4,
            "bin_end": 4429.700000000001,
            "count": 0
           },
           {
            "bin_start": 4429.700000000001,
            "bin_end": 4692,
            "count": 1
           }
          ]
         }
        },
        {
         "name": "2ndFlrSF",
         "dtype": "int64",
         "stats": {
          "unique_count": 2,
          "nan_count": 0,
          "min": "0",
          "max": "950",
          "histogram": [
           {
            "bin_start": 0,
            "bin_end": 95,
            "count": 1
           },
           {
            "bin_start": 95,
            "bin_end": 190,
            "count": 0
           },
           {
            "bin_start": 190,
            "bin_end": 285,
            "count": 0
           },
           {
            "bin_start": 285,
            "bin_end": 380,
            "count": 0
           },
           {
            "bin_start": 380,
            "bin_end": 475,
            "count": 0
           },
           {
            "bin_start": 475,
            "bin_end": 570,
            "count": 0
           },
           {
            "bin_start": 570,
            "bin_end": 665,
            "count": 0
           },
           {
            "bin_start": 665,
            "bin_end": 760,
            "count": 0
           },
           {
            "bin_start": 760,
            "bin_end": 855,
            "count": 0
           },
           {
            "bin_start": 855,
            "bin_end": 950,
            "count": 1
           }
          ]
         }
        },
        {
         "name": "LowQualFinSF",
         "dtype": "int64",
         "stats": {
          "unique_count": 1,
          "nan_count": 0,
          "min": "0",
          "max": "0",
          "histogram": [
           {
            "bin_start": -0.5,
            "bin_end": -0.4,
            "count": 0
           },
           {
            "bin_start": -0.4,
            "bin_end": -0.3,
            "count": 0
           },
           {
            "bin_start": -0.3,
            "bin_end": -0.19999999999999996,
            "count": 0
           },
           {
            "bin_start": -0.19999999999999996,
            "bin_end": -0.09999999999999998,
            "count": 0
           },
           {
            "bin_start": -0.09999999999999998,
            "bin_end": 0,
            "count": 0
           },
           {
            "bin_start": 0,
            "bin_end": 0.10000000000000009,
            "count": 2
           },
           {
            "bin_start": 0.10000000000000009,
            "bin_end": 0.20000000000000007,
            "count": 0
           },
           {
            "bin_start": 0.20000000000000007,
            "bin_end": 0.30000000000000004,
            "count": 0
           },
           {
            "bin_start": 0.30000000000000004,
            "bin_end": 0.4,
            "count": 0
           },
           {
            "bin_start": 0.4,
            "bin_end": 0.5,
            "count": 0
           }
          ]
         }
        },
        {
         "name": "GrLivArea",
         "dtype": "int64",
         "stats": {
          "unique_count": 2,
          "nan_count": 0,
          "min": "2069",
          "max": "5642",
          "histogram": [
           {
            "bin_start": 2069,
            "bin_end": 2426.3,
            "count": 1
           },
           {
            "bin_start": 2426.3,
            "bin_end": 2783.6,
            "count": 0
           },
           {
            "bin_start": 2783.6,
            "bin_end": 3140.9,
            "count": 0
           },
           {
            "bin_start": 3140.9,
            "bin_end": 3498.2,
            "count": 0
           },
           {
            "bin_start": 3498.2,
            "bin_end": 3855.5,
            "count": 0
           },
           {
            "bin_start": 3855.5,
            "bin_end": 4212.8,
            "count": 0
           },
           {
            "bin_start": 4212.8,
            "bin_end": 4570.1,
            "count": 0
           },
           {
            "bin_start": 4570.1,
            "bin_end": 4927.4,
            "count": 0
           },
           {
            "bin_start": 4927.4,
            "bin_end": 5284.700000000001,
            "count": 0
           },
           {
            "bin_start": 5284.700000000001,
            "bin_end": 5642,
            "count": 1
           }
          ]
         }
        },
        {
         "name": "BsmtFullBath",
         "dtype": "float64",
         "stats": {
          "unique_count": 2,
          "nan_count": 0,
          "min": "1.0",
          "max": "2.0",
          "histogram": [
           {
            "bin_start": 1,
            "bin_end": 1.1,
            "count": 1
           },
           {
            "bin_start": 1.1,
            "bin_end": 1.2,
            "count": 0
           },
           {
            "bin_start": 1.2,
            "bin_end": 1.3,
            "count": 0
           },
           {
            "bin_start": 1.3,
            "bin_end": 1.4,
            "count": 0
           },
           {
            "bin_start": 1.4,
            "bin_end": 1.5,
            "count": 0
           },
           {
            "bin_start": 1.5,
            "bin_end": 1.6,
            "count": 0
           },
           {
            "bin_start": 1.6,
            "bin_end": 1.7000000000000002,
            "count": 0
           },
           {
            "bin_start": 1.7000000000000002,
            "bin_end": 1.8,
            "count": 0
           },
           {
            "bin_start": 1.8,
            "bin_end": 1.9,
            "count": 0
           },
           {
            "bin_start": 1.9,
            "bin_end": 2,
            "count": 1
           }
          ]
         }
        },
        {
         "name": "BsmtHalfBath",
         "dtype": "float64",
         "stats": {
          "unique_count": 1,
          "nan_count": 0,
          "min": "0.0",
          "max": "0.0",
          "histogram": [
           {
            "bin_start": -0.5,
            "bin_end": -0.4,
            "count": 0
           },
           {
            "bin_start": -0.4,
            "bin_end": -0.3,
            "count": 0
           },
           {
            "bin_start": -0.3,
            "bin_end": -0.19999999999999996,
            "count": 0
           },
           {
            "bin_start": -0.19999999999999996,
            "bin_end": -0.09999999999999998,
            "count": 0
           },
           {
            "bin_start": -0.09999999999999998,
            "bin_end": 0,
            "count": 0
           },
           {
            "bin_start": 0,
            "bin_end": 0.10000000000000009,
            "count": 2
           },
           {
            "bin_start": 0.10000000000000009,
            "bin_end": 0.20000000000000007,
            "count": 0
           },
           {
            "bin_start": 0.20000000000000007,
            "bin_end": 0.30000000000000004,
            "count": 0
           },
           {
            "bin_start": 0.30000000000000004,
            "bin_end": 0.4,
            "count": 0
           },
           {
            "bin_start": 0.4,
            "bin_end": 0.5,
            "count": 0
           }
          ]
         }
        },
        {
         "name": "FullBath",
         "dtype": "int64",
         "stats": {
          "unique_count": 1,
          "nan_count": 0,
          "min": "2",
          "max": "2",
          "histogram": [
           {
            "bin_start": 1.5,
            "bin_end": 1.6,
            "count": 0
           },
           {
            "bin_start": 1.6,
            "bin_end": 1.7,
            "count": 0
           },
           {
            "bin_start": 1.7,
            "bin_end": 1.8,
            "count": 0
           },
           {
            "bin_start": 1.8,
            "bin_end": 1.9,
            "count": 0
           },
           {
            "bin_start": 1.9,
            "bin_end": 2,
            "count": 0
           },
           {
            "bin_start": 2,
            "bin_end": 2.1,
            "count": 2
           },
           {
            "bin_start": 2.1,
            "bin_end": 2.2,
            "count": 0
           },
           {
            "bin_start": 2.2,
            "bin_end": 2.3,
            "count": 0
           },
           {
            "bin_start": 2.3,
            "bin_end": 2.4,
            "count": 0
           },
           {
            "bin_start": 2.4,
            "bin_end": 2.5,
            "count": 0
           }
          ]
         }
        },
        {
         "name": "HalfBath",
         "dtype": "int64",
         "stats": {
          "unique_count": 2,
          "nan_count": 0,
          "min": "0",
          "max": "1",
          "histogram": [
           {
            "bin_start": 0,
            "bin_end": 0.1,
            "count": 1
           },
           {
            "bin_start": 0.1,
            "bin_end": 0.2,
            "count": 0
           },
           {
            "bin_start": 0.2,
            "bin_end": 0.30000000000000004,
            "count": 0
           },
           {
            "bin_start": 0.30000000000000004,
            "bin_end": 0.4,
            "count": 0
           },
           {
            "bin_start": 0.4,
            "bin_end": 0.5,
            "count": 0
           },
           {
            "bin_start": 0.5,
            "bin_end": 0.6000000000000001,
            "count": 0
           },
           {
            "bin_start": 0.6000000000000001,
            "bin_end": 0.7000000000000001,
            "count": 0
           },
           {
            "bin_start": 0.7000000000000001,
            "bin_end": 0.8,
            "count": 0
           },
           {
            "bin_start": 0.8,
            "bin_end": 0.9,
            "count": 0
           },
           {
            "bin_start": 0.9,
            "bin_end": 1,
            "count": 1
           }
          ]
         }
        },
        {
         "name": "BedroomAbvGr",
         "dtype": "int64",
         "stats": {
          "unique_count": 2,
          "nan_count": 0,
          "min": "3",
          "max": "4",
          "histogram": [
           {
            "bin_start": 3,
            "bin_end": 3.1,
            "count": 1
           },
           {
            "bin_start": 3.1,
            "bin_end": 3.2,
            "count": 0
           },
           {
            "bin_start": 3.2,
            "bin_end": 3.3,
            "count": 0
           },
           {
            "bin_start": 3.3,
            "bin_end": 3.4,
            "count": 0
           },
           {
            "bin_start": 3.4,
            "bin_end": 3.5,
            "count": 0
           },
           {
            "bin_start": 3.5,
            "bin_end": 3.6,
            "count": 0
           },
           {
            "bin_start": 3.6,
            "bin_end": 3.7,
            "count": 0
           },
           {
            "bin_start": 3.7,
            "bin_end": 3.8,
            "count": 0
           },
           {
            "bin_start": 3.8,
            "bin_end": 3.9,
            "count": 0
           },
           {
            "bin_start": 3.9,
            "bin_end": 4,
            "count": 1
           }
          ]
         }
        },
        {
         "name": "KitchenAbvGr",
         "dtype": "int64",
         "stats": {
          "unique_count": 1,
          "nan_count": 0,
          "min": "1",
          "max": "1",
          "histogram": [
           {
            "bin_start": 0.5,
            "bin_end": 0.6,
            "count": 0
           },
           {
            "bin_start": 0.6,
            "bin_end": 0.7,
            "count": 0
           },
           {
            "bin_start": 0.7,
            "bin_end": 0.8,
            "count": 0
           },
           {
            "bin_start": 0.8,
            "bin_end": 0.9,
            "count": 0
           },
           {
            "bin_start": 0.9,
            "bin_end": 1,
            "count": 0
           },
           {
            "bin_start": 1,
            "bin_end": 1.1,
            "count": 2
           },
           {
            "bin_start": 1.1,
            "bin_end": 1.2000000000000002,
            "count": 0
           },
           {
            "bin_start": 1.2000000000000002,
            "bin_end": 1.3,
            "count": 0
           },
           {
            "bin_start": 1.3,
            "bin_end": 1.4,
            "count": 0
           },
           {
            "bin_start": 1.4,
            "bin_end": 1.5,
            "count": 0
           }
          ]
         }
        },
        {
         "name": "KitchenQual",
         "dtype": "object",
         "stats": {
          "unique_count": 2,
          "nan_count": 0,
          "categories": [
           {
            "name": "Gd",
            "count": 1
           },
           {
            "name": "Ex",
            "count": 1
           }
          ]
         }
        },
        {
         "name": "TotRmsAbvGrd",
         "dtype": "int64",
         "stats": {
          "unique_count": 2,
          "nan_count": 0,
          "min": "9",
          "max": "12",
          "histogram": [
           {
            "bin_start": 9,
            "bin_end": 9.3,
            "count": 1
           },
           {
            "bin_start": 9.3,
            "bin_end": 9.6,
            "count": 0
           },
           {
            "bin_start": 9.6,
            "bin_end": 9.9,
            "count": 0
           },
           {
            "bin_start": 9.9,
            "bin_end": 10.2,
            "count": 0
           },
           {
            "bin_start": 10.2,
            "bin_end": 10.5,
            "count": 0
           },
           {
            "bin_start": 10.5,
            "bin_end": 10.8,
            "count": 0
           },
           {
            "bin_start": 10.8,
            "bin_end": 11.1,
            "count": 0
           },
           {
            "bin_start": 11.1,
            "bin_end": 11.4,
            "count": 0
           },
           {
            "bin_start": 11.4,
            "bin_end": 11.7,
            "count": 0
           },
           {
            "bin_start": 11.7,
            "bin_end": 12,
            "count": 1
           }
          ]
         }
        },
        {
         "name": "Functional",
         "dtype": "object",
         "stats": {
          "unique_count": 1,
          "nan_count": 0,
          "categories": [
           {
            "name": "Typ",
            "count": 2
           }
          ]
         }
        },
        {
         "name": "Fireplaces",
         "dtype": "int64",
         "stats": {
          "unique_count": 2,
          "nan_count": 0,
          "min": "1",
          "max": "3",
          "histogram": [
           {
            "bin_start": 1,
            "bin_end": 1.2,
            "count": 1
           },
           {
            "bin_start": 1.2,
            "bin_end": 1.4,
            "count": 0
           },
           {
            "bin_start": 1.4,
            "bin_end": 1.6,
            "count": 0
           },
           {
            "bin_start": 1.6,
            "bin_end": 1.8,
            "count": 0
           },
           {
            "bin_start": 1.8,
            "bin_end": 2,
            "count": 0
           },
           {
            "bin_start": 2,
            "bin_end": 2.2,
            "count": 0
           },
           {
            "bin_start": 2.2,
            "bin_end": 2.4000000000000004,
            "count": 0
           },
           {
            "bin_start": 2.4000000000000004,
            "bin_end": 2.6,
            "count": 0
           },
           {
            "bin_start": 2.6,
            "bin_end": 2.8,
            "count": 0
           },
           {
            "bin_start": 2.8,
            "bin_end": 3,
            "count": 1
           }
          ]
         }
        },
        {
         "name": "FireplaceQu",
         "dtype": "object",
         "stats": {
          "unique_count": 1,
          "nan_count": 0,
          "categories": [
           {
            "name": "Gd",
            "count": 2
           }
          ]
         }
        },
        {
         "name": "GarageType",
         "dtype": "object",
         "stats": {
          "unique_count": 1,
          "nan_count": 0,
          "categories": [
           {
            "name": "Attchd",
            "count": 2
           }
          ]
         }
        },
        {
         "name": "GarageYrBlt",
         "dtype": "float64",
         "stats": {
          "unique_count": 2,
          "nan_count": 0,
          "min": "1960.0",
          "max": "2008.0",
          "histogram": [
           {
            "bin_start": 1960,
            "bin_end": 1964.8,
            "count": 1
           },
           {
            "bin_start": 1964.8,
            "bin_end": 1969.6,
            "count": 0
           },
           {
            "bin_start": 1969.6,
            "bin_end": 1974.4,
            "count": 0
           },
           {
            "bin_start": 1974.4,
            "bin_end": 1979.2,
            "count": 0
           },
           {
            "bin_start": 1979.2,
            "bin_end": 1984,
            "count": 0
           },
           {
            "bin_start": 1984,
            "bin_end": 1988.8,
            "count": 0
           },
           {
            "bin_start": 1988.8,
            "bin_end": 1993.6,
            "count": 0
           },
           {
            "bin_start": 1993.6,
            "bin_end": 1998.4,
            "count": 0
           },
           {
            "bin_start": 1998.4,
            "bin_end": 2003.2,
            "count": 0
           },
           {
            "bin_start": 2003.2,
            "bin_end": 2008,
            "count": 1
           }
          ]
         }
        },
        {
         "name": "GarageFinish",
         "dtype": "object",
         "stats": {
          "unique_count": 2,
          "nan_count": 0,
          "categories": [
           {
            "name": "RFn",
            "count": 1
           },
           {
            "name": "Fin",
            "count": 1
           }
          ]
         }
        },
        {
         "name": "GarageCars",
         "dtype": "float64",
         "stats": {
          "unique_count": 1,
          "nan_count": 0,
          "min": "2.0",
          "max": "2.0",
          "histogram": [
           {
            "bin_start": 1.5,
            "bin_end": 1.6,
            "count": 0
           },
           {
            "bin_start": 1.6,
            "bin_end": 1.7,
            "count": 0
           },
           {
            "bin_start": 1.7,
            "bin_end": 1.8,
            "count": 0
           },
           {
            "bin_start": 1.8,
            "bin_end": 1.9,
            "count": 0
           },
           {
            "bin_start": 1.9,
            "bin_end": 2,
            "count": 0
           },
           {
            "bin_start": 2,
            "bin_end": 2.1,
            "count": 2
           },
           {
            "bin_start": 2.1,
            "bin_end": 2.2,
            "count": 0
           },
           {
            "bin_start": 2.2,
            "bin_end": 2.3,
            "count": 0
           },
           {
            "bin_start": 2.3,
            "bin_end": 2.4,
            "count": 0
           },
           {
            "bin_start": 2.4,
            "bin_end": 2.5,
            "count": 0
           }
          ]
         }
        },
        {
         "name": "GarageArea",
         "dtype": "float64",
         "stats": {
          "unique_count": 2,
          "nan_count": 0,
          "min": "505.0",
          "max": "1418.0",
          "histogram": [
           {
            "bin_start": 505,
            "bin_end": 596.3,
            "count": 1
           },
           {
            "bin_start": 596.3,
            "bin_end": 687.6,
            "count": 0
           },
           {
            "bin_start": 687.6,
            "bin_end": 778.9,
            "count": 0
           },
           {
            "bin_start": 778.9,
            "bin_end": 870.2,
            "count": 0
           },
           {
            "bin_start": 870.2,
            "bin_end": 961.5,
            "count": 0
           },
           {
            "bin_start": 961.5,
            "bin_end": 1052.8,
            "count": 0
           },
           {
            "bin_start": 1052.8,
            "bin_end": 1144.1,
            "count": 0
           },
           {
            "bin_start": 1144.1,
            "bin_end": 1235.4,
            "count": 0
           },
           {
            "bin_start": 1235.4,
            "bin_end": 1326.6999999999998,
            "count": 0
           },
           {
            "bin_start": 1326.6999999999998,
            "bin_end": 1418,
            "count": 1
           }
          ]
         }
        },
        {
         "name": "GarageQual",
         "dtype": "object",
         "stats": {
          "unique_count": 1,
          "nan_count": 0,
          "categories": [
           {
            "name": "TA",
            "count": 2
           }
          ]
         }
        },
        {
         "name": "GarageCond",
         "dtype": "object",
         "stats": {
          "unique_count": 1,
          "nan_count": 0,
          "categories": [
           {
            "name": "TA",
            "count": 2
           }
          ]
         }
        },
        {
         "name": "PavedDrive",
         "dtype": "object",
         "stats": {
          "unique_count": 1,
          "nan_count": 0,
          "categories": [
           {
            "name": "Y",
            "count": 2
           }
          ]
         }
        },
        {
         "name": "WoodDeckSF",
         "dtype": "int64",
         "stats": {
          "unique_count": 2,
          "nan_count": 0,
          "min": "0",
          "max": "214",
          "histogram": [
           {
            "bin_start": 0,
            "bin_end": 21.4,
            "count": 1
           },
           {
            "bin_start": 21.4,
            "bin_end": 42.8,
            "count": 0
           },
           {
            "bin_start": 42.8,
            "bin_end": 64.19999999999999,
            "count": 0
           },
           {
            "bin_start": 64.19999999999999,
            "bin_end": 85.6,
            "count": 0
           },
           {
            "bin_start": 85.6,
            "bin_end": 107,
            "count": 0
           },
           {
            "bin_start": 107,
            "bin_end": 128.39999999999998,
            "count": 0
           },
           {
            "bin_start": 128.39999999999998,
            "bin_end": 149.79999999999998,
            "count": 0
           },
           {
            "bin_start": 149.79999999999998,
            "bin_end": 171.2,
            "count": 0
           },
           {
            "bin_start": 171.2,
            "bin_end": 192.6,
            "count": 0
           },
           {
            "bin_start": 192.6,
            "bin_end": 214,
            "count": 1
           }
          ]
         }
        },
        {
         "name": "OpenPorchSF",
         "dtype": "int64",
         "stats": {
          "unique_count": 2,
          "nan_count": 0,
          "min": "0",
          "max": "292",
          "histogram": [
           {
            "bin_start": 0,
            "bin_end": 29.2,
            "count": 1
           },
           {
            "bin_start": 29.2,
            "bin_end": 58.4,
            "count": 0
           },
           {
            "bin_start": 58.4,
            "bin_end": 87.6,
            "count": 0
           },
           {
            "bin_start": 87.6,
            "bin_end": 116.8,
            "count": 0
           },
           {
            "bin_start": 116.8,
            "bin_end": 146,
            "count": 0
           },
           {
            "bin_start": 146,
            "bin_end": 175.2,
            "count": 0
           },
           {
            "bin_start": 175.2,
            "bin_end": 204.4,
            "count": 0
           },
           {
            "bin_start": 204.4,
            "bin_end": 233.6,
            "count": 0
           },
           {
            "bin_start": 233.6,
            "bin_end": 262.8,
            "count": 0
           },
           {
            "bin_start": 262.8,
            "bin_end": 292,
            "count": 1
           }
          ]
         }
        },
        {
         "name": "EnclosedPorch",
         "dtype": "int64",
         "stats": {
          "unique_count": 1,
          "nan_count": 0,
          "min": "0",
          "max": "0",
          "histogram": [
           {
            "bin_start": -0.5,
            "bin_end": -0.4,
            "count": 0
           },
           {
            "bin_start": -0.4,
            "bin_end": -0.3,
            "count": 0
           },
           {
            "bin_start": -0.3,
            "bin_end": -0.19999999999999996,
            "count": 0
           },
           {
            "bin_start": -0.19999999999999996,
            "bin_end": -0.09999999999999998,
            "count": 0
           },
           {
            "bin_start": -0.09999999999999998,
            "bin_end": 0,
            "count": 0
           },
           {
            "bin_start": 0,
            "bin_end": 0.10000000000000009,
            "count": 2
           },
           {
            "bin_start": 0.10000000000000009,
            "bin_end": 0.20000000000000007,
            "count": 0
           },
           {
            "bin_start": 0.20000000000000007,
            "bin_end": 0.30000000000000004,
            "count": 0
           },
           {
            "bin_start": 0.30000000000000004,
            "bin_end": 0.4,
            "count": 0
           },
           {
            "bin_start": 0.4,
            "bin_end": 0.5,
            "count": 0
           }
          ]
         }
        },
        {
         "name": "3SsnPorch",
         "dtype": "int64",
         "stats": {
          "unique_count": 1,
          "nan_count": 0,
          "min": "0",
          "max": "0",
          "histogram": [
           {
            "bin_start": -0.5,
            "bin_end": -0.4,
            "count": 0
           },
           {
            "bin_start": -0.4,
            "bin_end": -0.3,
            "count": 0
           },
           {
            "bin_start": -0.3,
            "bin_end": -0.19999999999999996,
            "count": 0
           },
           {
            "bin_start": -0.19999999999999996,
            "bin_end": -0.09999999999999998,
            "count": 0
           },
           {
            "bin_start": -0.09999999999999998,
            "bin_end": 0,
            "count": 0
           },
           {
            "bin_start": 0,
            "bin_end": 0.10000000000000009,
            "count": 2
           },
           {
            "bin_start": 0.10000000000000009,
            "bin_end": 0.20000000000000007,
            "count": 0
           },
           {
            "bin_start": 0.20000000000000007,
            "bin_end": 0.30000000000000004,
            "count": 0
           },
           {
            "bin_start": 0.30000000000000004,
            "bin_end": 0.4,
            "count": 0
           },
           {
            "bin_start": 0.4,
            "bin_end": 0.5,
            "count": 0
           }
          ]
         }
        },
        {
         "name": "ScreenPorch",
         "dtype": "int64",
         "stats": {
          "unique_count": 1,
          "nan_count": 0,
          "min": "0",
          "max": "0",
          "histogram": [
           {
            "bin_start": -0.5,
            "bin_end": -0.4,
            "count": 0
           },
           {
            "bin_start": -0.4,
            "bin_end": -0.3,
            "count": 0
           },
           {
            "bin_start": -0.3,
            "bin_end": -0.19999999999999996,
            "count": 0
           },
           {
            "bin_start": -0.19999999999999996,
            "bin_end": -0.09999999999999998,
            "count": 0
           },
           {
            "bin_start": -0.09999999999999998,
            "bin_end": 0,
            "count": 0
           },
           {
            "bin_start": 0,
            "bin_end": 0.10000000000000009,
            "count": 2
           },
           {
            "bin_start": 0.10000000000000009,
            "bin_end": 0.20000000000000007,
            "count": 0
           },
           {
            "bin_start": 0.20000000000000007,
            "bin_end": 0.30000000000000004,
            "count": 0
           },
           {
            "bin_start": 0.30000000000000004,
            "bin_end": 0.4,
            "count": 0
           },
           {
            "bin_start": 0.4,
            "bin_end": 0.5,
            "count": 0
           }
          ]
         }
        },
        {
         "name": "PoolArea",
         "dtype": "int64",
         "stats": {
          "unique_count": 2,
          "nan_count": 0,
          "min": "0",
          "max": "480",
          "histogram": [
           {
            "bin_start": 0,
            "bin_end": 48,
            "count": 1
           },
           {
            "bin_start": 48,
            "bin_end": 96,
            "count": 0
           },
           {
            "bin_start": 96,
            "bin_end": 144,
            "count": 0
           },
           {
            "bin_start": 144,
            "bin_end": 192,
            "count": 0
           },
           {
            "bin_start": 192,
            "bin_end": 240,
            "count": 0
           },
           {
            "bin_start": 240,
            "bin_end": 288,
            "count": 0
           },
           {
            "bin_start": 288,
            "bin_end": 336,
            "count": 0
           },
           {
            "bin_start": 336,
            "bin_end": 384,
            "count": 0
           },
           {
            "bin_start": 384,
            "bin_end": 432,
            "count": 0
           },
           {
            "bin_start": 432,
            "bin_end": 480,
            "count": 1
           }
          ]
         }
        },
        {
         "name": "PoolQC",
         "dtype": "object",
         "stats": {
          "unique_count": 1,
          "nan_count": 1,
          "categories": [
           {
            "name": "Gd",
            "count": 1
           },
           {
            "name": "Missing",
            "count": 1
           }
          ]
         }
        },
        {
         "name": "Fence",
         "dtype": "object",
         "stats": {
          "unique_count": 0,
          "nan_count": 2,
          "categories": [
           {
            "name": "Missing",
            "count": 2
           }
          ]
         }
        },
        {
         "name": "MiscFeature",
         "dtype": "object",
         "stats": {
          "unique_count": 0,
          "nan_count": 2,
          "categories": [
           {
            "name": "Missing",
            "count": 2
           }
          ]
         }
        },
        {
         "name": "MiscVal",
         "dtype": "int64",
         "stats": {
          "unique_count": 1,
          "nan_count": 0,
          "min": "0",
          "max": "0",
          "histogram": [
           {
            "bin_start": -0.5,
            "bin_end": -0.4,
            "count": 0
           },
           {
            "bin_start": -0.4,
            "bin_end": -0.3,
            "count": 0
           },
           {
            "bin_start": -0.3,
            "bin_end": -0.19999999999999996,
            "count": 0
           },
           {
            "bin_start": -0.19999999999999996,
            "bin_end": -0.09999999999999998,
            "count": 0
           },
           {
            "bin_start": -0.09999999999999998,
            "bin_end": 0,
            "count": 0
           },
           {
            "bin_start": 0,
            "bin_end": 0.10000000000000009,
            "count": 2
           },
           {
            "bin_start": 0.10000000000000009,
            "bin_end": 0.20000000000000007,
            "count": 0
           },
           {
            "bin_start": 0.20000000000000007,
            "bin_end": 0.30000000000000004,
            "count": 0
           },
           {
            "bin_start": 0.30000000000000004,
            "bin_end": 0.4,
            "count": 0
           },
           {
            "bin_start": 0.4,
            "bin_end": 0.5,
            "count": 0
           }
          ]
         }
        },
        {
         "name": "MoSold",
         "dtype": "int64",
         "stats": {
          "unique_count": 2,
          "nan_count": 0,
          "min": "1",
          "max": "11",
          "histogram": [
           {
            "bin_start": 1,
            "bin_end": 2,
            "count": 1
           },
           {
            "bin_start": 2,
            "bin_end": 3,
            "count": 0
           },
           {
            "bin_start": 3,
            "bin_end": 4,
            "count": 0
           },
           {
            "bin_start": 4,
            "bin_end": 5,
            "count": 0
           },
           {
            "bin_start": 5,
            "bin_end": 6,
            "count": 0
           },
           {
            "bin_start": 6,
            "bin_end": 7,
            "count": 0
           },
           {
            "bin_start": 7,
            "bin_end": 8,
            "count": 0
           },
           {
            "bin_start": 8,
            "bin_end": 9,
            "count": 0
           },
           {
            "bin_start": 9,
            "bin_end": 10,
            "count": 0
           },
           {
            "bin_start": 10,
            "bin_end": 11,
            "count": 1
           }
          ]
         }
        },
        {
         "name": "YrSold",
         "dtype": "int64",
         "stats": {
          "unique_count": 1,
          "nan_count": 0,
          "min": "2008",
          "max": "2008",
          "histogram": [
           {
            "bin_start": 2007.5,
            "bin_end": 2007.6,
            "count": 0
           },
           {
            "bin_start": 2007.6,
            "bin_end": 2007.7,
            "count": 0
           },
           {
            "bin_start": 2007.7,
            "bin_end": 2007.8,
            "count": 0
           },
           {
            "bin_start": 2007.8,
            "bin_end": 2007.9,
            "count": 0
           },
           {
            "bin_start": 2007.9,
            "bin_end": 2008,
            "count": 0
           },
           {
            "bin_start": 2008,
            "bin_end": 2008.1,
            "count": 2
           },
           {
            "bin_start": 2008.1,
            "bin_end": 2008.2,
            "count": 0
           },
           {
            "bin_start": 2008.2,
            "bin_end": 2008.3,
            "count": 0
           },
           {
            "bin_start": 2008.3,
            "bin_end": 2008.4,
            "count": 0
           },
           {
            "bin_start": 2008.4,
            "bin_end": 2008.5,
            "count": 0
           }
          ]
         }
        },
        {
         "name": "SaleType",
         "dtype": "object",
         "stats": {
          "unique_count": 2,
          "nan_count": 0,
          "categories": [
           {
            "name": "WD",
            "count": 1
           },
           {
            "name": "New",
            "count": 1
           }
          ]
         }
        },
        {
         "name": "SaleCondition",
         "dtype": "object",
         "stats": {
          "unique_count": 2,
          "nan_count": 0,
          "categories": [
           {
            "name": "Normal",
            "count": 1
           },
           {
            "name": "Partial",
            "count": 1
           }
          ]
         }
        },
        {
         "name": "SalePrice",
         "dtype": "float64",
         "stats": {
          "unique_count": 2,
          "nan_count": 0,
          "min": "160000.0",
          "max": "242000.0",
          "histogram": [
           {
            "bin_start": 160000,
            "bin_end": 168200,
            "count": 1
           },
           {
            "bin_start": 168200,
            "bin_end": 176400,
            "count": 0
           },
           {
            "bin_start": 176400,
            "bin_end": 184600,
            "count": 0
           },
           {
            "bin_start": 184600,
            "bin_end": 192800,
            "count": 0
           },
           {
            "bin_start": 192800,
            "bin_end": 201000,
            "count": 0
           },
           {
            "bin_start": 201000,
            "bin_end": 209200,
            "count": 0
           },
           {
            "bin_start": 209200,
            "bin_end": 217400,
            "count": 0
           },
           {
            "bin_start": 217400,
            "bin_end": 225600,
            "count": 0
           },
           {
            "bin_start": 225600,
            "bin_end": 233800,
            "count": 0
           },
           {
            "bin_start": 233800,
            "bin_end": 242000,
            "count": 1
           }
          ]
         }
        },
        {
         "name": "_deepnote_index_column",
         "dtype": "int64"
        }
       ],
       "rows_top": [
        {
         "Id": 935,
         "MSSubClass": 20,
         "MSZoning": "RL",
         "LotFrontage": 313,
         "LotArea": 27650,
         "Street": "Pave",
         "Alley": "nan",
         "LotShape": "IR2",
         "LandContour": "HLS",
         "Utilities": "AllPub",
         "LotConfig": "Inside",
         "LandSlope": "Mod",
         "Neighborhood": "NAmes",
         "Condition1": "PosA",
         "Condition2": "Norm",
         "BldgType": "1Fam",
         "HouseStyle": "1Story",
         "OverallQual": 7,
         "OverallCond": 7,
         "YearBuilt": 1960,
         "YearRemodAdd": 2007,
         "RoofStyle": "Flat",
         "RoofMatl": "Tar&Grv",
         "Exterior1st": "Wd Sdng",
         "Exterior2nd": "Wd Sdng",
         "MasVnrType": "None",
         "MasVnrArea": 0,
         "ExterQual": "TA",
         "ExterCond": "TA",
         "Foundation": "CBlock",
         "BsmtQual": "Gd",
         "BsmtCond": "TA",
         "BsmtExposure": "Gd",
         "BsmtFinType1": "GLQ",
         "BsmtFinSF1": 425,
         "BsmtFinType2": "Unf",
         "BsmtFinSF2": 0,
         "BsmtUnfSF": 160,
         "TotalBsmtSF": 585,
         "Heating": "GasA",
         "HeatingQC": "Ex",
         "CentralAir": "Y",
         "Electrical": "SBrkr",
         "1stFlrSF": 2069,
         "2ndFlrSF": 0,
         "LowQualFinSF": 0,
         "GrLivArea": 2069,
         "BsmtFullBath": 1,
         "BsmtHalfBath": 0,
         "FullBath": 2,
         "HalfBath": 0,
         "BedroomAbvGr": 4,
         "KitchenAbvGr": 1,
         "KitchenQual": "Gd",
         "TotRmsAbvGrd": 9,
         "Functional": "Typ",
         "Fireplaces": 1,
         "FireplaceQu": "Gd",
         "GarageType": "Attchd",
         "GarageYrBlt": 1960,
         "GarageFinish": "RFn",
         "GarageCars": 2,
         "GarageArea": 505,
         "GarageQual": "TA",
         "GarageCond": "TA",
         "PavedDrive": "Y",
         "WoodDeckSF": 0,
         "OpenPorchSF": 0,
         "EnclosedPorch": 0,
         "3SsnPorch": 0,
         "ScreenPorch": 0,
         "PoolArea": 0,
         "PoolQC": "nan",
         "Fence": "nan",
         "MiscFeature": "nan",
         "MiscVal": 0,
         "MoSold": 11,
         "YrSold": 2008,
         "SaleType": "WD",
         "SaleCondition": "Normal",
         "SalePrice": 242000,
         "_deepnote_index_column": 934
        },
        {
         "Id": 1299,
         "MSSubClass": 60,
         "MSZoning": "RL",
         "LotFrontage": 313,
         "LotArea": 63887,
         "Street": "Pave",
         "Alley": "nan",
         "LotShape": "IR3",
         "LandContour": "Bnk",
         "Utilities": "AllPub",
         "LotConfig": "Corner",
         "LandSlope": "Gtl",
         "Neighborhood": "Edwards",
         "Condition1": "Feedr",
         "Condition2": "Norm",
         "BldgType": "1Fam",
         "HouseStyle": "2Story",
         "OverallQual": 10,
         "OverallCond": 5,
         "YearBuilt": 2008,
         "YearRemodAdd": 2008,
         "RoofStyle": "Hip",
         "RoofMatl": "ClyTile",
         "Exterior1st": "Stucco",
         "Exterior2nd": "Stucco",
         "MasVnrType": "Stone",
         "MasVnrArea": 796,
         "ExterQual": "Ex",
         "ExterCond": "TA",
         "Foundation": "PConc",
         "BsmtQual": "Ex",
         "BsmtCond": "TA",
         "BsmtExposure": "Gd",
         "BsmtFinType1": "GLQ",
         "BsmtFinSF1": 5644,
         "BsmtFinType2": "Unf",
         "BsmtFinSF2": 0,
         "BsmtUnfSF": 466,
         "TotalBsmtSF": 6110,
         "Heating": "GasA",
         "HeatingQC": "Ex",
         "CentralAir": "Y",
         "Electrical": "SBrkr",
         "1stFlrSF": 4692,
         "2ndFlrSF": 950,
         "LowQualFinSF": 0,
         "GrLivArea": 5642,
         "BsmtFullBath": 2,
         "BsmtHalfBath": 0,
         "FullBath": 2,
         "HalfBath": 1,
         "BedroomAbvGr": 3,
         "KitchenAbvGr": 1,
         "KitchenQual": "Ex",
         "TotRmsAbvGrd": 12,
         "Functional": "Typ",
         "Fireplaces": 3,
         "FireplaceQu": "Gd",
         "GarageType": "Attchd",
         "GarageYrBlt": 2008,
         "GarageFinish": "Fin",
         "GarageCars": 2,
         "GarageArea": 1418,
         "GarageQual": "TA",
         "GarageCond": "TA",
         "PavedDrive": "Y",
         "WoodDeckSF": 214,
         "OpenPorchSF": 292,
         "EnclosedPorch": 0,
         "3SsnPorch": 0,
         "ScreenPorch": 0,
         "PoolArea": 480,
         "PoolQC": "Gd",
         "Fence": "nan",
         "MiscFeature": "nan",
         "MiscVal": 0,
         "MoSold": 1,
         "YrSold": 2008,
         "SaleType": "New",
         "SaleCondition": "Partial",
         "SalePrice": 160000,
         "_deepnote_index_column": 1298
        }
       ],
       "rows_bottom": null
      },
      "text/plain": "        Id  MSSubClass MSZoning  LotFrontage  LotArea Street Alley LotShape  \\\n934    935          20       RL        313.0    27650   Pave   NaN      IR2   \n1298  1299          60       RL        313.0    63887   Pave   NaN      IR3   \n\n     LandContour Utilities  ... PoolArea PoolQC Fence MiscFeature MiscVal  \\\n934          HLS    AllPub  ...        0    NaN   NaN         NaN       0   \n1298         Bnk    AllPub  ...      480     Gd   NaN         NaN       0   \n\n     MoSold YrSold  SaleType  SaleCondition  SalePrice  \n934      11   2008        WD         Normal   242000.0  \n1298      1   2008       New        Partial   160000.0  \n\n[2 rows x 81 columns]",
      "text/html": "<div>\n<style scoped>\n    .dataframe tbody tr th:only-of-type {\n        vertical-align: middle;\n    }\n\n    .dataframe tbody tr th {\n        vertical-align: top;\n    }\n\n    .dataframe thead th {\n        text-align: right;\n    }\n</style>\n<table border=\"1\" class=\"dataframe\">\n  <thead>\n    <tr style=\"text-align: right;\">\n      <th></th>\n      <th>Id</th>\n      <th>MSSubClass</th>\n      <th>MSZoning</th>\n      <th>LotFrontage</th>\n      <th>LotArea</th>\n      <th>Street</th>\n      <th>Alley</th>\n      <th>LotShape</th>\n      <th>LandContour</th>\n      <th>Utilities</th>\n      <th>...</th>\n      <th>PoolArea</th>\n      <th>PoolQC</th>\n      <th>Fence</th>\n      <th>MiscFeature</th>\n      <th>MiscVal</th>\n      <th>MoSold</th>\n      <th>YrSold</th>\n      <th>SaleType</th>\n      <th>SaleCondition</th>\n      <th>SalePrice</th>\n    </tr>\n  </thead>\n  <tbody>\n    <tr>\n      <th>934</th>\n      <td>935</td>\n      <td>20</td>\n      <td>RL</td>\n      <td>313.0</td>\n      <td>27650</td>\n      <td>Pave</td>\n      <td>NaN</td>\n      <td>IR2</td>\n      <td>HLS</td>\n      <td>AllPub</td>\n      <td>...</td>\n      <td>0</td>\n      <td>NaN</td>\n      <td>NaN</td>\n      <td>NaN</td>\n      <td>0</td>\n      <td>11</td>\n      <td>2008</td>\n      <td>WD</td>\n      <td>Normal</td>\n      <td>242000.0</td>\n    </tr>\n    <tr>\n      <th>1298</th>\n      <td>1299</td>\n      <td>60</td>\n      <td>RL</td>\n      <td>313.0</td>\n      <td>63887</td>\n      <td>Pave</td>\n      <td>NaN</td>\n      <td>IR3</td>\n      <td>Bnk</td>\n      <td>AllPub</td>\n      <td>...</td>\n      <td>480</td>\n      <td>Gd</td>\n      <td>NaN</td>\n      <td>NaN</td>\n      <td>0</td>\n      <td>1</td>\n      <td>2008</td>\n      <td>New</td>\n      <td>Partial</td>\n      <td>160000.0</td>\n    </tr>\n  </tbody>\n</table>\n<p>2 rows × 81 columns</p>\n</div>"
     },
     "metadata": {}
    }
   ]
  },
  {
   "cell_type": "markdown",
   "source": "Let's plot another feature with potential outliers; MasVnrArea.\n\nMasVnrArea stands for Masonry veneer area in square feet. \n\nMasonry Veneer is a nonstructural facing of brick, stone, concrete masonry or other masonry material securely attached to a wall or backing. ",
   "metadata": {
    "tags": [],
    "cell_id": "00012-4db1277a-a525-4c99-b270-cbabdec06abb",
    "deepnote_cell_type": "markdown"
   }
  },
  {
   "cell_type": "code",
   "metadata": {
    "tags": [],
    "cell_id": "00013-4dae48da-27d4-4fc6-9397-dc2da9135ccc",
    "deepnote_to_be_reexecuted": false,
    "source_hash": "dfec2430",
    "execution_start": 1635264957452,
    "execution_millis": 510,
    "deepnote_cell_type": "code"
   },
   "source": "plt.scatter(x = all_data['MasVnrArea'], y = all_data['SalePrice'])\nplt.ylabel('SalePrice', fontsize=15)\nplt.xlabel('MasVnrArea', fontsize=15)\nplt.show()",
   "execution_count": 9,
   "outputs": [
    {
     "data": {
      "text/plain": "<Figure size 432x288 with 1 Axes>",
      "image/png": "[encoded data removed]"
     },
     "metadata": {
      "needs_background": "light",
      "image/png": {
       "width": 412,
       "height": 267
      }
     },
     "output_type": "display_data"
    }
   ]
  },
  {
   "cell_type": "markdown",
   "source": "Another potential outlier is the feature GarageYrBlt. We will plot this as well to see the relationship between SalePrice and Year when the garage was built.",
   "metadata": {
    "tags": [],
    "cell_id": "00014-43b84fa1-f237-41f2-9eb3-4d584493287d",
    "deepnote_cell_type": "markdown"
   }
  },
  {
   "cell_type": "code",
   "metadata": {
    "tags": [],
    "cell_id": "00015-50cd7138-709b-42d7-9578-a22593447400",
    "deepnote_to_be_reexecuted": false,
    "source_hash": "747c07ce",
    "execution_start": 1635264958023,
    "execution_millis": 643,
    "deepnote_cell_type": "code"
   },
   "source": "plt.scatter(x = all_data['GarageYrBlt'], y = all_data['SalePrice'])\nplt.ylabel('SalePrice', fontsize=15)\nplt.xlabel('GarageYrBlt', fontsize=15)\nplt.show()",
   "execution_count": 10,
   "outputs": [
    {
     "data": {
      "text/plain": "<Figure size 432x288 with 1 Axes>",
      "image/png": "[encoded data removed]"
     },
     "metadata": {
      "needs_background": "light",
      "image/png": {
       "width": 412,
       "height": 267
      }
     },
     "output_type": "display_data"
    }
   ]
  },
  {
   "cell_type": "markdown",
   "source": "### Higher Correlations",
   "metadata": {
    "tags": [],
    "is_collapsed": false,
    "cell_id": "00018-fe16ef72-fce6-4c85-a07d-3cfd095d3759",
    "deepnote_cell_type": "text-cell-h3"
   }
  },
  {
   "cell_type": "markdown",
   "source": "We will analyse all features that have higher correlatins to the SalePrice.",
   "metadata": {
    "tags": [],
    "cell_id": "00019-db2e47d8-60b8-4ca6-bce1-fdccdb122eac",
    "deepnote_cell_type": "markdown"
   }
  },
  {
   "cell_type": "code",
   "metadata": {
    "tags": [],
    "cell_id": "00020-5c02a235-826f-4d01-9b68-46ece3659a7d",
    "deepnote_to_be_reexecuted": false,
    "source_hash": "b0b4b35f",
    "execution_start": 1635264958669,
    "execution_millis": 31,
    "deepnote_cell_type": "code"
   },
   "source": "correlation = train.corr().abs()\ncorrelation[correlation > 0.5][\"SalePrice\"]",
   "execution_count": 11,
   "outputs": [
    {
     "output_type": "execute_result",
     "execution_count": 11,
     "data": {
      "text/plain": "Id                    NaN\nMSSubClass            NaN\nLotFrontage           NaN\nLotArea               NaN\nOverallQual      0.790982\nOverallCond           NaN\nYearBuilt        0.522897\nYearRemodAdd     0.507101\nMasVnrArea            NaN\nBsmtFinSF1            NaN\nBsmtFinSF2            NaN\nBsmtUnfSF             NaN\nTotalBsmtSF      0.613581\n1stFlrSF         0.605852\n2ndFlrSF              NaN\nLowQualFinSF          NaN\nGrLivArea        0.708624\nBsmtFullBath          NaN\nBsmtHalfBath          NaN\nFullBath         0.560664\nHalfBath              NaN\nBedroomAbvGr          NaN\nKitchenAbvGr          NaN\nTotRmsAbvGrd     0.533723\nFireplaces            NaN\nGarageYrBlt           NaN\nGarageCars       0.640409\nGarageArea       0.623431\nWoodDeckSF            NaN\nOpenPorchSF           NaN\nEnclosedPorch         NaN\n3SsnPorch             NaN\nScreenPorch           NaN\nPoolArea              NaN\nMiscVal               NaN\nMoSold                NaN\nYrSold                NaN\nSalePrice        1.000000\nName: SalePrice, dtype: float64"
     },
     "metadata": {}
    }
   ]
  },
  {
   "cell_type": "markdown",
   "source": "From the list generated above, features that have higher correlations(greater than 0.5) are:-\n\nOverallQual, YearBuilt, YearRemodAdd, TotalBsmntSF, 1stFloorSF, GrLivArea, FullBath, TotRmsAbvGrd, GarageCars, and GarageArea",
   "metadata": {
    "tags": [],
    "cell_id": "00021-7cec4a33-18e5-4b6b-b275-744908958ed3",
    "deepnote_cell_type": "markdown"
   }
  },
  {
   "cell_type": "markdown",
   "source": "Let's first analyse the GrLivArea feature:\n\nGrLivArea - Ground Living area in the house\n\nPloting GrLivArea with SalePrice to look at the data distribution.",
   "metadata": {
    "tags": [],
    "cell_id": "00005-b3ecc6bb-85ee-4064-ab7d-c71f87930eec",
    "deepnote_cell_type": "markdown"
   }
  },
  {
   "cell_type": "code",
   "metadata": {
    "tags": [],
    "cell_id": "00018-acd8ebfd-61a1-4f84-93d9-76d2e5d32fa5",
    "deepnote_to_be_reexecuted": false,
    "source_hash": "9e243341",
    "execution_start": 1635264958708,
    "execution_millis": 569,
    "deepnote_cell_type": "code"
   },
   "source": "plt.scatter(x = train['GrLivArea'], y = train['SalePrice'])\nplt.ylabel('SalePrice', fontsize=15)\nplt.xlabel('GrLivArea', fontsize=15)\nplt.show()",
   "execution_count": 12,
   "outputs": [
    {
     "data": {
      "text/plain": "<Figure size 432x288 with 1 Axes>",
      "image/png": "[encoded data removed]"
     },
     "metadata": {
      "needs_background": "light",
      "image/png": {
       "width": 412,
       "height": 267
      }
     },
     "output_type": "display_data"
    }
   ]
  },
  {
   "cell_type": "markdown",
   "source": "From the scatter plot, SalePrice seems to increase as the GrLivArea increases, A Linear relationship: With an exception of a few values with GrLivArea greater than 4000 that show a different behavior(outliers). \n\nWhile cleaning the data, we will remove the outliers to minimize errors in the model.",
   "metadata": {
    "tags": [],
    "cell_id": "00019-38663ada-6dd1-44a4-a256-b58e8c4ac1cd",
    "deepnote_cell_type": "markdown"
   }
  },
  {
   "cell_type": "markdown",
   "source": "Our next plot will be a scatterplot of SalePrice against the GarageCars \n\nThey have a correlation of approx. 0.64",
   "metadata": {
    "tags": [],
    "cell_id": "00012-9cfc9e50-3e3d-4fdf-b3e7-2b38cb641c45",
    "deepnote_cell_type": "markdown"
   }
  },
  {
   "cell_type": "code",
   "metadata": {
    "tags": [],
    "cell_id": "00030-97ac5a63-be64-4d9f-b4c4-e50208b52238",
    "deepnote_to_be_reexecuted": false,
    "source_hash": "35cef481",
    "execution_start": 1635264959275,
    "execution_millis": 652,
    "deepnote_cell_type": "code"
   },
   "source": "plt.scatter(x = train['GarageCars'], y = train['SalePrice'])\nplt.ylabel('SalePrice', fontsize=15)\nplt.xlabel('GarageCars', fontsize=15)\nplt.show()",
   "execution_count": 13,
   "outputs": [
    {
     "data": {
      "text/plain": "<Figure size 432x288 with 1 Axes>",
      "image/png": "[encoded data removed]"
     },
     "metadata": {
      "needs_background": "light",
      "image/png": {
       "width": 412,
       "height": 267
      }
     },
     "output_type": "display_data"
    }
   ]
  },
  {
   "cell_type": "markdown",
   "source": "The nature of the plot does not give us a lot of information that can be analyzed.\n\nA general trend of Sale Price increasing as the number of GarageCars increases is seen as we expected. With a few outliers from the position 4 of GarageCars. The outliers indicate that there may be other factors affecting the sale price.\n\nLet us create a box plot instead to get a better understanding of the data from GarageCars and SalePrice.",
   "metadata": {
    "tags": [],
    "cell_id": "00031-3e85e042-6c89-4294-af32-b7ed9e76fc5f",
    "deepnote_cell_type": "markdown"
   }
  },
  {
   "cell_type": "code",
   "metadata": {
    "tags": [],
    "cell_id": "00033-4002ed2f-eee7-4cc9-9196-a377836d6568",
    "deepnote_to_be_reexecuted": false,
    "source_hash": "afc09cda",
    "execution_start": 1635264959937,
    "execution_millis": 6525784,
    "deepnote_cell_type": "code"
   },
   "source": "import seaborn as sns\n\ndef create_frequency_chart(data, x_axis, category, is_categorical = False, ticks = 10):\n    new_data = data.copy()\n    if not is_categorical:\n        buket_size = max(new_data[x_axis].values) / ticks\n        bins = [i * buket_size for i in range(ticks)]\n        new_data[\"buckets\"] = pd.cut(new_data[x_axis], bins)\n\n    #Try to fill the code when the x_axis is not continuous\n\n    sns.catplot(x=\"buckets\", kind=\"count\", data=new_data, hue=category, aspect=5)",
   "execution_count": 14,
   "outputs": []
  },
  {
   "cell_type": "code",
   "metadata": {
    "tags": [],
    "cell_id": "00032-296f33a4-b5d1-448b-9d0d-1d5ff4b720cb",
    "deepnote_to_be_reexecuted": false,
    "source_hash": "dce1203f",
    "execution_start": 1635264959987,
    "execution_millis": 1365,
    "deepnote_cell_type": "code"
   },
   "source": "create_frequency_chart(train, \"SalePrice\", \"GarageCars\")",
   "execution_count": 15,
   "outputs": [
    {
     "data": {
      "text/plain": "<Figure size 1867x360 with 1 Axes>",
      "image/png": "[encoded data removed]"
     },
     "metadata": {
      "needs_background": "light",
      "image/png": {
       "width": 1863,
       "height": 352
      }
     },
     "output_type": "display_data"
    }
   ]
  },
  {
   "cell_type": "markdown",
   "source": "From the boxplot above, there a few observations seen.\n\nThe plot shows its common for houses within the price range [75500, 151000] to have two garage cars. More than 400 were counted.\n\nAlso, there seems to be a fair amount of houses with 3 garage cars when the saleprice is >200,000.\n\nAs the price range increases, the number of houses with garage cars decreases. So does this mean expensive houses do not have built in garages or maybe data has recorded less houses within the more expensive price range? \n",
   "metadata": {
    "tags": [],
    "cell_id": "00033-94c7cb3a-03a3-4973-babb-747903452461",
    "deepnote_cell_type": "markdown"
   }
  },
  {
   "cell_type": "code",
   "metadata": {
    "tags": [],
    "cell_id": "00009-a105e24e-b9fc-4897-8ced-0d4801f6c327",
    "deepnote_to_be_reexecuted": false,
    "source_hash": "d744d9df",
    "execution_start": 1635264961432,
    "execution_millis": 277,
    "deepnote_cell_type": "code"
   },
   "source": "plt.scatter(x = train['OverallQual'], y = train['SalePrice'])\nplt.ylabel('SalePrice', fontsize=15)\nplt.xlabel('OverallQual', fontsize=15)\nplt.show()",
   "execution_count": 16,
   "outputs": [
    {
     "data": {
      "text/plain": "<Figure size 432x288 with 1 Axes>",
      "image/png": "[encoded data removed]"
     },
     "metadata": {
      "needs_background": "light",
      "image/png": {
       "width": 412,
       "height": 267
      }
     },
     "output_type": "display_data"
    }
   ]
  },
  {
   "cell_type": "code",
   "metadata": {
    "tags": [],
    "cell_id": "00035-366fe4bc-c874-477d-ae9e-c2fad2678226",
    "deepnote_to_be_reexecuted": false,
    "source_hash": "c7dcd195",
    "execution_start": 1635264961763,
    "execution_millis": 1588,
    "deepnote_cell_type": "code"
   },
   "source": "create_frequency_chart(train, \"SalePrice\", \"OverallQual\")",
   "execution_count": 17,
   "outputs": [
    {
     "data": {
      "text/plain": "<Figure size 1866.88x360 with 1 Axes>",
      "image/png": "[encoded data removed]"
     },
     "metadata": {
      "needs_background": "light",
      "image/png": {
       "width": 1863,
       "height": 352
      }
     },
     "output_type": "display_data"
    }
   ]
  },
  {
   "cell_type": "markdown",
   "source": "Our next plot will be a scatterplot of SalePrice against the TotalBsmtSF Feature \n\n\nTotalBsmtSF: Total square feet of basement area",
   "metadata": {
    "tags": [],
    "cell_id": "00029-b28e9c31-0ca3-4696-b367-c8caeb02ec5d",
    "deepnote_cell_type": "markdown"
   }
  },
  {
   "cell_type": "code",
   "metadata": {
    "tags": [],
    "cell_id": "00030-2a5a9336-f55c-4bb1-ae49-bb9153090428",
    "deepnote_to_be_reexecuted": false,
    "source_hash": "98651b97",
    "execution_start": 1635264963427,
    "execution_millis": 245,
    "deepnote_cell_type": "code"
   },
   "source": "plt.scatter(x = train['TotalBsmtSF'], y = train['SalePrice'])\nplt.ylabel('SalePrice', fontsize=15)\nplt.xlabel('TotalBsmtSF', fontsize=15)\nplt.show()",
   "execution_count": 18,
   "outputs": [
    {
     "data": {
      "text/plain": "<Figure size 432x288 with 1 Axes>",
      "image/png": "[encoded data removed]"
     },
     "metadata": {
      "needs_background": "light",
      "image/png": {
       "width": 412,
       "height": 267
      }
     },
     "output_type": "display_data"
    }
   ]
  },
  {
   "cell_type": "markdown",
   "source": "Let's expand the graph a bit more so we can see a clearer pattern from the plot. We will use data_sample",
   "metadata": {
    "tags": [],
    "cell_id": "00037-6d8edeee-2680-4536-b378-bb2be092ff99",
    "deepnote_cell_type": "markdown"
   }
  },
  {
   "cell_type": "code",
   "metadata": {
    "tags": [],
    "cell_id": "00033-eebfaa83-458b-40c0-9fcf-be2c0b1a7012",
    "deepnote_to_be_reexecuted": false,
    "source_hash": "b0ff283",
    "execution_start": 1635264963676,
    "execution_millis": 5,
    "deepnote_cell_type": "code"
   },
   "source": "data_sample = train[(train['TotalBsmtSF'] < 2000) & (train['TotalBsmtSF'] > 0)]\n",
   "execution_count": 19,
   "outputs": []
  },
  {
   "cell_type": "code",
   "metadata": {
    "tags": [],
    "cell_id": "00034-a14ebaa2-0b5f-4051-9e2d-a0c0bf2010cc",
    "deepnote_to_be_reexecuted": false,
    "source_hash": "d0314d89",
    "execution_start": 1635264963738,
    "execution_millis": 261,
    "deepnote_cell_type": "code"
   },
   "source": "plt.scatter(x = data_sample['TotalBsmtSF'], y = data_sample['SalePrice'])\nplt.ylabel('SalePrice', fontsize=15)\nplt.xlabel('TotalBsmtSF', fontsize=15)\nplt.show()",
   "execution_count": 20,
   "outputs": [
    {
     "data": {
      "text/plain": "<Figure size 432x288 with 1 Axes>",
      "image/png": "[encoded data removed]"
     },
     "metadata": {
      "needs_background": "light",
      "image/png": {
       "width": 412,
       "height": 267
      }
     },
     "output_type": "display_data"
    }
   ]
  },
  {
   "cell_type": "markdown",
   "source": "Now we will look at the 1stFlrSF Feature. \n\nWill be interesting to see how the square footage of the first floor may affect sale price of a house.",
   "metadata": {
    "tags": [],
    "cell_id": "00041-d1835c60-fc10-4c2e-bc44-d7a1846e6035",
    "deepnote_cell_type": "markdown"
   }
  },
  {
   "cell_type": "code",
   "metadata": {
    "tags": [],
    "cell_id": "00041-ef315de6-978e-46d1-9f8e-6081f49901b7",
    "deepnote_to_be_reexecuted": false,
    "source_hash": "b64d7f66",
    "execution_start": 1635264964047,
    "execution_millis": 256,
    "deepnote_cell_type": "code"
   },
   "source": "plt.scatter(x = train['1stFlrSF'], y = train['SalePrice'])\nplt.ylabel('SalePrice', fontsize=15)\nplt.xlabel('1stFlrSF', fontsize=15)\nplt.show()",
   "execution_count": 21,
   "outputs": [
    {
     "data": {
      "text/plain": "<Figure size 432x288 with 1 Axes>",
      "image/png": "[encoded data removed]"
     },
     "metadata": {
      "needs_background": "light",
      "image/png": {
       "width": 412,
       "height": 267
      }
     },
     "output_type": "display_data"
    }
   ]
  },
  {
   "cell_type": "markdown",
   "source": "1stFlrSF - First Floor Square Footage\n\nFrom the scatterplot, there are a few outliers which do not follow the general trend: Sale Price increases as the 1stFlrSF increases; A positive Linear Relationship.",
   "metadata": {
    "tags": [],
    "cell_id": "00042-0620d2e4-50d1-41a2-a301-413d90f9a5ee",
    "deepnote_cell_type": "markdown"
   }
  },
  {
   "cell_type": "code",
   "metadata": {
    "tags": [],
    "cell_id": "00044-0d44e4dc-6790-4883-9974-0bcb64ce4e85",
    "deepnote_to_be_reexecuted": false,
    "source_hash": "26643d70",
    "execution_start": 1635264964348,
    "execution_millis": 363,
    "deepnote_cell_type": "code"
   },
   "source": "plt.scatter(x = train['FullBath'], y = train['SalePrice'])\nplt.ylabel('SalePrice', fontsize=15)\nplt.xlabel('FullBath', fontsize=15)\nplt.show()",
   "execution_count": 22,
   "outputs": [
    {
     "data": {
      "text/plain": "<Figure size 432x288 with 1 Axes>",
      "image/png": "[encoded data removed]"
     },
     "metadata": {
      "needs_background": "light",
      "image/png": {
       "width": 412,
       "height": 267
      }
     },
     "output_type": "display_data"
    }
   ]
  },
  {
   "cell_type": "markdown",
   "source": "From the scatter plot, it is hard to determine if there is any trend or how the FullBath Feature affects the sale Price.",
   "metadata": {
    "tags": [],
    "cell_id": "00045-7618c5d0-5217-46f4-8883-beab73e65602",
    "deepnote_cell_type": "markdown"
   }
  },
  {
   "cell_type": "markdown",
   "source": "### Correlation Matrix",
   "metadata": {
    "tags": [],
    "is_collapsed": false,
    "cell_id": "00047-7bcc7064-8bd7-42fc-aef5-e31260683011",
    "deepnote_cell_type": "text-cell-h3"
   }
  },
  {
   "cell_type": "markdown",
   "source": "We will create a correlation matrix to represent the correlation between features.\n\nFor data scientists, checking correlations is an important part of the exploratory data analysis process. This is one of the methods used to decide which features affect the target variable the most, and in turn, get used in predicting this target variable.",
   "metadata": {
    "tags": [],
    "cell_id": "00048-c8b89b39-eee4-46dd-9db4-45426716235a",
    "deepnote_cell_type": "markdown"
   }
  },
  {
   "cell_type": "code",
   "metadata": {
    "tags": [],
    "cell_id": "00049-340cecf8-a534-4176-bf75-28b16f33fc2e",
    "deepnote_to_be_reexecuted": false,
    "source_hash": "c7122d8d",
    "execution_start": 1635264964787,
    "execution_millis": 2123,
    "deepnote_cell_type": "code"
   },
   "source": "#A .corr() method will be added to the data and passed as the first argument.\n#An argument called annot=True helps display the correlation coefficient(deleted for better visualization)\n#A good trick used to reduce the number displayed and improve readability: fmt =’.3g'or fmt = ‘.1g' \n#The next 3 arguments are for rescaling the colorbar.\n#vmin is the minimum value of the bar; vmax is the maximum value of the bar; and center\n#Changing shape of matrixes into squares using square = True\n\nplt.subplots(figsize=(15, 15))\n\nsns.heatmap(train.corr(), fmt = '.2g', vmax = .6, square = True);\n\n",
   "execution_count": 23,
   "outputs": [
    {
     "data": {
      "text/plain": "<Figure size 1080x1080 with 2 Axes>",
      "image/png": "[encoded data removed]"
     },
     "metadata": {
      "needs_background": "light",
      "image/png": {
       "width": 880,
       "height": 843
      }
     },
     "output_type": "display_data"
    }
   ]
  },
  {
   "cell_type": "markdown",
   "source": "### SalePrice Correlation Matrix",
   "metadata": {
    "tags": [],
    "is_collapsed": false,
    "cell_id": "00050-bb20b172-b031-40e9-ae55-a77a5509068e",
    "deepnote_cell_type": "text-cell-h3"
   }
  },
  {
   "cell_type": "code",
   "metadata": {
    "tags": [],
    "cell_id": "00051-3044a49e-2822-43b3-ae15-f7f07a638d57",
    "deepnote_to_be_reexecuted": false,
    "source_hash": "5836f65d",
    "execution_start": 1635264966963,
    "execution_millis": 1,
    "deepnote_cell_type": "code"
   },
   "source": "train[\"GarageYrBlt\"]",
   "execution_count": 24,
   "outputs": [
    {
     "output_type": "execute_result",
     "execution_count": 24,
     "data": {
      "text/plain": "0       2003.0\n1       1976.0\n2       2001.0\n3       1998.0\n4       2000.0\n         ...  \n1455    1999.0\n1456    1978.0\n1457    1941.0\n1458    1950.0\n1459    1965.0\nName: GarageYrBlt, Length: 1460, dtype: float64"
     },
     "metadata": {}
    }
   ]
  },
  {
   "cell_type": "markdown",
   "source": "We will specifically check for the correlation between saleprice and other features.",
   "metadata": {
    "tags": [],
    "cell_id": "00051-45ddd5d2-6ea2-414f-80c6-53292d9b59ea",
    "deepnote_cell_type": "markdown"
   }
  },
  {
   "cell_type": "code",
   "metadata": {
    "tags": [],
    "cell_id": "00052-11fbfd72-fcbc-4982-8b02-f9855d28d21b",
    "deepnote_to_be_reexecuted": false,
    "source_hash": "1c316a23",
    "execution_start": 1635264966964,
    "execution_millis": 2812,
    "deepnote_cell_type": "code"
   },
   "source": "plt.subplots(figsize=(15, 15))\nk = 16 #number of variables for heatmap\ncorrematrix = train.corr()\ncols = corrematrix.nlargest(k, 'SalePrice')['SalePrice'].index\ncm = np.corrcoef(train[cols].values.T)\nsns.set(font_scale= 1)\nsns.heatmap(cm, cbar=True, annot=True, square=True, fmt='.2f', annot_kws={'size': 8}, yticklabels=cols.values, xticklabels=cols.values)\n",
   "execution_count": 25,
   "outputs": [
    {
     "output_type": "execute_result",
     "execution_count": 25,
     "data": {
      "text/plain": "<AxesSubplot:>"
     },
     "metadata": {}
    },
    {
     "data": {
      "text/plain": "<Figure size 1080x1080 with 2 Axes>",
      "image/png": "[encoded data removed]"
     },
     "metadata": {
      "needs_background": "light",
      "image/png": {
       "width": 875,
       "height": 842
      }
     },
     "output_type": "display_data"
    }
   ]
  },
  {
   "cell_type": "markdown",
   "source": "The SalePrice correlation matrix brings a clearer picture of what we discussed regarding correlations above.\n\nA new observation is made from the matrix:\n\n'GarageCars' and 'GarageArea' are  strongly correlated variables. They also have approximately similar correlations with other features throughout the matrix. This could be because  the number of cars that fit into the garage is a consequence of the garage area. They are interrelated. \n",
   "metadata": {
    "tags": [],
    "cell_id": "00053-78cda557-4ba7-425e-ab37-733ad8b93d5d",
    "deepnote_cell_type": "markdown"
   }
  },
  {
   "cell_type": "markdown",
   "source": "# Data Cleaning",
   "metadata": {
    "tags": [],
    "cell_id": "00014-4d8d9ae5-5ba4-4e55-baf9-48f3dd120192",
    "deepnote_cell_type": "markdown"
   }
  },
  {
   "cell_type": "code",
   "metadata": {
    "tags": [],
    "cell_id": "00056-e236dc68-a83d-430a-8174-5bfd502085b4",
    "deepnote_to_be_reexecuted": false,
    "source_hash": "1552362",
    "execution_start": 1635264969592,
    "execution_millis": 184,
    "deepnote_cell_type": "code"
   },
   "source": "all_data.shape",
   "execution_count": 26,
   "outputs": [
    {
     "output_type": "execute_result",
     "execution_count": 26,
     "data": {
      "text/plain": "(2919, 81)"
     },
     "metadata": {}
    }
   ]
  },
  {
   "cell_type": "markdown",
   "source": "Now we will remove the outliers from the features plotted above",
   "metadata": {
    "tags": [],
    "cell_id": "00047-ec771544-da68-4ed7-8857-0280a2cc2c21",
    "deepnote_cell_type": "markdown"
   }
  },
  {
   "cell_type": "markdown",
   "source": "Starting with the GrLivArea Feature",
   "metadata": {
    "tags": [],
    "cell_id": "00048-3084f191-25e2-425e-a1a0-a488517fa132",
    "deepnote_cell_type": "markdown"
   }
  },
  {
   "cell_type": "code",
   "metadata": {
    "cell_id": "00007-7c786efe-7f48-44e3-aea8-ba282f105152",
    "deepnote_to_be_reexecuted": false,
    "source_hash": "24d4b2e",
    "execution_start": 1635264969593,
    "execution_millis": 0,
    "deepnote_cell_type": "code"
   },
   "source": "all_data = all_data.drop(all_data[(all_data['GrLivArea'] > 4000) & (all_data['SalePrice'] < 250000)].index)",
   "execution_count": 27,
   "outputs": []
  },
  {
   "cell_type": "markdown",
   "source": "LotFrontage\n\nWe will drop LotFrontage x- values greater than 250 since they are outliers",
   "metadata": {
    "tags": [],
    "cell_id": "00050-c8ae1bea-0c70-4562-a0e2-3146c1b93f89",
    "deepnote_cell_type": "markdown"
   }
  },
  {
   "cell_type": "code",
   "metadata": {
    "tags": [],
    "cell_id": "00048-50ac3cf3-f312-4cad-9465-d255fc67c85c",
    "deepnote_to_be_reexecuted": false,
    "source_hash": "604df80c",
    "execution_start": 1635264969643,
    "execution_millis": 1,
    "deepnote_cell_type": "code"
   },
   "source": "all_data = all_data.drop(all_data[(all_data['LotFrontage'] > 250) & (all_data['SalePrice'] < 300000)].index)",
   "execution_count": 28,
   "outputs": []
  },
  {
   "cell_type": "code",
   "metadata": {
    "tags": [],
    "cell_id": "00062-2c0645cf-5e33-480d-aae8-94f44701f31e",
    "deepnote_to_be_reexecuted": false,
    "source_hash": "1552362",
    "execution_start": 1635264969644,
    "execution_millis": 135,
    "deepnote_cell_type": "code"
   },
   "source": "all_data.shape",
   "execution_count": 29,
   "outputs": [
    {
     "output_type": "execute_result",
     "execution_count": 29,
     "data": {
      "text/plain": "(2916, 81)"
     },
     "metadata": {}
    }
   ]
  },
  {
   "cell_type": "markdown",
   "source": "MasVnrArea\n\nThe 0 x-values were very congested, we will remove them to see a better visualization of the plot\n\nWe will also remove the 1600 x-value since it is an outlier",
   "metadata": {
    "tags": [],
    "cell_id": "00052-e5e2719f-5479-4ae9-a12d-5e7091316bb8",
    "deepnote_cell_type": "markdown"
   }
  },
  {
   "cell_type": "code",
   "metadata": {
    "tags": [],
    "cell_id": "00052-ce1e3581-8ad8-49d3-8ed1-335714b3adb2",
    "deepnote_to_be_reexecuted": false,
    "source_hash": "d7f116f7",
    "execution_start": 1635264969660,
    "execution_millis": 0,
    "deepnote_cell_type": "code"
   },
   "source": "all_data = all_data.drop(all_data[(all_data['MasVnrArea'] > 1500) ].index)",
   "execution_count": 30,
   "outputs": []
  },
  {
   "cell_type": "code",
   "metadata": {
    "tags": [],
    "cell_id": "00065-91ac020c-95eb-4034-8106-604548118c35",
    "deepnote_to_be_reexecuted": false,
    "source_hash": "923bae53",
    "execution_start": 1635264969660,
    "execution_millis": 0,
    "deepnote_cell_type": "code"
   },
   "source": "all_data = all_data.drop([\"Id\"], axis=1)",
   "execution_count": 31,
   "outputs": []
  },
  {
   "cell_type": "code",
   "metadata": {
    "tags": [],
    "cell_id": "00065-f613c92e-0a26-4026-bcde-b991318aa4ed",
    "deepnote_to_be_reexecuted": false,
    "source_hash": "1552362",
    "execution_start": 1635264969667,
    "execution_millis": 0,
    "deepnote_cell_type": "code"
   },
   "source": "all_data.shape",
   "execution_count": 32,
   "outputs": [
    {
     "output_type": "execute_result",
     "execution_count": 32,
     "data": {
      "text/plain": "(2915, 80)"
     },
     "metadata": {}
    }
   ]
  },
  {
   "cell_type": "markdown",
   "source": "### Inputing Missing Values",
   "metadata": {
    "tags": [],
    "is_collapsed": false,
    "cell_id": "00062-49dc755f-f19b-4a5e-8d28-83f26f7334cc",
    "deepnote_cell_type": "text-cell-h3"
   }
  },
  {
   "cell_type": "markdown",
   "source": "PoolQC : data description says NA means \"No Pool\". \n\nWhich make sense because of the huge ratio of missing value (+99%) and also because not every house has a pool. \n\nThis case is similar for MiscFeature, Alley, Fence, and FirePlaceQu\n\nWe will replace all NA values with None so they are not considered missing values.",
   "metadata": {
    "tags": [],
    "cell_id": "00063-ab7d9802-8056-4864-b9f3-c450bafc3898",
    "deepnote_cell_type": "markdown"
   }
  },
  {
   "cell_type": "code",
   "metadata": {
    "tags": [],
    "cell_id": "00064-6d6f93a5-f6c1-48a7-a5b9-68ee2256f268",
    "deepnote_to_be_reexecuted": false,
    "source_hash": "820d16d3",
    "execution_start": 1635264969669,
    "execution_millis": 112,
    "deepnote_cell_type": "code"
   },
   "source": "cols = [\"PoolQC\", \"MiscFeature\", \"Alley\", \"Fence\", \"FireplaceQu\"]\n\nfor col in cols:\n    all_data[col] = all_data[col].fillna(\"None\")",
   "execution_count": 33,
   "outputs": []
  },
  {
   "cell_type": "markdown",
   "source": "We will also replace GarageType, GarageFinish, GarageQual and GarageCond missing data with None.",
   "metadata": {
    "tags": [],
    "cell_id": "00065-f18a94e3-5589-4ea4-aa0e-b3332cae4bdb",
    "deepnote_cell_type": "markdown"
   }
  },
  {
   "cell_type": "code",
   "metadata": {
    "tags": [],
    "cell_id": "00066-72bb4dea-b741-4c50-aadc-f91a3344494a",
    "deepnote_to_be_reexecuted": false,
    "source_hash": "8f9c0b6d",
    "execution_start": 1635264969687,
    "execution_millis": 6,
    "deepnote_cell_type": "code"
   },
   "source": "for value in ('GarageType', 'GarageFinish', 'GarageQual', 'GarageCond'):\n    all_data[value] = all_data[value].fillna('None')",
   "execution_count": 34,
   "outputs": []
  },
  {
   "cell_type": "markdown",
   "source": "GarageArea and GarageCars are numerical variables. Missing values for these features may indicate that the house has no Garage.\n\nTherefore we will replace missing values with 0. To indicate no(0) GarageArea and 0 number of garage cars",
   "metadata": {
    "tags": [],
    "cell_id": "00067-552a3f83-d6a7-40e1-b7ad-36d243d9e881",
    "deepnote_cell_type": "markdown"
   }
  },
  {
   "cell_type": "code",
   "metadata": {
    "tags": [],
    "cell_id": "00068-3bd06fe7-61d8-4fe5-82e5-14410c54a3f8",
    "deepnote_to_be_reexecuted": false,
    "source_hash": "5fd72e9f",
    "execution_start": 1635264969696,
    "execution_millis": 18,
    "deepnote_cell_type": "code"
   },
   "source": "for value in ('GarageArea', 'GarageCars'):\n    all_data[value] = all_data[value].fillna(0)",
   "execution_count": 35,
   "outputs": []
  },
  {
   "cell_type": "markdown",
   "source": "BsmtFinSF1, BsmtFinSF2, BsmtUnfSF, TotalBsmtSF, BsmtFullBath and BsmtHalfBath:\n\nMissing values in these numerical basement features are more likely because the house has no basement.Therefore we will replace them with 0.",
   "metadata": {
    "tags": [],
    "cell_id": "00069-823e7494-96d0-4e8f-8b0b-8d45d756261d",
    "deepnote_cell_type": "markdown"
   }
  },
  {
   "cell_type": "code",
   "metadata": {
    "tags": [],
    "cell_id": "00070-900c80e4-8ef8-45b6-9327-2d3ec37b5934",
    "deepnote_to_be_reexecuted": false,
    "source_hash": "e7d20553",
    "execution_start": 1635264969724,
    "execution_millis": 12,
    "deepnote_cell_type": "code"
   },
   "source": "for value in ('BsmtFinSF1', 'BsmtFinSF2', 'BsmtUnfSF', 'TotalBsmtSF', 'BsmtFullBath', 'BsmtHalfBath'):\n    all_data[value] = all_data[value].fillna(0)",
   "execution_count": 36,
   "outputs": []
  },
  {
   "cell_type": "markdown",
   "source": "BsmtQual, BsmtCond, BsmtExposure, BsmtFinType1 and BsmtFinType2 \n\nThese are categorical basement-related features, NaN means that there is no basement so we will replace them with None.",
   "metadata": {
    "tags": [],
    "cell_id": "00071-fb25490f-a9d8-400e-931e-4fe43a658a0e",
    "deepnote_cell_type": "markdown"
   }
  },
  {
   "cell_type": "code",
   "metadata": {
    "tags": [],
    "cell_id": "00072-fccf64b9-bca5-493e-b379-2c9545450c07",
    "deepnote_to_be_reexecuted": false,
    "source_hash": "88db0e74",
    "execution_start": 1635264969774,
    "execution_millis": 53,
    "deepnote_cell_type": "code"
   },
   "source": "for value in ('BsmtCond', 'BsmtExposure', 'BsmtFinType1', 'BsmtFinType2'):\n    all_data[value] = all_data[value].fillna(0)",
   "execution_count": 37,
   "outputs": []
  },
  {
   "cell_type": "markdown",
   "source": "Let's update the missing values from 'LotFrontage' and 'MasVnrArea'. \n\nSince they are numerical features, we will replace missing values with zeros(0)",
   "metadata": {
    "tags": [],
    "cell_id": "00077-e7e3cfc2-0f06-4b89-bde7-a0cfaaa772d8",
    "deepnote_cell_type": "markdown"
   }
  },
  {
   "cell_type": "code",
   "metadata": {
    "tags": [],
    "cell_id": "00077-4d6ccbaa-ef75-49c4-a382-c63375471030",
    "deepnote_to_be_reexecuted": false,
    "source_hash": "b3bb406d",
    "execution_start": 1635264969828,
    "execution_millis": 0,
    "deepnote_cell_type": "code"
   },
   "source": "all_data[\"LotFrontage\"] = all_data[\"LotFrontage\"].fillna(0)\nall_data[\"MasVnrArea\"] = all_data[\"MasVnrArea\"].fillna(0)\n",
   "execution_count": 38,
   "outputs": []
  },
  {
   "cell_type": "markdown",
   "source": "# Data Engineering",
   "metadata": {
    "tags": [],
    "cell_id": "00016-e9d80aab-efcc-40f1-afe5-b5ba72722bc2",
    "deepnote_cell_type": "markdown"
   }
  },
  {
   "cell_type": "markdown",
   "source": "We will create a new feature called TotalSF by adding the features: bsmtSF + 1stFlrSF + 2ndFlrSF  and then check how it relates to SalePrice\n\nTotalSF will represent the total square footage of the house.",
   "metadata": {
    "tags": [],
    "cell_id": "00063-84d2b104-1f69-4038-844e-b6f187bf2f12",
    "deepnote_cell_type": "markdown"
   }
  },
  {
   "cell_type": "code",
   "metadata": {
    "tags": [],
    "cell_id": "00064-d854af6b-6163-4ff6-a444-8916a841b98a",
    "deepnote_to_be_reexecuted": false,
    "source_hash": "9ae1b881",
    "execution_start": 1635264969829,
    "execution_millis": 1,
    "deepnote_cell_type": "code"
   },
   "source": "all_data['TotalSF'] = all_data['TotalBsmtSF'] + all_data['1stFlrSF'] + all_data['2ndFlrSF']",
   "execution_count": 39,
   "outputs": []
  },
  {
   "cell_type": "code",
   "metadata": {
    "tags": [],
    "cell_id": "00065-7f35d5db-aca4-469e-ab9b-f68f6d262039",
    "deepnote_to_be_reexecuted": false,
    "source_hash": "8c12212c",
    "execution_start": 1635264969830,
    "execution_millis": 383,
    "deepnote_cell_type": "code"
   },
   "source": "plt.scatter(x = all_data['TotalSF'], y = all_data['SalePrice'])\nplt.ylabel('SalePrice', fontsize=15)\nplt.xlabel('TotalSF', fontsize=15)\nplt.show()",
   "execution_count": 40,
   "outputs": [
    {
     "data": {
      "text/plain": "<Figure size 432x288 with 1 Axes>",
      "image/png": "[encoded data removed]"
     },
     "metadata": {
      "image/png": {
       "width": 424,
       "height": 270
      }
     },
     "output_type": "display_data"
    }
   ]
  },
  {
   "cell_type": "markdown",
   "source": "From the Plot, SalePrice seems to increase as the TotalSF increases. One value at TotalSF = 7000(Approx.) seems to be a bit higher and far from the rest. I assume it could be because some of the square footage is a great vegetation/garden area or has interesting features within the house.\n\nFor instance most houses with huge square footage would have themed basements as a pool table area or some sort of underground bar.",
   "metadata": {
    "tags": [],
    "cell_id": "00066-abfd74a7-15b7-4f8c-b77e-52d20c200e66",
    "deepnote_cell_type": "markdown"
   }
  },
  {
   "cell_type": "markdown",
   "source": "### Variable Transformation",
   "metadata": {
    "tags": [],
    "is_collapsed": false,
    "cell_id": "00067-7dfd5221-404d-4643-9dab-ea5a63db2cf2",
    "deepnote_cell_type": "text-cell-h3"
   }
  },
  {
   "cell_type": "markdown",
   "source": "Some categorical variables are regarded as numerical features. We will transform them into categorical data.",
   "metadata": {
    "tags": [],
    "cell_id": "00068-c03e0342-b796-41bb-bbfe-61cb4d54b6a3",
    "deepnote_cell_type": "markdown"
   }
  },
  {
   "cell_type": "markdown",
   "source": "MsSubClass - The Building Class\n\nBuilding class usually denotes the general condition of a commercial property and indicates quality of location and amenities.\n\nSo this is a category.",
   "metadata": {
    "tags": [],
    "cell_id": "00069-c6edad45-a2d1-4e22-97ca-a5ad7c67cbd9",
    "deepnote_cell_type": "markdown"
   }
  },
  {
   "cell_type": "markdown",
   "source": "Changing overall condition into categorical data\n\nTransforming YrSold and MoSold as well because the year or month is a mere category, it does not signify anything else numerically. Cannot be measured.",
   "metadata": {
    "tags": [],
    "cell_id": "00071-7e362bb5-d918-4d6f-8e23-778a31c16740",
    "deepnote_cell_type": "markdown"
   }
  },
  {
   "cell_type": "code",
   "metadata": {
    "tags": [],
    "cell_id": "00083-de209b6a-dd5b-4f83-9b9a-83d7bb76dc74",
    "deepnote_to_be_reexecuted": false,
    "source_hash": "13b8bef8",
    "execution_start": 1635264970221,
    "execution_millis": 13,
    "deepnote_cell_type": "code"
   },
   "source": "cols = [\"MSSubClass\",\"OverallCond\", \"YrSold\", \"MoSold\"]\n\nfor col in cols:\n    all_data[col] = all_data[col].apply(str)",
   "execution_count": 41,
   "outputs": []
  },
  {
   "cell_type": "markdown",
   "source": "### OneHotEncoder",
   "metadata": {
    "tags": [],
    "is_collapsed": false,
    "cell_id": "00090-d67ae922-5280-4ca4-be62-02d5359873c1",
    "deepnote_cell_type": "text-cell-h3"
   }
  },
  {
   "cell_type": "markdown",
   "source": "What one hot encoding does is, it takes a column which has categorical data, which has been label encoded, and then splits the column into multiple columns. The numbers are replaced by 1s and 0s, depending on which column has what value.",
   "metadata": {
    "tags": [],
    "cell_id": "00091-2e0b597a-d48c-4a18-87f6-40d8a60732f6",
    "deepnote_cell_type": "markdown"
   }
  },
  {
   "cell_type": "markdown",
   "source": "### Label Encoding",
   "metadata": {
    "tags": [],
    "is_collapsed": false,
    "cell_id": "00090-342a2155-bde3-4b3a-a8b5-c75f2db8879e",
    "deepnote_cell_type": "text-cell-h3"
   }
  },
  {
   "cell_type": "markdown",
   "source": "Label Encoding - changes categorical data or text to be represented numerically.\n\nSo we will transform categorical data into numerical data before applying the models. Starting with MSZoning",
   "metadata": {
    "tags": [],
    "cell_id": "00091-94a3e9f3-d309-44d6-821a-2d261eb5632d",
    "deepnote_cell_type": "markdown"
   }
  },
  {
   "cell_type": "code",
   "metadata": {
    "tags": [],
    "cell_id": "00092-4cfce3cc-9715-4976-b245-2687b290ee33",
    "deepnote_to_be_reexecuted": false,
    "source_hash": "3dd1378c",
    "execution_start": 1635264970244,
    "execution_millis": 4,
    "deepnote_cell_type": "code"
   },
   "source": "from sklearn.preprocessing import LabelEncoder\nlabelencoder = LabelEncoder()\nall_data[\"MSZoning\"] = labelencoder.fit_transform(all_data[\"MSZoning\"])\n",
   "execution_count": 42,
   "outputs": []
  },
  {
   "cell_type": "markdown",
   "source": "We will label encode other categorical features together by creating a list and using a for loop.",
   "metadata": {
    "tags": [],
    "cell_id": "00093-0d1c23fe-8af1-4f2b-987c-0902b50e7c9d",
    "deepnote_cell_type": "markdown"
   }
  },
  {
   "cell_type": "code",
   "metadata": {
    "tags": [],
    "cell_id": "00099-290669a0-aab1-49ad-84ec-520e181a789e",
    "deepnote_to_be_reexecuted": false,
    "source_hash": "61234e22",
    "execution_start": 1635264970252,
    "execution_millis": 45,
    "deepnote_cell_type": "code"
   },
   "source": "cols = ['FireplaceQu', 'BsmtQual', 'BsmtCond', 'GarageQual', 'GarageCond', \n        'ExterQual', 'ExterCond','HeatingQC', 'PoolQC', 'KitchenQual', 'BsmtFinType1', \n        'BsmtFinType2', 'Functional', 'Fence', 'BsmtExposure', 'GarageFinish', 'LandSlope',\n        'LotShape', 'PavedDrive', 'Street', 'Alley', 'CentralAir', 'MSSubClass', 'OverallCond', \n        'YrSold', 'MoSold', 'GarageYrBlt']\nfor col in cols:\n    all_data[col] = LabelEncoder().fit_transform(list(all_data[col].values))",
   "execution_count": 43,
   "outputs": []
  },
  {
   "cell_type": "code",
   "metadata": {
    "tags": [],
    "cell_id": "00096-ee5d5240-a0de-40a0-8e13-15d5a621718e",
    "deepnote_to_be_reexecuted": false,
    "source_hash": "b471bf83",
    "execution_start": 1635264970305,
    "execution_millis": 54,
    "deepnote_cell_type": "code"
   },
   "source": "all_data = pd.get_dummies(all_data)",
   "execution_count": 44,
   "outputs": []
  },
  {
   "cell_type": "code",
   "metadata": {
    "tags": [],
    "cell_id": "00097-128bcd17-8bf2-4508-913d-fe1615a4f700",
    "deepnote_to_be_reexecuted": false,
    "source_hash": "f6828f1f",
    "execution_start": 1635264970375,
    "execution_millis": 34,
    "deepnote_cell_type": "code"
   },
   "source": "train = all_data[~all_data[\"SalePrice\"].isna()]\ntest = all_data[all_data[\"SalePrice\"].isna()]",
   "execution_count": 45,
   "outputs": []
  },
  {
   "cell_type": "markdown",
   "source": "Now we will check if there are more missing values in any of the features.",
   "metadata": {
    "tags": [],
    "cell_id": "00105-8db16ef8-b21e-4c75-a2d0-882bf3771c9e",
    "deepnote_cell_type": "markdown"
   }
  },
  {
   "cell_type": "code",
   "metadata": {
    "tags": [],
    "cell_id": "00098-3e825594-0c06-48ed-b2eb-7ab38afe6715",
    "deepnote_to_be_reexecuted": false,
    "source_hash": "e19bbfa6",
    "execution_start": 1635264970410,
    "execution_millis": 325,
    "deepnote_cell_type": "code"
   },
   "source": "test[test.isna().any(axis=1)]",
   "execution_count": 46,
   "outputs": [
    {
     "output_type": "execute_result",
     "execution_count": 46,
     "data": {
      "application/vnd.deepnote.dataframe.v2+json": {
       "row_count": 1459,
       "column_count": 219,
       "columns": [
        {
         "name": "MSSubClass",
         "dtype": "int64",
         "stats": {
          "unique_count": 16,
          "nan_count": 0,
          "min": "0",
          "max": "15",
          "histogram": [
           {
            "bin_start": 0,
            "bin_end": 1.5,
            "count": 96
           },
           {
            "bin_start": 1.5,
            "bin_end": 3,
            "count": 65
           },
           {
            "bin_start": 3,
            "bin_end": 4.5,
            "count": 38
           },
           {
            "bin_start": 4.5,
            "bin_end": 6,
            "count": 543
           },
           {
            "bin_start": 6,
            "bin_end": 7.5,
            "count": 72
           },
           {
            "bin_start": 7.5,
            "bin_end": 9,
            "count": 6
           },
           {
            "bin_start": 9,
            "bin_end": 10.5,
            "count": 419
           },
           {
            "bin_start": 10.5,
            "bin_end": 12,
            "count": 68
           },
           {
            "bin_start": 12,
            "bin_end": 13.5,
            "count": 67
           },
           {
            "bin_start": 13.5,
            "bin_end": 15,
            "count": 85
           }
          ]
         }
        },
        {
         "name": "MSZoning",
         "dtype": "int64",
         "stats": {
          "unique_count": 6,
          "nan_count": 0,
          "min": "0",
          "max": "5",
          "histogram": [
           {
            "bin_start": 0,
            "bin_end": 0.5,
            "count": 15
           },
           {
            "bin_start": 0.5,
            "bin_end": 1,
            "count": 0
           },
           {
            "bin_start": 1,
            "bin_end": 1.5,
            "count": 74
           },
           {
            "bin_start": 1.5,
            "bin_end": 2,
            "count": 0
           },
           {
            "bin_start": 2,
            "bin_end": 2.5,
            "count": 10
           },
           {
            "bin_start": 2.5,
            "bin_end": 3,
            "count": 0
           },
           {
            "bin_start": 3,
            "bin_end": 3.5,
            "count": 1114
           },
           {
            "bin_start": 3.5,
            "bin_end": 4,
            "count": 0
           },
           {
            "bin_start": 4,
            "bin_end": 4.5,
            "count": 242
           },
           {
            "bin_start": 4.5,
            "bin_end": 5,
            "count": 4
           }
          ]
         }
        },
        {
         "name": "LotFrontage",
         "dtype": "float64",
         "stats": {
          "unique_count": 116,
          "nan_count": 0,
          "min": "0.0",
          "max": "200.0",
          "histogram": [
           {
            "bin_start": 0,
            "bin_end": 20,
            "count": 227
           },
           {
            "bin_start": 20,
            "bin_end": 40,
            "count": 102
           },
           {
            "bin_start": 40,
            "bin_end": 60,
            "count": 227
           },
           {
            "bin_start": 60,
            "bin_end": 80,
            "count": 557
           },
           {
            "bin_start": 80,
            "bin_end": 100,
            "count": 247
           },
           {
            "bin_start": 100,
            "bin_end": 120,
            "count": 65
           },
           {
            "bin_start": 120,
            "bin_end": 140,
            "count": 26
           },
           {
            "bin_start": 140,
            "bin_end": 160,
            "count": 4
           },
           {
            "bin_start": 160,
            "bin_end": 180,
            "count": 2
           },
           {
            "bin_start": 180,
            "bin_end": 200,
            "count": 2
           }
          ]
         }
        },
        {
         "name": "LotArea",
         "dtype": "int64",
         "stats": {
          "unique_count": 1106,
          "nan_count": 0,
          "min": "1470",
          "max": "56600",
          "histogram": [
           {
            "bin_start": 1470,
            "bin_end": 6983,
            "count": 294
           },
           {
            "bin_start": 6983,
            "bin_end": 12496,
            "count": 904
           },
           {
            "bin_start": 12496,
            "bin_end": 18009,
            "count": 205
           },
           {
            "bin_start": 18009,
            "bin_end": 23522,
            "count": 35
           },
           {
            "bin_start": 23522,
            "bin_end": 29035,
            "count": 8
           },
           {
            "bin_start": 29035,
            "bin_end": 34548,
            "count": 4
           },
           {
            "bin_start": 34548,
            "bin_end": 40061,
            "count": 2
           },
           {
            "bin_start": 40061,
            "bin_end": 45574,
            "count": 2
           },
           {
            "bin_start": 45574,
            "bin_end": 51087,
            "count": 3
           },
           {
            "bin_start": 51087,
            "bin_end": 56600,
            "count": 2
           }
          ]
         }
        },
        {
         "name": "Street",
         "dtype": "int64",
         "stats": {
          "unique_count": 2,
          "nan_count": 0,
          "min": "0",
          "max": "1",
          "histogram": [
           {
            "bin_start": 0,
            "bin_end": 0.1,
            "count": 6
           },
           {
            "bin_start": 0.1,
            "bin_end": 0.2,
            "count": 0
           },
           {
            "bin_start": 0.2,
            "bin_end": 0.30000000000000004,
            "count": 0
           },
           {
            "bin_start": 0.30000000000000004,
            "bin_end": 0.4,
            "count": 0
           },
           {
            "bin_start": 0.4,
            "bin_end": 0.5,
            "count": 0
           },
           {
            "bin_start": 0.5,
            "bin_end": 0.6000000000000001,
            "count": 0
           },
           {
            "bin_start": 0.6000000000000001,
            "bin_end": 0.7000000000000001,
            "count": 0
           },
           {
            "bin_start": 0.7000000000000001,
            "bin_end": 0.8,
            "count": 0
           },
           {
            "bin_start": 0.8,
            "bin_end": 0.9,
            "count": 0
           },
           {
            "bin_start": 0.9,
            "bin_end": 1,
            "count": 1453
           }
          ]
         }
        },
        {
         "name": "Alley",
         "dtype": "int64",
         "stats": {
          "unique_count": 3,
          "nan_count": 0,
          "min": "0",
          "max": "2",
          "histogram": [
           {
            "bin_start": 0,
            "bin_end": 0.2,
            "count": 70
           },
           {
            "bin_start": 0.2,
            "bin_end": 0.4,
            "count": 0
           },
           {
            "bin_start": 0.4,
            "bin_end": 0.6000000000000001,
            "count": 0
           },
           {
            "bin_start": 0.6000000000000001,
            "bin_end": 0.8,
            "count": 0
           },
           {
            "bin_start": 0.8,
            "bin_end": 1,
            "count": 0
           },
           {
            "bin_start": 1,
            "bin_end": 1.2000000000000002,
            "count": 1352
           },
           {
            "bin_start": 1.2000000000000002,
            "bin_end": 1.4000000000000001,
            "count": 0
           },
           {
            "bin_start": 1.4000000000000001,
            "bin_end": 1.6,
            "count": 0
           },
           {
            "bin_start": 1.6,
            "bin_end": 1.8,
            "count": 0
           },
           {
            "bin_start": 1.8,
            "bin_end": 2,
            "count": 37
           }
          ]
         }
        },
        {
         "name": "LotShape",
         "dtype": "int64",
         "stats": {
          "unique_count": 4,
          "nan_count": 0,
          "min": "0",
          "max": "3",
          "histogram": [
           {
            "bin_start": 0,
            "bin_end": 0.3,
            "count": 484
           },
           {
            "bin_start": 0.3,
            "bin_end": 0.6,
            "count": 0
           },
           {
            "bin_start": 0.6,
            "bin_end": 0.8999999999999999,
            "count": 0
           },
           {
            "bin_start": 0.8999999999999999,
            "bin_end": 1.2,
            "count": 35
           },
           {
            "bin_start": 1.2,
            "bin_end": 1.5,
            "count": 0
           },
           {
            "bin_start": 1.5,
            "bin_end": 1.7999999999999998,
            "count": 0
           },
           {
            "bin_start": 1.7999999999999998,
            "bin_end": 2.1,
            "count": 6
           },
           {
            "bin_start": 2.1,
            "bin_end": 2.4,
            "count": 0
           },
           {
            "bin_start": 2.4,
            "bin_end": 2.6999999999999997,
            "count": 0
           },
           {
            "bin_start": 2.6999999999999997,
            "bin_end": 3,
            "count": 934
           }
          ]
         }
        },
        {
         "name": "LandSlope",
         "dtype": "int64",
         "stats": {
          "unique_count": 3,
          "nan_count": 0,
          "min": "0",
          "max": "2",
          "histogram": [
           {
            "bin_start": 0,
            "bin_end": 0.2,
            "count": 1396
           },
           {
            "bin_start": 0.2,
            "bin_end": 0.4,
            "count": 0
           },
           {
            "bin_start": 0.4,
            "bin_end": 0.6000000000000001,
            "count": 0
           },
           {
            "bin_start": 0.6000000000000001,
            "bin_end": 0.8,
            "count": 0
           },
           {
            "bin_start": 0.8,
            "bin_end": 1,
            "count": 0
           },
           {
            "bin_start": 1,
            "bin_end": 1.2000000000000002,
            "count": 60
           },
           {
            "bin_start": 1.2000000000000002,
            "bin_end": 1.4000000000000001,
            "count": 0
           },
           {
            "bin_start": 1.4000000000000001,
            "bin_end": 1.6,
            "count": 0
           },
           {
            "bin_start": 1.6,
            "bin_end": 1.8,
            "count": 0
           },
           {
            "bin_start": 1.8,
            "bin_end": 2,
            "count": 3
           }
          ]
         }
        },
        {
         "name": "OverallQual",
         "dtype": "int64",
         "stats": {
          "unique_count": 10,
          "nan_count": 0,
          "min": "1",
          "max": "10",
          "histogram": [
           {
            "bin_start": 1,
            "bin_end": 1.9,
            "count": 2
           },
           {
            "bin_start": 1.9,
            "bin_end": 2.8,
            "count": 10
           },
           {
            "bin_start": 2.8,
            "bin_end": 3.7,
            "count": 20
           },
           {
            "bin_start": 3.7,
            "bin_end": 4.6,
            "count": 110
           },
           {
            "bin_start": 4.6,
            "bin_end": 5.5,
            "count": 428
           },
           {
            "bin_start": 5.5,
            "bin_end": 6.4,
            "count": 357
           },
           {
            "bin_start": 6.4,
            "bin_end": 7.3,
            "count": 281
           },
           {
            "bin_start": 7.3,
            "bin_end": 8.2,
            "count": 174
           },
           {
            "bin_start": 8.2,
            "bin_end": 9.1,
            "count": 64
           },
           {
            "bin_start": 9.1,
            "bin_end": 10,
            "count": 13
           }
          ]
         }
        },
        {
         "name": "OverallCond",
         "dtype": "int64",
         "stats": {
          "unique_count": 9,
          "nan_count": 0,
          "min": "0",
          "max": "8",
          "histogram": [
           {
            "bin_start": 0,
            "bin_end": 0.8,
            "count": 6
           },
           {
            "bin_start": 0.8,
            "bin_end": 1.6,
            "count": 5
           },
           {
            "bin_start": 1.6,
            "bin_end": 2.4000000000000004,
            "count": 25
           },
           {
            "bin_start": 2.4000000000000004,
            "bin_end": 3.2,
            "count": 44
           },
           {
            "bin_start": 3.2,
            "bin_end": 4,
            "count": 0
           },
           {
            "bin_start": 4,
            "bin_end": 4.800000000000001,
            "count": 824
           },
           {
            "bin_start": 4.800000000000001,
            "bin_end": 5.6000000000000005,
            "count": 279
           },
           {
            "bin_start": 5.6000000000000005,
            "bin_end": 6.4,
            "count": 185
           },
           {
            "bin_start": 6.4,
            "bin_end": 7.2,
            "count": 72
           },
           {
            "bin_start": 7.2,
            "bin_end": 8,
            "count": 19
           }
          ]
         }
        },
        {
         "name": "YearBuilt",
         "dtype": "int64",
         "stats": {
          "unique_count": 106,
          "nan_count": 0,
          "min": "1879",
          "max": "2010",
          "histogram": [
           {
            "bin_start": 1879,
            "bin_end": 1892.1,
            "count": 7
           },
           {
            "bin_start": 1892.1,
            "bin_end": 1905.2,
            "count": 28
           },
           {
            "bin_start": 1905.2,
            "bin_end": 1918.3,
            "count": 51
           },
           {
            "bin_start": 1918.3,
            "bin_end": 1931.4,
            "count": 119
           },
           {
            "bin_start": 1931.4,
            "bin_end": 1944.5,
            "count": 67
           },
           {
            "bin_start": 1944.5,
            "bin_end": 1957.6,
            "count": 174
           },
           {
            "bin_start": 1957.6,
            "bin_end": 1970.7,
            "count": 241
           },
           {
            "bin_start": 1970.7,
            "bin_end": 1983.8,
            "count": 177
           },
           {
            "bin_start": 1983.8,
            "bin_end": 1996.9,
            "count": 131
           },
           {
            "bin_start": 1996.9,
            "bin_end": 2010,
            "count": 464
           }
          ]
         }
        },
        {
         "name": "YearRemodAdd",
         "dtype": "int64",
         "stats": {
          "unique_count": 61,
          "nan_count": 0,
          "min": "1950",
          "max": "2010",
          "histogram": [
           {
            "bin_start": 1950,
            "bin_end": 1956,
            "count": 243
           },
           {
            "bin_start": 1956,
            "bin_end": 1962,
            "count": 95
           },
           {
            "bin_start": 1962,
            "bin_end": 1968,
            "count": 87
           },
           {
            "bin_start": 1968,
            "bin_end": 1974,
            "count": 90
           },
           {
            "bin_start": 1974,
            "bin_end": 1980,
            "count": 105
           },
           {
            "bin_start": 1980,
            "bin_end": 1986,
            "count": 43
           },
           {
            "bin_start": 1986,
            "bin_end": 1992,
            "count": 55
           },
           {
            "bin_start": 1992,
            "bin_end": 1998,
            "count": 142
           },
           {
            "bin_start": 1998,
            "bin_end": 2004,
            "count": 230
           },
           {
            "bin_start": 2004,
            "bin_end": 2010,
            "count": 369
           }
          ]
         }
        },
        {
         "name": "MasVnrArea",
         "dtype": "float64",
         "stats": {
          "unique_count": 303,
          "nan_count": 0,
          "min": "0.0",
          "max": "1290.0",
          "histogram": [
           {
            "bin_start": 0,
            "bin_end": 129,
            "count": 1040
           },
           {
            "bin_start": 129,
            "bin_end": 258,
            "count": 213
           },
           {
            "bin_start": 258,
            "bin_end": 387,
            "count": 96
           },
           {
            "bin_start": 387,
            "bin_end": 516,
            "count": 59
           },
           {
            "bin_start": 516,
            "bin_end": 645,
            "count": 21
           },
           {
            "bin_start": 645,
            "bin_end": 774,
            "count": 18
           },
           {
            "bin_start": 774,
            "bin_end": 903,
            "count": 3
           },
           {
            "bin_start": 903,
            "bin_end": 1032,
            "count": 2
           },
           {
            "bin_start": 1032,
            "bin_end": 1161,
            "count": 4
           },
           {
            "bin_start": 1161,
            "bin_end": 1290,
            "count": 3
           }
          ]
         }
        },
        {
         "name": "ExterQual",
         "dtype": "int64",
         "stats": {
          "unique_count": 4,
          "nan_count": 0,
          "min": "0",
          "max": "3",
          "histogram": [
           {
            "bin_start": 0,
            "bin_end": 0.3,
            "count": 55
           },
           {
            "bin_start": 0.3,
            "bin_end": 0.6,
            "count": 0
           },
           {
            "bin_start": 0.6,
            "bin_end": 0.8999999999999999,
            "count": 0
           },
           {
            "bin_start": 0.8999999999999999,
            "bin_end": 1.2,
            "count": 21
           },
           {
            "bin_start": 1.2,
            "bin_end": 1.5,
            "count": 0
           },
           {
            "bin_start": 1.5,
            "bin_end": 1.7999999999999998,
            "count": 0
           },
           {
            "bin_start": 1.7999999999999998,
            "bin_end": 2.1,
            "count": 491
           },
           {
            "bin_start": 2.1,
            "bin_end": 2.4,
            "count": 0
           },
           {
            "bin_start": 2.4,
            "bin_end": 2.6999999999999997,
            "count": 0
           },
           {
            "bin_start": 2.6999999999999997,
            "bin_end": 3,
            "count": 892
           }
          ]
         }
        },
        {
         "name": "ExterCond",
         "dtype": "int64",
         "stats": {
          "unique_count": 5,
          "nan_count": 0,
          "min": "0",
          "max": "4",
          "histogram": [
           {
            "bin_start": 0,
            "bin_end": 0.4,
            "count": 9
           },
           {
            "bin_start": 0.4,
            "bin_end": 0.8,
            "count": 0
           },
           {
            "bin_start": 0.8,
            "bin_end": 1.2000000000000002,
            "count": 39
           },
           {
            "bin_start": 1.2000000000000002,
            "bin_end": 1.6,
            "count": 0
           },
           {
            "bin_start": 1.6,
            "bin_end": 2,
            "count": 0
           },
           {
            "bin_start": 2,
            "bin_end": 2.4000000000000004,
            "count": 153
           },
           {
            "bin_start": 2.4000000000000004,
            "bin_end": 2.8000000000000003,
            "count": 0
           },
           {
            "bin_start": 2.8000000000000003,
            "bin_end": 3.2,
            "count": 2
           },
           {
            "bin_start": 3.2,
            "bin_end": 3.6,
            "count": 0
           },
           {
            "bin_start": 3.6,
            "bin_end": 4,
            "count": 1256
           }
          ]
         }
        },
        {
         "name": "BsmtQual",
         "dtype": "int64",
         "stats": {
          "unique_count": 5,
          "nan_count": 0,
          "min": "0",
          "max": "4",
          "histogram": [
           {
            "bin_start": 0,
            "bin_end": 0.4,
            "count": 137
           },
           {
            "bin_start": 0.4,
            "bin_end": 0.8,
            "count": 0
           },
           {
            "bin_start": 0.8,
            "bin_end": 1.2000000000000002,
            "count": 53
           },
           {
            "bin_start": 1.2000000000000002,
            "bin_end": 1.6,
            "count": 0
           },
           {
            "bin_start": 1.6,
            "bin_end": 2,
            "count": 0
           },
           {
            "bin_start": 2,
            "bin_end": 2.4000000000000004,
            "count": 591
           },
           {
            "bin_start": 2.4000000000000004,
            "bin_end": 2.8000000000000003,
            "count": 0
           },
           {
            "bin_start": 2.8000000000000003,
            "bin_end": 3.2,
            "count": 634
           },
           {
            "bin_start": 3.2,
            "bin_end": 3.6,
            "count": 0
           },
           {
            "bin_start": 3.6,
            "bin_end": 4,
            "count": 44
           }
          ]
         }
        },
        {
         "name": "BsmtCond",
         "dtype": "int64",
         "stats": {
          "unique_count": 5,
          "nan_count": 0,
          "min": "0",
          "max": "4",
          "histogram": [
           {
            "bin_start": 0,
            "bin_end": 0.4,
            "count": 45
           },
           {
            "bin_start": 0.4,
            "bin_end": 0.8,
            "count": 0
           },
           {
            "bin_start": 0.8,
            "bin_end": 1.2000000000000002,
            "count": 59
           },
           {
            "bin_start": 1.2000000000000002,
            "bin_end": 1.6,
            "count": 0
           },
           {
            "bin_start": 1.6,
            "bin_end": 2,
            "count": 0
           },
           {
            "bin_start": 2,
            "bin_end": 2.4000000000000004,
            "count": 57
           },
           {
            "bin_start": 2.4000000000000004,
            "bin_end": 2.8000000000000003,
            "count": 0
           },
           {
            "bin_start": 2.8000000000000003,
            "bin_end": 3.2,
            "count": 3
           },
           {
            "bin_start": 3.2,
            "bin_end": 3.6,
            "count": 0
           },
           {
            "bin_start": 3.6,
            "bin_end": 4,
            "count": 1295
           }
          ]
         }
        },
        {
         "name": "BsmtExposure",
         "dtype": "int64",
         "stats": {
          "unique_count": 5,
          "nan_count": 0,
          "min": "0",
          "max": "4",
          "histogram": [
           {
            "bin_start": 0,
            "bin_end": 0.4,
            "count": 44
           },
           {
            "bin_start": 0.4,
            "bin_end": 0.8,
            "count": 0
           },
           {
            "bin_start": 0.8,
            "bin_end": 1.2000000000000002,
            "count": 197
           },
           {
            "bin_start": 1.2000000000000002,
            "bin_end": 1.6,
            "count": 0
           },
           {
            "bin_start": 1.6,
            "bin_end": 2,
            "count": 0
           },
           {
            "bin_start": 2,
            "bin_end": 2.4000000000000004,
            "count": 142
           },
           {
            "bin_start": 2.4000000000000004,
            "bin_end": 2.8000000000000003,
            "count": 0
           },
           {
            "bin_start": 2.8000000000000003,
            "bin_end": 3.2,
            "count": 125
           },
           {
            "bin_start": 3.2,
            "bin_end": 3.6,
            "count": 0
           },
           {
            "bin_start": 3.6,
            "bin_end": 4,
            "count": 951
           }
          ]
         }
        },
        {
         "name": "BsmtFinType1",
         "dtype": "int64",
         "stats": {
          "unique_count": 7,
          "nan_count": 0,
          "min": "0",
          "max": "6",
          "histogram": [
           {
            "bin_start": 0,
            "bin_end": 0.6,
            "count": 42
           },
           {
            "bin_start": 0.6,
            "bin_end": 1.2,
            "count": 209
           },
           {
            "bin_start": 1.2,
            "bin_end": 1.7999999999999998,
            "count": 0
           },
           {
            "bin_start": 1.7999999999999998,
            "bin_end": 2.4,
            "count": 121
           },
           {
            "bin_start": 2.4,
            "bin_end": 3,
            "count": 0
           },
           {
            "bin_start": 3,
            "bin_end": 3.5999999999999996,
            "count": 431
           },
           {
            "bin_start": 3.5999999999999996,
            "bin_end": 4.2,
            "count": 80
           },
           {
            "bin_start": 4.2,
            "bin_end": 4.8,
            "count": 0
           },
           {
            "bin_start": 4.8,
            "bin_end": 5.3999999999999995,
            "count": 155
           },
           {
            "bin_start": 5.3999999999999995,
            "bin_end": 6,
            "count": 421
           }
          ]
         }
        },
        {
         "name": "BsmtFinSF1",
         "dtype": "float64",
         "stats": {
          "unique_count": 669,
          "nan_count": 0,
          "min": "0.0",
          "max": "4010.0",
          "histogram": [
           {
            "bin_start": 0,
            "bin_end": 401,
            "count": 780
           },
           {
            "bin_start": 401,
            "bin_end": 802,
            "count": 377
           },
           {
            "bin_start": 802,
            "bin_end": 1203,
            "count": 208
           },
           {
            "bin_start": 1203,
            "bin_end": 1604,
            "count": 75
           },
           {
            "bin_start": 1604,
            "bin_end": 2005,
            "count": 13
           },
           {
            "bin_start": 2005,
            "bin_end": 2406,
            "count": 5
           },
           {
            "bin_start": 2406,
            "bin_end": 2807,
            "count": 0
           },
           {
            "bin_start": 2807,
            "bin_end": 3208,
            "count": 0
           },
           {
            "bin_start": 3208,
            "bin_end": 3609,
            "count": 0
           },
           {
            "bin_start": 3609,
            "bin_end": 4010,
            "count": 1
           }
          ]
         }
        },
        {
         "name": "BsmtFinType2",
         "dtype": "int64",
         "stats": {
          "unique_count": 7,
          "nan_count": 0,
          "min": "0",
          "max": "6",
          "histogram": [
           {
            "bin_start": 0,
            "bin_end": 0.6,
            "count": 42
           },
           {
            "bin_start": 0.6,
            "bin_end": 1.2,
            "count": 33
           },
           {
            "bin_start": 1.2,
            "bin_end": 1.7999999999999998,
            "count": 0
           },
           {
            "bin_start": 1.7999999999999998,
            "bin_end": 2.4,
            "count": 35
           },
           {
            "bin_start": 2.4,
            "bin_end": 3,
            "count": 0
           },
           {
            "bin_start": 3,
            "bin_end": 3.5999999999999996,
            "count": 20
           },
           {
            "bin_start": 3.5999999999999996,
            "bin_end": 4.2,
            "count": 41
           },
           {
            "bin_start": 4.2,
            "bin_end": 4.8,
            "count": 0
           },
           {
            "bin_start": 4.8,
            "bin_end": 5.3999999999999995,
            "count": 51
           },
           {
            "bin_start": 5.3999999999999995,
            "bin_end": 6,
            "count": 1237
           }
          ]
         }
        },
        {
         "name": "BsmtFinSF2",
         "dtype": "float64",
         "stats": {
          "unique_count": 161,
          "nan_count": 0,
          "min": "0.0",
          "max": "1526.0",
          "histogram": [
           {
            "bin_start": 0,
            "bin_end": 152.6,
            "count": 1316
           },
           {
            "bin_start": 152.6,
            "bin_end": 305.2,
            "count": 45
           },
           {
            "bin_start": 305.2,
            "bin_end": 457.79999999999995,
            "count": 29
           },
           {
            "bin_start": 457.79999999999995,
            "bin_end": 610.4,
            "count": 22
           },
           {
            "bin_start": 610.4,
            "bin_end": 763,
            "count": 17
           },
           {
            "bin_start": 763,
            "bin_end": 915.5999999999999,
            "count": 18
           },
           {
            "bin_start": 915.5999999999999,
            "bin_end": 1068.2,
            "count": 7
           },
           {
            "bin_start": 1068.2,
            "bin_end": 1220.8,
            "count": 3
           },
           {
            "bin_start": 1220.8,
            "bin_end": 1373.3999999999999,
            "count": 0
           },
           {
            "bin_start": 1373.3999999999999,
            "bin_end": 1526,
            "count": 2
           }
          ]
         }
        },
        {
         "name": "BsmtUnfSF",
         "dtype": "float64",
         "stats": {
          "unique_count": 793,
          "nan_count": 0,
          "min": "0.0",
          "max": "2140.0",
          "histogram": [
           {
            "bin_start": 0,
            "bin_end": 214,
            "count": 352
           },
           {
            "bin_start": 214,
            "bin_end": 428,
            "count": 333
           },
           {
            "bin_start": 428,
            "bin_end": 642,
            "count": 264
           },
           {
            "bin_start": 642,
            "bin_end": 856,
            "count": 205
           },
           {
            "bin_start": 856,
            "bin_end": 1070,
            "count": 109
           },
           {
            "bin_start": 1070,
            "bin_end": 1284,
            "count": 74
           },
           {
            "bin_start": 1284,
            "bin_end": 1498,
            "count": 53
           },
           {
            "bin_start": 1498,
            "bin_end": 1712,
            "count": 51
           },
           {
            "bin_start": 1712,
            "bin_end": 1926,
            "count": 14
           },
           {
            "bin_start": 1926,
            "bin_end": 2140,
            "count": 4
           }
          ]
         }
        },
        {
         "name": "TotalBsmtSF",
         "dtype": "float64",
         "stats": {
          "unique_count": 736,
          "nan_count": 0,
          "min": "0.0",
          "max": "5095.0",
          "histogram": [
           {
            "bin_start": 0,
            "bin_end": 509.5,
            "count": 107
           },
           {
            "bin_start": 509.5,
            "bin_end": 1019,
            "count": 664
           },
           {
            "bin_start": 1019,
            "bin_end": 1528.5,
            "count": 481
           },
           {
            "bin_start": 1528.5,
            "bin_end": 2038,
            "count": 185
           },
           {
            "bin_start": 2038,
            "bin_end": 2547.5,
            "count": 17
           },
           {
            "bin_start": 2547.5,
            "bin_end": 3057,
            "count": 4
           },
           {
            "bin_start": 3057,
            "bin_end": 3566.5,
            "count": 0
           },
           {
            "bin_start": 3566.5,
            "bin_end": 4076,
            "count": 0
           },
           {
            "bin_start": 4076,
            "bin_end": 4585.5,
            "count": 0
           },
           {
            "bin_start": 4585.5,
            "bin_end": 5095,
            "count": 1
           }
          ]
         }
        },
        {
         "name": "HeatingQC",
         "dtype": "int64",
         "stats": {
          "unique_count": 5,
          "nan_count": 0,
          "min": "0",
          "max": "4",
          "histogram": [
           {
            "bin_start": 0,
            "bin_end": 0.4,
            "count": 752
           },
           {
            "bin_start": 0.4,
            "bin_end": 0.8,
            "count": 0
           },
           {
            "bin_start": 0.8,
            "bin_end": 1.2000000000000002,
            "count": 43
           },
           {
            "bin_start": 1.2000000000000002,
            "bin_end": 1.6,
            "count": 0
           },
           {
            "bin_start": 1.6,
            "bin_end": 2,
            "count": 0
           },
           {
            "bin_start": 2,
            "bin_end": 2.4000000000000004,
            "count": 233
           },
           {
            "bin_start": 2.4000000000000004,
            "bin_end": 2.8000000000000003,
            "count": 0
           },
           {
            "bin_start": 2.8000000000000003,
            "bin_end": 3.2,
            "count": 2
           },
           {
            "bin_start": 3.2,
            "bin_end": 3.6,
            "count": 0
           },
           {
            "bin_start": 3.6,
            "bin_end": 4,
            "count": 429
           }
          ]
         }
        },
        {
         "name": "CentralAir",
         "dtype": "int64",
         "stats": {
          "unique_count": 2,
          "nan_count": 0,
          "min": "0",
          "max": "1",
          "histogram": [
           {
            "bin_start": 0,
            "bin_end": 0.1,
            "count": 101
           },
           {
            "bin_start": 0.1,
            "bin_end": 0.2,
            "count": 0
           },
           {
            "bin_start": 0.2,
            "bin_end": 0.30000000000000004,
            "count": 0
           },
           {
            "bin_start": 0.30000000000000004,
            "bin_end": 0.4,
            "count": 0
           },
           {
            "bin_start": 0.4,
            "bin_end": 0.5,
            "count": 0
           },
           {
            "bin_start": 0.5,
            "bin_end": 0.6000000000000001,
            "count": 0
           },
           {
            "bin_start": 0.6000000000000001,
            "bin_end": 0.7000000000000001,
            "count": 0
           },
           {
            "bin_start": 0.7000000000000001,
            "bin_end": 0.8,
            "count": 0
           },
           {
            "bin_start": 0.8,
            "bin_end": 0.9,
            "count": 0
           },
           {
            "bin_start": 0.9,
            "bin_end": 1,
            "count": 1358
           }
          ]
         }
        },
        {
         "name": "1stFlrSF",
         "dtype": "int64",
         "stats": {
          "unique_count": 789,
          "nan_count": 0,
          "min": "407",
          "max": "5095",
          "histogram": [
           {
            "bin_start": 407,
            "bin_end": 875.8,
            "count": 370
           },
           {
            "bin_start": 875.8,
            "bin_end": 1344.6,
            "count": 685
           },
           {
            "bin_start": 1344.6,
            "bin_end": 1813.4,
            "count": 324
           },
           {
            "bin_start": 1813.4,
            "bin_end": 2282.2,
            "count": 62
           },
           {
            "bin_start": 2282.2,
            "bin_end": 2751,
            "count": 16
           },
           {
            "bin_start": 2751,
            "bin_end": 3219.8,
            "count": 0
           },
           {
            "bin_start": 3219.8,
            "bin_end": 3688.6,
            "count": 0
           },
           {
            "bin_start": 3688.6,
            "bin_end": 4157.4,
            "count": 1
           },
           {
            "bin_start": 4157.4,
            "bin_end": 4626.2,
            "count": 0
           },
           {
            "bin_start": 4626.2,
            "bin_end": 5095,
            "count": 1
           }
          ]
         }
        },
        {
         "name": "2ndFlrSF",
         "dtype": "int64",
         "stats": {
          "unique_count": 407,
          "nan_count": 0,
          "min": "0",
          "max": "1862",
          "histogram": [
           {
            "bin_start": 0,
            "bin_end": 186.2,
            "count": 844
           },
           {
            "bin_start": 186.2,
            "bin_end": 372.4,
            "count": 24
           },
           {
            "bin_start": 372.4,
            "bin_end": 558.5999999999999,
            "count": 116
           },
           {
            "bin_start": 558.5999999999999,
            "bin_end": 744.8,
            "count": 180
           },
           {
            "bin_start": 744.8,
            "bin_end": 931,
            "count": 166
           },
           {
            "bin_start": 931,
            "bin_end": 1117.1999999999998,
            "count": 56
           },
           {
            "bin_start": 1117.1999999999998,
            "bin_end": 1303.3999999999999,
            "count": 41
           },
           {
            "bin_start": 1303.3999999999999,
            "bin_end": 1489.6,
            "count": 22
           },
           {
            "bin_start": 1489.6,
            "bin_end": 1675.8,
            "count": 5
           },
           {
            "bin_start": 1675.8,
            "bin_end": 1862,
            "count": 5
           }
          ]
         }
        },
        {
         "name": "LowQualFinSF",
         "dtype": "int64",
         "stats": {
          "unique_count": 15,
          "nan_count": 0,
          "min": "0",
          "max": "1064",
          "histogram": [
           {
            "bin_start": 0,
            "bin_end": 106.4,
            "count": 1446
           },
           {
            "bin_start": 106.4,
            "bin_end": 212.8,
            "count": 4
           },
           {
            "bin_start": 212.8,
            "bin_end": 319.20000000000005,
            "count": 2
           },
           {
            "bin_start": 319.20000000000005,
            "bin_end": 425.6,
            "count": 1
           },
           {
            "bin_start": 425.6,
            "bin_end": 532,
            "count": 4
           },
           {
            "bin_start": 532,
            "bin_end": 638.4000000000001,
            "count": 0
           },
           {
            "bin_start": 638.4000000000001,
            "bin_end": 744.8000000000001,
            "count": 1
           },
           {
            "bin_start": 744.8000000000001,
            "bin_end": 851.2,
            "count": 0
           },
           {
            "bin_start": 851.2,
            "bin_end": 957.6,
            "count": 0
           },
           {
            "bin_start": 957.6,
            "bin_end": 1064,
            "count": 1
           }
          ]
         }
        },
        {
         "name": "GrLivArea",
         "dtype": "int64",
         "stats": {
          "unique_count": 879,
          "nan_count": 0,
          "min": "407",
          "max": "5095",
          "histogram": [
           {
            "bin_start": 407,
            "bin_end": 875.8,
            "count": 89
           },
           {
            "bin_start": 875.8,
            "bin_end": 1344.6,
            "count": 533
           },
           {
            "bin_start": 1344.6,
            "bin_end": 1813.4,
            "count": 548
           },
           {
            "bin_start": 1813.4,
            "bin_end": 2282.2,
            "count": 177
           },
           {
            "bin_start": 2282.2,
            "bin_end": 2751,
            "count": 88
           },
           {
            "bin_start": 2751,
            "bin_end": 3219.8,
            "count": 19
           },
           {
            "bin_start": 3219.8,
            "bin_end": 3688.6,
            "count": 3
           },
           {
            "bin_start": 3688.6,
            "bin_end": 4157.4,
            "count": 1
           },
           {
            "bin_start": 4157.4,
            "bin_end": 4626.2,
            "count": 0
           },
           {
            "bin_start": 4626.2,
            "bin_end": 5095,
            "count": 1
           }
          ]
         }
        },
        {
         "name": "BsmtFullBath",
         "dtype": "float64",
         "stats": {
          "unique_count": 4,
          "nan_count": 0,
          "min": "0.0",
          "max": "3.0",
          "histogram": [
           {
            "bin_start": 0,
            "bin_end": 0.3,
            "count": 851
           },
           {
            "bin_start": 0.3,
            "bin_end": 0.6,
            "count": 0
           },
           {
            "bin_start": 0.6,
            "bin_end": 0.8999999999999999,
            "count": 0
           },
           {
            "bin_start": 0.8999999999999999,
            "bin_end": 1.2,
            "count": 584
           },
           {
            "bin_start": 1.2,
            "bin_end": 1.5,
            "count": 0
           },
           {
            "bin_start": 1.5,
            "bin_end": 1.7999999999999998,
            "count": 0
           },
           {
            "bin_start": 1.7999999999999998,
            "bin_end": 2.1,
            "count": 23
           },
           {
            "bin_start": 2.1,
            "bin_end": 2.4,
            "count": 0
           },
           {
            "bin_start": 2.4,
            "bin_end": 2.6999999999999997,
            "count": 0
           },
           {
            "bin_start": 2.6999999999999997,
            "bin_end": 3,
            "count": 1
           }
          ]
         }
        },
        {
         "name": "BsmtHalfBath",
         "dtype": "float64",
         "stats": {
          "unique_count": 3,
          "nan_count": 0,
          "min": "0.0",
          "max": "2.0",
          "histogram": [
           {
            "bin_start": 0,
            "bin_end": 0.2,
            "count": 1366
           },
           {
            "bin_start": 0.2,
            "bin_end": 0.4,
            "count": 0
           },
           {
            "bin_start": 0.4,
            "bin_end": 0.6000000000000001,
            "count": 0
           },
           {
            "bin_start": 0.6000000000000001,
            "bin_end": 0.8,
            "count": 0
           },
           {
            "bin_start": 0.8,
            "bin_end": 1,
            "count": 0
           },
           {
            "bin_start": 1,
            "bin_end": 1.2000000000000002,
            "count": 91
           },
           {
            "bin_start": 1.2000000000000002,
            "bin_end": 1.4000000000000001,
            "count": 0
           },
           {
            "bin_start": 1.4000000000000001,
            "bin_end": 1.6,
            "count": 0
           },
           {
            "bin_start": 1.6,
            "bin_end": 1.8,
            "count": 0
           },
           {
            "bin_start": 1.8,
            "bin_end": 2,
            "count": 2
           }
          ]
         }
        },
        {
         "name": "FullBath",
         "dtype": "int64",
         "stats": {
          "unique_count": 5,
          "nan_count": 0,
          "min": "0",
          "max": "4",
          "histogram": [
           {
            "bin_start": 0,
            "bin_end": 0.4,
            "count": 3
           },
           {
            "bin_start": 0.4,
            "bin_end": 0.8,
            "count": 0
           },
           {
            "bin_start": 0.8,
            "bin_end": 1.2000000000000002,
            "count": 659
           },
           {
            "bin_start": 1.2000000000000002,
            "bin_end": 1.6,
            "count": 0
           },
           {
            "bin_start": 1.6,
            "bin_end": 2,
            "count": 0
           },
           {
            "bin_start": 2,
            "bin_end": 2.4000000000000004,
            "count": 762
           },
           {
            "bin_start": 2.4000000000000004,
            "bin_end": 2.8000000000000003,
            "count": 0
           },
           {
            "bin_start": 2.8000000000000003,
            "bin_end": 3.2,
            "count": 31
           },
           {
            "bin_start": 3.2,
            "bin_end": 3.6,
            "count": 0
           },
           {
            "bin_start": 3.6,
            "bin_end": 4,
            "count": 4
           }
          ]
         }
        },
        {
         "name": "HalfBath",
         "dtype": "int64",
         "stats": {
          "unique_count": 3,
          "nan_count": 0,
          "min": "0",
          "max": "2",
          "histogram": [
           {
            "bin_start": 0,
            "bin_end": 0.2,
            "count": 921
           },
           {
            "bin_start": 0.2,
            "bin_end": 0.4,
            "count": 0
           },
           {
            "bin_start": 0.4,
            "bin_end": 0.6000000000000001,
            "count": 0
           },
           {
            "bin_start": 0.6000000000000001,
            "bin_end": 0.8,
            "count": 0
           },
           {
            "bin_start": 0.8,
            "bin_end": 1,
            "count": 0
           },
           {
            "bin_start": 1,
            "bin_end": 1.2000000000000002,
            "count": 525
           },
           {
            "bin_start": 1.2000000000000002,
            "bin_end": 1.4000000000000001,
            "count": 0
           },
           {
            "bin_start": 1.4000000000000001,
            "bin_end": 1.6,
            "count": 0
           },
           {
            "bin_start": 1.6,
            "bin_end": 1.8,
            "count": 0
           },
           {
            "bin_start": 1.8,
            "bin_end": 2,
            "count": 13
           }
          ]
         }
        },
        {
         "name": "BedroomAbvGr",
         "dtype": "int64",
         "stats": {
          "unique_count": 7,
          "nan_count": 0,
          "min": "0",
          "max": "6",
          "histogram": [
           {
            "bin_start": 0,
            "bin_end": 0.6,
            "count": 2
           },
           {
            "bin_start": 0.6,
            "bin_end": 1.2,
            "count": 53
           },
           {
            "bin_start": 1.2,
            "bin_end": 1.7999999999999998,
            "count": 0
           },
           {
            "bin_start": 1.7999999999999998,
            "bin_end": 2.4,
            "count": 384
           },
           {
            "bin_start": 2.4,
            "bin_end": 3,
            "count": 0
           },
           {
            "bin_start": 3,
            "bin_end": 3.5999999999999996,
            "count": 792
           },
           {
            "bin_start": 3.5999999999999996,
            "bin_end": 4.2,
            "count": 187
           },
           {
            "bin_start": 4.2,
            "bin_end": 4.8,
            "count": 0
           },
           {
            "bin_start": 4.8,
            "bin_end": 5.3999999999999995,
            "count": 27
           },
           {
            "bin_start": 5.3999999999999995,
            "bin_end": 6,
            "count": 14
           }
          ]
         }
        },
        {
         "name": "KitchenAbvGr",
         "dtype": "int64",
         "stats": {
          "unique_count": 3,
          "nan_count": 0,
          "min": "0",
          "max": "2",
          "histogram": [
           {
            "bin_start": 0,
            "bin_end": 0.2,
            "count": 2
           },
           {
            "bin_start": 0.2,
            "bin_end": 0.4,
            "count": 0
           },
           {
            "bin_start": 0.4,
            "bin_end": 0.6000000000000001,
            "count": 0
           },
           {
            "bin_start": 0.6000000000000001,
            "bin_end": 0.8,
            "count": 0
           },
           {
            "bin_start": 0.8,
            "bin_end": 1,
            "count": 0
           },
           {
            "bin_start": 1,
            "bin_end": 1.2000000000000002,
            "count": 1393
           },
           {
            "bin_start": 1.2000000000000002,
            "bin_end": 1.4000000000000001,
            "count": 0
           },
           {
            "bin_start": 1.4000000000000001,
            "bin_end": 1.6,
            "count": 0
           },
           {
            "bin_start": 1.6,
            "bin_end": 1.8,
            "count": 0
           },
           {
            "bin_start": 1.8,
            "bin_end": 2,
            "count": 64
           }
          ]
         }
        },
        {
         "name": "KitchenQual",
         "dtype": "int64",
         "stats": {
          "unique_count": 5,
          "nan_count": 0,
          "min": "0",
          "max": "4",
          "histogram": [
           {
            "bin_start": 0,
            "bin_end": 0.4,
            "count": 105
           },
           {
            "bin_start": 0.4,
            "bin_end": 0.8,
            "count": 0
           },
           {
            "bin_start": 0.8,
            "bin_end": 1.2000000000000002,
            "count": 31
           },
           {
            "bin_start": 1.2000000000000002,
            "bin_end": 1.6,
            "count": 0
           },
           {
            "bin_start": 1.6,
            "bin_end": 2,
            "count": 0
           },
           {
            "bin_start": 2,
            "bin_end": 2.4000000000000004,
            "count": 565
           },
           {
            "bin_start": 2.4000000000000004,
            "bin_end": 2.8000000000000003,
            "count": 0
           },
           {
            "bin_start": 2.8000000000000003,
            "bin_end": 3.2,
            "count": 757
           },
           {
            "bin_start": 3.2,
            "bin_end": 3.6,
            "count": 0
           },
           {
            "bin_start": 3.6,
            "bin_end": 4,
            "count": 1
           }
          ]
         }
        },
        {
         "name": "TotRmsAbvGrd",
         "dtype": "int64",
         "stats": {
          "unique_count": 12,
          "nan_count": 0,
          "min": "3",
          "max": "15",
          "histogram": [
           {
            "bin_start": 3,
            "bin_end": 4.2,
            "count": 107
           },
           {
            "bin_start": 4.2,
            "bin_end": 5.4,
            "count": 308
           },
           {
            "bin_start": 5.4,
            "bin_end": 6.6,
            "count": 442
           },
           {
            "bin_start": 6.6,
            "bin_end": 7.8,
            "count": 320
           },
           {
            "bin_start": 7.8,
            "bin_end": 9,
            "count": 160
           },
           {
            "bin_start": 9,
            "bin_end": 10.2,
            "count": 101
           },
           {
            "bin_start": 10.2,
            "bin_end": 11.4,
            "count": 14
           },
           {
            "bin_start": 11.4,
            "bin_end": 12.6,
            "count": 5
           },
           {
            "bin_start": 12.6,
            "bin_end": 13.799999999999999,
            "count": 1
           },
           {
            "bin_start": 13.799999999999999,
            "bin_end": 15,
            "count": 1
           }
          ]
         }
        },
        {
         "name": "Functional",
         "dtype": "int64",
         "stats": {
          "unique_count": 8,
          "nan_count": 0,
          "min": "0",
          "max": "7",
          "histogram": [
           {
            "bin_start": 0,
            "bin_end": 0.7,
            "count": 5
           },
           {
            "bin_start": 0.7,
            "bin_end": 1.4,
            "count": 4
           },
           {
            "bin_start": 1.4,
            "bin_end": 2.0999999999999996,
            "count": 34
           },
           {
            "bin_start": 2.0999999999999996,
            "bin_end": 2.8,
            "count": 0
           },
           {
            "bin_start": 2.8,
            "bin_end": 3.5,
            "count": 36
           },
           {
            "bin_start": 3.5,
            "bin_end": 4.199999999999999,
            "count": 20
           },
           {
            "bin_start": 4.199999999999999,
            "bin_end": 4.8999999999999995,
            "count": 0
           },
           {
            "bin_start": 4.8999999999999995,
            "bin_end": 5.6,
            "count": 1
           },
           {
            "bin_start": 5.6,
            "bin_end": 6.3,
            "count": 1357
           },
           {
            "bin_start": 6.3,
            "bin_end": 7,
            "count": 2
           }
          ]
         }
        },
        {
         "name": "Fireplaces",
         "dtype": "int64",
         "stats": {
          "unique_count": 5,
          "nan_count": 0,
          "min": "0",
          "max": "4",
          "histogram": [
           {
            "bin_start": 0,
            "bin_end": 0.4,
            "count": 730
           },
           {
            "bin_start": 0.4,
            "bin_end": 0.8,
            "count": 0
           },
           {
            "bin_start": 0.8,
            "bin_end": 1.2000000000000002,
            "count": 618
           },
           {
            "bin_start": 1.2000000000000002,
            "bin_end": 1.6,
            "count": 0
           },
           {
            "bin_start": 1.6,
            "bin_end": 2,
            "count": 0
           },
           {
            "bin_start": 2,
            "bin_end": 2.4000000000000004,
            "count": 104
           },
           {
            "bin_start": 2.4000000000000004,
            "bin_end": 2.8000000000000003,
            "count": 0
           },
           {
            "bin_start": 2.8000000000000003,
            "bin_end": 3.2,
            "count": 6
           },
           {
            "bin_start": 3.2,
            "bin_end": 3.6,
            "count": 0
           },
           {
            "bin_start": 3.6,
            "bin_end": 4,
            "count": 1
           }
          ]
         }
        },
        {
         "name": "FireplaceQu",
         "dtype": "int64",
         "stats": {
          "unique_count": 6,
          "nan_count": 0,
          "min": "0",
          "max": "5",
          "histogram": [
           {
            "bin_start": 0,
            "bin_end": 0.5,
            "count": 19
           },
           {
            "bin_start": 0.5,
            "bin_end": 1,
            "count": 0
           },
           {
            "bin_start": 1,
            "bin_end": 1.5,
            "count": 41
           },
           {
            "bin_start": 1.5,
            "bin_end": 2,
            "count": 0
           },
           {
            "bin_start": 2,
            "bin_end": 2.5,
            "count": 364
           },
           {
            "bin_start": 2.5,
            "bin_end": 3,
            "count": 0
           },
           {
            "bin_start": 3,
            "bin_end": 3.5,
            "count": 730
           },
           {
            "bin_start": 3.5,
            "bin_end": 4,
            "count": 0
           },
           {
            "bin_start": 4,
            "bin_end": 4.5,
            "count": 26
           },
           {
            "bin_start": 4.5,
            "bin_end": 5,
            "count": 279
           }
          ]
         }
        },
        {
         "name": "GarageYrBlt",
         "dtype": "int64",
         "stats": {
          "unique_count": 98,
          "nan_count": 0,
          "min": "0",
          "max": "103",
          "histogram": [
           {
            "bin_start": 0,
            "bin_end": 10.3,
            "count": 23
           },
           {
            "bin_start": 10.3,
            "bin_end": 20.6,
            "count": 54
           },
           {
            "bin_start": 20.6,
            "bin_end": 30.900000000000002,
            "count": 40
           },
           {
            "bin_start": 30.900000000000002,
            "bin_end": 41.2,
            "count": 87
           },
           {
            "bin_start": 41.2,
            "bin_end": 51.5,
            "count": 161
           },
           {
            "bin_start": 51.5,
            "bin_end": 61.800000000000004,
            "count": 170
           },
           {
            "bin_start": 61.800000000000004,
            "bin_end": 72.10000000000001,
            "count": 191
           },
           {
            "bin_start": 72.10000000000001,
            "bin_end": 82.4,
            "count": 74
           },
           {
            "bin_start": 82.4,
            "bin_end": 92.7,
            "count": 224
           },
           {
            "bin_start": 92.7,
            "bin_end": 103,
            "count": 435
           }
          ]
         }
        },
        {
         "name": "GarageFinish",
         "dtype": "int64",
         "stats": {
          "unique_count": 4,
          "nan_count": 0,
          "min": "0",
          "max": "3",
          "histogram": [
           {
            "bin_start": 0,
            "bin_end": 0.3,
            "count": 367
           },
           {
            "bin_start": 0.3,
            "bin_end": 0.6,
            "count": 0
           },
           {
            "bin_start": 0.6,
            "bin_end": 0.8999999999999999,
            "count": 0
           },
           {
            "bin_start": 0.8999999999999999,
            "bin_end": 1.2,
            "count": 78
           },
           {
            "bin_start": 1.2,
            "bin_end": 1.5,
            "count": 0
           },
           {
            "bin_start": 1.5,
            "bin_end": 1.7999999999999998,
            "count": 0
           },
           {
            "bin_start": 1.7999999999999998,
            "bin_end": 2.1,
            "count": 389
           },
           {
            "bin_start": 2.1,
            "bin_end": 2.4,
            "count": 0
           },
           {
            "bin_start": 2.4,
            "bin_end": 2.6999999999999997,
            "count": 0
           },
           {
            "bin_start": 2.6999999999999997,
            "bin_end": 3,
            "count": 625
           }
          ]
         }
        },
        {
         "name": "GarageCars",
         "dtype": "float64",
         "stats": {
          "unique_count": 6,
          "nan_count": 0,
          "min": "0.0",
          "max": "5.0",
          "histogram": [
           {
            "bin_start": 0,
            "bin_end": 0.5,
            "count": 77
           },
           {
            "bin_start": 0.5,
            "bin_end": 1,
            "count": 0
           },
           {
            "bin_start": 1,
            "bin_end": 1.5,
            "count": 407
           },
           {
            "bin_start": 1.5,
            "bin_end": 2,
            "count": 0
           },
           {
            "bin_start": 2,
            "bin_end": 2.5,
            "count": 770
           },
           {
            "bin_start": 2.5,
            "bin_end": 3,
            "count": 0
           },
           {
            "bin_start": 3,
            "bin_end": 3.5,
            "count": 193
           },
           {
            "bin_start": 3.5,
            "bin_end": 4,
            "count": 0
           },
           {
            "bin_start": 4,
            "bin_end": 4.5,
            "count": 11
           },
           {
            "bin_start": 4.5,
            "bin_end": 5,
            "count": 1
           }
          ]
         }
        },
        {
         "name": "GarageArea",
         "dtype": "float64",
         "stats": {
          "unique_count": 459,
          "nan_count": 0,
          "min": "0.0",
          "max": "1488.0",
          "histogram": [
           {
            "bin_start": 0,
            "bin_end": 148.8,
            "count": 78
           },
           {
            "bin_start": 148.8,
            "bin_end": 297.6,
            "count": 221
           },
           {
            "bin_start": 297.6,
            "bin_end": 446.40000000000003,
            "count": 346
           },
           {
            "bin_start": 446.40000000000003,
            "bin_end": 595.2,
            "count": 484
           },
           {
            "bin_start": 595.2,
            "bin_end": 744,
            "count": 172
           },
           {
            "bin_start": 744,
            "bin_end": 892.8000000000001,
            "count": 106
           },
           {
            "bin_start": 892.8000000000001,
            "bin_end": 1041.6000000000001,
            "count": 38
           },
           {
            "bin_start": 1041.6000000000001,
            "bin_end": 1190.4,
            "count": 9
           },
           {
            "bin_start": 1190.4,
            "bin_end": 1339.2,
            "count": 3
           },
           {
            "bin_start": 1339.2,
            "bin_end": 1488,
            "count": 2
           }
          ]
         }
        },
        {
         "name": "GarageQual",
         "dtype": "int64",
         "stats": {
          "unique_count": 5,
          "nan_count": 0,
          "min": "1",
          "max": "5",
          "histogram": [
           {
            "bin_start": 1,
            "bin_end": 1.4,
            "count": 76
           },
           {
            "bin_start": 1.4,
            "bin_end": 1.8,
            "count": 0
           },
           {
            "bin_start": 1.8,
            "bin_end": 2.2,
            "count": 10
           },
           {
            "bin_start": 2.2,
            "bin_end": 2.6,
            "count": 0
           },
           {
            "bin_start": 2.6,
            "bin_end": 3,
            "count": 0
           },
           {
            "bin_start": 3,
            "bin_end": 3.4000000000000004,
            "count": 78
           },
           {
            "bin_start": 3.4000000000000004,
            "bin_end": 3.8000000000000003,
            "count": 0
           },
           {
            "bin_start": 3.8000000000000003,
            "bin_end": 4.2,
            "count": 2
           },
           {
            "bin_start": 4.2,
            "bin_end": 4.6,
            "count": 0
           },
           {
            "bin_start": 4.6,
            "bin_end": 5,
            "count": 1293
           }
          ]
         }
        },
        {
         "name": "GarageCond",
         "dtype": "int64",
         "stats": {
          "unique_count": 6,
          "nan_count": 0,
          "min": "0",
          "max": "5",
          "histogram": [
           {
            "bin_start": 0,
            "bin_end": 0.5,
            "count": 1
           },
           {
            "bin_start": 0.5,
            "bin_end": 1,
            "count": 0
           },
           {
            "bin_start": 1,
            "bin_end": 1.5,
            "count": 39
           },
           {
            "bin_start": 1.5,
            "bin_end": 2,
            "count": 0
           },
           {
            "bin_start": 2,
            "bin_end": 2.5,
            "count": 6
           },
           {
            "bin_start": 2.5,
            "bin_end": 3,
            "count": 0
           },
           {
            "bin_start": 3,
            "bin_end": 3.5,
            "count": 78
           },
           {
            "bin_start": 3.5,
            "bin_end": 4,
            "count": 0
           },
           {
            "bin_start": 4,
            "bin_end": 4.5,
            "count": 7
           },
           {
            "bin_start": 4.5,
            "bin_end": 5,
            "count": 1328
           }
          ]
         }
        },
        {
         "name": "PavedDrive",
         "dtype": "int64",
         "stats": {
          "unique_count": 3,
          "nan_count": 0,
          "min": "0",
          "max": "2",
          "histogram": [
           {
            "bin_start": 0,
            "bin_end": 0.2,
            "count": 126
           },
           {
            "bin_start": 0.2,
            "bin_end": 0.4,
            "count": 0
           },
           {
            "bin_start": 0.4,
            "bin_end": 0.6000000000000001,
            "count": 0
           },
           {
            "bin_start": 0.6000000000000001,
            "bin_end": 0.8,
            "count": 0
           },
           {
            "bin_start": 0.8,
            "bin_end": 1,
            "count": 0
           },
           {
            "bin_start": 1,
            "bin_end": 1.2000000000000002,
            "count": 32
           },
           {
            "bin_start": 1.2000000000000002,
            "bin_end": 1.4000000000000001,
            "count": 0
           },
           {
            "bin_start": 1.4000000000000001,
            "bin_end": 1.6,
            "count": 0
           },
           {
            "bin_start": 1.6,
            "bin_end": 1.8,
            "count": 0
           },
           {
            "bin_start": 1.8,
            "bin_end": 2,
            "count": 1301
           }
          ]
         }
        },
        {
         "name": "WoodDeckSF",
         "dtype": "int64",
         "stats": {
          "unique_count": 263,
          "nan_count": 0,
          "min": "0",
          "max": "1424",
          "histogram": [
           {
            "bin_start": 0,
            "bin_end": 142.4,
            "count": 989
           },
           {
            "bin_start": 142.4,
            "bin_end": 284.8,
            "count": 361
           },
           {
            "bin_start": 284.8,
            "bin_end": 427.20000000000005,
            "count": 77
           },
           {
            "bin_start": 427.20000000000005,
            "bin_end": 569.6,
            "count": 24
           },
           {
            "bin_start": 569.6,
            "bin_end": 712,
            "count": 6
           },
           {
            "bin_start": 712,
            "bin_end": 854.4000000000001,
            "count": 0
           },
           {
            "bin_start": 854.4000000000001,
            "bin_end": 996.8000000000001,
            "count": 1
           },
           {
            "bin_start": 996.8000000000001,
            "bin_end": 1139.2,
            "count": 0
           },
           {
            "bin_start": 1139.2,
            "bin_end": 1281.6000000000001,
            "count": 0
           },
           {
            "bin_start": 1281.6000000000001,
            "bin_end": 1424,
            "count": 1
           }
          ]
         }
        },
        {
         "name": "OpenPorchSF",
         "dtype": "int64",
         "stats": {
          "unique_count": 203,
          "nan_count": 0,
          "min": "0",
          "max": "742",
          "histogram": [
           {
            "bin_start": 0,
            "bin_end": 74.2,
            "count": 1110
           },
           {
            "bin_start": 74.2,
            "bin_end": 148.4,
            "count": 230
           },
           {
            "bin_start": 148.4,
            "bin_end": 222.60000000000002,
            "count": 75
           },
           {
            "bin_start": 222.60000000000002,
            "bin_end": 296.8,
            "count": 30
           },
           {
            "bin_start": 296.8,
            "bin_end": 371,
            "count": 8
           },
           {
            "bin_start": 371,
            "bin_end": 445.20000000000005,
            "count": 3
           },
           {
            "bin_start": 445.20000000000005,
            "bin_end": 519.4,
            "count": 1
           },
           {
            "bin_start": 519.4,
            "bin_end": 593.6,
            "count": 1
           },
           {
            "bin_start": 593.6,
            "bin_end": 667.8000000000001,
            "count": 0
           },
           {
            "bin_start": 667.8000000000001,
            "bin_end": 742,
            "count": 1
           }
          ]
         }
        },
        {
         "name": "EnclosedPorch",
         "dtype": "int64",
         "stats": {
          "unique_count": 131,
          "nan_count": 0,
          "min": "0",
          "max": "1012",
          "histogram": [
           {
            "bin_start": 0,
            "bin_end": 101.2,
            "count": 1305
           },
           {
            "bin_start": 101.2,
            "bin_end": 202.4,
            "count": 101
           },
           {
            "bin_start": 202.4,
            "bin_end": 303.6,
            "count": 45
           },
           {
            "bin_start": 303.6,
            "bin_end": 404.8,
            "count": 4
           },
           {
            "bin_start": 404.8,
            "bin_end": 506,
            "count": 2
           },
           {
            "bin_start": 506,
            "bin_end": 607.2,
            "count": 1
           },
           {
            "bin_start": 607.2,
            "bin_end": 708.4,
            "count": 0
           },
           {
            "bin_start": 708.4,
            "bin_end": 809.6,
            "count": 0
           },
           {
            "bin_start": 809.6,
            "bin_end": 910.8000000000001,
            "count": 0
           },
           {
            "bin_start": 910.8000000000001,
            "bin_end": 1012,
            "count": 1
           }
          ]
         }
        },
        {
         "name": "3SsnPorch",
         "dtype": "int64",
         "stats": {
          "unique_count": 13,
          "nan_count": 0,
          "min": "0",
          "max": "360",
          "histogram": [
           {
            "bin_start": 0,
            "bin_end": 36,
            "count": 1446
           },
           {
            "bin_start": 36,
            "bin_end": 72,
            "count": 0
           },
           {
            "bin_start": 72,
            "bin_end": 108,
            "count": 1
           },
           {
            "bin_start": 108,
            "bin_end": 144,
            "count": 1
           },
           {
            "bin_start": 144,
            "bin_end": 180,
            "count": 5
           },
           {
            "bin_start": 180,
            "bin_end": 216,
            "count": 0
           },
           {
            "bin_start": 216,
            "bin_end": 252,
            "count": 3
           },
           {
            "bin_start": 252,
            "bin_end": 288,
            "count": 1
           },
           {
            "bin_start": 288,
            "bin_end": 324,
            "count": 1
           },
           {
            "bin_start": 324,
            "bin_end": 360,
            "count": 1
           }
          ]
         }
        },
        {
         "name": "ScreenPorch",
         "dtype": "int64",
         "stats": {
          "unique_count": 75,
          "nan_count": 0,
          "min": "0",
          "max": "576",
          "histogram": [
           {
            "bin_start": 0,
            "bin_end": 57.6,
            "count": 1319
           },
           {
            "bin_start": 57.6,
            "bin_end": 115.2,
            "count": 24
           },
           {
            "bin_start": 115.2,
            "bin_end": 172.8,
            "count": 54
           },
           {
            "bin_start": 172.8,
            "bin_end": 230.4,
            "count": 43
           },
           {
            "bin_start": 230.4,
            "bin_end": 288,
            "count": 12
           },
           {
            "bin_start": 288,
            "bin_end": 345.6,
            "count": 4
           },
           {
            "bin_start": 345.6,
            "bin_end": 403.2,
            "count": 1
           },
           {
            "bin_start": 403.2,
            "bin_end": 460.8,
            "count": 0
           },
           {
            "bin_start": 460.8,
            "bin_end": 518.4,
            "count": 1
           },
           {
            "bin_start": 518.4,
            "bin_end": 576,
            "count": 1
           }
          ]
         }
        },
        {
         "name": "PoolArea",
         "dtype": "int64",
         "stats": {
          "unique_count": 7,
          "nan_count": 0,
          "min": "0",
          "max": "800",
          "histogram": [
           {
            "bin_start": 0,
            "bin_end": 80,
            "count": 1453
           },
           {
            "bin_start": 80,
            "bin_end": 160,
            "count": 1
           },
           {
            "bin_start": 160,
            "bin_end": 240,
            "count": 1
           },
           {
            "bin_start": 240,
            "bin_end": 320,
            "count": 0
           },
           {
            "bin_start": 320,
            "bin_end": 400,
            "count": 1
           },
           {
            "bin_start": 400,
            "bin_end": 480,
            "count": 1
           },
           {
            "bin_start": 480,
            "bin_end": 560,
            "count": 0
           },
           {
            "bin_start": 560,
            "bin_end": 640,
            "count": 1
           },
           {
            "bin_start": 640,
            "bin_end": 720,
            "count": 0
           },
           {
            "bin_start": 720,
            "bin_end": 800,
            "count": 1
           }
          ]
         }
        },
        {
         "name": "PoolQC",
         "dtype": "int64",
         "stats": {
          "unique_count": 3,
          "nan_count": 0,
          "min": "0",
          "max": "3",
          "histogram": [
           {
            "bin_start": 0,
            "bin_end": 0.3,
            "count": 2
           },
           {
            "bin_start": 0.3,
            "bin_end": 0.6,
            "count": 0
           },
           {
            "bin_start": 0.6,
            "bin_end": 0.8999999999999999,
            "count": 0
           },
           {
            "bin_start": 0.8999999999999999,
            "bin_end": 1.2,
            "count": 0
           },
           {
            "bin_start": 1.2,
            "bin_end": 1.5,
            "count": 0
           },
           {
            "bin_start": 1.5,
            "bin_end": 1.7999999999999998,
            "count": 0
           },
           {
            "bin_start": 1.7999999999999998,
            "bin_end": 2.1,
            "count": 1
           },
           {
            "bin_start": 2.1,
            "bin_end": 2.4,
            "count": 0
           },
           {
            "bin_start": 2.4,
            "bin_end": 2.6999999999999997,
            "count": 0
           },
           {
            "bin_start": 2.6999999999999997,
            "bin_end": 3,
            "count": 1456
           }
          ]
         }
        },
        {
         "name": "Fence",
         "dtype": "int64",
         "stats": {
          "unique_count": 5,
          "nan_count": 0,
          "min": "0",
          "max": "4",
          "histogram": [
           {
            "bin_start": 0,
            "bin_end": 0.4,
            "count": 59
           },
           {
            "bin_start": 0.4,
            "bin_end": 0.8,
            "count": 0
           },
           {
            "bin_start": 0.8,
            "bin_end": 1.2000000000000002,
            "count": 58
           },
           {
            "bin_start": 1.2000000000000002,
            "bin_end": 1.6,
            "count": 0
           },
           {
            "bin_start": 1.6,
            "bin_end": 2,
            "count": 0
           },
           {
            "bin_start": 2,
            "bin_end": 2.4000000000000004,
            "count": 172
           },
           {
            "bin_start": 2.4000000000000004,
            "bin_end": 2.8000000000000003,
            "count": 0
           },
           {
            "bin_start": 2.8000000000000003,
            "bin_end": 3.2,
            "count": 1
           },
           {
            "bin_start": 3.2,
            "bin_end": 3.6,
            "count": 0
           },
           {
            "bin_start": 3.6,
            "bin_end": 4,
            "count": 1169
           }
          ]
         }
        },
        {
         "name": "MiscVal",
         "dtype": "int64",
         "stats": {
          "unique_count": 26,
          "nan_count": 0,
          "min": "0",
          "max": "17000",
          "histogram": [
           {
            "bin_start": 0,
            "bin_end": 1700,
            "count": 1448
           },
           {
            "bin_start": 1700,
            "bin_end": 3400,
            "count": 6
           },
           {
            "bin_start": 3400,
            "bin_end": 5100,
            "count": 2
           },
           {
            "bin_start": 5100,
            "bin_end": 6800,
            "count": 1
           },
           {
            "bin_start": 6800,
            "bin_end": 8500,
            "count": 0
           },
           {
            "bin_start": 8500,
            "bin_end": 10200,
            "count": 0
           },
           {
            "bin_start": 10200,
            "bin_end": 11900,
            "count": 0
           },
           {
            "bin_start": 11900,
            "bin_end": 13600,
            "count": 1
           },
           {
            "bin_start": 13600,
            "bin_end": 15300,
            "count": 0
           },
           {
            "bin_start": 15300,
            "bin_end": 17000,
            "count": 1
           }
          ]
         }
        },
        {
         "name": "MoSold",
         "dtype": "int64",
         "stats": {
          "unique_count": 12,
          "nan_count": 0,
          "min": "0",
          "max": "11",
          "histogram": [
           {
            "bin_start": 0,
            "bin_end": 1.1,
            "count": 148
           },
           {
            "bin_start": 1.1,
            "bin_end": 2.2,
            "count": 63
           },
           {
            "bin_start": 2.2,
            "bin_end": 3.3000000000000003,
            "count": 45
           },
           {
            "bin_start": 3.3000000000000003,
            "bin_end": 4.4,
            "count": 81
           },
           {
            "bin_start": 4.4,
            "bin_end": 5.5,
            "count": 126
           },
           {
            "bin_start": 5.5,
            "bin_end": 6.6000000000000005,
            "count": 138
           },
           {
            "bin_start": 6.6000000000000005,
            "bin_end": 7.700000000000001,
            "count": 190
           },
           {
            "bin_start": 7.700000000000001,
            "bin_end": 8.8,
            "count": 250
           },
           {
            "bin_start": 8.8,
            "bin_end": 9.9,
            "count": 212
           },
           {
            "bin_start": 9.9,
            "bin_end": 11,
            "count": 206
           }
          ]
         }
        },
        {
         "name": "YrSold",
         "dtype": "int64",
         "stats": {
          "unique_count": 5,
          "nan_count": 0,
          "min": "0",
          "max": "4",
          "histogram": [
           {
            "bin_start": 0,
            "bin_end": 0.4,
            "count": 305
           },
           {
            "bin_start": 0.4,
            "bin_end": 0.8,
            "count": 0
           },
           {
            "bin_start": 0.8,
            "bin_end": 1.2000000000000002,
            "count": 363
           },
           {
            "bin_start": 1.2000000000000002,
            "bin_end": 1.6,
            "count": 0
           },
           {
            "bin_start": 1.6,
            "bin_end": 2,
            "count": 0
           },
           {
            "bin_start": 2,
            "bin_end": 2.4000000000000004,
            "count": 318
           },
           {
            "bin_start": 2.4000000000000004,
            "bin_end": 2.8000000000000003,
            "count": 0
           },
           {
            "bin_start": 2.8000000000000003,
            "bin_end": 3.2,
            "count": 309
           },
           {
            "bin_start": 3.2,
            "bin_end": 3.6,
            "count": 0
           },
           {
            "bin_start": 3.6,
            "bin_end": 4,
            "count": 164
           }
          ]
         }
        },
        {
         "name": "SalePrice",
         "dtype": "float64",
         "stats": {
          "unique_count": 0,
          "nan_count": 1459,
          "min": null,
          "max": null,
          "histogram": [
           {
            "bin_start": 0,
            "bin_end": 0.1,
            "count": 0
           },
           {
            "bin_start": 0.1,
            "bin_end": 0.2,
            "count": 0
           },
           {
            "bin_start": 0.2,
            "bin_end": 0.30000000000000004,
            "count": 0
           },
           {
            "bin_start": 0.30000000000000004,
            "bin_end": 0.4,
            "count": 0
           },
           {
            "bin_start": 0.4,
            "bin_end": 0.5,
            "count": 0
           },
           {
            "bin_start": 0.5,
            "bin_end": 0.6000000000000001,
            "count": 0
           },
           {
            "bin_start": 0.6000000000000001,
            "bin_end": 0.7000000000000001,
            "count": 0
           },
           {
            "bin_start": 0.7000000000000001,
            "bin_end": 0.8,
            "count": 0
           },
           {
            "bin_start": 0.8,
            "bin_end": 0.9,
            "count": 0
           },
           {
            "bin_start": 0.9,
            "bin_end": 1,
            "count": 0
           }
          ]
         }
        },
        {
         "name": "TotalSF",
         "dtype": "float64",
         "stats": {
          "unique_count": 963,
          "nan_count": 0,
          "min": "612.0",
          "max": "10190.0",
          "histogram": [
           {
            "bin_start": 612,
            "bin_end": 1569.8,
            "count": 101
           },
           {
            "bin_start": 1569.8,
            "bin_end": 2527.6,
            "count": 692
           },
           {
            "bin_start": 2527.6,
            "bin_end": 3485.3999999999996,
            "count": 515
           },
           {
            "bin_start": 3485.3999999999996,
            "bin_end": 4443.2,
            "count": 121
           },
           {
            "bin_start": 4443.2,
            "bin_end": 5401,
            "count": 27
           },
           {
            "bin_start": 5401,
            "bin_end": 6358.799999999999,
            "count": 2
           },
           {
            "bin_start": 6358.799999999999,
            "bin_end": 7316.599999999999,
            "count": 0
           },
           {
            "bin_start": 7316.599999999999,
            "bin_end": 8274.4,
            "count": 0
           },
           {
            "bin_start": 8274.4,
            "bin_end": 9232.199999999999,
            "count": 0
           },
           {
            "bin_start": 9232.199999999999,
            "bin_end": 10190,
            "count": 1
           }
          ]
         }
        },
        {
         "name": "LandContour_Bnk",
         "dtype": "uint8",
         "stats": {
          "unique_count": 2,
          "nan_count": 0,
          "min": "0",
          "max": "1",
          "histogram": [
           {
            "bin_start": 0,
            "bin_end": 0.1,
            "count": 1405
           },
           {
            "bin_start": 0.1,
            "bin_end": 0.2,
            "count": 0
           },
           {
            "bin_start": 0.2,
            "bin_end": 0.30000000000000004,
            "count": 0
           },
           {
            "bin_start": 0.30000000000000004,
            "bin_end": 0.4,
            "count": 0
           },
           {
            "bin_start": 0.4,
            "bin_end": 0.5,
            "count": 0
           },
           {
            "bin_start": 0.5,
            "bin_end": 0.6000000000000001,
            "count": 0
           },
           {
            "bin_start": 0.6000000000000001,
            "bin_end": 0.7000000000000001,
            "count": 0
           },
           {
            "bin_start": 0.7000000000000001,
            "bin_end": 0.8,
            "count": 0
           },
           {
            "bin_start": 0.8,
            "bin_end": 0.9,
            "count": 0
           },
           {
            "bin_start": 0.9,
            "bin_end": 1,
            "count": 54
           }
          ]
         }
        },
        {
         "name": "LandContour_HLS",
         "dtype": "uint8",
         "stats": {
          "unique_count": 2,
          "nan_count": 0,
          "min": "0",
          "max": "1",
          "histogram": [
           {
            "bin_start": 0,
            "bin_end": 0.1,
            "count": 1389
           },
           {
            "bin_start": 0.1,
            "bin_end": 0.2,
            "count": 0
           },
           {
            "bin_start": 0.2,
            "bin_end": 0.30000000000000004,
            "count": 0
           },
           {
            "bin_start": 0.30000000000000004,
            "bin_end": 0.4,
            "count": 0
           },
           {
            "bin_start": 0.4,
            "bin_end": 0.5,
            "count": 0
           },
           {
            "bin_start": 0.5,
            "bin_end": 0.6000000000000001,
            "count": 0
           },
           {
            "bin_start": 0.6000000000000001,
            "bin_end": 0.7000000000000001,
            "count": 0
           },
           {
            "bin_start": 0.7000000000000001,
            "bin_end": 0.8,
            "count": 0
           },
           {
            "bin_start": 0.8,
            "bin_end": 0.9,
            "count": 0
           },
           {
            "bin_start": 0.9,
            "bin_end": 1,
            "count": 70
           }
          ]
         }
        },
        {
         "name": "LandContour_Low",
         "dtype": "uint8",
         "stats": {
          "unique_count": 2,
          "nan_count": 0,
          "min": "0",
          "max": "1",
          "histogram": [
           {
            "bin_start": 0,
            "bin_end": 0.1,
            "count": 1435
           },
           {
            "bin_start": 0.1,
            "bin_end": 0.2,
            "count": 0
           },
           {
            "bin_start": 0.2,
            "bin_end": 0.30000000000000004,
            "count": 0
           },
           {
            "bin_start": 0.30000000000000004,
            "bin_end": 0.4,
            "count": 0
           },
           {
            "bin_start": 0.4,
            "bin_end": 0.5,
            "count": 0
           },
           {
            "bin_start": 0.5,
            "bin_end": 0.6000000000000001,
            "count": 0
           },
           {
            "bin_start": 0.6000000000000001,
            "bin_end": 0.7000000000000001,
            "count": 0
           },
           {
            "bin_start": 0.7000000000000001,
            "bin_end": 0.8,
            "count": 0
           },
           {
            "bin_start": 0.8,
            "bin_end": 0.9,
            "count": 0
           },
           {
            "bin_start": 0.9,
            "bin_end": 1,
            "count": 24
           }
          ]
         }
        },
        {
         "name": "LandContour_Lvl",
         "dtype": "uint8",
         "stats": {
          "unique_count": 2,
          "nan_count": 0,
          "min": "0",
          "max": "1",
          "histogram": [
           {
            "bin_start": 0,
            "bin_end": 0.1,
            "count": 148
           },
           {
            "bin_start": 0.1,
            "bin_end": 0.2,
            "count": 0
           },
           {
            "bin_start": 0.2,
            "bin_end": 0.30000000000000004,
            "count": 0
           },
           {
            "bin_start": 0.30000000000000004,
            "bin_end": 0.4,
            "count": 0
           },
           {
            "bin_start": 0.4,
            "bin_end": 0.5,
            "count": 0
           },
           {
            "bin_start": 0.5,
            "bin_end": 0.6000000000000001,
            "count": 0
           },
           {
            "bin_start": 0.6000000000000001,
            "bin_end": 0.7000000000000001,
            "count": 0
           },
           {
            "bin_start": 0.7000000000000001,
            "bin_end": 0.8,
            "count": 0
           },
           {
            "bin_start": 0.8,
            "bin_end": 0.9,
            "count": 0
           },
           {
            "bin_start": 0.9,
            "bin_end": 1,
            "count": 1311
           }
          ]
         }
        },
        {
         "name": "Utilities_AllPub",
         "dtype": "uint8",
         "stats": {
          "unique_count": 2,
          "nan_count": 0,
          "min": "0",
          "max": "1",
          "histogram": [
           {
            "bin_start": 0,
            "bin_end": 0.1,
            "count": 2
           },
           {
            "bin_start": 0.1,
            "bin_end": 0.2,
            "count": 0
           },
           {
            "bin_start": 0.2,
            "bin_end": 0.30000000000000004,
            "count": 0
           },
           {
            "bin_start": 0.30000000000000004,
            "bin_end": 0.4,
            "count": 0
           },
           {
            "bin_start": 0.4,
            "bin_end": 0.5,
            "count": 0
           },
           {
            "bin_start": 0.5,
            "bin_end": 0.6000000000000001,
            "count": 0
           },
           {
            "bin_start": 0.6000000000000001,
            "bin_end": 0.7000000000000001,
            "count": 0
           },
           {
            "bin_start": 0.7000000000000001,
            "bin_end": 0.8,
            "count": 0
           },
           {
            "bin_start": 0.8,
            "bin_end": 0.9,
            "count": 0
           },
           {
            "bin_start": 0.9,
            "bin_end": 1,
            "count": 1457
           }
          ]
         }
        },
        {
         "name": "Utilities_NoSeWa",
         "dtype": "uint8",
         "stats": {
          "unique_count": 1,
          "nan_count": 0,
          "min": "0",
          "max": "0",
          "histogram": [
           {
            "bin_start": -0.5,
            "bin_end": -0.4,
            "count": 0
           },
           {
            "bin_start": -0.4,
            "bin_end": -0.3,
            "count": 0
           },
           {
            "bin_start": -0.3,
            "bin_end": -0.19999999999999996,
            "count": 0
           },
           {
            "bin_start": -0.19999999999999996,
            "bin_end": -0.09999999999999998,
            "count": 0
           },
           {
            "bin_start": -0.09999999999999998,
            "bin_end": 0,
            "count": 0
           },
           {
            "bin_start": 0,
            "bin_end": 0.10000000000000009,
            "count": 1459
           },
           {
            "bin_start": 0.10000000000000009,
            "bin_end": 0.20000000000000007,
            "count": 0
           },
           {
            "bin_start": 0.20000000000000007,
            "bin_end": 0.30000000000000004,
            "count": 0
           },
           {
            "bin_start": 0.30000000000000004,
            "bin_end": 0.4,
            "count": 0
           },
           {
            "bin_start": 0.4,
            "bin_end": 0.5,
            "count": 0
           }
          ]
         }
        },
        {
         "name": "LotConfig_Corner",
         "dtype": "uint8",
         "stats": {
          "unique_count": 2,
          "nan_count": 0,
          "min": "0",
          "max": "1",
          "histogram": [
           {
            "bin_start": 0,
            "bin_end": 0.1,
            "count": 1211
           },
           {
            "bin_start": 0.1,
            "bin_end": 0.2,
            "count": 0
           },
           {
            "bin_start": 0.2,
            "bin_end": 0.30000000000000004,
            "count": 0
           },
           {
            "bin_start": 0.30000000000000004,
            "bin_end": 0.4,
            "count": 0
           },
           {
            "bin_start": 0.4,
            "bin_end": 0.5,
            "count": 0
           },
           {
            "bin_start": 0.5,
            "bin_end": 0.6000000000000001,
            "count": 0
           },
           {
            "bin_start": 0.6000000000000001,
            "bin_end": 0.7000000000000001,
            "count": 0
           },
           {
            "bin_start": 0.7000000000000001,
            "bin_end": 0.8,
            "count": 0
           },
           {
            "bin_start": 0.8,
            "bin_end": 0.9,
            "count": 0
           },
           {
            "bin_start": 0.9,
            "bin_end": 1,
            "count": 248
           }
          ]
         }
        },
        {
         "name": "LotConfig_CulDSac",
         "dtype": "uint8"
        },
        {
         "name": "LotConfig_FR2",
         "dtype": "uint8"
        },
        {
         "name": "LotConfig_FR3",
         "dtype": "uint8"
        },
        {
         "name": "LotConfig_Inside",
         "dtype": "uint8"
        },
        {
         "name": "Neighborhood_Blmngtn",
         "dtype": "uint8"
        },
        {
         "name": "Neighborhood_Blueste",
         "dtype": "uint8"
        },
        {
         "name": "Neighborhood_BrDale",
         "dtype": "uint8"
        },
        {
         "name": "Neighborhood_BrkSide",
         "dtype": "uint8"
        },
        {
         "name": "Neighborhood_ClearCr",
         "dtype": "uint8"
        },
        {
         "name": "Neighborhood_CollgCr",
         "dtype": "uint8"
        },
        {
         "name": "Neighborhood_Crawfor",
         "dtype": "uint8"
        },
        {
         "name": "Neighborhood_Edwards",
         "dtype": "uint8"
        },
        {
         "name": "Neighborhood_Gilbert",
         "dtype": "uint8"
        },
        {
         "name": "Neighborhood_IDOTRR",
         "dtype": "uint8"
        },
        {
         "name": "Neighborhood_MeadowV",
         "dtype": "uint8"
        },
        {
         "name": "Neighborhood_Mitchel",
         "dtype": "uint8"
        },
        {
         "name": "Neighborhood_NAmes",
         "dtype": "uint8"
        },
        {
         "name": "Neighborhood_NPkVill",
         "dtype": "uint8"
        },
        {
         "name": "Neighborhood_NWAmes",
         "dtype": "uint8"
        },
        {
         "name": "Neighborhood_NoRidge",
         "dtype": "uint8"
        },
        {
         "name": "Neighborhood_NridgHt",
         "dtype": "uint8"
        },
        {
         "name": "Neighborhood_OldTown",
         "dtype": "uint8"
        },
        {
         "name": "Neighborhood_SWISU",
         "dtype": "uint8"
        },
        {
         "name": "Neighborhood_Sawyer",
         "dtype": "uint8"
        },
        {
         "name": "Neighborhood_SawyerW",
         "dtype": "uint8"
        },
        {
         "name": "Neighborhood_Somerst",
         "dtype": "uint8"
        },
        {
         "name": "Neighborhood_StoneBr",
         "dtype": "uint8"
        },
        {
         "name": "Neighborhood_Timber",
         "dtype": "uint8"
        },
        {
         "name": "Neighborhood_Veenker",
         "dtype": "uint8"
        },
        {
         "name": "Condition1_Artery",
         "dtype": "uint8"
        },
        {
         "name": "Condition1_Feedr",
         "dtype": "uint8"
        },
        {
         "name": "Condition1_Norm",
         "dtype": "uint8"
        },
        {
         "name": "Condition1_PosA",
         "dtype": "uint8"
        },
        {
         "name": "Condition1_PosN",
         "dtype": "uint8"
        },
        {
         "name": "Condition1_RRAe",
         "dtype": "uint8"
        },
        {
         "name": "Condition1_RRAn",
         "dtype": "uint8"
        },
        {
         "name": "Condition1_RRNe",
         "dtype": "uint8"
        },
        {
         "name": "Condition1_RRNn",
         "dtype": "uint8"
        },
        {
         "name": "Condition2_Artery",
         "dtype": "uint8"
        },
        {
         "name": "Condition2_Feedr",
         "dtype": "uint8"
        },
        {
         "name": "Condition2_Norm",
         "dtype": "uint8"
        },
        {
         "name": "Condition2_PosA",
         "dtype": "uint8"
        },
        {
         "name": "Condition2_PosN",
         "dtype": "uint8"
        },
        {
         "name": "Condition2_RRAe",
         "dtype": "uint8"
        },
        {
         "name": "Condition2_RRAn",
         "dtype": "uint8"
        },
        {
         "name": "Condition2_RRNn",
         "dtype": "uint8"
        },
        {
         "name": "BldgType_1Fam",
         "dtype": "uint8"
        },
        {
         "name": "BldgType_2fmCon",
         "dtype": "uint8"
        },
        {
         "name": "BldgType_Duplex",
         "dtype": "uint8"
        },
        {
         "name": "BldgType_Twnhs",
         "dtype": "uint8"
        },
        {
         "name": "BldgType_TwnhsE",
         "dtype": "uint8"
        },
        {
         "name": "HouseStyle_1.5Fin",
         "dtype": "uint8"
        },
        {
         "name": "HouseStyle_1.5Unf",
         "dtype": "uint8"
        },
        {
         "name": "HouseStyle_1Story",
         "dtype": "uint8"
        },
        {
         "name": "HouseStyle_2.5Fin",
         "dtype": "uint8"
        },
        {
         "name": "HouseStyle_2.5Unf",
         "dtype": "uint8"
        },
        {
         "name": "HouseStyle_2Story",
         "dtype": "uint8"
        },
        {
         "name": "HouseStyle_SFoyer",
         "dtype": "uint8"
        },
        {
         "name": "HouseStyle_SLvl",
         "dtype": "uint8"
        },
        {
         "name": "RoofStyle_Flat",
         "dtype": "uint8"
        },
        {
         "name": "RoofStyle_Gable",
         "dtype": "uint8"
        },
        {
         "name": "RoofStyle_Gambrel",
         "dtype": "uint8"
        },
        {
         "name": "RoofStyle_Hip",
         "dtype": "uint8"
        },
        {
         "name": "RoofStyle_Mansard",
         "dtype": "uint8"
        },
        {
         "name": "RoofStyle_Shed",
         "dtype": "uint8"
        },
        {
         "name": "RoofMatl_CompShg",
         "dtype": "uint8"
        },
        {
         "name": "RoofMatl_Membran",
         "dtype": "uint8"
        },
        {
         "name": "RoofMatl_Metal",
         "dtype": "uint8"
        },
        {
         "name": "RoofMatl_Roll",
         "dtype": "uint8"
        },
        {
         "name": "RoofMatl_Tar&Grv",
         "dtype": "uint8"
        },
        {
         "name": "RoofMatl_WdShake",
         "dtype": "uint8"
        },
        {
         "name": "RoofMatl_WdShngl",
         "dtype": "uint8"
        },
        {
         "name": "Exterior1st_AsbShng",
         "dtype": "uint8"
        },
        {
         "name": "Exterior1st_AsphShn",
         "dtype": "uint8"
        },
        {
         "name": "Exterior1st_BrkComm",
         "dtype": "uint8"
        },
        {
         "name": "Exterior1st_BrkFace",
         "dtype": "uint8"
        },
        {
         "name": "Exterior1st_CBlock",
         "dtype": "uint8"
        },
        {
         "name": "Exterior1st_CemntBd",
         "dtype": "uint8"
        },
        {
         "name": "Exterior1st_HdBoard",
         "dtype": "uint8"
        },
        {
         "name": "Exterior1st_ImStucc",
         "dtype": "uint8"
        },
        {
         "name": "Exterior1st_MetalSd",
         "dtype": "uint8"
        },
        {
         "name": "Exterior1st_Plywood",
         "dtype": "uint8"
        },
        {
         "name": "Exterior1st_Stone",
         "dtype": "uint8"
        },
        {
         "name": "Exterior1st_Stucco",
         "dtype": "uint8"
        },
        {
         "name": "Exterior1st_VinylSd",
         "dtype": "uint8"
        },
        {
         "name": "Exterior1st_Wd Sdng",
         "dtype": "uint8"
        },
        {
         "name": "Exterior1st_WdShing",
         "dtype": "uint8"
        },
        {
         "name": "Exterior2nd_AsbShng",
         "dtype": "uint8"
        },
        {
         "name": "Exterior2nd_AsphShn",
         "dtype": "uint8"
        },
        {
         "name": "Exterior2nd_Brk Cmn",
         "dtype": "uint8"
        },
        {
         "name": "Exterior2nd_BrkFace",
         "dtype": "uint8"
        },
        {
         "name": "Exterior2nd_CBlock",
         "dtype": "uint8"
        },
        {
         "name": "Exterior2nd_CmentBd",
         "dtype": "uint8"
        },
        {
         "name": "Exterior2nd_HdBoard",
         "dtype": "uint8"
        },
        {
         "name": "Exterior2nd_ImStucc",
         "dtype": "uint8"
        },
        {
         "name": "Exterior2nd_MetalSd",
         "dtype": "uint8"
        },
        {
         "name": "Exterior2nd_Other",
         "dtype": "uint8"
        },
        {
         "name": "Exterior2nd_Plywood",
         "dtype": "uint8"
        },
        {
         "name": "Exterior2nd_Stone",
         "dtype": "uint8"
        },
        {
         "name": "Exterior2nd_Stucco",
         "dtype": "uint8"
        },
        {
         "name": "Exterior2nd_VinylSd",
         "dtype": "uint8"
        },
        {
         "name": "Exterior2nd_Wd Sdng",
         "dtype": "uint8"
        },
        {
         "name": "Exterior2nd_Wd Shng",
         "dtype": "uint8"
        },
        {
         "name": "MasVnrType_BrkCmn",
         "dtype": "uint8"
        },
        {
         "name": "MasVnrType_BrkFace",
         "dtype": "uint8"
        },
        {
         "name": "MasVnrType_None",
         "dtype": "uint8"
        },
        {
         "name": "MasVnrType_Stone",
         "dtype": "uint8"
        },
        {
         "name": "Foundation_BrkTil",
         "dtype": "uint8"
        },
        {
         "name": "Foundation_CBlock",
         "dtype": "uint8"
        },
        {
         "name": "Foundation_PConc",
         "dtype": "uint8"
        },
        {
         "name": "Foundation_Slab",
         "dtype": "uint8"
        },
        {
         "name": "Foundation_Stone",
         "dtype": "uint8"
        },
        {
         "name": "Foundation_Wood",
         "dtype": "uint8"
        },
        {
         "name": "Heating_Floor",
         "dtype": "uint8"
        },
        {
         "name": "Heating_GasA",
         "dtype": "uint8"
        },
        {
         "name": "Heating_GasW",
         "dtype": "uint8"
        },
        {
         "name": "Heating_Grav",
         "dtype": "uint8"
        },
        {
         "name": "Heating_OthW",
         "dtype": "uint8"
        },
        {
         "name": "Heating_Wall",
         "dtype": "uint8"
        },
        {
         "name": "Electrical_FuseA",
         "dtype": "uint8"
        },
        {
         "name": "Electrical_FuseF",
         "dtype": "uint8"
        },
        {
         "name": "Electrical_FuseP",
         "dtype": "uint8"
        },
        {
         "name": "Electrical_Mix",
         "dtype": "uint8"
        },
        {
         "name": "Electrical_SBrkr",
         "dtype": "uint8"
        },
        {
         "name": "GarageType_2Types",
         "dtype": "uint8"
        },
        {
         "name": "GarageType_Attchd",
         "dtype": "uint8"
        },
        {
         "name": "GarageType_Basment",
         "dtype": "uint8"
        },
        {
         "name": "GarageType_BuiltIn",
         "dtype": "uint8"
        },
        {
         "name": "GarageType_CarPort",
         "dtype": "uint8"
        },
        {
         "name": "GarageType_Detchd",
         "dtype": "uint8"
        },
        {
         "name": "GarageType_None",
         "dtype": "uint8"
        },
        {
         "name": "MiscFeature_Gar2",
         "dtype": "uint8"
        },
        {
         "name": "MiscFeature_None",
         "dtype": "uint8"
        },
        {
         "name": "MiscFeature_Othr",
         "dtype": "uint8"
        },
        {
         "name": "MiscFeature_Shed",
         "dtype": "uint8"
        },
        {
         "name": "MiscFeature_TenC",
         "dtype": "uint8"
        },
        {
         "name": "SaleType_COD",
         "dtype": "uint8"
        },
        {
         "name": "SaleType_CWD",
         "dtype": "uint8"
        },
        {
         "name": "SaleType_Con",
         "dtype": "uint8"
        },
        {
         "name": "SaleType_ConLD",
         "dtype": "uint8"
        },
        {
         "name": "SaleType_ConLI",
         "dtype": "uint8"
        },
        {
         "name": "SaleType_ConLw",
         "dtype": "uint8"
        },
        {
         "name": "SaleType_New",
         "dtype": "uint8"
        },
        {
         "name": "SaleType_Oth",
         "dtype": "uint8"
        },
        {
         "name": "SaleType_WD",
         "dtype": "uint8"
        },
        {
         "name": "SaleCondition_Abnorml",
         "dtype": "uint8"
        },
        {
         "name": "SaleCondition_AdjLand",
         "dtype": "uint8"
        },
        {
         "name": "SaleCondition_Alloca",
         "dtype": "uint8"
        },
        {
         "name": "SaleCondition_Family",
         "dtype": "uint8"
        },
        {
         "name": "SaleCondition_Normal",
         "dtype": "uint8"
        },
        {
         "name": "SaleCondition_Partial",
         "dtype": "uint8"
        },
        {
         "name": "_deepnote_index_column",
         "dtype": "int64"
        }
       ],
       "rows_top": [
        {
         "MSSubClass": 5,
         "MSZoning": 2,
         "LotFrontage": 80,
         "LotArea": 11622,
         "Street": 1,
         "Alley": 1,
         "LotShape": 3,
         "LandSlope": 0,
         "OverallQual": 5,
         "OverallCond": 5,
         "YearBuilt": 1961,
         "YearRemodAdd": 1961,
         "MasVnrArea": 0,
         "ExterQual": 3,
         "ExterCond": 4,
         "BsmtQual": 3,
         "BsmtCond": 4,
         "BsmtExposure": 4,
         "BsmtFinType1": 5,
         "BsmtFinSF1": 468,
         "BsmtFinType2": 4,
         "BsmtFinSF2": 144,
         "BsmtUnfSF": 270,
         "TotalBsmtSF": 882,
         "HeatingQC": 4,
         "CentralAir": 1,
         "1stFlrSF": 896,
         "2ndFlrSF": 0,
         "LowQualFinSF": 0,
         "GrLivArea": 896,
         "BsmtFullBath": 0,
         "BsmtHalfBath": 0,
         "FullBath": 1,
         "HalfBath": 0,
         "BedroomAbvGr": 2,
         "KitchenAbvGr": 1,
         "KitchenQual": 3,
         "TotRmsAbvGrd": 5,
         "Functional": 6,
         "Fireplaces": 0,
         "FireplaceQu": 3,
         "GarageYrBlt": 52,
         "GarageFinish": 3,
         "GarageCars": 1,
         "GarageArea": 730,
         "GarageQual": 5,
         "GarageCond": 5,
         "PavedDrive": 2,
         "WoodDeckSF": 140,
         "OpenPorchSF": 0,
         "EnclosedPorch": 0,
         "3SsnPorch": 0,
         "ScreenPorch": 120,
         "PoolArea": 0,
         "PoolQC": 3,
         "Fence": 2,
         "MiscVal": 0,
         "MoSold": 8,
         "YrSold": 4,
         "SalePrice": "nan",
         "TotalSF": 1778,
         "LandContour_Bnk": 0,
         "LandContour_HLS": 0,
         "LandContour_Low": 0,
         "LandContour_Lvl": 1,
         "Utilities_AllPub": 1,
         "Utilities_NoSeWa": 0,
         "LotConfig_Corner": 0,
         "LotConfig_CulDSac": 0,
         "LotConfig_FR2": 0,
         "LotConfig_FR3": 0,
         "LotConfig_Inside": 1,
         "Neighborhood_Blmngtn": 0,
         "Neighborhood_Blueste": 0,
         "Neighborhood_BrDale": 0,
         "Neighborhood_BrkSide": 0,
         "Neighborhood_ClearCr": 0,
         "Neighborhood_CollgCr": 0,
         "Neighborhood_Crawfor": 0,
         "Neighborhood_Edwards": 0,
         "Neighborhood_Gilbert": 0,
         "Neighborhood_IDOTRR": 0,
         "Neighborhood_MeadowV": 0,
         "Neighborhood_Mitchel": 0,
         "Neighborhood_NAmes": 1,
         "Neighborhood_NPkVill": 0,
         "Neighborhood_NWAmes": 0,
         "Neighborhood_NoRidge": 0,
         "Neighborhood_NridgHt": 0,
         "Neighborhood_OldTown": 0,
         "Neighborhood_SWISU": 0,
         "Neighborhood_Sawyer": 0,
         "Neighborhood_SawyerW": 0,
         "Neighborhood_Somerst": 0,
         "Neighborhood_StoneBr": 0,
         "Neighborhood_Timber": 0,
         "Neighborhood_Veenker": 0,
         "Condition1_Artery": 0,
         "Condition1_Feedr": 1,
         "Condition1_Norm": 0,
         "Condition1_PosA": 0,
         "Condition1_PosN": 0,
         "Condition1_RRAe": 0,
         "Condition1_RRAn": 0,
         "Condition1_RRNe": 0,
         "Condition1_RRNn": 0,
         "Condition2_Artery": 0,
         "Condition2_Feedr": 0,
         "Condition2_Norm": 1,
         "Condition2_PosA": 0,
         "Condition2_PosN": 0,
         "Condition2_RRAe": 0,
         "Condition2_RRAn": 0,
         "Condition2_RRNn": 0,
         "BldgType_1Fam": 1,
         "BldgType_2fmCon": 0,
         "BldgType_Duplex": 0,
         "BldgType_Twnhs": 0,
         "BldgType_TwnhsE": 0,
         "HouseStyle_1.5Fin": 0,
         "HouseStyle_1.5Unf": 0,
         "HouseStyle_1Story": 1,
         "HouseStyle_2.5Fin": 0,
         "HouseStyle_2.5Unf": 0,
         "HouseStyle_2Story": 0,
         "HouseStyle_SFoyer": 0,
         "HouseStyle_SLvl": 0,
         "RoofStyle_Flat": 0,
         "RoofStyle_Gable": 1,
         "RoofStyle_Gambrel": 0,
         "RoofStyle_Hip": 0,
         "RoofStyle_Mansard": 0,
         "RoofStyle_Shed": 0,
         "RoofMatl_CompShg": 1,
         "RoofMatl_Membran": 0,
         "RoofMatl_Metal": 0,
         "RoofMatl_Roll": 0,
         "RoofMatl_Tar&Grv": 0,
         "RoofMatl_WdShake": 0,
         "RoofMatl_WdShngl": 0,
         "Exterior1st_AsbShng": 0,
         "Exterior1st_AsphShn": 0,
         "Exterior1st_BrkComm": 0,
         "Exterior1st_BrkFace": 0,
         "Exterior1st_CBlock": 0,
         "Exterior1st_CemntBd": 0,
         "Exterior1st_HdBoard": 0,
         "Exterior1st_ImStucc": 0,
         "Exterior1st_MetalSd": 0,
         "Exterior1st_Plywood": 0,
         "Exterior1st_Stone": 0,
         "Exterior1st_Stucco": 0,
         "Exterior1st_VinylSd": 1,
         "Exterior1st_Wd Sdng": 0,
         "Exterior1st_WdShing": 0,
         "Exterior2nd_AsbShng": 0,
         "Exterior2nd_AsphShn": 0,
         "Exterior2nd_Brk Cmn": 0,
         "Exterior2nd_BrkFace": 0,
         "Exterior2nd_CBlock": 0,
         "Exterior2nd_CmentBd": 0,
         "Exterior2nd_HdBoard": 0,
         "Exterior2nd_ImStucc": 0,
         "Exterior2nd_MetalSd": 0,
         "Exterior2nd_Other": 0,
         "Exterior2nd_Plywood": 0,
         "Exterior2nd_Stone": 0,
         "Exterior2nd_Stucco": 0,
         "Exterior2nd_VinylSd": 1,
         "Exterior2nd_Wd Sdng": 0,
         "Exterior2nd_Wd Shng": 0,
         "MasVnrType_BrkCmn": 0,
         "MasVnrType_BrkFace": 0,
         "MasVnrType_None": 1,
         "MasVnrType_Stone": 0,
         "Foundation_BrkTil": 0,
         "Foundation_CBlock": 1,
         "Foundation_PConc": 0,
         "Foundation_Slab": 0,
         "Foundation_Stone": 0,
         "Foundation_Wood": 0,
         "Heating_Floor": 0,
         "Heating_GasA": 1,
         "Heating_GasW": 0,
         "Heating_Grav": 0,
         "Heating_OthW": 0,
         "Heating_Wall": 0,
         "Electrical_FuseA": 0,
         "Electrical_FuseF": 0,
         "Electrical_FuseP": 0,
         "Electrical_Mix": 0,
         "Electrical_SBrkr": 1,
         "GarageType_2Types": 0,
         "GarageType_Attchd": 1,
         "GarageType_Basment": 0,
         "GarageType_BuiltIn": 0,
         "GarageType_CarPort": 0,
         "GarageType_Detchd": 0,
         "GarageType_None": 0,
         "MiscFeature_Gar2": 0,
         "MiscFeature_None": 1,
         "MiscFeature_Othr": 0,
         "MiscFeature_Shed": 0,
         "MiscFeature_TenC": 0,
         "SaleType_COD": 0,
         "SaleType_CWD": 0,
         "SaleType_Con": 0,
         "SaleType_ConLD": 0,
         "SaleType_ConLI": 0,
         "SaleType_ConLw": 0,
         "SaleType_New": 0,
         "SaleType_Oth": 0,
         "SaleType_WD": 1,
         "SaleCondition_Abnorml": 0,
         "SaleCondition_AdjLand": 0,
         "SaleCondition_Alloca": 0,
         "SaleCondition_Family": 0,
         "SaleCondition_Normal": 1,
         "SaleCondition_Partial": 0,
         "_deepnote_index_column": 1460
        },
        {
         "MSSubClass": 5,
         "MSZoning": 3,
         "LotFrontage": 81,
         "LotArea": 14267,
         "Street": 1,
         "Alley": 1,
         "LotShape": 0,
         "LandSlope": 0,
         "OverallQual": 6,
         "OverallCond": 5,
         "YearBuilt": 1958,
         "YearRemodAdd": 1958,
         "MasVnrArea": 108,
         "ExterQual": 3,
         "ExterCond": 4,
         "BsmtQual": 3,
         "BsmtCond": 4,
         "BsmtExposure": 4,
         "BsmtFinType1": 1,
         "BsmtFinSF1": 923,
         "BsmtFinType2": 6,
         "BsmtFinSF2": 0,
         "BsmtUnfSF": 406,
         "TotalBsmtSF": 1329,
         "HeatingQC": 4,
         "CentralAir": 1,
         "1stFlrSF": 1329,
         "2ndFlrSF": 0,
         "LowQualFinSF": 0,
         "GrLivArea": 1329,
         "BsmtFullBath": 0,
         "BsmtHalfBath": 0,
         "FullBath": 1,
         "HalfBath": 1,
         "BedroomAbvGr": 3,
         "KitchenAbvGr": 1,
         "KitchenQual": 2,
         "TotRmsAbvGrd": 6,
         "Functional": 6,
         "Fireplaces": 0,
         "FireplaceQu": 3,
         "GarageYrBlt": 49,
         "GarageFinish": 3,
         "GarageCars": 1,
         "GarageArea": 312,
         "GarageQual": 5,
         "GarageCond": 5,
         "PavedDrive": 2,
         "WoodDeckSF": 393,
         "OpenPorchSF": 36,
         "EnclosedPorch": 0,
         "3SsnPorch": 0,
         "ScreenPorch": 0,
         "PoolArea": 0,
         "PoolQC": 3,
         "Fence": 4,
         "MiscVal": 12500,
         "MoSold": 8,
         "YrSold": 4,
         "SalePrice": "nan",
         "TotalSF": 2658,
         "LandContour_Bnk": 0,
         "LandContour_HLS": 0,
         "LandContour_Low": 0,
         "LandContour_Lvl": 1,
         "Utilities_AllPub": 1,
         "Utilities_NoSeWa": 0,
         "LotConfig_Corner": 1,
         "LotConfig_CulDSac": 0,
         "LotConfig_FR2": 0,
         "LotConfig_FR3": 0,
         "LotConfig_Inside": 0,
         "Neighborhood_Blmngtn": 0,
         "Neighborhood_Blueste": 0,
         "Neighborhood_BrDale": 0,
         "Neighborhood_BrkSide": 0,
         "Neighborhood_ClearCr": 0,
         "Neighborhood_CollgCr": 0,
         "Neighborhood_Crawfor": 0,
         "Neighborhood_Edwards": 0,
         "Neighborhood_Gilbert": 0,
         "Neighborhood_IDOTRR": 0,
         "Neighborhood_MeadowV": 0,
         "Neighborhood_Mitchel": 0,
         "Neighborhood_NAmes": 1,
         "Neighborhood_NPkVill": 0,
         "Neighborhood_NWAmes": 0,
         "Neighborhood_NoRidge": 0,
         "Neighborhood_NridgHt": 0,
         "Neighborhood_OldTown": 0,
         "Neighborhood_SWISU": 0,
         "Neighborhood_Sawyer": 0,
         "Neighborhood_SawyerW": 0,
         "Neighborhood_Somerst": 0,
         "Neighborhood_StoneBr": 0,
         "Neighborhood_Timber": 0,
         "Neighborhood_Veenker": 0,
         "Condition1_Artery": 0,
         "Condition1_Feedr": 0,
         "Condition1_Norm": 1,
         "Condition1_PosA": 0,
         "Condition1_PosN": 0,
         "Condition1_RRAe": 0,
         "Condition1_RRAn": 0,
         "Condition1_RRNe": 0,
         "Condition1_RRNn": 0,
         "Condition2_Artery": 0,
         "Condition2_Feedr": 0,
         "Condition2_Norm": 1,
         "Condition2_PosA": 0,
         "Condition2_PosN": 0,
         "Condition2_RRAe": 0,
         "Condition2_RRAn": 0,
         "Condition2_RRNn": 0,
         "BldgType_1Fam": 1,
         "BldgType_2fmCon": 0,
         "BldgType_Duplex": 0,
         "BldgType_Twnhs": 0,
         "BldgType_TwnhsE": 0,
         "HouseStyle_1.5Fin": 0,
         "HouseStyle_1.5Unf": 0,
         "HouseStyle_1Story": 1,
         "HouseStyle_2.5Fin": 0,
         "HouseStyle_2.5Unf": 0,
         "HouseStyle_2Story": 0,
         "HouseStyle_SFoyer": 0,
         "HouseStyle_SLvl": 0,
         "RoofStyle_Flat": 0,
         "RoofStyle_Gable": 0,
         "RoofStyle_Gambrel": 0,
         "RoofStyle_Hip": 1,
         "RoofStyle_Mansard": 0,
         "RoofStyle_Shed": 0,
         "RoofMatl_CompShg": 1,
         "RoofMatl_Membran": 0,
         "RoofMatl_Metal": 0,
         "RoofMatl_Roll": 0,
         "RoofMatl_Tar&Grv": 0,
         "RoofMatl_WdShake": 0,
         "RoofMatl_WdShngl": 0,
         "Exterior1st_AsbShng": 0,
         "Exterior1st_AsphShn": 0,
         "Exterior1st_BrkComm": 0,
         "Exterior1st_BrkFace": 0,
         "Exterior1st_CBlock": 0,
         "Exterior1st_CemntBd": 0,
         "Exterior1st_HdBoard": 0,
         "Exterior1st_ImStucc": 0,
         "Exterior1st_MetalSd": 0,
         "Exterior1st_Plywood": 0,
         "Exterior1st_Stone": 0,
         "Exterior1st_Stucco": 0,
         "Exterior1st_VinylSd": 0,
         "Exterior1st_Wd Sdng": 1,
         "Exterior1st_WdShing": 0,
         "Exterior2nd_AsbShng": 0,
         "Exterior2nd_AsphShn": 0,
         "Exterior2nd_Brk Cmn": 0,
         "Exterior2nd_BrkFace": 0,
         "Exterior2nd_CBlock": 0,
         "Exterior2nd_CmentBd": 0,
         "Exterior2nd_HdBoard": 0,
         "Exterior2nd_ImStucc": 0,
         "Exterior2nd_MetalSd": 0,
         "Exterior2nd_Other": 0,
         "Exterior2nd_Plywood": 0,
         "Exterior2nd_Stone": 0,
         "Exterior2nd_Stucco": 0,
         "Exterior2nd_VinylSd": 0,
         "Exterior2nd_Wd Sdng": 1,
         "Exterior2nd_Wd Shng": 0,
         "MasVnrType_BrkCmn": 0,
         "MasVnrType_BrkFace": 1,
         "MasVnrType_None": 0,
         "MasVnrType_Stone": 0,
         "Foundation_BrkTil": 0,
         "Foundation_CBlock": 1,
         "Foundation_PConc": 0,
         "Foundation_Slab": 0,
         "Foundation_Stone": 0,
         "Foundation_Wood": 0,
         "Heating_Floor": 0,
         "Heating_GasA": 1,
         "Heating_GasW": 0,
         "Heating_Grav": 0,
         "Heating_OthW": 0,
         "Heating_Wall": 0,
         "Electrical_FuseA": 0,
         "Electrical_FuseF": 0,
         "Electrical_FuseP": 0,
         "Electrical_Mix": 0,
         "Electrical_SBrkr": 1,
         "GarageType_2Types": 0,
         "GarageType_Attchd": 1,
         "GarageType_Basment": 0,
         "GarageType_BuiltIn": 0,
         "GarageType_CarPort": 0,
         "GarageType_Detchd": 0,
         "GarageType_None": 0,
         "MiscFeature_Gar2": 1,
         "MiscFeature_None": 0,
         "MiscFeature_Othr": 0,
         "MiscFeature_Shed": 0,
         "MiscFeature_TenC": 0,
         "SaleType_COD": 0,
         "SaleType_CWD": 0,
         "SaleType_Con": 0,
         "SaleType_ConLD": 0,
         "SaleType_ConLI": 0,
         "SaleType_ConLw": 0,
         "SaleType_New": 0,
         "SaleType_Oth": 0,
         "SaleType_WD": 1,
         "SaleCondition_Abnorml": 0,
         "SaleCondition_AdjLand": 0,
         "SaleCondition_Alloca": 0,
         "SaleCondition_Family": 0,
         "SaleCondition_Normal": 1,
         "SaleCondition_Partial": 0,
         "_deepnote_index_column": 1461
        }
       ],
       "rows_bottom": [
        {
         "MSSubClass": 14,
         "MSZoning": 3,
         "LotFrontage": 62,
         "LotArea": 10441,
         "Street": 1,
         "Alley": 1,
         "LotShape": 3,
         "LandSlope": 0,
         "OverallQual": 5,
         "OverallCond": 4,
         "YearBuilt": 1992,
         "YearRemodAdd": 1992,
         "MasVnrArea": 0,
         "ExterQual": 3,
         "ExterCond": 4,
         "BsmtQual": 2,
         "BsmtCond": 4,
         "BsmtExposure": 1,
         "BsmtFinType1": 3,
         "BsmtFinSF1": 337,
         "BsmtFinType2": 6,
         "BsmtFinSF2": 0,
         "BsmtUnfSF": 575,
         "TotalBsmtSF": 912,
         "HeatingQC": 4,
         "CentralAir": 1,
         "1stFlrSF": 970,
         "2ndFlrSF": 0,
         "LowQualFinSF": 0,
         "GrLivArea": 970,
         "BsmtFullBath": 0,
         "BsmtHalfBath": 1,
         "FullBath": 1,
         "HalfBath": 0,
         "BedroomAbvGr": 3,
         "KitchenAbvGr": 1,
         "KitchenQual": 3,
         "TotRmsAbvGrd": 6,
         "Functional": 6,
         "Fireplaces": 0,
         "FireplaceQu": 3,
         "GarageYrBlt": 103,
         "GarageFinish": 1,
         "GarageCars": 0,
         "GarageArea": 0,
         "GarageQual": 3,
         "GarageCond": 3,
         "PavedDrive": 2,
         "WoodDeckSF": 80,
         "OpenPorchSF": 32,
         "EnclosedPorch": 0,
         "3SsnPorch": 0,
         "ScreenPorch": 0,
         "PoolArea": 0,
         "PoolQC": 3,
         "Fence": 2,
         "MiscVal": 700,
         "MoSold": 9,
         "YrSold": 0,
         "SalePrice": "nan",
         "TotalSF": 1882,
         "LandContour_Bnk": 0,
         "LandContour_HLS": 0,
         "LandContour_Low": 0,
         "LandContour_Lvl": 1,
         "Utilities_AllPub": 1,
         "Utilities_NoSeWa": 0,
         "LotConfig_Corner": 0,
         "LotConfig_CulDSac": 0,
         "LotConfig_FR2": 0,
         "LotConfig_FR3": 0,
         "LotConfig_Inside": 1,
         "Neighborhood_Blmngtn": 0,
         "Neighborhood_Blueste": 0,
         "Neighborhood_BrDale": 0,
         "Neighborhood_BrkSide": 0,
         "Neighborhood_ClearCr": 0,
         "Neighborhood_CollgCr": 0,
         "Neighborhood_Crawfor": 0,
         "Neighborhood_Edwards": 0,
         "Neighborhood_Gilbert": 0,
         "Neighborhood_IDOTRR": 0,
         "Neighborhood_MeadowV": 0,
         "Neighborhood_Mitchel": 1,
         "Neighborhood_NAmes": 0,
         "Neighborhood_NPkVill": 0,
         "Neighborhood_NWAmes": 0,
         "Neighborhood_NoRidge": 0,
         "Neighborhood_NridgHt": 0,
         "Neighborhood_OldTown": 0,
         "Neighborhood_SWISU": 0,
         "Neighborhood_Sawyer": 0,
         "Neighborhood_SawyerW": 0,
         "Neighborhood_Somerst": 0,
         "Neighborhood_StoneBr": 0,
         "Neighborhood_Timber": 0,
         "Neighborhood_Veenker": 0,
         "Condition1_Artery": 0,
         "Condition1_Feedr": 0,
         "Condition1_Norm": 1,
         "Condition1_PosA": 0,
         "Condition1_PosN": 0,
         "Condition1_RRAe": 0,
         "Condition1_RRAn": 0,
         "Condition1_RRNe": 0,
         "Condition1_RRNn": 0,
         "Condition2_Artery": 0,
         "Condition2_Feedr": 0,
         "Condition2_Norm": 1,
         "Condition2_PosA": 0,
         "Condition2_PosN": 0,
         "Condition2_RRAe": 0,
         "Condition2_RRAn": 0,
         "Condition2_RRNn": 0,
         "BldgType_1Fam": 1,
         "BldgType_2fmCon": 0,
         "BldgType_Duplex": 0,
         "BldgType_Twnhs": 0,
         "BldgType_TwnhsE": 0,
         "HouseStyle_1.5Fin": 0,
         "HouseStyle_1.5Unf": 0,
         "HouseStyle_1Story": 0,
         "HouseStyle_2.5Fin": 0,
         "HouseStyle_2.5Unf": 0,
         "HouseStyle_2Story": 0,
         "HouseStyle_SFoyer": 1,
         "HouseStyle_SLvl": 0,
         "RoofStyle_Flat": 0,
         "RoofStyle_Gable": 1,
         "RoofStyle_Gambrel": 0,
         "RoofStyle_Hip": 0,
         "RoofStyle_Mansard": 0,
         "RoofStyle_Shed": 0,
         "RoofMatl_CompShg": 1,
         "RoofMatl_Membran": 0,
         "RoofMatl_Metal": 0,
         "RoofMatl_Roll": 0,
         "RoofMatl_Tar&Grv": 0,
         "RoofMatl_WdShake": 0,
         "RoofMatl_WdShngl": 0,
         "Exterior1st_AsbShng": 0,
         "Exterior1st_AsphShn": 0,
         "Exterior1st_BrkComm": 0,
         "Exterior1st_BrkFace": 0,
         "Exterior1st_CBlock": 0,
         "Exterior1st_CemntBd": 0,
         "Exterior1st_HdBoard": 1,
         "Exterior1st_ImStucc": 0,
         "Exterior1st_MetalSd": 0,
         "Exterior1st_Plywood": 0,
         "Exterior1st_Stone": 0,
         "Exterior1st_Stucco": 0,
         "Exterior1st_VinylSd": 0,
         "Exterior1st_Wd Sdng": 0,
         "Exterior1st_WdShing": 0,
         "Exterior2nd_AsbShng": 0,
         "Exterior2nd_AsphShn": 0,
         "Exterior2nd_Brk Cmn": 0,
         "Exterior2nd_BrkFace": 0,
         "Exterior2nd_CBlock": 0,
         "Exterior2nd_CmentBd": 0,
         "Exterior2nd_HdBoard": 0,
         "Exterior2nd_ImStucc": 0,
         "Exterior2nd_MetalSd": 0,
         "Exterior2nd_Other": 0,
         "Exterior2nd_Plywood": 0,
         "Exterior2nd_Stone": 0,
         "Exterior2nd_Stucco": 0,
         "Exterior2nd_VinylSd": 0,
         "Exterior2nd_Wd Sdng": 0,
         "Exterior2nd_Wd Shng": 1,
         "MasVnrType_BrkCmn": 0,
         "MasVnrType_BrkFace": 0,
         "MasVnrType_None": 1,
         "MasVnrType_Stone": 0,
         "Foundation_BrkTil": 0,
         "Foundation_CBlock": 0,
         "Foundation_PConc": 1,
         "Foundation_Slab": 0,
         "Foundation_Stone": 0,
         "Foundation_Wood": 0,
         "Heating_Floor": 0,
         "Heating_GasA": 1,
         "Heating_GasW": 0,
         "Heating_Grav": 0,
         "Heating_OthW": 0,
         "Heating_Wall": 0,
         "Electrical_FuseA": 0,
         "Electrical_FuseF": 0,
         "Electrical_FuseP": 0,
         "Electrical_Mix": 0,
         "Electrical_SBrkr": 1,
         "GarageType_2Types": 0,
         "GarageType_Attchd": 0,
         "GarageType_Basment": 0,
         "GarageType_BuiltIn": 0,
         "GarageType_CarPort": 0,
         "GarageType_Detchd": 0,
         "GarageType_None": 1,
         "MiscFeature_Gar2": 0,
         "MiscFeature_None": 0,
         "MiscFeature_Othr": 0,
         "MiscFeature_Shed": 1,
         "MiscFeature_TenC": 0,
         "SaleType_COD": 0,
         "SaleType_CWD": 0,
         "SaleType_Con": 0,
         "SaleType_ConLD": 0,
         "SaleType_ConLI": 0,
         "SaleType_ConLw": 0,
         "SaleType_New": 0,
         "SaleType_Oth": 0,
         "SaleType_WD": 1,
         "SaleCondition_Abnorml": 0,
         "SaleCondition_AdjLand": 0,
         "SaleCondition_Alloca": 0,
         "SaleCondition_Family": 0,
         "SaleCondition_Normal": 1,
         "SaleCondition_Partial": 0,
         "_deepnote_index_column": 2917
        },
        {
         "MSSubClass": 10,
         "MSZoning": 3,
         "LotFrontage": 74,
         "LotArea": 9627,
         "Street": 1,
         "Alley": 1,
         "LotShape": 3,
         "LandSlope": 1,
         "OverallQual": 7,
         "OverallCond": 4,
         "YearBuilt": 1993,
         "YearRemodAdd": 1994,
         "MasVnrArea": 94,
         "ExterQual": 3,
         "ExterCond": 4,
         "BsmtQual": 2,
         "BsmtCond": 4,
         "BsmtExposure": 1,
         "BsmtFinType1": 4,
         "BsmtFinSF1": 758,
         "BsmtFinType2": 6,
         "BsmtFinSF2": 0,
         "BsmtUnfSF": 238,
         "TotalBsmtSF": 996,
         "HeatingQC": 0,
         "CentralAir": 1,
         "1stFlrSF": 996,
         "2ndFlrSF": 1004,
         "LowQualFinSF": 0,
         "GrLivArea": 2000,
         "BsmtFullBath": 0,
         "BsmtHalfBath": 0,
         "FullBath": 2,
         "HalfBath": 1,
         "BedroomAbvGr": 3,
         "KitchenAbvGr": 1,
         "KitchenQual": 3,
         "TotRmsAbvGrd": 9,
         "Functional": 6,
         "Fireplaces": 1,
         "FireplaceQu": 5,
         "GarageYrBlt": 84,
         "GarageFinish": 0,
         "GarageCars": 3,
         "GarageArea": 650,
         "GarageQual": 5,
         "GarageCond": 5,
         "PavedDrive": 2,
         "WoodDeckSF": 190,
         "OpenPorchSF": 48,
         "EnclosedPorch": 0,
         "3SsnPorch": 0,
         "ScreenPorch": 0,
         "PoolArea": 0,
         "PoolQC": 3,
         "Fence": 4,
         "MiscVal": 0,
         "MoSold": 2,
         "YrSold": 0,
         "SalePrice": "nan",
         "TotalSF": 2996,
         "LandContour_Bnk": 0,
         "LandContour_HLS": 0,
         "LandContour_Low": 0,
         "LandContour_Lvl": 1,
         "Utilities_AllPub": 1,
         "Utilities_NoSeWa": 0,
         "LotConfig_Corner": 0,
         "LotConfig_CulDSac": 0,
         "LotConfig_FR2": 0,
         "LotConfig_FR3": 0,
         "LotConfig_Inside": 1,
         "Neighborhood_Blmngtn": 0,
         "Neighborhood_Blueste": 0,
         "Neighborhood_BrDale": 0,
         "Neighborhood_BrkSide": 0,
         "Neighborhood_ClearCr": 0,
         "Neighborhood_CollgCr": 0,
         "Neighborhood_Crawfor": 0,
         "Neighborhood_Edwards": 0,
         "Neighborhood_Gilbert": 0,
         "Neighborhood_IDOTRR": 0,
         "Neighborhood_MeadowV": 0,
         "Neighborhood_Mitchel": 1,
         "Neighborhood_NAmes": 0,
         "Neighborhood_NPkVill": 0,
         "Neighborhood_NWAmes": 0,
         "Neighborhood_NoRidge": 0,
         "Neighborhood_NridgHt": 0,
         "Neighborhood_OldTown": 0,
         "Neighborhood_SWISU": 0,
         "Neighborhood_Sawyer": 0,
         "Neighborhood_SawyerW": 0,
         "Neighborhood_Somerst": 0,
         "Neighborhood_StoneBr": 0,
         "Neighborhood_Timber": 0,
         "Neighborhood_Veenker": 0,
         "Condition1_Artery": 0,
         "Condition1_Feedr": 0,
         "Condition1_Norm": 1,
         "Condition1_PosA": 0,
         "Condition1_PosN": 0,
         "Condition1_RRAe": 0,
         "Condition1_RRAn": 0,
         "Condition1_RRNe": 0,
         "Condition1_RRNn": 0,
         "Condition2_Artery": 0,
         "Condition2_Feedr": 0,
         "Condition2_Norm": 1,
         "Condition2_PosA": 0,
         "Condition2_PosN": 0,
         "Condition2_RRAe": 0,
         "Condition2_RRAn": 0,
         "Condition2_RRNn": 0,
         "BldgType_1Fam": 1,
         "BldgType_2fmCon": 0,
         "BldgType_Duplex": 0,
         "BldgType_Twnhs": 0,
         "BldgType_TwnhsE": 0,
         "HouseStyle_1.5Fin": 0,
         "HouseStyle_1.5Unf": 0,
         "HouseStyle_1Story": 0,
         "HouseStyle_2.5Fin": 0,
         "HouseStyle_2.5Unf": 0,
         "HouseStyle_2Story": 1,
         "HouseStyle_SFoyer": 0,
         "HouseStyle_SLvl": 0,
         "RoofStyle_Flat": 0,
         "RoofStyle_Gable": 1,
         "RoofStyle_Gambrel": 0,
         "RoofStyle_Hip": 0,
         "RoofStyle_Mansard": 0,
         "RoofStyle_Shed": 0,
         "RoofMatl_CompShg": 1,
         "RoofMatl_Membran": 0,
         "RoofMatl_Metal": 0,
         "RoofMatl_Roll": 0,
         "RoofMatl_Tar&Grv": 0,
         "RoofMatl_WdShake": 0,
         "RoofMatl_WdShngl": 0,
         "Exterior1st_AsbShng": 0,
         "Exterior1st_AsphShn": 0,
         "Exterior1st_BrkComm": 0,
         "Exterior1st_BrkFace": 0,
         "Exterior1st_CBlock": 0,
         "Exterior1st_CemntBd": 0,
         "Exterior1st_HdBoard": 1,
         "Exterior1st_ImStucc": 0,
         "Exterior1st_MetalSd": 0,
         "Exterior1st_Plywood": 0,
         "Exterior1st_Stone": 0,
         "Exterior1st_Stucco": 0,
         "Exterior1st_VinylSd": 0,
         "Exterior1st_Wd Sdng": 0,
         "Exterior1st_WdShing": 0,
         "Exterior2nd_AsbShng": 0,
         "Exterior2nd_AsphShn": 0,
         "Exterior2nd_Brk Cmn": 0,
         "Exterior2nd_BrkFace": 0,
         "Exterior2nd_CBlock": 0,
         "Exterior2nd_CmentBd": 0,
         "Exterior2nd_HdBoard": 1,
         "Exterior2nd_ImStucc": 0,
         "Exterior2nd_MetalSd": 0,
         "Exterior2nd_Other": 0,
         "Exterior2nd_Plywood": 0,
         "Exterior2nd_Stone": 0,
         "Exterior2nd_Stucco": 0,
         "Exterior2nd_VinylSd": 0,
         "Exterior2nd_Wd Sdng": 0,
         "Exterior2nd_Wd Shng": 0,
         "MasVnrType_BrkCmn": 0,
         "MasVnrType_BrkFace": 1,
         "MasVnrType_None": 0,
         "MasVnrType_Stone": 0,
         "Foundation_BrkTil": 0,
         "Foundation_CBlock": 0,
         "Foundation_PConc": 1,
         "Foundation_Slab": 0,
         "Foundation_Stone": 0,
         "Foundation_Wood": 0,
         "Heating_Floor": 0,
         "Heating_GasA": 1,
         "Heating_GasW": 0,
         "Heating_Grav": 0,
         "Heating_OthW": 0,
         "Heating_Wall": 0,
         "Electrical_FuseA": 0,
         "Electrical_FuseF": 0,
         "Electrical_FuseP": 0,
         "Electrical_Mix": 0,
         "Electrical_SBrkr": 1,
         "GarageType_2Types": 0,
         "GarageType_Attchd": 1,
         "GarageType_Basment": 0,
         "GarageType_BuiltIn": 0,
         "GarageType_CarPort": 0,
         "GarageType_Detchd": 0,
         "GarageType_None": 0,
         "MiscFeature_Gar2": 0,
         "MiscFeature_None": 1,
         "MiscFeature_Othr": 0,
         "MiscFeature_Shed": 0,
         "MiscFeature_TenC": 0,
         "SaleType_COD": 0,
         "SaleType_CWD": 0,
         "SaleType_Con": 0,
         "SaleType_ConLD": 0,
         "SaleType_ConLI": 0,
         "SaleType_ConLw": 0,
         "SaleType_New": 0,
         "SaleType_Oth": 0,
         "SaleType_WD": 1,
         "SaleCondition_Abnorml": 0,
         "SaleCondition_AdjLand": 0,
         "SaleCondition_Alloca": 0,
         "SaleCondition_Family": 0,
         "SaleCondition_Normal": 1,
         "SaleCondition_Partial": 0,
         "_deepnote_index_column": 2918
        }
       ]
      },
      "text/plain": "      MSSubClass  MSZoning  LotFrontage  LotArea  Street  Alley  LotShape  \\\n1460           5         2         80.0    11622       1      1         3   \n1461           5         3         81.0    14267       1      1         0   \n1462          10         3         74.0    13830       1      1         0   \n1463          10         3         78.0     9978       1      1         0   \n1464           0         3         43.0     5005       1      1         0   \n...          ...       ...          ...      ...     ...    ...       ...   \n2914           2         4         21.0     1936       1      1         3   \n2915           2         4         21.0     1894       1      1         3   \n2916           5         3        160.0    20000       1      1         3   \n2917          14         3         62.0    10441       1      1         3   \n2918          10         3         74.0     9627       1      1         3   \n\n      LandSlope  OverallQual  OverallCond  ...  SaleType_ConLw  SaleType_New  \\\n1460          0            5            5  ...               0             0   \n1461          0            6            5  ...               0             0   \n1462          0            5            4  ...               0             0   \n1463          0            6            5  ...               0             0   \n1464          0            8            4  ...               0             0   \n...         ...          ...          ...  ...             ...           ...   \n2914          0            4            6  ...               0             0   \n2915          0            4            4  ...               0             0   \n2916          0            5            6  ...               0             0   \n2917          0            5            4  ...               0             0   \n2918          1            7            4  ...               0             0   \n\n      SaleType_Oth  SaleType_WD  SaleCondition_Abnorml  SaleCondition_AdjLand  \\\n1460             0            1                      0                      0   \n1461             0            1                      0                      0   \n1462             0            1                      0                      0   \n1463             0            1                      0                      0   \n1464             0            1                      0                      0   \n...            ...          ...                    ...                    ...   \n2914             0            1                      0                      0   \n2915             0            1                      1                      0   \n2916             0            1                      1                      0   \n2917             0            1                      0                      0   \n2918             0            1                      0                      0   \n\n      SaleCondition_Alloca  SaleCondition_Family  SaleCondition_Normal  \\\n1460                     0                     0                     1   \n1461                     0                     0                     1   \n1462                     0                     0                     1   \n1463                     0                     0                     1   \n1464                     0                     0                     1   \n...                    ...                   ...                   ...   \n2914                     0                     0                     1   \n2915                     0                     0                     0   \n2916                     0                     0                     0   \n2917                     0                     0                     1   \n2918                     0                     0                     1   \n\n      SaleCondition_Partial  \n1460                      0  \n1461                      0  \n1462                      0  \n1463                      0  \n1464                      0  \n...                     ...  \n2914                      0  \n2915                      0  \n2916                      0  \n2917                      0  \n2918                      0  \n\n[1459 rows x 219 columns]",
      "text/html": "<div>\n<style scoped>\n    .dataframe tbody tr th:only-of-type {\n        vertical-align: middle;\n    }\n\n    .dataframe tbody tr th {\n        vertical-align: top;\n    }\n\n    .dataframe thead th {\n        text-align: right;\n    }\n</style>\n<table border=\"1\" class=\"dataframe\">\n  <thead>\n    <tr style=\"text-align: right;\">\n      <th></th>\n      <th>MSSubClass</th>\n      <th>MSZoning</th>\n      <th>LotFrontage</th>\n      <th>LotArea</th>\n      <th>Street</th>\n      <th>Alley</th>\n      <th>LotShape</th>\n      <th>LandSlope</th>\n      <th>OverallQual</th>\n      <th>OverallCond</th>\n      <th>...</th>\n      <th>SaleType_ConLw</th>\n      <th>SaleType_New</th>\n      <th>SaleType_Oth</th>\n      <th>SaleType_WD</th>\n      <th>SaleCondition_Abnorml</th>\n      <th>SaleCondition_AdjLand</th>\n      <th>SaleCondition_Alloca</th>\n      <th>SaleCondition_Family</th>\n      <th>SaleCondition_Normal</th>\n      <th>SaleCondition_Partial</th>\n    </tr>\n  </thead>\n  <tbody>\n    <tr>\n      <th>1460</th>\n      <td>5</td>\n      <td>2</td>\n      <td>80.0</td>\n      <td>11622</td>\n      <td>1</td>\n      <td>1</td>\n      <td>3</td>\n      <td>0</td>\n      <td>5</td>\n      <td>5</td>\n      <td>...</td>\n      <td>0</td>\n      <td>0</td>\n      <td>0</td>\n      <td>1</td>\n      <td>0</td>\n      <td>0</td>\n      <td>0</td>\n      <td>0</td>\n      <td>1</td>\n      <td>0</td>\n    </tr>\n    <tr>\n      <th>1461</th>\n      <td>5</td>\n      <td>3</td>\n      <td>81.0</td>\n      <td>14267</td>\n      <td>1</td>\n      <td>1</td>\n      <td>0</td>\n      <td>0</td>\n      <td>6</td>\n      <td>5</td>\n      <td>...</td>\n      <td>0</td>\n      <td>0</td>\n      <td>0</td>\n      <td>1</td>\n      <td>0</td>\n      <td>0</td>\n      <td>0</td>\n      <td>0</td>\n      <td>1</td>\n      <td>0</td>\n    </tr>\n    <tr>\n      <th>1462</th>\n      <td>10</td>\n      <td>3</td>\n      <td>74.0</td>\n      <td>13830</td>\n      <td>1</td>\n      <td>1</td>\n      <td>0</td>\n      <td>0</td>\n      <td>5</td>\n      <td>4</td>\n      <td>...</td>\n      <td>0</td>\n      <td>0</td>\n      <td>0</td>\n      <td>1</td>\n      <td>0</td>\n      <td>0</td>\n      <td>0</td>\n      <td>0</td>\n      <td>1</td>\n      <td>0</td>\n    </tr>\n    <tr>\n      <th>1463</th>\n      <td>10</td>\n      <td>3</td>\n      <td>78.0</td>\n      <td>9978</td>\n      <td>1</td>\n      <td>1</td>\n      <td>0</td>\n      <td>0</td>\n      <td>6</td>\n      <td>5</td>\n      <td>...</td>\n      <td>0</td>\n      <td>0</td>\n      <td>0</td>\n      <td>1</td>\n      <td>0</td>\n      <td>0</td>\n      <td>0</td>\n      <td>0</td>\n      <td>1</td>\n      <td>0</td>\n    </tr>\n    <tr>\n      <th>1464</th>\n      <td>0</td>\n      <td>3</td>\n      <td>43.0</td>\n      <td>5005</td>\n      <td>1</td>\n      <td>1</td>\n      <td>0</td>\n      <td>0</td>\n      <td>8</td>\n      <td>4</td>\n      <td>...</td>\n      <td>0</td>\n      <td>0</td>\n      <td>0</td>\n      <td>1</td>\n      <td>0</td>\n      <td>0</td>\n      <td>0</td>\n      <td>0</td>\n      <td>1</td>\n      <td>0</td>\n    </tr>\n    <tr>\n      <th>...</th>\n      <td>...</td>\n      <td>...</td>\n      <td>...</td>\n      <td>...</td>\n      <td>...</td>\n      <td>...</td>\n      <td>...</td>\n      <td>...</td>\n      <td>...</td>\n      <td>...</td>\n      <td>...</td>\n      <td>...</td>\n      <td>...</td>\n      <td>...</td>\n      <td>...</td>\n      <td>...</td>\n      <td>...</td>\n      <td>...</td>\n      <td>...</td>\n      <td>...</td>\n      <td>...</td>\n    </tr>\n    <tr>\n      <th>2914</th>\n      <td>2</td>\n      <td>4</td>\n      <td>21.0</td>\n      <td>1936</td>\n      <td>1</td>\n      <td>1</td>\n      <td>3</td>\n      <td>0</td>\n      <td>4</td>\n      <td>6</td>\n      <td>...</td>\n      <td>0</td>\n      <td>0</td>\n      <td>0</td>\n      <td>1</td>\n      <td>0</td>\n      <td>0</td>\n      <td>0</td>\n      <td>0</td>\n      <td>1</td>\n      <td>0</td>\n    </tr>\n    <tr>\n      <th>2915</th>\n      <td>2</td>\n      <td>4</td>\n      <td>21.0</td>\n      <td>1894</td>\n      <td>1</td>\n      <td>1</td>\n      <td>3</td>\n      <td>0</td>\n      <td>4</td>\n      <td>4</td>\n      <td>...</td>\n      <td>0</td>\n      <td>0</td>\n      <td>0</td>\n      <td>1</td>\n      <td>1</td>\n      <td>0</td>\n      <td>0</td>\n      <td>0</td>\n      <td>0</td>\n      <td>0</td>\n    </tr>\n    <tr>\n      <th>2916</th>\n      <td>5</td>\n      <td>3</td>\n      <td>160.0</td>\n      <td>20000</td>\n      <td>1</td>\n      <td>1</td>\n      <td>3</td>\n      <td>0</td>\n      <td>5</td>\n      <td>6</td>\n      <td>...</td>\n      <td>0</td>\n      <td>0</td>\n      <td>0</td>\n      <td>1</td>\n      <td>1</td>\n      <td>0</td>\n      <td>0</td>\n      <td>0</td>\n      <td>0</td>\n      <td>0</td>\n    </tr>\n    <tr>\n      <th>2917</th>\n      <td>14</td>\n      <td>3</td>\n      <td>62.0</td>\n      <td>10441</td>\n      <td>1</td>\n      <td>1</td>\n      <td>3</td>\n      <td>0</td>\n      <td>5</td>\n      <td>4</td>\n      <td>...</td>\n      <td>0</td>\n      <td>0</td>\n      <td>0</td>\n      <td>1</td>\n      <td>0</td>\n      <td>0</td>\n      <td>0</td>\n      <td>0</td>\n      <td>1</td>\n      <td>0</td>\n    </tr>\n    <tr>\n      <th>2918</th>\n      <td>10</td>\n      <td>3</td>\n      <td>74.0</td>\n      <td>9627</td>\n      <td>1</td>\n      <td>1</td>\n      <td>3</td>\n      <td>1</td>\n      <td>7</td>\n      <td>4</td>\n      <td>...</td>\n      <td>0</td>\n      <td>0</td>\n      <td>0</td>\n      <td>1</td>\n      <td>0</td>\n      <td>0</td>\n      <td>0</td>\n      <td>0</td>\n      <td>1</td>\n      <td>0</td>\n    </tr>\n  </tbody>\n</table>\n<p>1459 rows × 219 columns</p>\n</div>"
     },
     "metadata": {}
    }
   ]
  },
  {
   "cell_type": "code",
   "metadata": {
    "tags": [],
    "cell_id": "00096-451cc7fd-9dd4-4210-9158-00c93de8a463",
    "deepnote_to_be_reexecuted": false,
    "source_hash": "3bdc96d9",
    "execution_start": 1635264970768,
    "execution_millis": 3,
    "deepnote_cell_type": "code"
   },
   "source": "x_train = train.drop([\"SalePrice\"], axis=1)\ny_train = train[\"SalePrice\"].values\nx_test = test.drop([\"SalePrice\"], axis=1)",
   "execution_count": 47,
   "outputs": []
  },
  {
   "cell_type": "markdown",
   "source": "### Train and Test Split",
   "metadata": {
    "tags": [],
    "is_collapsed": false,
    "cell_id": "00108-b48ecc6d-697d-4a06-a331-9fd14277ebd2",
    "deepnote_cell_type": "text-cell-h3"
   }
  },
  {
   "cell_type": "markdown",
   "source": "The train-test split procedure is used to estimate the performance of machine learning algorithms when they are used to make predictions on data not used to train the model.\n\nIt is appropriate when you have a very large dataset, a costly model to train, or require a good estimate of model performance quickly.\n\nIt is good to choose a split percentage that meets the project’s objectives with considerations of:\nComputational cost in training and evaluating the model as well as the Training and Test set representativeness.\n\nAnother important consideration is that rows are assigned to the train and test sets randomly. This is doe by setting the “random_state” to an integer value.",
   "metadata": {
    "tags": [],
    "cell_id": "00109-91a92ccb-7c85-4531-a67f-c5292b275d7c",
    "deepnote_cell_type": "markdown"
   }
  },
  {
   "cell_type": "code",
   "metadata": {
    "tags": [],
    "cell_id": "00109-50779442-fa87-4337-b3c7-398aa82b6cce",
    "deepnote_to_be_reexecuted": false,
    "source_hash": "31ef40ec",
    "execution_start": 1635264970781,
    "execution_millis": 6524333,
    "deepnote_cell_type": "code"
   },
   "source": "from sklearn.model_selection import train_test_split\nX_train, X_val, y_train, y_val = train_test_split(x_train, y_train, test_size=0.20, random_state=42)",
   "execution_count": 48,
   "outputs": []
  },
  {
   "cell_type": "markdown",
   "source": "# Model Design\n\n\nResearch and summarize 4 models:\n- Summary of the model\n- Advantages and drawbacks\n- Train and predict the validation data\n- Look at the feature importance, create evaluation matrices\n- Select the final model and explain why you picked it\n\nFor performance metrics, refere to https://scikit-learn.org/stable/modules/classes.html#module-sklearn.metrics\n\n- Tree based model (Look at random forest as well): https://scikit-learn.org/stable/auto_examples/tree/plot_unveil_tree_structure.html#sphx-glr-auto-examples-tree-plot-unveil-tree-structure-py\n\n\n- Linear Regression (with regularization, Lasso and Ridge): https://scikit-learn.org/stable/modules/generated/sklearn.linear_model.LinearRegression.html?highlight=linear%20regression#sklearn.linear_model.LinearRegression\n\n- Xgboost (Extension of Tree based model): https://towardsdatascience.com/xgboost-python-example-42777d01001e?gi=37505fc61178\n\n- Multilayer Perceptron networkv (optional): https://scikit-learn.org/stable/modules/generated/sklearn.neural_network.MLPRegressor.html#sklearn.neural_network.MLPRegressor",
   "metadata": {
    "tags": [],
    "cell_id": "00087-766656d0-b6b5-40b1-a96f-acc31f32e903",
    "deepnote_cell_type": "markdown"
   }
  },
  {
   "cell_type": "markdown",
   "source": "### Linear Regression(with regularization, Lasso and Ridge)",
   "metadata": {
    "tags": [],
    "cell_id": "00088-e4527b9f-acc7-4b5b-a78f-c26123095a62",
    "is_collapsed": false,
    "deepnote_cell_type": "text-cell-h3"
   }
  },
  {
   "cell_type": "markdown",
   "source": "Summary of the Model\n\n    - Uses Ordinary Least Squares\n\n    - Linear model with coefficients that minimize the residual some of squares between observed and predicted targets.\n\nRidge and Lasso regression are some of the simple techniques to reduce model complexity and prevent over-fitting which may result from simple linear regression.\n\nRidge Regression; - In ridge regression, the cost function is altered by adding a penalty equivalent to square of the magnitude of the coefficients.\n\nRidge Regression shrinks the coefficients and it helps to reduce the model complexity and multi-collinearity. Ridge estimates sparse coefficients with l2 regularization\n\nLeast Absolute Shrinkage And Selection Operator regularization (LASSO)\n\nIn Lasso Regression, the main difference is that instead of  taking the square of the coefficients, magnitudes are taken into account. Lasso estimates sparse coefficients with l1 regularization\n\nThe Lasso is a shrinkage and selection method for linear regression. An L1 penalty minimizes the size of all coefficients and allows any coefficient to go to the value of zero, effectively removing input features from the model.\n\nLasso Regression helps in feature selection and reducing overfitting.\n\nThe computation of the lasso solutions is a quadratic programming problem, and can be tackled by standard numerical analysis algorithms.",
   "metadata": {
    "tags": [],
    "cell_id": "00089-ea386eba-1072-494d-bf18-3daaafbbda89",
    "deepnote_cell_type": "markdown"
   }
  },
  {
   "cell_type": "markdown",
   "source": "### Ridge",
   "metadata": {
    "tags": [],
    "is_collapsed": false,
    "cell_id": "00108-34052c99-f1e0-471d-ac07-c83096e2e89d",
    "deepnote_cell_type": "text-cell-h3"
   }
  },
  {
   "cell_type": "markdown",
   "source": "Parameters used in Ridge Regression\n\nalpha(float,  default=1.0)\n\nRegularization strength; must be a positive float. Regularization improves the conditioning of the problem and reduces the variance of the estimates. Larger values specify stronger regularization. \n\nfit_intercept (bool, default=True) \n\nUsed to fit the intercept for this model. If set to false, no intercept will be used in calculations (i.e. X and y are expected to be centered).\n\nnormalize (bool, default=False)\n\nThis parameter is ignored when fit_intercept is set to False. If True, the regressors X will be normalized before regression by subtracting the mean and dividing by the l2-norm. If you wish to standardize, please use StandardScaler before calling fit on an estimator with normalize=False.\n\nmax_iter (int, default=None)\n\nRefers to the Maximum number of iterations for conjugate gradient solver. For ‘sparse_cg’ and ‘lsqr’ solvers, the default value is determined by scipy.sparse.linalg. \n\ntol (float, default=1e-3)\n\nPrecision of the solution.\n\n",
   "metadata": {
    "tags": [],
    "cell_id": "00105-76664f49-a2ae-4393-976f-936bd2a04a3b",
    "deepnote_cell_type": "markdown"
   }
  },
  {
   "cell_type": "code",
   "metadata": {
    "tags": [],
    "cell_id": "00106-136ddca7-cda6-4ec4-972b-aa0e541cc65a",
    "deepnote_to_be_reexecuted": false,
    "source_hash": "8b3ececf",
    "execution_start": 1635264970792,
    "execution_millis": 6524280,
    "deepnote_cell_type": "code"
   },
   "source": "from sklearn.linear_model import LinearRegression\nfrom sklearn.linear_model import Ridge",
   "execution_count": 49,
   "outputs": []
  },
  {
   "cell_type": "code",
   "metadata": {
    "tags": [],
    "cell_id": "00105-e98b7752-28e3-469f-a311-d17d41ee57ea",
    "deepnote_to_be_reexecuted": false,
    "source_hash": "16d09c1d",
    "execution_start": 1635264970837,
    "execution_millis": 6524334,
    "deepnote_cell_type": "code"
   },
   "source": "ridgeReg = Ridge(alpha=5,  fit_intercept=True, normalize='deprecated', copy_X=True, max_iter=None, tol=0.001, solver='auto', positive=False, random_state=None)",
   "execution_count": 50,
   "outputs": []
  },
  {
   "cell_type": "code",
   "metadata": {
    "tags": [],
    "cell_id": "00108-2425de9b-832a-47b8-a54e-a26e6e47fdf5",
    "deepnote_to_be_reexecuted": false,
    "source_hash": "41f6862b",
    "execution_start": 1635264970837,
    "execution_millis": 42,
    "deepnote_cell_type": "code"
   },
   "source": "ridgeReg = ridgeReg.fit(X_train, y_train)\npred_val = ridgeReg.predict(X_val)\nfrom sklearn.metrics import max_error\nprint(f\"Maximum error in Ridge Regression is: {max_error(y_val, pred_val)}\")",
   "execution_count": 51,
   "outputs": [
    {
     "name": "stdout",
     "text": "Maximum error in Ridge Regression is: 143684.88989007764\n",
     "output_type": "stream"
    }
   ]
  },
  {
   "cell_type": "code",
   "metadata": {
    "tags": [],
    "cell_id": "00113-43b795ad-d552-4179-8632-c7527b94e35a",
    "deepnote_to_be_reexecuted": false,
    "source_hash": "1be3be16",
    "execution_start": 1635264970890,
    "execution_millis": 73,
    "deepnote_cell_type": "code"
   },
   "source": "from sklearn.metrics import r2_score\n\nr2_score(y_val, pred_val)",
   "execution_count": 52,
   "outputs": [
    {
     "output_type": "execute_result",
     "execution_count": 52,
     "data": {
      "text/plain": "0.8937202112149368"
     },
     "metadata": {}
    }
   ]
  },
  {
   "cell_type": "code",
   "metadata": {
    "tags": [],
    "cell_id": "00113-b548483f-ec95-43c5-b319-6a90a8fc105b",
    "deepnote_to_be_reexecuted": false,
    "source_hash": "b96e762f",
    "execution_start": 1635264970960,
    "execution_millis": 4,
    "deepnote_cell_type": "code"
   },
   "source": "#Feature importance\n\nfeatures = pd.DataFrame({\"feature\": ridgeReg.feature_names_in_, \"importance\": ridgeReg.coef_})\nfeatures.sort_values(\"importance\", ascending=False).head()\nprint(f\"{len(features[features['importance'] != 0])} are used in the model\")",
   "execution_count": 53,
   "outputs": [
    {
     "name": "stdout",
     "text": "216 are used in the model\n",
     "output_type": "stream"
    }
   ]
  },
  {
   "cell_type": "markdown",
   "source": "### Lasso",
   "metadata": {
    "tags": [],
    "is_collapsed": false,
    "cell_id": "00113-e0e6018e-97c0-467a-b7cd-eef740e989ea",
    "deepnote_cell_type": "text-cell-h3"
   }
  },
  {
   "cell_type": "code",
   "metadata": {
    "tags": [],
    "cell_id": "00114-3e92a4f9-f1c9-4670-b796-7f4c2f95cef3",
    "deepnote_to_be_reexecuted": false,
    "source_hash": "fc72907f",
    "execution_start": 1635264971007,
    "execution_millis": 6524355,
    "deepnote_cell_type": "code"
   },
   "source": "from sklearn.linear_model import Lasso",
   "execution_count": 54,
   "outputs": []
  },
  {
   "cell_type": "code",
   "metadata": {
    "tags": [],
    "cell_id": "00115-bedef024-60b1-405f-89d5-b14d9edd359a",
    "deepnote_to_be_reexecuted": false,
    "source_hash": "24b0dc3a",
    "execution_start": 1635264971008,
    "execution_millis": 6524355,
    "deepnote_cell_type": "code"
   },
   "source": "LassoReg = Lasso(alpha=20, fit_intercept=True, normalize='deprecated', precompute=False, copy_X=True, max_iter=1000, tol=0.0001, warm_start=False, positive=False, random_state=None, selection='cyclic')",
   "execution_count": 55,
   "outputs": []
  },
  {
   "cell_type": "code",
   "metadata": {
    "tags": [],
    "cell_id": "00116-9dcc3064-0618-47ab-bfc4-16e29e597b31",
    "deepnote_to_be_reexecuted": false,
    "source_hash": "3c75bc20",
    "execution_start": 1635264971048,
    "execution_millis": 977,
    "deepnote_cell_type": "code"
   },
   "source": "LassoReg = LassoReg.fit(X_train, y_train)",
   "execution_count": 56,
   "outputs": [
    {
     "name": "stderr",
     "text": "/shared-libs/python3.7/py/lib/python3.7/site-packages/sklearn/linear_model/_coordinate_descent.py:646: ConvergenceWarning: Objective did not converge. You might want to increase the number of iterations, check the scale of the features or consider increasing regularisation. Duality gap: 4.793e+10, tolerance: 7.340e+08\n  coef_, l1_reg, l2_reg, X, y, max_iter, tol, rng, random, positive\n",
     "output_type": "stream"
    }
   ]
  },
  {
   "cell_type": "code",
   "metadata": {
    "tags": [],
    "cell_id": "00117-a9d18df5-5cae-42e6-a12c-243eb3e093fc",
    "deepnote_to_be_reexecuted": false,
    "source_hash": "f2b22b33",
    "execution_start": 1635264971997,
    "execution_millis": 17,
    "deepnote_cell_type": "code"
   },
   "source": "predict_val = LassoReg.predict(X_val)\nfrom sklearn.metrics import max_error\nprint(f\"Maximum error in Lasso Regression is {max_error(y_val, predict_val)}\")\n",
   "execution_count": 57,
   "outputs": [
    {
     "name": "stdout",
     "text": "Maximum error in Lasso Regression is 140236.55699299066\n",
     "output_type": "stream"
    }
   ]
  },
  {
   "cell_type": "code",
   "metadata": {
    "tags": [],
    "cell_id": "00119-e9cf41e4-d373-4e10-9256-6ec52f8898d5",
    "deepnote_to_be_reexecuted": false,
    "source_hash": "7bae1ba6",
    "execution_start": 1635264972024,
    "execution_millis": 42,
    "deepnote_cell_type": "code"
   },
   "source": "from sklearn.metrics import r2_score\n\nr2_score(y_val, predict_val)",
   "execution_count": 58,
   "outputs": [
    {
     "output_type": "execute_result",
     "execution_count": 58,
     "data": {
      "text/plain": "0.8909372399118394"
     },
     "metadata": {}
    }
   ]
  },
  {
   "cell_type": "code",
   "metadata": {
    "tags": [],
    "cell_id": "00119-6038a425-5627-4e46-af6d-a926abea773d",
    "deepnote_to_be_reexecuted": false,
    "source_hash": "8e92ce78",
    "execution_start": 1635264972137,
    "execution_millis": 10,
    "deepnote_cell_type": "code"
   },
   "source": "#Feature importance\n\nfeatures = pd.DataFrame({\"feature\": LassoReg.feature_names_in_, \"importance\": LassoReg.coef_})\nfeatures.sort_values(\"importance\", ascending=False).head()\nprint(f\"{len(features[features['importance'] != 0])} are used in the model\")",
   "execution_count": 59,
   "outputs": [
    {
     "name": "stdout",
     "text": "159 are used in the model\n",
     "output_type": "stream"
    }
   ]
  },
  {
   "cell_type": "markdown",
   "source": "### Tree Based Model",
   "metadata": {
    "tags": [],
    "cell_id": "00090-c6df1885-ece3-44b8-ba4c-f0fca40501f2",
    "is_collapsed": false,
    "deepnote_cell_type": "text-cell-h3"
   }
  },
  {
   "cell_type": "markdown",
   "source": "Regression trees are type of decision trees since the set of splitting rules used to segment the\npredictor space can be summarized in a tree. \n\nIn a regression tree, each leaf represents a numerical value.\nValue that brings the least residual becomes the root of the tree\n\nThese involve stratifying or segmenting the predictor space into a number of simple regions.\n\nDecision trees are typically drawn upside down, in the sense that the leaves are at the bottom of the tree.\n\nThe points along the tree where the predictor space is split are referred to as internal nodes.\n\nRandom Forest method grows multiple trees which are combined to yield a single consesus prediction.\n\n\nAdvantages and Disadvantages\n\n    - They are simple and useful for interpretation.\n\n    - Trees can easily handle qualitative predictors without the need to create dummy variables.\n\n    - Combining a large number of trees can often result in dramatic improvements in prediction accuracy, at the expense of some loss interpretation.\n\n    - In terms of prediction accuracy, they are not competitive with the best learning approaches.\n\nBagging, is a general-purpose procedure for reducing the variance of a statistical learning method.\n\nRandom forests provide an improvement over bagged trees by way of a small tweak that decorrelates the trees. This reduces the variance when we average the trees.\n\nSimilar to bagging, in random forests we build a number of decision trees in bootstrapped training samples.\n",
   "metadata": {
    "tags": [],
    "cell_id": "00091-92693949-fe85-4258-9eef-5e3c2b35466c",
    "deepnote_cell_type": "markdown"
   }
  },
  {
   "cell_type": "markdown",
   "source": "Decision Tree Parameters;\n\n-Splitter(default = 'best') ; Is the strategy used to choose a split at each node.'best' chooses the best split and 'random'chooses the best random split.\n\n-Max_depth(default = 'None') ; Refers to the maximum depth of the tree. If None, then nodes are expanded until all leaves are pure or until all leaves contain less than min_samples_split.\n\n-min_samples_split(default = 2) ; the minimum number of samples required to split an internal node.\n\n-min-samples_leaf(default = 1) ; The minimum number of samples required to be at a leaf node.\n\n-min_weight_fraction_leaf(dedault = 0.0) ; The minimum weighted fraction of the sum total of weights (of all the input samples) required to be at a leaf node. Samples have equal weight when sample_weight is not provided.\n\n-max_features(default = 'None') ; refers to the maximum number of features to be considered when looking for the BEST Split.\n\n-random_state(default = 'None') ; controls the randomness of an estimator. \n\n-min_impurity_decrease(default = 0.0) ; this parameter makes a node to be split if the split brings about a decrease of the impurity.\n\nccp_alpha(default = 0.0) ; Complexity parameter used for Minimal Cost-Complexity Pruning(an algorithm used to prune a tree to avoid over-fitting). The subtree with the largest cost complexity that is smaller than ccp_alpha will be chosen. By default, no pruning is performed. ",
   "metadata": {
    "tags": [],
    "cell_id": "00112-7a503385-6d4c-4f40-be71-72b7581e3d3b",
    "deepnote_cell_type": "markdown"
   }
  },
  {
   "cell_type": "markdown",
   "source": "Classification is a type of supervised machine learning problem where the target (response) variable is categorical.\n\nGiven the training data, which contains the known label, the classifier approximates a mapping function (f) from the input variables (X) to output variables (Y).",
   "metadata": {
    "tags": [],
    "cell_id": "00111-9c4611d4-ce59-4b23-ab43-e42a1b37ab4c",
    "deepnote_cell_type": "markdown"
   }
  },
  {
   "cell_type": "code",
   "metadata": {
    "tags": [],
    "cell_id": "00103-e36c74dd-bbdd-4600-86f6-3ed0aab9471f",
    "deepnote_to_be_reexecuted": false,
    "source_hash": "9013381f",
    "execution_start": 1635264972139,
    "execution_millis": 130,
    "deepnote_cell_type": "code"
   },
   "source": "from sklearn.tree import DecisionTreeRegressor\n\n\nclf = DecisionTreeRegressor(splitter='best', max_depth=400, min_samples_split=2, min_samples_leaf=1, min_weight_fraction_leaf=0.0, max_features=None, random_state=None, max_leaf_nodes=None, min_impurity_decrease=0.0, ccp_alpha=0.0)",
   "execution_count": 60,
   "outputs": []
  },
  {
   "cell_type": "markdown",
   "source": "Let's fit our model",
   "metadata": {
    "tags": [],
    "cell_id": "00127-4465e6b8-63e1-43d1-9bf8-f11d1f40af4b",
    "deepnote_cell_type": "markdown"
   }
  },
  {
   "cell_type": "code",
   "metadata": {
    "tags": [],
    "cell_id": "00110-066557a5-1cf9-4622-94d3-590d9022d446",
    "deepnote_to_be_reexecuted": false,
    "source_hash": "355c85c6",
    "execution_start": 1635264972269,
    "execution_millis": 47,
    "deepnote_cell_type": "code"
   },
   "source": "clf = clf.fit(X_train, y_train)\npred_val = clf.predict(X_val)",
   "execution_count": 61,
   "outputs": []
  },
  {
   "cell_type": "markdown",
   "source": "We will check the feature importnce and see how many featires are used in the model",
   "metadata": {
    "tags": [],
    "cell_id": "00129-8458571a-2862-442b-a88a-8e104b41e3ca",
    "deepnote_cell_type": "markdown"
   }
  },
  {
   "cell_type": "code",
   "metadata": {
    "tags": [],
    "cell_id": "00111-47e5b051-6eeb-41f3-8aba-449d0202132a",
    "deepnote_to_be_reexecuted": false,
    "source_hash": "a77cf9d0",
    "execution_start": 1635264972367,
    "execution_millis": 3,
    "deepnote_cell_type": "code"
   },
   "source": "#Feature importance\n\nfeatures = pd.DataFrame({\"feature\":train.drop([\"SalePrice\"], axis=1).columns, \"importance\": clf.feature_importances_})\nprint(f\"{len(features[features['importance'] != 0])} are used in the model\")",
   "execution_count": 62,
   "outputs": [
    {
     "name": "stdout",
     "text": "134 are used in the model\n",
     "output_type": "stream"
    }
   ]
  },
  {
   "cell_type": "code",
   "metadata": {
    "tags": [],
    "cell_id": "00131-6a4f87e1-8b96-43de-bb04-53fc31164835",
    "deepnote_to_be_reexecuted": false,
    "source_hash": "2679b6f9",
    "execution_start": 1635264972368,
    "execution_millis": 31,
    "deepnote_cell_type": "code"
   },
   "source": "features.sort_values(\"importance\", ascending=False)",
   "execution_count": 63,
   "outputs": [
    {
     "output_type": "execute_result",
     "execution_count": 63,
     "data": {
      "application/vnd.deepnote.dataframe.v2+json": {
       "row_count": 218,
       "column_count": 2,
       "columns": [
        {
         "name": "feature",
         "dtype": "object",
         "stats": {
          "unique_count": 218,
          "nan_count": 0,
          "categories": [
           {
            "name": "OverallQual",
            "count": 1
           },
           {
            "name": "TotalSF",
            "count": 1
           },
           {
            "name": "216 others",
            "count": 216
           }
          ]
         }
        },
        {
         "name": "importance",
         "dtype": "float64",
         "stats": {
          "unique_count": 134,
          "nan_count": 0,
          "min": "0.0",
          "max": "0.4898055713829315",
          "histogram": [
           {
            "bin_start": 0,
            "bin_end": 0.04898055713829315,
            "count": 216
           },
           {
            "bin_start": 0.04898055713829315,
            "bin_end": 0.0979611142765863,
            "count": 0
           },
           {
            "bin_start": 0.0979611142765863,
            "bin_end": 0.14694167141487946,
            "count": 0
           },
           {
            "bin_start": 0.14694167141487946,
            "bin_end": 0.1959222285531726,
            "count": 0
           },
           {
            "bin_start": 0.1959222285531726,
            "bin_end": 0.24490278569146573,
            "count": 0
           },
           {
            "bin_start": 0.24490278569146573,
            "bin_end": 0.2938833428297589,
            "count": 0
           },
           {
            "bin_start": 0.2938833428297589,
            "bin_end": 0.34286389996805205,
            "count": 1
           },
           {
            "bin_start": 0.34286389996805205,
            "bin_end": 0.3918444571063452,
            "count": 0
           },
           {
            "bin_start": 0.3918444571063452,
            "bin_end": 0.4408250142446383,
            "count": 0
           },
           {
            "bin_start": 0.4408250142446383,
            "bin_end": 0.4898055713829315,
            "count": 1
           }
          ]
         }
        },
        {
         "name": "_deepnote_index_column",
         "dtype": "int64"
        }
       ],
       "rows_top": [
        {
         "feature": "OverallQual",
         "importance": 0.4898055713829315,
         "_deepnote_index_column": 8
        },
        {
         "feature": "TotalSF",
         "importance": 0.3323793708588528,
         "_deepnote_index_column": 59
        },
        {
         "feature": "BsmtUnfSF",
         "importance": 0.014851150922295357,
         "_deepnote_index_column": 22
        },
        {
         "feature": "TotRmsAbvGrd",
         "importance": 0.012614536652287827,
         "_deepnote_index_column": 37
        },
        {
         "feature": "GarageCars",
         "importance": 0.011704200799929199,
         "_deepnote_index_column": 43
        },
        {
         "feature": "YearBuilt",
         "importance": 0.011505020072628443,
         "_deepnote_index_column": 10
        },
        {
         "feature": "GarageArea",
         "importance": 0.0091830289528235,
         "_deepnote_index_column": 44
        },
        {
         "feature": "YearRemodAdd",
         "importance": 0.008818909762924862,
         "_deepnote_index_column": 11
        },
        {
         "feature": "BsmtQual",
         "importance": 0.008595317303580664,
         "_deepnote_index_column": 15
        },
        {
         "feature": "BsmtFinSF1",
         "importance": 0.007957991773661575,
         "_deepnote_index_column": 19
        },
        {
         "feature": "2ndFlrSF",
         "importance": 0.007339261642569018,
         "_deepnote_index_column": 27
        },
        {
         "feature": "GrLivArea",
         "importance": 0.007261456661574978,
         "_deepnote_index_column": 29
        },
        {
         "feature": "LotArea",
         "importance": 0.00615054198054069,
         "_deepnote_index_column": 3
        },
        {
         "feature": "KitchenQual",
         "importance": 0.00486597644975454,
         "_deepnote_index_column": 36
        },
        {
         "feature": "YrSold",
         "importance": 0.004470967847885966,
         "_deepnote_index_column": 58
        },
        {
         "feature": "BedroomAbvGr",
         "importance": 0.004203315427189077,
         "_deepnote_index_column": 34
        },
        {
         "feature": "GarageYrBlt",
         "importance": 0.004090245974665258,
         "_deepnote_index_column": 41
        },
        {
         "feature": "Fireplaces",
         "importance": 0.003941334630661432,
         "_deepnote_index_column": 39
        },
        {
         "feature": "BsmtExposure",
         "importance": 0.003718294303995398,
         "_deepnote_index_column": 17
        },
        {
         "feature": "TotalBsmtSF",
         "importance": 0.0031606115019674943,
         "_deepnote_index_column": 23
        },
        {
         "feature": "OpenPorchSF",
         "importance": 0.0029173679900800775,
         "_deepnote_index_column": 49
        },
        {
         "feature": "WoodDeckSF",
         "importance": 0.00249680359785066,
         "_deepnote_index_column": 48
        },
        {
         "feature": "MSSubClass",
         "importance": 0.0023543965121768547,
         "_deepnote_index_column": 0
        },
        {
         "feature": "OverallCond",
         "importance": 0.0020539938729493687,
         "_deepnote_index_column": 9
        },
        {
         "feature": "CentralAir",
         "importance": 0.0019876087964840533,
         "_deepnote_index_column": 25
        },
        {
         "feature": "GarageType_Detchd",
         "importance": 0.001829930318832544,
         "_deepnote_index_column": 196
        },
        {
         "feature": "1stFlrSF",
         "importance": 0.0017804666518427444,
         "_deepnote_index_column": 26
        },
        {
         "feature": "LotFrontage",
         "importance": 0.0016166372731613937,
         "_deepnote_index_column": 2
        },
        {
         "feature": "MoSold",
         "importance": 0.001559754044306451,
         "_deepnote_index_column": 57
        },
        {
         "feature": "MasVnrType_BrkFace",
         "importance": 0.0014990782642283085,
         "_deepnote_index_column": 171
        },
        {
         "feature": "Exterior2nd_Wd Sdng",
         "importance": 0.0014521793638053884,
         "_deepnote_index_column": 168
        },
        {
         "feature": "KitchenAbvGr",
         "importance": 0.0013310099266874392,
         "_deepnote_index_column": 35
        },
        {
         "feature": "LotShape",
         "importance": 0.0011104881186376403,
         "_deepnote_index_column": 6
        },
        {
         "feature": "GarageFinish",
         "importance": 0.0010140110308984641,
         "_deepnote_index_column": 42
        },
        {
         "feature": "HalfBath",
         "importance": 0.000980826722921687,
         "_deepnote_index_column": 33
        },
        {
         "feature": "Neighborhood_Crawfor",
         "importance": 0.0009738693760414322,
         "_deepnote_index_column": 77
        },
        {
         "feature": "Exterior1st_BrkFace",
         "importance": 0.0009723558830632234,
         "_deepnote_index_column": 142
        },
        {
         "feature": "HeatingQC",
         "importance": 0.0009308925459321818,
         "_deepnote_index_column": 24
        },
        {
         "feature": "MasVnrArea",
         "importance": 0.0009262742967981069,
         "_deepnote_index_column": 12
        },
        {
         "feature": "EnclosedPorch",
         "importance": 0.0009014185340540584,
         "_deepnote_index_column": 50
        },
        {
         "feature": "BsmtFinType1",
         "importance": 0.0007276862123042575,
         "_deepnote_index_column": 18
        },
        {
         "feature": "RoofStyle_Hip",
         "importance": 0.0006984331315990231,
         "_deepnote_index_column": 129
        },
        {
         "feature": "ExterCond",
         "importance": 0.0006228448641407412,
         "_deepnote_index_column": 14
        },
        {
         "feature": "Functional",
         "importance": 0.0005903830106429613,
         "_deepnote_index_column": 38
        },
        {
         "feature": "FireplaceQu",
         "importance": 0.0005538954748670333,
         "_deepnote_index_column": 40
        },
        {
         "feature": "LandContour_HLS",
         "importance": 0.0004957472296003065,
         "_deepnote_index_column": 61
        },
        {
         "feature": "HouseStyle_1.5Fin",
         "importance": 0.0004902663500595751,
         "_deepnote_index_column": 118
        },
        {
         "feature": "BsmtFinType2",
         "importance": 0.00044836540301171796,
         "_deepnote_index_column": 20
        },
        {
         "feature": "Fence",
         "importance": 0.00042729602842888286,
         "_deepnote_index_column": 55
        },
        {
         "feature": "GarageType_Basment",
         "importance": 0.00034242994240972637,
         "_deepnote_index_column": 193
        },
        {
         "feature": "Alley",
         "importance": 0.0003318493288162958,
         "_deepnote_index_column": 5
        },
        {
         "feature": "LandSlope",
         "importance": 0.0003213189643356006,
         "_deepnote_index_column": 7
        },
        {
         "feature": "MSZoning",
         "importance": 0.0003168371481616977,
         "_deepnote_index_column": 1
        },
        {
         "feature": "Neighborhood_Sawyer",
         "importance": 0.0002719959853782204,
         "_deepnote_index_column": 90
        },
        {
         "feature": "Foundation_PConc",
         "importance": 0.00027165425740701256,
         "_deepnote_index_column": 176
        },
        {
         "feature": "SaleCondition_Normal",
         "importance": 0.000261584982140123,
         "_deepnote_index_column": 216
        },
        {
         "feature": "Neighborhood_Somerst",
         "importance": 0.0002548175152647453,
         "_deepnote_index_column": 92
        },
        {
         "feature": "Condition1_RRAe",
         "importance": 0.0002512551362081087,
         "_deepnote_index_column": 101
        },
        {
         "feature": "LotConfig_Inside",
         "importance": 0.0002484765142890408,
         "_deepnote_index_column": 70
        },
        {
         "feature": "Neighborhood_SWISU",
         "importance": 0.00024568557794029923,
         "_deepnote_index_column": 89
        },
        {
         "feature": "3SsnPorch",
         "importance": 0.0002396332181524647,
         "_deepnote_index_column": 51
        },
        {
         "feature": "HouseStyle_2Story",
         "importance": 0.0002282851755986884,
         "_deepnote_index_column": 123
        },
        {
         "feature": "Exterior1st_VinylSd",
         "importance": 0.00021740179358508086,
         "_deepnote_index_column": 151
        },
        {
         "feature": "BsmtFullBath",
         "importance": 0.0002048048234813027,
         "_deepnote_index_column": 30
        },
        {
         "feature": "ScreenPorch",
         "importance": 0.0001860486905383351,
         "_deepnote_index_column": 52
        },
        {
         "feature": "GarageType_Attchd",
         "importance": 0.00017999408774225432,
         "_deepnote_index_column": 192
        },
        {
         "feature": "MasVnrType_Stone",
         "importance": 0.0001730135344637012,
         "_deepnote_index_column": 173
        },
        {
         "feature": "ExterQual",
         "importance": 0.00015416716740923207,
         "_deepnote_index_column": 13
        },
        {
         "feature": "SaleType_WD",
         "importance": 0.0001519114687324411,
         "_deepnote_index_column": 211
        },
        {
         "feature": "Electrical_FuseA",
         "importance": 0.00014884662282432123,
         "_deepnote_index_column": 186
        },
        {
         "feature": "BldgType_1Fam",
         "importance": 0.00014680134620645338,
         "_deepnote_index_column": 113
        },
        {
         "feature": "SaleType_New",
         "importance": 0.00014534605234820116,
         "_deepnote_index_column": 209
        },
        {
         "feature": "LotConfig_Corner",
         "importance": 0.000136989465257052,
         "_deepnote_index_column": 66
        },
        {
         "feature": "Exterior1st_MetalSd",
         "importance": 0.00012788372989169344,
         "_deepnote_index_column": 147
        },
        {
         "feature": "SaleCondition_Abnorml",
         "importance": 0.00012239174578586708,
         "_deepnote_index_column": 212
        },
        {
         "feature": "Foundation_CBlock",
         "importance": 0.00011733640500743013,
         "_deepnote_index_column": 175
        },
        {
         "feature": "PavedDrive",
         "importance": 0.00011306307304119757,
         "_deepnote_index_column": 47
        },
        {
         "feature": "FullBath",
         "importance": 0.000093056543665252,
         "_deepnote_index_column": 32
        },
        {
         "feature": "GarageType_BuiltIn",
         "importance": 0.00009125398573897442,
         "_deepnote_index_column": 194
        },
        {
         "feature": "LandContour_Lvl",
         "importance": 0.0000891066769517571,
         "_deepnote_index_column": 63
        },
        {
         "feature": "Electrical_SBrkr",
         "importance": 0.00008769689200416478,
         "_deepnote_index_column": 190
        },
        {
         "feature": "BsmtFinSF2",
         "importance": 0.00008332535615887718,
         "_deepnote_index_column": 21
        },
        {
         "feature": "Exterior2nd_Plywood",
         "importance": 0.0000825904424225305,
         "_deepnote_index_column": 164
        },
        {
         "feature": "Exterior2nd_VinylSd",
         "importance": 0.00007691961939959508,
         "_deepnote_index_column": 167
        },
        {
         "feature": "Exterior1st_Wd Sdng",
         "importance": 0.0000641270964885491,
         "_deepnote_index_column": 152
        },
        {
         "feature": "Neighborhood_CollgCr",
         "importance": 0.00006224569316274365,
         "_deepnote_index_column": 76
        },
        {
         "feature": "Exterior1st_HdBoard",
         "importance": 0.00006040055606594982,
         "_deepnote_index_column": 145
        },
        {
         "feature": "Exterior1st_CemntBd",
         "importance": 0.000060365498644098433,
         "_deepnote_index_column": 144
        },
        {
         "feature": "Foundation_BrkTil",
         "importance": 0.00005861229241853973,
         "_deepnote_index_column": 174
        },
        {
         "feature": "Condition1_Feedr",
         "importance": 0.00005509365422411365,
         "_deepnote_index_column": 97
        },
        {
         "feature": "GarageQual",
         "importance": 0.00005489519989962789,
         "_deepnote_index_column": 45
        },
        {
         "feature": "Exterior2nd_Stucco",
         "importance": 0.00005341232524757435,
         "_deepnote_index_column": 166
        },
        {
         "feature": "Neighborhood_IDOTRR",
         "importance": 0.00004975673723139923,
         "_deepnote_index_column": 80
        },
        {
         "feature": "SaleType_ConLw",
         "importance": 0.00004640683528658764,
         "_deepnote_index_column": 208
        },
        {
         "feature": "HouseStyle_SLvl",
         "importance": 0.00004012646125026102,
         "_deepnote_index_column": 125
        },
        {
         "feature": "Exterior2nd_Wd Shng",
         "importance": 0.000037459757063816986,
         "_deepnote_index_column": 169
        },
        {
         "feature": "HouseStyle_SFoyer",
         "importance": 0.000034748868477496265,
         "_deepnote_index_column": 124
        },
        {
         "feature": "Exterior2nd_MetalSd",
         "importance": 0.00003383856149573399,
         "_deepnote_index_column": 162
        },
        {
         "feature": "Condition1_Norm",
         "importance": 0.000033453730534575595,
         "_deepnote_index_column": 98
        },
        {
         "feature": "GarageType_CarPort",
         "importance": 0.000033379155325298935,
         "_deepnote_index_column": 195
        },
        {
         "feature": "LandContour_Low",
         "importance": 0.000031488805202284556,
         "_deepnote_index_column": 62
        },
        {
         "feature": "MiscFeature_Shed",
         "importance": 0.00003127185291946663,
         "_deepnote_index_column": 201
        },
        {
         "feature": "Neighborhood_Gilbert",
         "importance": 0.000030467130755652526,
         "_deepnote_index_column": 79
        },
        {
         "feature": "RoofStyle_Gable",
         "importance": 0.000027984175639226513,
         "_deepnote_index_column": 127
        },
        {
         "feature": "Neighborhood_Edwards",
         "importance": 0.000027226150825793837,
         "_deepnote_index_column": 78
        },
        {
         "feature": "SaleCondition_Partial",
         "importance": 0.000023608678350526052,
         "_deepnote_index_column": 217
        },
        {
         "feature": "BsmtCond",
         "importance": 0.00002302123473124835,
         "_deepnote_index_column": 16
        },
        {
         "feature": "BldgType_TwnhsE",
         "importance": 0.000022141335923175236,
         "_deepnote_index_column": 117
        },
        {
         "feature": "BldgType_2fmCon",
         "importance": 0.00002141829133373305,
         "_deepnote_index_column": 114
        },
        {
         "feature": "LandContour_Bnk",
         "importance": 0.000016089842798396544,
         "_deepnote_index_column": 60
        },
        {
         "feature": "BsmtHalfBath",
         "importance": 0.00001588105674016122,
         "_deepnote_index_column": 31
        },
        {
         "feature": "Exterior2nd_HdBoard",
         "importance": 0.0000120814376750923,
         "_deepnote_index_column": 160
        },
        {
         "feature": "Exterior1st_Plywood",
         "importance": 0.000009809384422128667,
         "_deepnote_index_column": 148
        },
        {
         "feature": "MiscVal",
         "importance": 0.00000948512977039719,
         "_deepnote_index_column": 56
        },
        {
         "feature": "Neighborhood_NWAmes",
         "importance": 0.000009192683712830752,
         "_deepnote_index_column": 85
        },
        {
         "feature": "Neighborhood_OldTown",
         "importance": 0.000007602954134400993,
         "_deepnote_index_column": 88
        },
        {
         "feature": "HouseStyle_1Story",
         "importance": 0.0000068788376380902425,
         "_deepnote_index_column": 120
        },
        {
         "feature": "Condition2_Norm",
         "importance": 0.000006060198458453402,
         "_deepnote_index_column": 107
        },
        {
         "feature": "MasVnrType_None",
         "importance": 0.0000028636919690267148,
         "_deepnote_index_column": 172
        },
        {
         "feature": "Condition1_Artery",
         "importance": 0.000002136265940819132,
         "_deepnote_index_column": 96
        },
        {
         "feature": "MiscFeature_None",
         "importance": 0.0000014532421366113078,
         "_deepnote_index_column": 199
        },
        {
         "feature": "Exterior1st_AsbShng",
         "importance": 0.000001449611301959058,
         "_deepnote_index_column": 139
        },
        {
         "feature": "GarageType_None",
         "importance": 0.0000012261730527660834,
         "_deepnote_index_column": 197
        },
        {
         "feature": "SaleType_COD",
         "importance": 0.0000011807592359968824,
         "_deepnote_index_column": 203
        },
        {
         "feature": "BldgType_Twnhs",
         "importance": 0.000001112638510843471,
         "_deepnote_index_column": 116
        },
        {
         "feature": "Neighborhood_NoRidge",
         "importance": 6.130865263830417e-7,
         "_deepnote_index_column": 86
        },
        {
         "feature": "Exterior1st_Stucco",
         "importance": 2.7248290061468514e-7,
         "_deepnote_index_column": 150
        },
        {
         "feature": "SaleCondition_Alloca",
         "importance": 1.8839256574251358e-7,
         "_deepnote_index_column": 214
        },
        {
         "feature": "Exterior1st_WdShing",
         "importance": 1.3968999389752204e-7,
         "_deepnote_index_column": 153
        },
        {
         "feature": "Condition2_RRNn",
         "importance": 6.812072515367128e-8,
         "_deepnote_index_column": 112
        },
        {
         "feature": "Neighborhood_NridgHt",
         "importance": 6.812072515367128e-8,
         "_deepnote_index_column": 87
        },
        {
         "feature": "Neighborhood_NAmes",
         "importance": 3.406036257683564e-8,
         "_deepnote_index_column": 83
        },
        {
         "feature": "Neighborhood_Timber",
         "importance": 2.3821136378987315e-9,
         "_deepnote_index_column": 94
        },
        {
         "feature": "Exterior1st_AsphShn",
         "importance": 6.812072515367129e-10,
         "_deepnote_index_column": 140
        },
        {
         "feature": "Heating_Grav",
         "importance": 0,
         "_deepnote_index_column": 183
        },
        {
         "feature": "Heating_OthW",
         "importance": 0,
         "_deepnote_index_column": 184
        },
        {
         "feature": "Heating_GasW",
         "importance": 0,
         "_deepnote_index_column": 182
        },
        {
         "feature": "Heating_Wall",
         "importance": 0,
         "_deepnote_index_column": 185
        },
        {
         "feature": "SaleType_Oth",
         "importance": 0,
         "_deepnote_index_column": 210
        },
        {
         "feature": "Heating_GasA",
         "importance": 0,
         "_deepnote_index_column": 181
        },
        {
         "feature": "Heating_Floor",
         "importance": 0,
         "_deepnote_index_column": 180
        },
        {
         "feature": "Foundation_Wood",
         "importance": 0,
         "_deepnote_index_column": 179
        },
        {
         "feature": "Street",
         "importance": 0,
         "_deepnote_index_column": 4
        },
        {
         "feature": "Foundation_Stone",
         "importance": 0,
         "_deepnote_index_column": 178
        },
        {
         "feature": "Foundation_Slab",
         "importance": 0,
         "_deepnote_index_column": 177
        },
        {
         "feature": "LotConfig_FR3",
         "importance": 0,
         "_deepnote_index_column": 69
        },
        {
         "feature": "Neighborhood_Blmngtn",
         "importance": 0,
         "_deepnote_index_column": 71
        },
        {
         "feature": "Neighborhood_Blueste",
         "importance": 0,
         "_deepnote_index_column": 72
        },
        {
         "feature": "Neighborhood_BrDale",
         "importance": 0,
         "_deepnote_index_column": 73
        },
        {
         "feature": "SaleCondition_Family",
         "importance": 0,
         "_deepnote_index_column": 215
        },
        {
         "feature": "Electrical_FuseP",
         "importance": 0,
         "_deepnote_index_column": 188
        },
        {
         "feature": "LotConfig_FR2",
         "importance": 0,
         "_deepnote_index_column": 68
        },
        {
         "feature": "SaleCondition_AdjLand",
         "importance": 0,
         "_deepnote_index_column": 213
        },
        {
         "feature": "GarageCond",
         "importance": 0,
         "_deepnote_index_column": 46
        },
        {
         "feature": "SaleType_ConLI",
         "importance": 0,
         "_deepnote_index_column": 207
        },
        {
         "feature": "SaleType_ConLD",
         "importance": 0,
         "_deepnote_index_column": 206
        },
        {
         "feature": "SaleType_Con",
         "importance": 0,
         "_deepnote_index_column": 205
        },
        {
         "feature": "SaleType_CWD",
         "importance": 0,
         "_deepnote_index_column": 204
        },
        {
         "feature": "MiscFeature_TenC",
         "importance": 0,
         "_deepnote_index_column": 202
        },
        {
         "feature": "PoolArea",
         "importance": 0,
         "_deepnote_index_column": 53
        },
        {
         "feature": "MiscFeature_Othr",
         "importance": 0,
         "_deepnote_index_column": 200
        },
        {
         "feature": "MiscFeature_Gar2",
         "importance": 0,
         "_deepnote_index_column": 198
        },
        {
         "feature": "PoolQC",
         "importance": 0,
         "_deepnote_index_column": 54
        },
        {
         "feature": "LowQualFinSF",
         "importance": 0,
         "_deepnote_index_column": 28
        },
        {
         "feature": "Utilities_AllPub",
         "importance": 0,
         "_deepnote_index_column": 64
        },
        {
         "feature": "Neighborhood_BrkSide",
         "importance": 0,
         "_deepnote_index_column": 74
        },
        {
         "feature": "GarageType_2Types",
         "importance": 0,
         "_deepnote_index_column": 191
        },
        {
         "feature": "LotConfig_CulDSac",
         "importance": 0,
         "_deepnote_index_column": 67
        },
        {
         "feature": "Electrical_Mix",
         "importance": 0,
         "_deepnote_index_column": 189
        },
        {
         "feature": "Electrical_FuseF",
         "importance": 0,
         "_deepnote_index_column": 187
        },
        {
         "feature": "Utilities_NoSeWa",
         "importance": 0,
         "_deepnote_index_column": 65
        },
        {
         "feature": "Condition2_Feedr",
         "importance": 0,
         "_deepnote_index_column": 106
        },
        {
         "feature": "MasVnrType_BrkCmn",
         "importance": 0,
         "_deepnote_index_column": 170
        },
        {
         "feature": "Condition1_RRAn",
         "importance": 0,
         "_deepnote_index_column": 102
        },
        {
         "feature": "RoofMatl_Membran",
         "importance": 0,
         "_deepnote_index_column": 133
        },
        {
         "feature": "RoofMatl_CompShg",
         "importance": 0,
         "_deepnote_index_column": 132
        },
        {
         "feature": "RoofStyle_Shed",
         "importance": 0,
         "_deepnote_index_column": 131
        },
        {
         "feature": "RoofStyle_Mansard",
         "importance": 0,
         "_deepnote_index_column": 130
        },
        {
         "feature": "Neighborhood_Veenker",
         "importance": 0,
         "_deepnote_index_column": 95
        },
        {
         "feature": "RoofStyle_Gambrel",
         "importance": 0,
         "_deepnote_index_column": 128
        },
        {
         "feature": "RoofStyle_Flat",
         "importance": 0,
         "_deepnote_index_column": 126
        },
        {
         "feature": "Condition1_PosA",
         "importance": 0,
         "_deepnote_index_column": 99
        },
        {
         "feature": "Condition1_PosN",
         "importance": 0,
         "_deepnote_index_column": 100
        },
        {
         "feature": "HouseStyle_2.5Unf",
         "importance": 0,
         "_deepnote_index_column": 122
        },
        {
         "feature": "Neighborhood_ClearCr",
         "importance": 0,
         "_deepnote_index_column": 75
        },
        {
         "feature": "HouseStyle_2.5Fin",
         "importance": 0,
         "_deepnote_index_column": 121
        },
        {
         "feature": "HouseStyle_1.5Unf",
         "importance": 0,
         "_deepnote_index_column": 119
        },
        {
         "feature": "Condition1_RRNe",
         "importance": 0,
         "_deepnote_index_column": 103
        },
        {
         "feature": "BldgType_Duplex",
         "importance": 0,
         "_deepnote_index_column": 115
        },
        {
         "feature": "Condition1_RRNn",
         "importance": 0,
         "_deepnote_index_column": 104
        },
        {
         "feature": "Condition2_RRAn",
         "importance": 0,
         "_deepnote_index_column": 111
        },
        {
         "feature": "Condition2_RRAe",
         "importance": 0,
         "_deepnote_index_column": 110
        },
        {
         "feature": "Condition2_Artery",
         "importance": 0,
         "_deepnote_index_column": 105
        },
        {
         "feature": "Condition2_PosA",
         "importance": 0,
         "_deepnote_index_column": 108
        },
        {
         "feature": "RoofMatl_Metal",
         "importance": 0,
         "_deepnote_index_column": 134
        },
        {
         "feature": "RoofMatl_Roll",
         "importance": 0,
         "_deepnote_index_column": 135
        },
        {
         "feature": "RoofMatl_Tar&Grv",
         "importance": 0,
         "_deepnote_index_column": 136
        },
        {
         "feature": "RoofMatl_WdShake",
         "importance": 0,
         "_deepnote_index_column": 137
        },
        {
         "feature": "Neighborhood_MeadowV",
         "importance": 0,
         "_deepnote_index_column": 81
        },
        {
         "feature": "Neighborhood_Mitchel",
         "importance": 0,
         "_deepnote_index_column": 82
        },
        {
         "feature": "Exterior2nd_Stone",
         "importance": 0,
         "_deepnote_index_column": 165
        },
        {
         "feature": "Neighborhood_NPkVill",
         "importance": 0,
         "_deepnote_index_column": 84
        },
        {
         "feature": "Exterior2nd_Other",
         "importance": 0,
         "_deepnote_index_column": 163
        },
        {
         "feature": "Exterior2nd_ImStucc",
         "importance": 0,
         "_deepnote_index_column": 161
        },
        {
         "feature": "Exterior2nd_CmentBd",
         "importance": 0,
         "_deepnote_index_column": 159
        },
        {
         "feature": "Exterior2nd_CBlock",
         "importance": 0,
         "_deepnote_index_column": 158
        },
        {
         "feature": "Exterior2nd_BrkFace",
         "importance": 0,
         "_deepnote_index_column": 157
        },
        {
         "feature": "Exterior2nd_Brk Cmn",
         "importance": 0,
         "_deepnote_index_column": 156
        },
        {
         "feature": "Exterior2nd_AsphShn",
         "importance": 0,
         "_deepnote_index_column": 155
        },
        {
         "feature": "Exterior2nd_AsbShng",
         "importance": 0,
         "_deepnote_index_column": 154
        },
        {
         "feature": "Exterior1st_Stone",
         "importance": 0,
         "_deepnote_index_column": 149
        },
        {
         "feature": "Exterior1st_ImStucc",
         "importance": 0,
         "_deepnote_index_column": 146
        },
        {
         "feature": "Neighborhood_SawyerW",
         "importance": 0,
         "_deepnote_index_column": 91
        },
        {
         "feature": "Neighborhood_StoneBr",
         "importance": 0,
         "_deepnote_index_column": 93
        },
        {
         "feature": "Exterior1st_CBlock",
         "importance": 0,
         "_deepnote_index_column": 143
        },
        {
         "feature": "Exterior1st_BrkComm",
         "importance": 0,
         "_deepnote_index_column": 141
        },
        {
         "feature": "RoofMatl_WdShngl",
         "importance": 0,
         "_deepnote_index_column": 138
        },
        {
         "feature": "Condition2_PosN",
         "importance": 0,
         "_deepnote_index_column": 109
        }
       ],
       "rows_bottom": null
      },
      "text/plain": "                  feature  importance\n8             OverallQual    0.489806\n59                TotalSF    0.332379\n22              BsmtUnfSF    0.014851\n37           TotRmsAbvGrd    0.012615\n43             GarageCars    0.011704\n..                    ...         ...\n93   Neighborhood_StoneBr    0.000000\n143    Exterior1st_CBlock    0.000000\n141   Exterior1st_BrkComm    0.000000\n138      RoofMatl_WdShngl    0.000000\n109       Condition2_PosN    0.000000\n\n[218 rows x 2 columns]",
      "text/html": "<div>\n<style scoped>\n    .dataframe tbody tr th:only-of-type {\n        vertical-align: middle;\n    }\n\n    .dataframe tbody tr th {\n        vertical-align: top;\n    }\n\n    .dataframe thead th {\n        text-align: right;\n    }\n</style>\n<table border=\"1\" class=\"dataframe\">\n  <thead>\n    <tr style=\"text-align: right;\">\n      <th></th>\n      <th>feature</th>\n      <th>importance</th>\n    </tr>\n  </thead>\n  <tbody>\n    <tr>\n      <th>8</th>\n      <td>OverallQual</td>\n      <td>0.489806</td>\n    </tr>\n    <tr>\n      <th>59</th>\n      <td>TotalSF</td>\n      <td>0.332379</td>\n    </tr>\n    <tr>\n      <th>22</th>\n      <td>BsmtUnfSF</td>\n      <td>0.014851</td>\n    </tr>\n    <tr>\n      <th>37</th>\n      <td>TotRmsAbvGrd</td>\n      <td>0.012615</td>\n    </tr>\n    <tr>\n      <th>43</th>\n      <td>GarageCars</td>\n      <td>0.011704</td>\n    </tr>\n    <tr>\n      <th>...</th>\n      <td>...</td>\n      <td>...</td>\n    </tr>\n    <tr>\n      <th>93</th>\n      <td>Neighborhood_StoneBr</td>\n      <td>0.000000</td>\n    </tr>\n    <tr>\n      <th>143</th>\n      <td>Exterior1st_CBlock</td>\n      <td>0.000000</td>\n    </tr>\n    <tr>\n      <th>141</th>\n      <td>Exterior1st_BrkComm</td>\n      <td>0.000000</td>\n    </tr>\n    <tr>\n      <th>138</th>\n      <td>RoofMatl_WdShngl</td>\n      <td>0.000000</td>\n    </tr>\n    <tr>\n      <th>109</th>\n      <td>Condition2_PosN</td>\n      <td>0.000000</td>\n    </tr>\n  </tbody>\n</table>\n<p>218 rows × 2 columns</p>\n</div>"
     },
     "metadata": {}
    }
   ]
  },
  {
   "cell_type": "markdown",
   "source": "We will evaluate our model perfomance by calculating the errors and r2_score of the model",
   "metadata": {
    "tags": [],
    "cell_id": "00131-a0d2e47f-c92c-487e-9609-2685473ca681",
    "deepnote_cell_type": "markdown"
   }
  },
  {
   "cell_type": "code",
   "metadata": {
    "tags": [],
    "cell_id": "00129-59d6f103-8d19-4b4e-9014-57c177c15c8e",
    "deepnote_to_be_reexecuted": false,
    "source_hash": "8fe8678",
    "execution_start": 1635264972402,
    "execution_millis": 6,
    "deepnote_cell_type": "code"
   },
   "source": "from sklearn.metrics import mean_squared_error\nprint(f\"Mean Squared Error in Decision Tree Regressor is {mean_squared_error(y_val, pred_val)}\")",
   "execution_count": 64,
   "outputs": [
    {
     "name": "stdout",
     "text": "Mean Squared Error in Decision Tree Regressor is 1022058207.0445205\n",
     "output_type": "stream"
    }
   ]
  },
  {
   "cell_type": "code",
   "metadata": {
    "tags": [],
    "cell_id": "00112-dace75ab-ab83-41e8-8436-e9318b55abaa",
    "deepnote_to_be_reexecuted": false,
    "source_hash": "16adb88f",
    "execution_start": 1635264972454,
    "execution_millis": 4,
    "deepnote_cell_type": "code"
   },
   "source": "print(f\"Maximum error in Decison Tree Regression is {max_error(y_val, pred_val)}\")",
   "execution_count": 65,
   "outputs": [
    {
     "name": "stdout",
     "text": "Maximum error in Decison Tree Regression is 238750.0\n",
     "output_type": "stream"
    }
   ]
  },
  {
   "cell_type": "markdown",
   "source": "r2_score\n\n-It is the Coefficient of determination , used to evaluate the performance of a model.\n\nBest score is 1.0 and least could be 0.",
   "metadata": {
    "tags": [],
    "cell_id": "00115-7d814108-a061-4c34-9d7c-7220010f9411",
    "deepnote_cell_type": "markdown"
   }
  },
  {
   "cell_type": "code",
   "metadata": {
    "tags": [],
    "cell_id": "00114-4bf24ea3-5664-42a8-8bad-d8f509e0e695",
    "deepnote_to_be_reexecuted": false,
    "source_hash": "1be3be16",
    "execution_start": 1635264972454,
    "execution_millis": 4,
    "deepnote_cell_type": "code"
   },
   "source": "from sklearn.metrics import r2_score\n\nr2_score(y_val, pred_val)",
   "execution_count": 66,
   "outputs": [
    {
     "output_type": "execute_result",
     "execution_count": 66,
     "data": {
      "text/plain": "0.8386490379072654"
     },
     "metadata": {}
    }
   ]
  },
  {
   "cell_type": "markdown",
   "source": "A score of 0.863... indicates there is some good perfomance in the model as it is closer to 1.0, the best score.",
   "metadata": {
    "tags": [],
    "cell_id": "00119-c14b9ee8-d1d6-4d0d-aaf1-7fa37186d69c",
    "deepnote_cell_type": "markdown"
   }
  },
  {
   "cell_type": "markdown",
   "source": "### XGBoost",
   "metadata": {
    "tags": [],
    "cell_id": "00092-98cac535-76cd-4fe1-ac26-af0063866f7a",
    "is_collapsed": false,
    "deepnote_cell_type": "text-cell-h3"
   }
  },
  {
   "cell_type": "markdown",
   "source": "XGBoost is a short term for Extreme Gradient Boost. \n\nThe values in each leaf are the residuals. That is, the difference between the prediction and the actual value of the independent variable, and not the sample of the dependent variable.\n\nGain is the improvement in accuracy brought about by the split. The split that is done by linear scanning.\n\nAfter calculating the gain, the optimal threshold is the threshold with maximum gain.\n\nNote: When the gain is negative, it implies that the split does not yield better results than would otherwise have been the case had we left the tree as it was.\n\nAdvantages and Disadvantages.\n\n    - Great for supervised learning\n\n    - Difficult to interpret the results.",
   "metadata": {
    "tags": [],
    "cell_id": "00093-fa2e8f3a-29e7-4c23-98c5-13587c19c098",
    "deepnote_cell_type": "markdown"
   }
  },
  {
   "cell_type": "code",
   "metadata": {
    "tags": [],
    "cell_id": "00135-c5a1771e-d524-4ecd-8a10-bb57ab84eae6",
    "deepnote_to_be_reexecuted": false,
    "source_hash": "41e69d0b",
    "execution_start": 1635264972455,
    "execution_millis": 17350,
    "deepnote_cell_type": "code"
   },
   "source": "!pip install xgboost==1.5.0",
   "execution_count": 67,
   "outputs": [
    {
     "name": "stdout",
     "text": "Collecting xgboost==1.5.0\n  Downloading xgboost-1.5.0-py3-none-manylinux2014_x86_64.whl (173.5 MB)\n\u001b[K     |████████████████████████████████| 173.5 MB 63 kB/s \n\u001b[?25hRequirement already satisfied: scipy in /shared-libs/python3.7/py/lib/python3.7/site-packages (from xgboost==1.5.0) (1.7.1)\nRequirement already satisfied: numpy in /shared-libs/python3.7/py/lib/python3.7/site-packages (from xgboost==1.5.0) (1.19.5)\nInstalling collected packages: xgboost\nSuccessfully installed xgboost-1.5.0\n\u001b[33mWARNING: You are using pip version 21.2.4; however, version 21.3.1 is available.\nYou should consider upgrading via the '/root/venv/bin/python -m pip install --upgrade pip' command.\u001b[0m\n",
     "output_type": "stream"
    }
   ]
  },
  {
   "cell_type": "code",
   "metadata": {
    "tags": [],
    "cell_id": "00135-7aab8cf8-71f9-414c-af08-5ad3304407a4",
    "deepnote_to_be_reexecuted": false,
    "source_hash": "d9be3dde",
    "execution_start": 1635264989821,
    "execution_millis": 997,
    "deepnote_cell_type": "code"
   },
   "source": "import pandas as pd\nimport xgboost as xgb\nfrom sklearn.datasets import load_boston\nfrom sklearn.model_selection import train_test_split\nfrom sklearn.metrics import mean_squared_error",
   "execution_count": 68,
   "outputs": []
  },
  {
   "cell_type": "markdown",
   "source": "Now we will intialize an instance of XGBRegressor Class. \n\nWe will also choose the number of estimators, maximum depth, as well as the values of lambda and gamma",
   "metadata": {
    "tags": [],
    "cell_id": "00137-1cacca6a-3553-4985-96c5-743c85e402bb",
    "deepnote_cell_type": "markdown"
   }
  },
  {
   "cell_type": "code",
   "metadata": {
    "tags": [],
    "cell_id": "00138-fb66e2a4-0863-436b-ae62-6e7ae0136aea",
    "deepnote_to_be_reexecuted": false,
    "source_hash": "d64d7dae",
    "execution_start": 1635264990828,
    "execution_millis": 10,
    "deepnote_cell_type": "code"
   },
   "source": "xgb_model = xgb.XGBRegressor(\n    n_estimators=100,\n    reg_lambda=1,\n    gamma=0,\n    max_depth=3\n)",
   "execution_count": 69,
   "outputs": []
  },
  {
   "cell_type": "markdown",
   "source": "XGBoost has a few parameters that can dramatically affect the model's accuracy and training speed\n\nn_estimators: specifies how many times to go through the modeling cycle.\n\n    Too low a value causes underfitting, which is inaccurate predictions on both training data and new data. Too large a value causes overfitting, which is accurate predictions on training data, but inaccurate predictions on new data (which is what we care about). Typical values range from 100-1000.",
   "metadata": {
    "tags": [],
    "cell_id": "00140-af60b294-08ed-4b6c-a1df-bad65a550e51",
    "deepnote_cell_type": "markdown"
   }
  },
  {
   "cell_type": "markdown",
   "source": "Then we build and fit a model just like we did with Lasso and Ridge",
   "metadata": {
    "tags": [],
    "cell_id": "00139-1377c68a-3929-4add-9f95-498e9fba577d",
    "deepnote_cell_type": "markdown"
   }
  },
  {
   "cell_type": "code",
   "metadata": {
    "tags": [],
    "cell_id": "00139-06883c60-a702-4c28-9350-307e66c020ab",
    "deepnote_to_be_reexecuted": false,
    "source_hash": "b1ddd3e",
    "execution_start": 1635264990844,
    "execution_millis": 1231,
    "deepnote_cell_type": "code"
   },
   "source": "xgb_model.fit(X_train, y_train)",
   "execution_count": 70,
   "outputs": [
    {
     "output_type": "execute_result",
     "execution_count": 70,
     "data": {
      "text/plain": "XGBRegressor(base_score=0.5, booster='gbtree', colsample_bylevel=1,\n             colsample_bynode=1, colsample_bytree=1, enable_categorical=False,\n             gamma=0, gpu_id=-1, importance_type=None,\n             interaction_constraints='', learning_rate=0.300000012,\n             max_delta_step=0, max_depth=3, min_child_weight=1, missing=nan,\n             monotone_constraints='()', n_estimators=100, n_jobs=2,\n             num_parallel_tree=1, predictor='auto', random_state=0, reg_alpha=0,\n             reg_lambda=1, scale_pos_weight=1, subsample=1, tree_method='exact',\n             validate_parameters=1, verbosity=None)"
     },
     "metadata": {}
    }
   ]
  },
  {
   "cell_type": "markdown",
   "source": "Let's check the relative importance attributed to each feature, in determining the price of the house.",
   "metadata": {
    "tags": [],
    "cell_id": "00141-d0dd05fb-57e9-4e57-a68c-28366f8831c6",
    "deepnote_cell_type": "markdown"
   }
  },
  {
   "cell_type": "code",
   "metadata": {
    "tags": [],
    "cell_id": "00142-b597b636-400a-42c0-a5a9-6b0b1e1b7829",
    "deepnote_to_be_reexecuted": false,
    "source_hash": "9d3082b9",
    "execution_start": 1635264991998,
    "execution_millis": 80,
    "deepnote_cell_type": "code"
   },
   "source": "#Feature Importance\n\nfeatures = pd.DataFrame({\"feature\":train.drop([\"SalePrice\"], axis=1).columns, \"importance\": xgb_model.feature_importances_})\nprint(f\"{len(features[features['importance'] != 0])} are used in the model\")\n",
   "execution_count": 71,
   "outputs": [
    {
     "name": "stdout",
     "text": "100 are used in the model\n",
     "output_type": "stream"
    }
   ]
  },
  {
   "cell_type": "markdown",
   "source": "This model however uses way less features compared to Lasso and Ridge. It is important to tweek the attributes and see how it can be improved",
   "metadata": {
    "tags": [],
    "cell_id": "00143-d21d7912-cd3e-4fde-9d2c-694b1e748722",
    "deepnote_cell_type": "markdown"
   }
  },
  {
   "cell_type": "code",
   "metadata": {
    "tags": [],
    "cell_id": "00144-cfd11d4b-7b97-4d64-981d-8a95c89ef398",
    "deepnote_to_be_reexecuted": false,
    "source_hash": "2679b6f9",
    "execution_start": 1635264992009,
    "execution_millis": 70,
    "deepnote_cell_type": "code"
   },
   "source": "features.sort_values(\"importance\", ascending=False)",
   "execution_count": 72,
   "outputs": [
    {
     "output_type": "execute_result",
     "execution_count": 72,
     "data": {
      "application/vnd.deepnote.dataframe.v2+json": {
       "row_count": 218,
       "column_count": 2,
       "columns": [
        {
         "name": "feature",
         "dtype": "object",
         "stats": {
          "unique_count": 218,
          "nan_count": 0,
          "categories": [
           {
            "name": "OverallQual",
            "count": 1
           },
           {
            "name": "TotalSF",
            "count": 1
           },
           {
            "name": "216 others",
            "count": 216
           }
          ]
         }
        },
        {
         "name": "importance",
         "dtype": "float32",
         "stats": {
          "unique_count": 101,
          "nan_count": 0,
          "min": "0.0",
          "max": "0.253259539604187",
          "histogram": [
           {
            "bin_start": 0,
            "bin_end": 0.0253259539604187,
            "count": 212
           },
           {
            "bin_start": 0.0253259539604187,
            "bin_end": 0.0506519079208374,
            "count": 3
           },
           {
            "bin_start": 0.0506519079208374,
            "bin_end": 0.0759778618812561,
            "count": 1
           },
           {
            "bin_start": 0.0759778618812561,
            "bin_end": 0.1013038158416748,
            "count": 0
           },
           {
            "bin_start": 0.1013038158416748,
            "bin_end": 0.1266297698020935,
            "count": 0
           },
           {
            "bin_start": 0.1266297698020935,
            "bin_end": 0.1519557237625122,
            "count": 0
           },
           {
            "bin_start": 0.1519557237625122,
            "bin_end": 0.1772816777229309,
            "count": 0
           },
           {
            "bin_start": 0.1772816777229309,
            "bin_end": 0.2026076316833496,
            "count": 0
           },
           {
            "bin_start": 0.2026076316833496,
            "bin_end": 0.2279335856437683,
            "count": 0
           },
           {
            "bin_start": 0.2279335856437683,
            "bin_end": 0.253259539604187,
            "count": 2
           }
          ]
         }
        },
        {
         "name": "_deepnote_index_column",
         "dtype": "int64"
        }
       ],
       "rows_top": [
        {
         "feature": "OverallQual",
         "importance": 0.253259539604187,
         "_deepnote_index_column": 8
        },
        {
         "feature": "TotalSF",
         "importance": 0.23903575539588928,
         "_deepnote_index_column": 59
        },
        {
         "feature": "KitchenAbvGr",
         "importance": 0.06974708288908005,
         "_deepnote_index_column": 35
        },
        {
         "feature": "GarageCars",
         "importance": 0.04992472752928734,
         "_deepnote_index_column": 43
        },
        {
         "feature": "KitchenQual",
         "importance": 0.042200490832328796,
         "_deepnote_index_column": 36
        },
        {
         "feature": "CentralAir",
         "importance": 0.025953935459256172,
         "_deepnote_index_column": 25
        },
        {
         "feature": "2ndFlrSF",
         "importance": 0.02504475601017475,
         "_deepnote_index_column": 27
        },
        {
         "feature": "HalfBath",
         "importance": 0.021495189517736435,
         "_deepnote_index_column": 33
        },
        {
         "feature": "BsmtFinSF1",
         "importance": 0.02040664292871952,
         "_deepnote_index_column": 19
        },
        {
         "feature": "Neighborhood_OldTown",
         "importance": 0.017501438036561012,
         "_deepnote_index_column": 88
        },
        {
         "feature": "YearRemodAdd",
         "importance": 0.016162818297743797,
         "_deepnote_index_column": 11
        },
        {
         "feature": "Fireplaces",
         "importance": 0.015081373043358326,
         "_deepnote_index_column": 39
        },
        {
         "feature": "YearBuilt",
         "importance": 0.01270214095711708,
         "_deepnote_index_column": 10
        },
        {
         "feature": "BsmtQual",
         "importance": 0.012501342222094536,
         "_deepnote_index_column": 15
        },
        {
         "feature": "BsmtFullBath",
         "importance": 0.010712007991969585,
         "_deepnote_index_column": 30
        },
        {
         "feature": "SaleType_New",
         "importance": 0.010625147260725498,
         "_deepnote_index_column": 209
        },
        {
         "feature": "GrLivArea",
         "importance": 0.010429782792925835,
         "_deepnote_index_column": 29
        },
        {
         "feature": "LandContour_HLS",
         "importance": 0.008315607905387878,
         "_deepnote_index_column": 61
        },
        {
         "feature": "TotalBsmtSF",
         "importance": 0.008288425393402576,
         "_deepnote_index_column": 23
        },
        {
         "feature": "SaleCondition_Abnorml",
         "importance": 0.0071668061427772045,
         "_deepnote_index_column": 212
        },
        {
         "feature": "OverallCond",
         "importance": 0.0069750212132930756,
         "_deepnote_index_column": 9
        },
        {
         "feature": "Neighborhood_Somerst",
         "importance": 0.005795304197818041,
         "_deepnote_index_column": 92
        },
        {
         "feature": "GarageArea",
         "importance": 0.005116409622132778,
         "_deepnote_index_column": 44
        },
        {
         "feature": "ExterQual",
         "importance": 0.004880100954324007,
         "_deepnote_index_column": 13
        },
        {
         "feature": "LotShape",
         "importance": 0.004546834621578455,
         "_deepnote_index_column": 6
        },
        {
         "feature": "MSZoning",
         "importance": 0.004037631209939718,
         "_deepnote_index_column": 1
        },
        {
         "feature": "Functional",
         "importance": 0.003976727835834026,
         "_deepnote_index_column": 38
        },
        {
         "feature": "OpenPorchSF",
         "importance": 0.003870151937007904,
         "_deepnote_index_column": 49
        },
        {
         "feature": "MSSubClass",
         "importance": 0.0037788560148328543,
         "_deepnote_index_column": 0
        },
        {
         "feature": "GarageFinish",
         "importance": 0.0037778730038553476,
         "_deepnote_index_column": 42
        },
        {
         "feature": "Neighborhood_Crawfor",
         "importance": 0.0036909645423293114,
         "_deepnote_index_column": 77
        },
        {
         "feature": "BsmtExposure",
         "importance": 0.00312951416708529,
         "_deepnote_index_column": 17
        },
        {
         "feature": "LotArea",
         "importance": 0.0029791672714054585,
         "_deepnote_index_column": 3
        },
        {
         "feature": "BsmtFinType1",
         "importance": 0.0028548927512019873,
         "_deepnote_index_column": 18
        },
        {
         "feature": "Exterior1st_BrkFace",
         "importance": 0.002666665008291602,
         "_deepnote_index_column": 142
        },
        {
         "feature": "Neighborhood_Veenker",
         "importance": 0.0026052468456327915,
         "_deepnote_index_column": 95
        },
        {
         "feature": "Neighborhood_StoneBr",
         "importance": 0.0023348089307546616,
         "_deepnote_index_column": 93
        },
        {
         "feature": "PoolArea",
         "importance": 0.0022302716970443726,
         "_deepnote_index_column": 53
        },
        {
         "feature": "Condition1_Artery",
         "importance": 0.0020080204121768475,
         "_deepnote_index_column": 96
        },
        {
         "feature": "WoodDeckSF",
         "importance": 0.001935511827468872,
         "_deepnote_index_column": 48
        },
        {
         "feature": "Neighborhood_NAmes",
         "importance": 0.0018522333120927215,
         "_deepnote_index_column": 83
        },
        {
         "feature": "SaleCondition_Family",
         "importance": 0.001843615435063839,
         "_deepnote_index_column": 215
        },
        {
         "feature": "LandSlope",
         "importance": 0.0017649325309321284,
         "_deepnote_index_column": 7
        },
        {
         "feature": "MoSold",
         "importance": 0.0017295419238507748,
         "_deepnote_index_column": 57
        },
        {
         "feature": "ScreenPorch",
         "importance": 0.0016616472275927663,
         "_deepnote_index_column": 52
        },
        {
         "feature": "SaleType_ConLI",
         "importance": 0.0016266696620732546,
         "_deepnote_index_column": 207
        },
        {
         "feature": "Neighborhood_ClearCr",
         "importance": 0.0015795680228620768,
         "_deepnote_index_column": 75
        },
        {
         "feature": "Condition1_RRAe",
         "importance": 0.0015356420772150159,
         "_deepnote_index_column": 101
        },
        {
         "feature": "LotConfig_CulDSac",
         "importance": 0.0015067241620272398,
         "_deepnote_index_column": 67
        },
        {
         "feature": "Condition1_Norm",
         "importance": 0.0014443411491811275,
         "_deepnote_index_column": 98
        },
        {
         "feature": "BsmtFinSF2",
         "importance": 0.0013554143952205777,
         "_deepnote_index_column": 21
        },
        {
         "feature": "BsmtUnfSF",
         "importance": 0.0012515234993770719,
         "_deepnote_index_column": 22
        },
        {
         "feature": "Exterior1st_MetalSd",
         "importance": 0.001222953898832202,
         "_deepnote_index_column": 147
        },
        {
         "feature": "BldgType_1Fam",
         "importance": 0.0012132254196330905,
         "_deepnote_index_column": 113
        },
        {
         "feature": "LotFrontage",
         "importance": 0.0011910758912563324,
         "_deepnote_index_column": 2
        },
        {
         "feature": "Exterior1st_Stucco",
         "importance": 0.0011832081945613027,
         "_deepnote_index_column": 150
        },
        {
         "feature": "1stFlrSF",
         "importance": 0.001145264832302928,
         "_deepnote_index_column": 26
        },
        {
         "feature": "SaleType_ConLD",
         "importance": 0.0010958343045786023,
         "_deepnote_index_column": 206
        },
        {
         "feature": "3SsnPorch",
         "importance": 0.0010333970421925187,
         "_deepnote_index_column": 51
        },
        {
         "feature": "YrSold",
         "importance": 0.0010143918916583061,
         "_deepnote_index_column": 58
        },
        {
         "feature": "BsmtFinType2",
         "importance": 0.0009995021391659975,
         "_deepnote_index_column": 20
        },
        {
         "feature": "Exterior1st_HdBoard",
         "importance": 0.0009760588291101158,
         "_deepnote_index_column": 145
        },
        {
         "feature": "Exterior1st_VinylSd",
         "importance": 0.0009600563789717853,
         "_deepnote_index_column": 151
        },
        {
         "feature": "Neighborhood_Sawyer",
         "importance": 0.0009218176710419357,
         "_deepnote_index_column": 90
        },
        {
         "feature": "TotRmsAbvGrd",
         "importance": 0.0008612701203674078,
         "_deepnote_index_column": 37
        },
        {
         "feature": "BedroomAbvGr",
         "importance": 0.0007494709570892155,
         "_deepnote_index_column": 34
        },
        {
         "feature": "HeatingQC",
         "importance": 0.0007395471911877394,
         "_deepnote_index_column": 24
        },
        {
         "feature": "RoofStyle_Gable",
         "importance": 0.0007328737410716712,
         "_deepnote_index_column": 127
        },
        {
         "feature": "FireplaceQu",
         "importance": 0.0007297263364307582,
         "_deepnote_index_column": 40
        },
        {
         "feature": "GarageType_Attchd",
         "importance": 0.0007077556801959872,
         "_deepnote_index_column": 192
        },
        {
         "feature": "GarageType_Detchd",
         "importance": 0.0007049237610772252,
         "_deepnote_index_column": 196
        },
        {
         "feature": "Neighborhood_Mitchel",
         "importance": 0.0006940854364074767,
         "_deepnote_index_column": 82
        },
        {
         "feature": "Foundation_Wood",
         "importance": 0.000682710378896445,
         "_deepnote_index_column": 179
        },
        {
         "feature": "SaleType_WD",
         "importance": 0.0006278625805862248,
         "_deepnote_index_column": 211
        },
        {
         "feature": "LandContour_Bnk",
         "importance": 0.0006114004645496607,
         "_deepnote_index_column": 60
        },
        {
         "feature": "GarageYrBlt",
         "importance": 0.0005819025100208819,
         "_deepnote_index_column": 41
        },
        {
         "feature": "Condition2_Feedr",
         "importance": 0.0005627086502499878,
         "_deepnote_index_column": 106
        },
        {
         "feature": "EnclosedPorch",
         "importance": 0.0005509810871444643,
         "_deepnote_index_column": 50
        },
        {
         "feature": "RoofStyle_Flat",
         "importance": 0.0005439992528408766,
         "_deepnote_index_column": 126
        },
        {
         "feature": "LotConfig_FR2",
         "importance": 0.0005400243098847568,
         "_deepnote_index_column": 68
        },
        {
         "feature": "LandContour_Low",
         "importance": 0.0005351731670089066,
         "_deepnote_index_column": 62
        },
        {
         "feature": "HouseStyle_1.5Fin",
         "importance": 0.0005336729809641838,
         "_deepnote_index_column": 118
        },
        {
         "feature": "Neighborhood_BrkSide",
         "importance": 0.0005267782835289836,
         "_deepnote_index_column": 74
        },
        {
         "feature": "Foundation_PConc",
         "importance": 0.000522239541169256,
         "_deepnote_index_column": 176
        },
        {
         "feature": "SaleType_COD",
         "importance": 0.0005106456228531897,
         "_deepnote_index_column": 203
        },
        {
         "feature": "HouseStyle_2Story",
         "importance": 0.000500671099871397,
         "_deepnote_index_column": 123
        },
        {
         "feature": "MasVnrArea",
         "importance": 0.0004745524493046105,
         "_deepnote_index_column": 12
        },
        {
         "feature": "Foundation_BrkTil",
         "importance": 0.0004197272355668247,
         "_deepnote_index_column": 174
        },
        {
         "feature": "FullBath",
         "importance": 0.00040108177927322686,
         "_deepnote_index_column": 32
        },
        {
         "feature": "Neighborhood_Edwards",
         "importance": 0.0003869003849104047,
         "_deepnote_index_column": 78
        },
        {
         "feature": "RoofStyle_Shed",
         "importance": 0.0003643835079856217,
         "_deepnote_index_column": 131
        },
        {
         "feature": "Exterior2nd_Plywood",
         "importance": 0.00033866066951304674,
         "_deepnote_index_column": 164
        },
        {
         "feature": "SaleType_CWD",
         "importance": 0.00028175822808407247,
         "_deepnote_index_column": 204
        },
        {
         "feature": "Exterior1st_WdShing",
         "importance": 0.000279296247754246,
         "_deepnote_index_column": 153
        },
        {
         "feature": "GarageType_CarPort",
         "importance": 0.00026653421809896827,
         "_deepnote_index_column": 195
        },
        {
         "feature": "Neighborhood_Blmngtn",
         "importance": 0.0002610010269563645,
         "_deepnote_index_column": 71
        },
        {
         "feature": "GarageType_BuiltIn",
         "importance": 0.00024568886146880686,
         "_deepnote_index_column": 194
        },
        {
         "feature": "Fence",
         "importance": 0.0002387314452789724,
         "_deepnote_index_column": 55
        },
        {
         "feature": "Alley",
         "importance": 0.00022013236593920738,
         "_deepnote_index_column": 5
        },
        {
         "feature": "ExterCond",
         "importance": 0.0002174940163968131,
         "_deepnote_index_column": 14
        },
        {
         "feature": "MasVnrType_BrkCmn",
         "importance": 0,
         "_deepnote_index_column": 170
        },
        {
         "feature": "Exterior2nd_Wd Shng",
         "importance": 0,
         "_deepnote_index_column": 169
        },
        {
         "feature": "Exterior2nd_BrkFace",
         "importance": 0,
         "_deepnote_index_column": 157
        },
        {
         "feature": "MasVnrType_BrkFace",
         "importance": 0,
         "_deepnote_index_column": 171
        },
        {
         "feature": "Exterior2nd_Wd Sdng",
         "importance": 0,
         "_deepnote_index_column": 168
        },
        {
         "feature": "SaleCondition_Normal",
         "importance": 0,
         "_deepnote_index_column": 216
        },
        {
         "feature": "Exterior2nd_VinylSd",
         "importance": 0,
         "_deepnote_index_column": 167
        },
        {
         "feature": "Exterior2nd_CmentBd",
         "importance": 0,
         "_deepnote_index_column": 159
        },
        {
         "feature": "Exterior2nd_CBlock",
         "importance": 0,
         "_deepnote_index_column": 158
        },
        {
         "feature": "Exterior2nd_HdBoard",
         "importance": 0,
         "_deepnote_index_column": 160
        },
        {
         "feature": "Exterior2nd_Stucco",
         "importance": 0,
         "_deepnote_index_column": 166
        },
        {
         "feature": "Exterior2nd_Stone",
         "importance": 0,
         "_deepnote_index_column": 165
        },
        {
         "feature": "Exterior1st_Wd Sdng",
         "importance": 0,
         "_deepnote_index_column": 152
        },
        {
         "feature": "Exterior2nd_AsphShn",
         "importance": 0,
         "_deepnote_index_column": 155
        },
        {
         "feature": "Exterior2nd_AsbShng",
         "importance": 0,
         "_deepnote_index_column": 154
        },
        {
         "feature": "Exterior2nd_Other",
         "importance": 0,
         "_deepnote_index_column": 163
        },
        {
         "feature": "Exterior2nd_MetalSd",
         "importance": 0,
         "_deepnote_index_column": 162
        },
        {
         "feature": "Exterior2nd_ImStucc",
         "importance": 0,
         "_deepnote_index_column": 161
        },
        {
         "feature": "Exterior2nd_Brk Cmn",
         "importance": 0,
         "_deepnote_index_column": 156
        },
        {
         "feature": "SaleType_ConLw",
         "importance": 0,
         "_deepnote_index_column": 208
        },
        {
         "feature": "MasVnrType_None",
         "importance": 0,
         "_deepnote_index_column": 172
        },
        {
         "feature": "SaleCondition_AdjLand",
         "importance": 0,
         "_deepnote_index_column": 213
        },
        {
         "feature": "SaleType_Oth",
         "importance": 0,
         "_deepnote_index_column": 210
        },
        {
         "feature": "SaleType_Con",
         "importance": 0,
         "_deepnote_index_column": 205
        },
        {
         "feature": "MiscFeature_TenC",
         "importance": 0,
         "_deepnote_index_column": 202
        },
        {
         "feature": "MiscFeature_Shed",
         "importance": 0,
         "_deepnote_index_column": 201
        },
        {
         "feature": "MiscFeature_Othr",
         "importance": 0,
         "_deepnote_index_column": 200
        },
        {
         "feature": "Exterior1st_Stone",
         "importance": 0,
         "_deepnote_index_column": 149
        },
        {
         "feature": "MiscFeature_None",
         "importance": 0,
         "_deepnote_index_column": 199
        },
        {
         "feature": "MiscFeature_Gar2",
         "importance": 0,
         "_deepnote_index_column": 198
        },
        {
         "feature": "GarageType_None",
         "importance": 0,
         "_deepnote_index_column": 197
        },
        {
         "feature": "GarageType_Basment",
         "importance": 0,
         "_deepnote_index_column": 193
        },
        {
         "feature": "GarageType_2Types",
         "importance": 0,
         "_deepnote_index_column": 191
        },
        {
         "feature": "Electrical_SBrkr",
         "importance": 0,
         "_deepnote_index_column": 190
        },
        {
         "feature": "Electrical_Mix",
         "importance": 0,
         "_deepnote_index_column": 189
        },
        {
         "feature": "MasVnrType_Stone",
         "importance": 0,
         "_deepnote_index_column": 173
        },
        {
         "feature": "SaleCondition_Alloca",
         "importance": 0,
         "_deepnote_index_column": 214
        },
        {
         "feature": "Electrical_FuseP",
         "importance": 0,
         "_deepnote_index_column": 188
        },
        {
         "feature": "Electrical_FuseF",
         "importance": 0,
         "_deepnote_index_column": 187
        },
        {
         "feature": "Electrical_FuseA",
         "importance": 0,
         "_deepnote_index_column": 186
        },
        {
         "feature": "Heating_OthW",
         "importance": 0,
         "_deepnote_index_column": 184
        },
        {
         "feature": "Heating_Grav",
         "importance": 0,
         "_deepnote_index_column": 183
        },
        {
         "feature": "Heating_GasW",
         "importance": 0,
         "_deepnote_index_column": 182
        },
        {
         "feature": "Heating_GasA",
         "importance": 0,
         "_deepnote_index_column": 181
        },
        {
         "feature": "Heating_Floor",
         "importance": 0,
         "_deepnote_index_column": 180
        },
        {
         "feature": "Foundation_Stone",
         "importance": 0,
         "_deepnote_index_column": 178
        },
        {
         "feature": "Foundation_Slab",
         "importance": 0,
         "_deepnote_index_column": 177
        },
        {
         "feature": "Foundation_CBlock",
         "importance": 0,
         "_deepnote_index_column": 175
        },
        {
         "feature": "Heating_Wall",
         "importance": 0,
         "_deepnote_index_column": 185
        },
        {
         "feature": "Condition2_PosN",
         "importance": 0,
         "_deepnote_index_column": 109
        },
        {
         "feature": "Exterior1st_Plywood",
         "importance": 0,
         "_deepnote_index_column": 148
        },
        {
         "feature": "Neighborhood_NoRidge",
         "importance": 0,
         "_deepnote_index_column": 86
        },
        {
         "feature": "Neighborhood_CollgCr",
         "importance": 0,
         "_deepnote_index_column": 76
        },
        {
         "feature": "Neighborhood_Gilbert",
         "importance": 0,
         "_deepnote_index_column": 79
        },
        {
         "feature": "Neighborhood_IDOTRR",
         "importance": 0,
         "_deepnote_index_column": 80
        },
        {
         "feature": "Neighborhood_MeadowV",
         "importance": 0,
         "_deepnote_index_column": 81
        },
        {
         "feature": "Neighborhood_NPkVill",
         "importance": 0,
         "_deepnote_index_column": 84
        },
        {
         "feature": "Neighborhood_NWAmes",
         "importance": 0,
         "_deepnote_index_column": 85
        },
        {
         "feature": "Neighborhood_NridgHt",
         "importance": 0,
         "_deepnote_index_column": 87
        },
        {
         "feature": "Exterior1st_ImStucc",
         "importance": 0,
         "_deepnote_index_column": 146
        },
        {
         "feature": "Neighborhood_SWISU",
         "importance": 0,
         "_deepnote_index_column": 89
        },
        {
         "feature": "Neighborhood_SawyerW",
         "importance": 0,
         "_deepnote_index_column": 91
        },
        {
         "feature": "Neighborhood_Timber",
         "importance": 0,
         "_deepnote_index_column": 94
        },
        {
         "feature": "Condition1_Feedr",
         "importance": 0,
         "_deepnote_index_column": 97
        },
        {
         "feature": "Condition1_PosA",
         "importance": 0,
         "_deepnote_index_column": 99
        },
        {
         "feature": "Condition1_PosN",
         "importance": 0,
         "_deepnote_index_column": 100
        },
        {
         "feature": "Neighborhood_BrDale",
         "importance": 0,
         "_deepnote_index_column": 73
        },
        {
         "feature": "Neighborhood_Blueste",
         "importance": 0,
         "_deepnote_index_column": 72
        },
        {
         "feature": "LotConfig_Inside",
         "importance": 0,
         "_deepnote_index_column": 70
        },
        {
         "feature": "LotConfig_FR3",
         "importance": 0,
         "_deepnote_index_column": 69
        },
        {
         "feature": "LotConfig_Corner",
         "importance": 0,
         "_deepnote_index_column": 66
        },
        {
         "feature": "Utilities_NoSeWa",
         "importance": 0,
         "_deepnote_index_column": 65
        },
        {
         "feature": "Utilities_AllPub",
         "importance": 0,
         "_deepnote_index_column": 64
        },
        {
         "feature": "LandContour_Lvl",
         "importance": 0,
         "_deepnote_index_column": 63
        },
        {
         "feature": "MiscVal",
         "importance": 0,
         "_deepnote_index_column": 56
        },
        {
         "feature": "PoolQC",
         "importance": 0,
         "_deepnote_index_column": 54
        },
        {
         "feature": "PavedDrive",
         "importance": 0,
         "_deepnote_index_column": 47
        },
        {
         "feature": "GarageCond",
         "importance": 0,
         "_deepnote_index_column": 46
        },
        {
         "feature": "GarageQual",
         "importance": 0,
         "_deepnote_index_column": 45
        },
        {
         "feature": "BsmtHalfBath",
         "importance": 0,
         "_deepnote_index_column": 31
        },
        {
         "feature": "LowQualFinSF",
         "importance": 0,
         "_deepnote_index_column": 28
        },
        {
         "feature": "BsmtCond",
         "importance": 0,
         "_deepnote_index_column": 16
        },
        {
         "feature": "Street",
         "importance": 0,
         "_deepnote_index_column": 4
        },
        {
         "feature": "Condition1_RRAn",
         "importance": 0,
         "_deepnote_index_column": 102
        },
        {
         "feature": "Condition1_RRNe",
         "importance": 0,
         "_deepnote_index_column": 103
        },
        {
         "feature": "Condition1_RRNn",
         "importance": 0,
         "_deepnote_index_column": 104
        },
        {
         "feature": "RoofStyle_Gambrel",
         "importance": 0,
         "_deepnote_index_column": 128
        },
        {
         "feature": "Exterior1st_CemntBd",
         "importance": 0,
         "_deepnote_index_column": 144
        },
        {
         "feature": "Exterior1st_CBlock",
         "importance": 0,
         "_deepnote_index_column": 143
        },
        {
         "feature": "Exterior1st_BrkComm",
         "importance": 0,
         "_deepnote_index_column": 141
        },
        {
         "feature": "Exterior1st_AsphShn",
         "importance": 0,
         "_deepnote_index_column": 140
        },
        {
         "feature": "Exterior1st_AsbShng",
         "importance": 0,
         "_deepnote_index_column": 139
        },
        {
         "feature": "RoofMatl_WdShngl",
         "importance": 0,
         "_deepnote_index_column": 138
        },
        {
         "feature": "RoofMatl_WdShake",
         "importance": 0,
         "_deepnote_index_column": 137
        },
        {
         "feature": "RoofMatl_Tar&Grv",
         "importance": 0,
         "_deepnote_index_column": 136
        },
        {
         "feature": "RoofMatl_Roll",
         "importance": 0,
         "_deepnote_index_column": 135
        },
        {
         "feature": "RoofMatl_Metal",
         "importance": 0,
         "_deepnote_index_column": 134
        },
        {
         "feature": "RoofMatl_Membran",
         "importance": 0,
         "_deepnote_index_column": 133
        },
        {
         "feature": "RoofMatl_CompShg",
         "importance": 0,
         "_deepnote_index_column": 132
        },
        {
         "feature": "RoofStyle_Mansard",
         "importance": 0,
         "_deepnote_index_column": 130
        },
        {
         "feature": "RoofStyle_Hip",
         "importance": 0,
         "_deepnote_index_column": 129
        },
        {
         "feature": "HouseStyle_SLvl",
         "importance": 0,
         "_deepnote_index_column": 125
        },
        {
         "feature": "Condition2_Artery",
         "importance": 0,
         "_deepnote_index_column": 105
        },
        {
         "feature": "HouseStyle_SFoyer",
         "importance": 0,
         "_deepnote_index_column": 124
        },
        {
         "feature": "HouseStyle_2.5Unf",
         "importance": 0,
         "_deepnote_index_column": 122
        },
        {
         "feature": "HouseStyle_2.5Fin",
         "importance": 0,
         "_deepnote_index_column": 121
        },
        {
         "feature": "HouseStyle_1Story",
         "importance": 0,
         "_deepnote_index_column": 120
        },
        {
         "feature": "HouseStyle_1.5Unf",
         "importance": 0,
         "_deepnote_index_column": 119
        },
        {
         "feature": "BldgType_TwnhsE",
         "importance": 0,
         "_deepnote_index_column": 117
        },
        {
         "feature": "BldgType_Twnhs",
         "importance": 0,
         "_deepnote_index_column": 116
        },
        {
         "feature": "BldgType_Duplex",
         "importance": 0,
         "_deepnote_index_column": 115
        },
        {
         "feature": "BldgType_2fmCon",
         "importance": 0,
         "_deepnote_index_column": 114
        },
        {
         "feature": "Condition2_RRNn",
         "importance": 0,
         "_deepnote_index_column": 112
        },
        {
         "feature": "Condition2_RRAn",
         "importance": 0,
         "_deepnote_index_column": 111
        },
        {
         "feature": "Condition2_RRAe",
         "importance": 0,
         "_deepnote_index_column": 110
        },
        {
         "feature": "Condition2_PosA",
         "importance": 0,
         "_deepnote_index_column": 108
        },
        {
         "feature": "Condition2_Norm",
         "importance": 0,
         "_deepnote_index_column": 107
        },
        {
         "feature": "SaleCondition_Partial",
         "importance": 0,
         "_deepnote_index_column": 217
        }
       ],
       "rows_bottom": null
      },
      "text/plain": "                   feature  importance\n8              OverallQual    0.253260\n59                 TotalSF    0.239036\n35            KitchenAbvGr    0.069747\n43              GarageCars    0.049925\n36             KitchenQual    0.042200\n..                     ...         ...\n111        Condition2_RRAn    0.000000\n110        Condition2_RRAe    0.000000\n108        Condition2_PosA    0.000000\n107        Condition2_Norm    0.000000\n217  SaleCondition_Partial    0.000000\n\n[218 rows x 2 columns]",
      "text/html": "<div>\n<style scoped>\n    .dataframe tbody tr th:only-of-type {\n        vertical-align: middle;\n    }\n\n    .dataframe tbody tr th {\n        vertical-align: top;\n    }\n\n    .dataframe thead th {\n        text-align: right;\n    }\n</style>\n<table border=\"1\" class=\"dataframe\">\n  <thead>\n    <tr style=\"text-align: right;\">\n      <th></th>\n      <th>feature</th>\n      <th>importance</th>\n    </tr>\n  </thead>\n  <tbody>\n    <tr>\n      <th>8</th>\n      <td>OverallQual</td>\n      <td>0.253260</td>\n    </tr>\n    <tr>\n      <th>59</th>\n      <td>TotalSF</td>\n      <td>0.239036</td>\n    </tr>\n    <tr>\n      <th>35</th>\n      <td>KitchenAbvGr</td>\n      <td>0.069747</td>\n    </tr>\n    <tr>\n      <th>43</th>\n      <td>GarageCars</td>\n      <td>0.049925</td>\n    </tr>\n    <tr>\n      <th>36</th>\n      <td>KitchenQual</td>\n      <td>0.042200</td>\n    </tr>\n    <tr>\n      <th>...</th>\n      <td>...</td>\n      <td>...</td>\n    </tr>\n    <tr>\n      <th>111</th>\n      <td>Condition2_RRAn</td>\n      <td>0.000000</td>\n    </tr>\n    <tr>\n      <th>110</th>\n      <td>Condition2_RRAe</td>\n      <td>0.000000</td>\n    </tr>\n    <tr>\n      <th>108</th>\n      <td>Condition2_PosA</td>\n      <td>0.000000</td>\n    </tr>\n    <tr>\n      <th>107</th>\n      <td>Condition2_Norm</td>\n      <td>0.000000</td>\n    </tr>\n    <tr>\n      <th>217</th>\n      <td>SaleCondition_Partial</td>\n      <td>0.000000</td>\n    </tr>\n  </tbody>\n</table>\n<p>218 rows × 2 columns</p>\n</div>"
     },
     "metadata": {}
    }
   ]
  },
  {
   "cell_type": "markdown",
   "source": "From the xgb model, The Overall Quality and The Total Square Footage of the house are the factors which highly determine its price. This makes sense because when people are trying to get a house they keenly consider quality and house size to be determining factors.",
   "metadata": {
    "tags": [],
    "cell_id": "00144-51a8c36e-a4e7-4b06-bef6-b351cd9b4744",
    "deepnote_cell_type": "markdown"
   }
  },
  {
   "cell_type": "markdown",
   "source": "Thereafter we evaluate the model and make predictions",
   "metadata": {
    "tags": [],
    "cell_id": "00141-2afff6d7-b597-49b0-8f65-fee556a58f8b",
    "deepnote_cell_type": "markdown"
   }
  },
  {
   "cell_type": "code",
   "metadata": {
    "tags": [],
    "cell_id": "00142-bce978e1-24b3-45d0-89f8-18e7e6959e64",
    "deepnote_to_be_reexecuted": false,
    "source_hash": "94c1d3e8",
    "execution_start": 1635264992079,
    "execution_millis": 6512251,
    "deepnote_cell_type": "code"
   },
   "source": "predict_val = xgb_model.predict(X_val)",
   "execution_count": 73,
   "outputs": []
  },
  {
   "cell_type": "markdown",
   "source": "We can use the mean squared error, maximum error and r2_score to evaluate the model performance. The mean squared error is the average of the differences between the predictions and the actual values squared.",
   "metadata": {
    "tags": [],
    "cell_id": "00148-7d6529f1-c92a-40a5-b2e6-dece1196d6b8",
    "deepnote_cell_type": "markdown"
   }
  },
  {
   "cell_type": "code",
   "metadata": {
    "tags": [],
    "cell_id": "00148-871ed66e-852d-49e3-85ca-e9b566c974da",
    "deepnote_to_be_reexecuted": false,
    "source_hash": "9bd82ac5",
    "execution_start": 1635264992136,
    "execution_millis": 6512237,
    "deepnote_cell_type": "code"
   },
   "source": "mean_squared_error(y_val, predict_val)",
   "execution_count": 74,
   "outputs": [
    {
     "output_type": "execute_result",
     "execution_count": 74,
     "data": {
      "text/plain": "492567224.8908863"
     },
     "metadata": {}
    }
   ]
  },
  {
   "cell_type": "code",
   "metadata": {
    "tags": [],
    "cell_id": "00150-a250b5a1-b0ac-46ed-9f7f-2d9e9e4d2475",
    "deepnote_to_be_reexecuted": false,
    "source_hash": "82eaf12c",
    "execution_start": 1635264992136,
    "execution_millis": 6512246,
    "deepnote_cell_type": "code"
   },
   "source": "predict_val = xgb_model.predict(X_val)\nprint(f\"Maximum error in XGBoost model is {max_error(y_val, predict_val)}\")\nprint(f\"The r2_score is {r2_score(y_val, predict_val)}\")",
   "execution_count": 75,
   "outputs": [
    {
     "name": "stdout",
     "text": "Maximum error in XGBoost model is 101601.8125\nThe r2_score is 0.9222390710394922\n",
     "output_type": "stream"
    }
   ]
  },
  {
   "cell_type": "markdown",
   "source": "Maximum error here is about twice as small compared to the max error in Decision Tree Regressor\n\nThe r2_score is also the highest compared to all other models.",
   "metadata": {
    "tags": [],
    "cell_id": "00151-1e9f42eb-30f9-40f8-9ed6-7a4267a677cc",
    "deepnote_cell_type": "markdown"
   }
  },
  {
   "cell_type": "markdown",
   "source": "Let's twist the n_estimators parameter using early_stopping_rounds and see if it improves our model.\n\n    The argument early_stopping_rounds offers a way to automatically find the ideal value. Early stopping causes the model to stop iterating when the validation score stops improving, even if we aren't at the hard stop for n_estimators. ",
   "metadata": {
    "tags": [],
    "cell_id": "00154-251fd90e-ca09-4d9c-9dc4-0fdd2f691459",
    "deepnote_cell_type": "markdown"
   }
  },
  {
   "cell_type": "code",
   "metadata": {
    "tags": [],
    "cell_id": "00155-a1932924-d9b3-491f-ac7f-00e9d95a1e37",
    "deepnote_to_be_reexecuted": false,
    "source_hash": "dae4fbf6",
    "execution_start": 1635264992183,
    "execution_millis": 1033,
    "deepnote_cell_type": "code"
   },
   "source": "xgb_model = xgb.XGBRegressor(n_estimators=500)\nxgb_model.fit(X_train, y_train, early_stopping_rounds=5, \n             eval_set=[(X_val, y_val)], verbose=False)",
   "execution_count": 76,
   "outputs": [
    {
     "output_type": "execute_result",
     "execution_count": 76,
     "data": {
      "text/plain": "XGBRegressor(base_score=0.5, booster='gbtree', colsample_bylevel=1,\n             colsample_bynode=1, colsample_bytree=1, enable_categorical=False,\n             gamma=0, gpu_id=-1, importance_type=None,\n             interaction_constraints='', learning_rate=0.300000012,\n             max_delta_step=0, max_depth=6, min_child_weight=1, missing=nan,\n             monotone_constraints='()', n_estimators=500, n_jobs=2,\n             num_parallel_tree=1, predictor='auto', random_state=0, reg_alpha=0,\n             reg_lambda=1, scale_pos_weight=1, subsample=1, tree_method='exact',\n             validate_parameters=1, verbosity=None)"
     },
     "metadata": {}
    }
   ]
  },
  {
   "cell_type": "code",
   "metadata": {
    "tags": [],
    "cell_id": "00156-1ac4fdf7-53aa-47e1-8442-59409863b990",
    "deepnote_to_be_reexecuted": false,
    "source_hash": "82eaf12c",
    "execution_start": 1635264993232,
    "execution_millis": 23,
    "deepnote_cell_type": "code"
   },
   "source": "predict_val = xgb_model.predict(X_val)\nprint(f\"Maximum error in XGBoost model is {max_error(y_val, predict_val)}\")\nprint(f\"The r2_score is {r2_score(y_val, predict_val)}\")",
   "execution_count": 77,
   "outputs": [
    {
     "name": "stdout",
     "text": "Maximum error in XGBoost model is 114032.375\nThe r2_score is 0.9218814546293783\n",
     "output_type": "stream"
    }
   ]
  },
  {
   "cell_type": "markdown",
   "source": "So in our case, increasing the n_estimators led to an increase in maximum error and a decrease in r2_score.",
   "metadata": {
    "tags": [],
    "cell_id": "00157-baad2fab-e295-4cf8-ad6c-bdd4adc5b1d3",
    "deepnote_cell_type": "markdown"
   }
  },
  {
   "cell_type": "markdown",
   "source": "### Skewness of Data",
   "metadata": {
    "tags": [],
    "is_collapsed": false,
    "cell_id": "00162-d65ae547-16c1-4e2b-9926-c7f30a1ac586",
    "deepnote_cell_type": "text-cell-h3"
   }
  },
  {
   "cell_type": "markdown",
   "source": "Skewness measures the shift of the distribution from the normal bell curve.\n\nPositive skew value denotes right shift whereas negative skew value denotes left shift.",
   "metadata": {
    "tags": [],
    "cell_id": "00163-67753b88-9503-488f-bd17-e3116fb8bada",
    "deepnote_cell_type": "markdown"
   }
  },
  {
   "cell_type": "code",
   "metadata": {
    "tags": [],
    "cell_id": "00163-254fa3a0-b8f8-4171-bec0-12d0526c5d72",
    "deepnote_to_be_reexecuted": false,
    "source_hash": "64c55223",
    "execution_start": 1635265328503,
    "execution_millis": 421,
    "deepnote_cell_type": "code"
   },
   "source": "\nimport seaborn as sns\nfrom scipy import stats\nfrom scipy.stats import norm, skew #to help us run some statistics\n\nx_train = train.drop([\"SalePrice\"], axis=1)\ny_train = train[\"SalePrice\"].values\nx_test = test.drop([\"SalePrice\"], axis=1)\n\n#Distribution\nsns.distplot(y_train , fit = norm);",
   "execution_count": 92,
   "outputs": [
    {
     "name": "stderr",
     "text": "/shared-libs/python3.7/py/lib/python3.7/site-packages/seaborn/distributions.py:2619: FutureWarning: `distplot` is a deprecated function and will be removed in a future version. Please adapt your code to use either `displot` (a figure-level function with similar flexibility) or `histplot` (an axes-level function for histograms).\n  warnings.warn(msg, FutureWarning)\n",
     "output_type": "stream"
    },
    {
     "data": {
      "text/plain": "<Figure size 432x288 with 1 Axes>",
      "image/png": "[encoded data removed]"
     },
     "metadata": {
      "image/png": {
       "width": 384,
       "height": 262
      }
     },
     "output_type": "display_data"
    }
   ]
  },
  {
   "cell_type": "code",
   "source": "#Let us also check out the QQ-plot\nfig = plt.figure()\nres = stats.probplot(y_train, plot=plt)\nplt.show()",
   "metadata": {
    "tags": [],
    "cell_id": "00167-795887e9-8d44-400a-8246-eb9ad9ddc30e",
    "deepnote_to_be_reexecuted": false,
    "source_hash": "c8e1e36d",
    "execution_start": 1635265342835,
    "execution_millis": 254,
    "deepnote_cell_type": "code"
   },
   "outputs": [
    {
     "data": {
      "text/plain": "<Figure size 432x288 with 1 Axes>",
      "image/png": "[encoded data removed]"
     },
     "metadata": {
      "image/png": {
       "width": 417,
       "height": 284
      }
     },
     "output_type": "display_data"
    }
   ],
   "execution_count": 93
  },
  {
   "cell_type": "markdown",
   "source": "The Q-Q plot, or quantile-quantile plot, is a graphical tool to help us assess if a set of data plausibly came from some theoretical distribution such as a Normal or exponential.\n\nNotice that the points in our plot form a curve instead of a straight line. Normal Q-Q plots that look like this usually mean the sample data are skewed.",
   "metadata": {
    "tags": [],
    "cell_id": "00167-af973e25-bd82-4f67-938c-b8f3f60324e6",
    "deepnote_cell_type": "markdown"
   }
  },
  {
   "cell_type": "markdown",
   "source": "To transform the target Variable 'SalePrice, we will use log transformation.\n\nLog transformation in our case will be done using the  numpy fuction log1p which  applies log(1+x) to all elements of the column",
   "metadata": {
    "tags": [],
    "cell_id": "00168-013b0554-8449-448a-a29d-d2286401699e",
    "deepnote_cell_type": "markdown"
   }
  },
  {
   "cell_type": "code",
   "source": " \ny_train_alt = np.log1p(y_train)\n\n#Check the new distribution \nsns.distplot(y_train_alt , fit=norm);",
   "metadata": {
    "tags": [],
    "cell_id": "00169-fc182c27-34cc-4dd1-8c7a-fda431fc504e",
    "deepnote_to_be_reexecuted": false,
    "source_hash": "92fe99a8",
    "execution_start": 1635265348319,
    "execution_millis": 377,
    "deepnote_cell_type": "code"
   },
   "outputs": [
    {
     "name": "stderr",
     "text": "/shared-libs/python3.7/py/lib/python3.7/site-packages/seaborn/distributions.py:2619: FutureWarning: `distplot` is a deprecated function and will be removed in a future version. Please adapt your code to use either `displot` (a figure-level function with similar flexibility) or `histplot` (an axes-level function for histograms).\n  warnings.warn(msg, FutureWarning)\n",
     "output_type": "stream"
    },
    {
     "data": {
      "text/plain": "<Figure size 432x288 with 1 Axes>",
      "image/png": "[encoded data removed]"
     },
     "metadata": {
      "image/png": {
       "width": 393,
       "height": 251
      }
     },
     "output_type": "display_data"
    }
   ],
   "execution_count": 94
  },
  {
   "cell_type": "code",
   "source": "#Let us also check out the QQ-plot\nfig = plt.figure()\nres = stats.probplot(y_train_alt, plot=plt)\nplt.show()",
   "metadata": {
    "tags": [],
    "cell_id": "00170-e2cd46be-62b3-4053-a372-0f0ae31334d8",
    "deepnote_to_be_reexecuted": false,
    "source_hash": "2557dfbd",
    "execution_start": 1635265353158,
    "execution_millis": 340,
    "deepnote_cell_type": "code"
   },
   "outputs": [
    {
     "data": {
      "text/plain": "<Figure size 432x288 with 1 Axes>",
      "image/png": "[encoded data removed]"
     },
     "metadata": {
      "image/png": {
       "width": 400,
       "height": 284
      }
     },
     "output_type": "display_data"
    }
   ],
   "execution_count": 95
  },
  {
   "cell_type": "markdown",
   "source": "The QQ Plot is more linear, less curvy. ",
   "metadata": {
    "tags": [],
    "cell_id": "00171-add264b1-4cbf-469a-8fe6-a4faa048ab71",
    "deepnote_cell_type": "markdown"
   }
  },
  {
   "cell_type": "code",
   "source": "from sklearn.model_selection import train_test_split\nX_train, X_val, y_train_alt, y_val_alt = train_test_split(x_train, y_train_alt, test_size=0.20, random_state=42)",
   "metadata": {
    "tags": [],
    "cell_id": "00172-f622822b-3bf2-4a93-bd69-60b305cdb760",
    "deepnote_to_be_reexecuted": false,
    "source_hash": "96f3e75d",
    "execution_start": 1635265367289,
    "execution_millis": 1,
    "deepnote_cell_type": "code"
   },
   "outputs": [],
   "execution_count": 96
  },
  {
   "cell_type": "code",
   "source": "xgb_model = xgb_model.fit(X_train, y_train_alt)\npred_val = xgb_model.predict(X_val)\nprint(f\"R2_score in Decision Tree Regression is {r2_score(y_val_alt, pred_val)}\")",
   "metadata": {
    "tags": [],
    "cell_id": "00172-6c20af7c-a300-44f6-bc81-8e08fcab865a",
    "deepnote_to_be_reexecuted": false,
    "source_hash": "6c8749b9",
    "execution_start": 1635265441883,
    "execution_millis": 5981,
    "deepnote_cell_type": "code"
   },
   "outputs": [
    {
     "name": "stdout",
     "text": "Maximum error in Decison Tree Regression is 0.6297597160689605\nR2_score in Decision Tree Regression is 0.8866536786304805\n",
     "output_type": "stream"
    }
   ],
   "execution_count": 99
  },
  {
   "cell_type": "code",
   "source": "pred_val = np.expm1(pred_val)\nprint(f\"Maximum error in Decison Tree Regression is {max_error(y_val, pred_val)}\")",
   "metadata": {
    "tags": [],
    "cell_id": "00173-e47e1917-2958-4c46-a88f-c59044683d3b",
    "deepnote_to_be_reexecuted": false,
    "source_hash": "5f031113",
    "execution_start": 1635265583501,
    "execution_millis": 2,
    "deepnote_cell_type": "code"
   },
   "outputs": [
    {
     "name": "stdout",
     "text": "Maximum error in Decison Tree Regression is 133207.0\n",
     "output_type": "stream"
    }
   ],
   "execution_count": 102
  },
  {
   "cell_type": "markdown",
   "source": "From the observation above in xgboost model, we see that working on skewness did not improve the performance of the model. \n\nThe model seems to be resistant to the skewness of the data",
   "metadata": {
    "tags": [],
    "cell_id": "00174-cc45837f-201f-44f0-b9a3-d36b7b64af2a",
    "deepnote_cell_type": "markdown"
   }
  },
  {
   "cell_type": "markdown",
   "source": "",
   "metadata": {
    "tags": [],
    "cell_id": "00126-378ed5b0-5e80-4e0b-8e38-1913eb74b5a7",
    "deepnote_cell_type": "markdown"
   }
  },
  {
   "cell_type": "markdown",
   "source": "<a style='text-decoration:none;line-height:16px;display:flex;color:#5B5B62;padding:10px;justify-content:end;' href='https://deepnote.com?utm_source=created-in-deepnote-cell&projectId=dce2ee20-40d8-40b8-af4f-e6174e68a806' target=\"_blank\">\n<img alt='Created in deepnote.com' style='display:inline;max-height:16px;margin:0px;margin-right:7.5px;' src='data:image/svg+xml;base64,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' > </img>\nCreated in <span style='font-weight:600;margin-left:4px;'>Deepnote</span></a>",
   "metadata": {
    "tags": [],
    "created_in_deepnote_cell": true,
    "deepnote_cell_type": "markdown"
   }
  }
 ],
 "nbformat": 4,
 "nbformat_minor": 4,
 "metadata": {
  "kernelspec": {
   "display_name": "Python 3",
   "language": "python",
   "name": "python3"
  },
  "language_info": {
   "codemirror_mode": {
    "name": "ipython",
    "version": 3
   },
   "file_extension": ".py",
   "mimetype": "text/x-python",
   "name": "python",
   "nbconvert_exporter": "python",
   "pygments_lexer": "ipython3",
   "version": "3.8.3"
  },
  "deepnote_notebook_id": "872b07d4-af82-4b68-951c-0e078f07332e",
  "deepnote": {
   "is_reactive": false
  },
  "deepnote_execution_queue": []
 }
}